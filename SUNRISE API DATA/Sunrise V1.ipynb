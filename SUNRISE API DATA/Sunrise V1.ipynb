{
 "cells": [
  {
   "cell_type": "code",
   "execution_count": 1,
   "id": "8bd23b62",
   "metadata": {},
   "outputs": [],
   "source": [
    "import pandas as pd\n",
    "import json\n",
    "import requests\n",
    "import pprint\n",
    "from datetime import date, timedelta\n"
   ]
  },
  {
   "cell_type": "markdown",
   "id": "d018fc2e",
   "metadata": {},
   "source": [
    "### 1. Downloading data for the whole year for the city of Olsztyn latitude and longitude (53.775,  20.479)"
   ]
  },
  {
   "cell_type": "markdown",
   "id": "56f0b0ef",
   "metadata": {},
   "source": [
    "#### Step 1. Getting data for a specific date to understand the data structure"
   ]
  },
  {
   "cell_type": "code",
   "execution_count": 2,
   "id": "0b9c0dfc",
   "metadata": {},
   "outputs": [
    {
     "name": "stdout",
     "output_type": "stream",
     "text": [
      "{'results': {'astronomical_twilight_begin': '3:40:11 AM',\n",
      "             'astronomical_twilight_end': '5:03:06 PM',\n",
      "             'civil_twilight_begin': '5:02:39 AM',\n",
      "             'civil_twilight_end': '3:40:38 PM',\n",
      "             'day_length': '09:27:11',\n",
      "             'nautical_twilight_begin': '4:20:58 AM',\n",
      "             'nautical_twilight_end': '4:22:19 PM',\n",
      "             'solar_noon': '10:21:38 AM',\n",
      "             'sunrise': '5:38:03 AM',\n",
      "             'sunset': '3:05:14 PM'},\n",
      " 'status': 'OK'}\n"
     ]
    }
   ],
   "source": [
    "# defining variables:\n",
    "lat = 53.775\n",
    "lon = 20.479\n",
    "date = 2022-11-2\n",
    "\n",
    "def get_data(lat, lon, date):\n",
    "    url = f\"https://api.sunrise-sunset.org/json?lat={lat}&lng={lon}&date={date}\"\n",
    "    response = requests.get(url)\n",
    "    \n",
    "    response = response.json()\n",
    "    \n",
    "    pprint.pprint(response) # data is in UTC\n",
    "    \n",
    "get_data(lat, lon, date)"
   ]
  },
  {
   "cell_type": "markdown",
   "id": "8d3d161b",
   "metadata": {},
   "source": [
    "#### Steps 2. Getting a list of unique attributes available via API"
   ]
  },
  {
   "cell_type": "code",
   "execution_count": 3,
   "id": "ec6bfa00",
   "metadata": {},
   "outputs": [],
   "source": [
    "# defining variables:\n",
    "lat = 53.775\n",
    "lon = 20.479\n",
    "date = 2022-11-2\n",
    "\n",
    "def get_data(lat, lon, date):\n",
    "    url = f\"https://api.sunrise-sunset.org/json?lat={lat}&lng={lon}&date={date}\"\n",
    "    response = requests.get(url)\n",
    "    response = response.json()\n",
    "    \n",
    "    return response\n",
    "    \n",
    "data = get_data(lat, lon, date) # returns dictionary"
   ]
  },
  {
   "cell_type": "code",
   "execution_count": 4,
   "id": "970c7119",
   "metadata": {},
   "outputs": [
    {
     "data": {
      "text/plain": [
       "['sunrise',\n",
       " 'sunset',\n",
       " 'solar_noon',\n",
       " 'day_length',\n",
       " 'civil_twilight_begin',\n",
       " 'civil_twilight_end',\n",
       " 'nautical_twilight_begin',\n",
       " 'nautical_twilight_end',\n",
       " 'astronomical_twilight_begin',\n",
       " 'astronomical_twilight_end']"
      ]
     },
     "execution_count": 4,
     "metadata": {},
     "output_type": "execute_result"
    }
   ],
   "source": [
    "attributes = data['results']\n",
    "attributes = [x for x in attributes.keys()] # gets list of the attributes available in 'results'\n",
    "attributes"
   ]
  },
  {
   "cell_type": "markdown",
   "id": "c0a07fc5",
   "metadata": {},
   "source": [
    "#### Steps 3. Generating a list of days in the year 2022 in the format yyyy-mm-dd"
   ]
  },
  {
   "cell_type": "code",
   "execution_count": 5,
   "id": "9791d91b",
   "metadata": {
    "scrolled": false
   },
   "outputs": [
    {
     "data": {
      "text/html": [
       "<div>\n",
       "<style scoped>\n",
       "    .dataframe tbody tr th:only-of-type {\n",
       "        vertical-align: middle;\n",
       "    }\n",
       "\n",
       "    .dataframe tbody tr th {\n",
       "        vertical-align: top;\n",
       "    }\n",
       "\n",
       "    .dataframe thead th {\n",
       "        text-align: right;\n",
       "    }\n",
       "</style>\n",
       "<table border=\"1\" class=\"dataframe\">\n",
       "  <thead>\n",
       "    <tr style=\"text-align: right;\">\n",
       "      <th></th>\n",
       "      <th>days</th>\n",
       "    </tr>\n",
       "  </thead>\n",
       "  <tbody>\n",
       "    <tr>\n",
       "      <th>2022-01-01</th>\n",
       "      <td>2022-01-01</td>\n",
       "    </tr>\n",
       "    <tr>\n",
       "      <th>2022-01-02</th>\n",
       "      <td>2022-01-02</td>\n",
       "    </tr>\n",
       "  </tbody>\n",
       "</table>\n",
       "</div>"
      ],
      "text/plain": [
       "                 days\n",
       "2022-01-01 2022-01-01\n",
       "2022-01-02 2022-01-02"
      ]
     },
     "metadata": {},
     "output_type": "display_data"
    },
    {
     "data": {
      "text/html": [
       "<div>\n",
       "<style scoped>\n",
       "    .dataframe tbody tr th:only-of-type {\n",
       "        vertical-align: middle;\n",
       "    }\n",
       "\n",
       "    .dataframe tbody tr th {\n",
       "        vertical-align: top;\n",
       "    }\n",
       "\n",
       "    .dataframe thead th {\n",
       "        text-align: right;\n",
       "    }\n",
       "</style>\n",
       "<table border=\"1\" class=\"dataframe\">\n",
       "  <thead>\n",
       "    <tr style=\"text-align: right;\">\n",
       "      <th></th>\n",
       "      <th>days</th>\n",
       "    </tr>\n",
       "  </thead>\n",
       "  <tbody>\n",
       "    <tr>\n",
       "      <th>2022-12-30</th>\n",
       "      <td>2022-12-30</td>\n",
       "    </tr>\n",
       "    <tr>\n",
       "      <th>2022-12-31</th>\n",
       "      <td>2022-12-31</td>\n",
       "    </tr>\n",
       "  </tbody>\n",
       "</table>\n",
       "</div>"
      ],
      "text/plain": [
       "                 days\n",
       "2022-12-30 2022-12-30\n",
       "2022-12-31 2022-12-31"
      ]
     },
     "metadata": {},
     "output_type": "display_data"
    },
    {
     "name": "stdout",
     "output_type": "stream",
     "text": [
      "(365, 1)\n"
     ]
    },
    {
     "data": {
      "text/html": [
       "<div>\n",
       "<style scoped>\n",
       "    .dataframe tbody tr th:only-of-type {\n",
       "        vertical-align: middle;\n",
       "    }\n",
       "\n",
       "    .dataframe tbody tr th {\n",
       "        vertical-align: top;\n",
       "    }\n",
       "\n",
       "    .dataframe thead th {\n",
       "        text-align: right;\n",
       "    }\n",
       "</style>\n",
       "<table border=\"1\" class=\"dataframe\">\n",
       "  <thead>\n",
       "    <tr style=\"text-align: right;\">\n",
       "      <th></th>\n",
       "      <th>days</th>\n",
       "      <th>day_string</th>\n",
       "    </tr>\n",
       "  </thead>\n",
       "  <tbody>\n",
       "    <tr>\n",
       "      <th>2022-01-01</th>\n",
       "      <td>2022-01-01</td>\n",
       "      <td>2022-01-01</td>\n",
       "    </tr>\n",
       "    <tr>\n",
       "      <th>2022-01-02</th>\n",
       "      <td>2022-01-02</td>\n",
       "      <td>2022-01-02</td>\n",
       "    </tr>\n",
       "  </tbody>\n",
       "</table>\n",
       "</div>"
      ],
      "text/plain": [
       "                 days  day_string\n",
       "2022-01-01 2022-01-01  2022-01-01\n",
       "2022-01-02 2022-01-02  2022-01-02"
      ]
     },
     "metadata": {},
     "output_type": "display_data"
    },
    {
     "name": "stdout",
     "output_type": "stream",
     "text": [
      "['2022-01-01', '2022-01-02', '2022-01-03', '2022-01-04', '2022-01-05', '2022-01-06', '2022-01-07', '2022-01-08', '2022-01-09', '2022-01-10', '2022-01-11', '2022-01-12', '2022-01-13', '2022-01-14', '2022-01-15', '2022-01-16', '2022-01-17', '2022-01-18', '2022-01-19', '2022-01-20', '2022-01-21', '2022-01-22', '2022-01-23', '2022-01-24', '2022-01-25', '2022-01-26', '2022-01-27', '2022-01-28', '2022-01-29', '2022-01-30', '2022-01-31', '2022-02-01', '2022-02-02', '2022-02-03', '2022-02-04', '2022-02-05', '2022-02-06', '2022-02-07', '2022-02-08', '2022-02-09', '2022-02-10', '2022-02-11', '2022-02-12', '2022-02-13', '2022-02-14', '2022-02-15', '2022-02-16', '2022-02-17', '2022-02-18', '2022-02-19', '2022-02-20', '2022-02-21', '2022-02-22', '2022-02-23', '2022-02-24', '2022-02-25', '2022-02-26', '2022-02-27', '2022-02-28', '2022-03-01', '2022-03-02', '2022-03-03', '2022-03-04', '2022-03-05', '2022-03-06', '2022-03-07', '2022-03-08', '2022-03-09', '2022-03-10', '2022-03-11', '2022-03-12', '2022-03-13', '2022-03-14', '2022-03-15', '2022-03-16', '2022-03-17', '2022-03-18', '2022-03-19', '2022-03-20', '2022-03-21', '2022-03-22', '2022-03-23', '2022-03-24', '2022-03-25', '2022-03-26', '2022-03-27', '2022-03-28', '2022-03-29', '2022-03-30', '2022-03-31', '2022-04-01', '2022-04-02', '2022-04-03', '2022-04-04', '2022-04-05', '2022-04-06', '2022-04-07', '2022-04-08', '2022-04-09', '2022-04-10', '2022-04-11', '2022-04-12', '2022-04-13', '2022-04-14', '2022-04-15', '2022-04-16', '2022-04-17', '2022-04-18', '2022-04-19', '2022-04-20', '2022-04-21', '2022-04-22', '2022-04-23', '2022-04-24', '2022-04-25', '2022-04-26', '2022-04-27', '2022-04-28', '2022-04-29', '2022-04-30', '2022-05-01', '2022-05-02', '2022-05-03', '2022-05-04', '2022-05-05', '2022-05-06', '2022-05-07', '2022-05-08', '2022-05-09', '2022-05-10', '2022-05-11', '2022-05-12', '2022-05-13', '2022-05-14', '2022-05-15', '2022-05-16', '2022-05-17', '2022-05-18', '2022-05-19', '2022-05-20', '2022-05-21', '2022-05-22', '2022-05-23', '2022-05-24', '2022-05-25', '2022-05-26', '2022-05-27', '2022-05-28', '2022-05-29', '2022-05-30', '2022-05-31', '2022-06-01', '2022-06-02', '2022-06-03', '2022-06-04', '2022-06-05', '2022-06-06', '2022-06-07', '2022-06-08', '2022-06-09', '2022-06-10', '2022-06-11', '2022-06-12', '2022-06-13', '2022-06-14', '2022-06-15', '2022-06-16', '2022-06-17', '2022-06-18', '2022-06-19', '2022-06-20', '2022-06-21', '2022-06-22', '2022-06-23', '2022-06-24', '2022-06-25', '2022-06-26', '2022-06-27', '2022-06-28', '2022-06-29', '2022-06-30', '2022-07-01', '2022-07-02', '2022-07-03', '2022-07-04', '2022-07-05', '2022-07-06', '2022-07-07', '2022-07-08', '2022-07-09', '2022-07-10', '2022-07-11', '2022-07-12', '2022-07-13', '2022-07-14', '2022-07-15', '2022-07-16', '2022-07-17', '2022-07-18', '2022-07-19', '2022-07-20', '2022-07-21', '2022-07-22', '2022-07-23', '2022-07-24', '2022-07-25', '2022-07-26', '2022-07-27', '2022-07-28', '2022-07-29', '2022-07-30', '2022-07-31', '2022-08-01', '2022-08-02', '2022-08-03', '2022-08-04', '2022-08-05', '2022-08-06', '2022-08-07', '2022-08-08', '2022-08-09', '2022-08-10', '2022-08-11', '2022-08-12', '2022-08-13', '2022-08-14', '2022-08-15', '2022-08-16', '2022-08-17', '2022-08-18', '2022-08-19', '2022-08-20', '2022-08-21', '2022-08-22', '2022-08-23', '2022-08-24', '2022-08-25', '2022-08-26', '2022-08-27', '2022-08-28', '2022-08-29', '2022-08-30', '2022-08-31', '2022-09-01', '2022-09-02', '2022-09-03', '2022-09-04', '2022-09-05', '2022-09-06', '2022-09-07', '2022-09-08', '2022-09-09', '2022-09-10', '2022-09-11', '2022-09-12', '2022-09-13', '2022-09-14', '2022-09-15', '2022-09-16', '2022-09-17', '2022-09-18', '2022-09-19', '2022-09-20', '2022-09-21', '2022-09-22', '2022-09-23', '2022-09-24', '2022-09-25', '2022-09-26', '2022-09-27', '2022-09-28', '2022-09-29', '2022-09-30', '2022-10-01', '2022-10-02', '2022-10-03', '2022-10-04', '2022-10-05', '2022-10-06', '2022-10-07', '2022-10-08', '2022-10-09', '2022-10-10', '2022-10-11', '2022-10-12', '2022-10-13', '2022-10-14', '2022-10-15', '2022-10-16', '2022-10-17', '2022-10-18', '2022-10-19', '2022-10-20', '2022-10-21', '2022-10-22', '2022-10-23', '2022-10-24', '2022-10-25', '2022-10-26', '2022-10-27', '2022-10-28', '2022-10-29', '2022-10-30', '2022-10-31', '2022-11-01', '2022-11-02', '2022-11-03', '2022-11-04', '2022-11-05', '2022-11-06', '2022-11-07', '2022-11-08', '2022-11-09', '2022-11-10', '2022-11-11', '2022-11-12', '2022-11-13', '2022-11-14', '2022-11-15', '2022-11-16', '2022-11-17', '2022-11-18', '2022-11-19', '2022-11-20', '2022-11-21', '2022-11-22', '2022-11-23', '2022-11-24', '2022-11-25', '2022-11-26', '2022-11-27', '2022-11-28', '2022-11-29', '2022-11-30', '2022-12-01', '2022-12-02', '2022-12-03', '2022-12-04', '2022-12-05', '2022-12-06', '2022-12-07', '2022-12-08', '2022-12-09', '2022-12-10', '2022-12-11', '2022-12-12', '2022-12-13', '2022-12-14', '2022-12-15', '2022-12-16', '2022-12-17', '2022-12-18', '2022-12-19', '2022-12-20', '2022-12-21', '2022-12-22', '2022-12-23', '2022-12-24', '2022-12-25', '2022-12-26', '2022-12-27', '2022-12-28', '2022-12-29', '2022-12-30', '2022-12-31']\n"
     ]
    }
   ],
   "source": [
    "# creating a series of dates between given dates \n",
    "from datetime import date, timedelta\n",
    "\n",
    "sdate = date(2022,1,1) #starrt date\n",
    "edate = date(2023,1,1) # end date\n",
    "dates = pd.date_range(sdate, edate - timedelta(days=1),freq='d').to_frame()\n",
    "dates.columns = ['days']\n",
    "display(dates.head(2))\n",
    "display(dates.tail(2))\n",
    "\n",
    "print(dates.shape)\n",
    "\n",
    "dates['day_string'] = dates['days'].dt.strftime('%Y-%m-%d')\n",
    "display(dates.head(2))\n",
    "\n",
    "dates = list(dates['day_string'])\n",
    "print(dates)"
   ]
  },
  {
   "cell_type": "markdown",
   "id": "ca3b0e96",
   "metadata": {},
   "source": [
    "### 2. Saving downloaded data as a Pandas dataframe"
   ]
  },
  {
   "cell_type": "markdown",
   "id": "0a01f6a1",
   "metadata": {},
   "source": [
    "#### 1. Creating a new dataframe that will be able to store data requested through API"
   ]
  },
  {
   "cell_type": "code",
   "execution_count": 6,
   "id": "f4e440ae",
   "metadata": {},
   "outputs": [
    {
     "data": {
      "text/html": [
       "<div>\n",
       "<style scoped>\n",
       "    .dataframe tbody tr th:only-of-type {\n",
       "        vertical-align: middle;\n",
       "    }\n",
       "\n",
       "    .dataframe tbody tr th {\n",
       "        vertical-align: top;\n",
       "    }\n",
       "\n",
       "    .dataframe thead th {\n",
       "        text-align: right;\n",
       "    }\n",
       "</style>\n",
       "<table border=\"1\" class=\"dataframe\">\n",
       "  <thead>\n",
       "    <tr style=\"text-align: right;\">\n",
       "      <th></th>\n",
       "      <th>sunrise</th>\n",
       "      <th>sunset</th>\n",
       "      <th>solar_noon</th>\n",
       "      <th>day_length</th>\n",
       "      <th>civil_twilight_begin</th>\n",
       "      <th>civil_twilight_end</th>\n",
       "      <th>nautical_twilight_begin</th>\n",
       "      <th>nautical_twilight_end</th>\n",
       "      <th>astronomical_twilight_begin</th>\n",
       "      <th>astronomical_twilight_end</th>\n",
       "      <th>date</th>\n",
       "    </tr>\n",
       "  </thead>\n",
       "  <tbody>\n",
       "  </tbody>\n",
       "</table>\n",
       "</div>"
      ],
      "text/plain": [
       "Empty DataFrame\n",
       "Columns: [sunrise, sunset, solar_noon, day_length, civil_twilight_begin, civil_twilight_end, nautical_twilight_begin, nautical_twilight_end, astronomical_twilight_begin, astronomical_twilight_end, date]\n",
       "Index: []"
      ]
     },
     "execution_count": 6,
     "metadata": {},
     "output_type": "execute_result"
    }
   ],
   "source": [
    "data = {i:[] for i in attributes} # generating a dictionary with a key:[]\n",
    "data['date'] = []\n",
    "df = pd.DataFrame(data) # generating a new dataframe\n",
    "df.head()"
   ]
  },
  {
   "cell_type": "markdown",
   "id": "07c06491",
   "metadata": {},
   "source": [
    "#### 2. Saving data to the dataframe downloaded for each day"
   ]
  },
  {
   "cell_type": "code",
   "execution_count": 10,
   "id": "24af4faf",
   "metadata": {},
   "outputs": [],
   "source": [
    "dates = dates[176:]"
   ]
  },
  {
   "cell_type": "code",
   "execution_count": 11,
   "id": "ee23a9f0",
   "metadata": {},
   "outputs": [
    {
     "name": "stdout",
     "output_type": "stream",
     "text": [
      "2022-06-26...2022-06-27...2022-06-28...2022-06-29...2022-06-30...2022-07-01...2022-07-02...2022-07-03...2022-07-04...2022-07-05...2022-07-06...2022-07-07...2022-07-08...2022-07-09...2022-07-10...2022-07-11...2022-07-12...2022-07-13...2022-07-14...2022-07-15...2022-07-16...2022-07-17...2022-07-18...2022-07-19...2022-07-20...2022-07-21...2022-07-22...2022-07-23...2022-07-24...2022-07-25...2022-07-26...2022-07-27...2022-07-28...2022-07-29...2022-07-30...2022-07-31...2022-08-01...2022-08-02...2022-08-03...2022-08-04...2022-08-05...2022-08-06...2022-08-07...2022-08-08...2022-08-09...2022-08-10...2022-08-11...2022-08-12...2022-08-13...2022-08-14...2022-08-15...2022-08-16...2022-08-17...2022-08-18...2022-08-19...2022-08-20...2022-08-21...2022-08-22...2022-08-23...2022-08-24...2022-08-25...2022-08-26...2022-08-27...2022-08-28...2022-08-29...2022-08-30...2022-08-31...2022-09-01...2022-09-02...2022-09-03...2022-09-04...2022-09-05...2022-09-06...2022-09-07...2022-09-08...2022-09-09...2022-09-10...2022-09-11...2022-09-12...2022-09-13...2022-09-14...2022-09-15...2022-09-16...2022-09-17...2022-09-18...2022-09-19...2022-09-20...2022-09-21...2022-09-22...2022-09-23...2022-09-24...2022-09-25...2022-09-26...2022-09-27...2022-09-28...2022-09-29...2022-09-30...2022-10-01...2022-10-02...2022-10-03...2022-10-04...2022-10-05...2022-10-06...2022-10-07...2022-10-08...2022-10-09...2022-10-10...2022-10-11...2022-10-12...2022-10-13...2022-10-14...2022-10-15...2022-10-16...2022-10-17...2022-10-18...2022-10-19...2022-10-20...2022-10-21...2022-10-22...2022-10-23...2022-10-24...2022-10-25...2022-10-26...2022-10-27...2022-10-28...2022-10-29...2022-10-30...2022-10-31...2022-11-01...2022-11-02...2022-11-03...2022-11-04...2022-11-05...2022-11-06...2022-11-07...2022-11-08...2022-11-09...2022-11-10...2022-11-11...2022-11-12...2022-11-13...2022-11-14...2022-11-15...2022-11-16...2022-11-17...2022-11-18...2022-11-19...2022-11-20...2022-11-21...2022-11-22...2022-11-23...2022-11-24...2022-11-25...2022-11-26...2022-11-27...2022-11-28...2022-11-29...2022-11-30...2022-12-01...2022-12-02...2022-12-03...2022-12-04...2022-12-05...2022-12-06...2022-12-07...2022-12-08...2022-12-09...2022-12-10...2022-12-11...2022-12-12...2022-12-13...2022-12-14...2022-12-15...2022-12-16...2022-12-17...2022-12-18...2022-12-19...2022-12-20...2022-12-21...2022-12-22...2022-12-23...2022-12-24...2022-12-25...2022-12-26...2022-12-27...2022-12-28...2022-12-29...2022-12-30...2022-12-31..."
     ]
    },
    {
     "data": {
      "text/html": [
       "<div>\n",
       "<style scoped>\n",
       "    .dataframe tbody tr th:only-of-type {\n",
       "        vertical-align: middle;\n",
       "    }\n",
       "\n",
       "    .dataframe tbody tr th {\n",
       "        vertical-align: top;\n",
       "    }\n",
       "\n",
       "    .dataframe thead th {\n",
       "        text-align: right;\n",
       "    }\n",
       "</style>\n",
       "<table border=\"1\" class=\"dataframe\">\n",
       "  <thead>\n",
       "    <tr style=\"text-align: right;\">\n",
       "      <th></th>\n",
       "      <th>sunrise</th>\n",
       "      <th>sunset</th>\n",
       "      <th>solar_noon</th>\n",
       "      <th>day_length</th>\n",
       "      <th>civil_twilight_begin</th>\n",
       "      <th>civil_twilight_end</th>\n",
       "      <th>nautical_twilight_begin</th>\n",
       "      <th>nautical_twilight_end</th>\n",
       "      <th>astronomical_twilight_begin</th>\n",
       "      <th>astronomical_twilight_end</th>\n",
       "      <th>date</th>\n",
       "    </tr>\n",
       "  </thead>\n",
       "  <tbody>\n",
       "    <tr>\n",
       "      <th>0</th>\n",
       "      <td>6:53:18 AM</td>\n",
       "      <td>2:29:56 PM</td>\n",
       "      <td>10:41:37 AM</td>\n",
       "      <td>07:36:38</td>\n",
       "      <td>6:12:38 AM</td>\n",
       "      <td>3:10:36 PM</td>\n",
       "      <td>5:27:00 AM</td>\n",
       "      <td>3:56:13 PM</td>\n",
       "      <td>4:44:07 AM</td>\n",
       "      <td>4:39:07 PM</td>\n",
       "      <td>2022-01-01</td>\n",
       "    </tr>\n",
       "    <tr>\n",
       "      <th>1</th>\n",
       "      <td>6:53:06 AM</td>\n",
       "      <td>2:31:04 PM</td>\n",
       "      <td>10:42:05 AM</td>\n",
       "      <td>07:37:58</td>\n",
       "      <td>6:12:31 AM</td>\n",
       "      <td>3:11:39 PM</td>\n",
       "      <td>5:26:57 AM</td>\n",
       "      <td>3:57:13 PM</td>\n",
       "      <td>4:44:06 AM</td>\n",
       "      <td>4:40:04 PM</td>\n",
       "      <td>2022-01-02</td>\n",
       "    </tr>\n",
       "    <tr>\n",
       "      <th>2</th>\n",
       "      <td>6:52:50 AM</td>\n",
       "      <td>2:32:15 PM</td>\n",
       "      <td>10:42:33 AM</td>\n",
       "      <td>07:39:25</td>\n",
       "      <td>6:12:21 AM</td>\n",
       "      <td>3:12:44 PM</td>\n",
       "      <td>5:26:51 AM</td>\n",
       "      <td>3:58:14 PM</td>\n",
       "      <td>4:44:03 AM</td>\n",
       "      <td>4:41:03 PM</td>\n",
       "      <td>2022-01-03</td>\n",
       "    </tr>\n",
       "    <tr>\n",
       "      <th>3</th>\n",
       "      <td>6:52:31 AM</td>\n",
       "      <td>2:33:29 PM</td>\n",
       "      <td>10:43:00 AM</td>\n",
       "      <td>07:40:58</td>\n",
       "      <td>6:12:08 AM</td>\n",
       "      <td>3:13:52 PM</td>\n",
       "      <td>5:26:42 AM</td>\n",
       "      <td>3:59:18 PM</td>\n",
       "      <td>4:43:56 AM</td>\n",
       "      <td>4:42:04 PM</td>\n",
       "      <td>2022-01-04</td>\n",
       "    </tr>\n",
       "    <tr>\n",
       "      <th>4</th>\n",
       "      <td>6:52:08 AM</td>\n",
       "      <td>2:34:46 PM</td>\n",
       "      <td>10:43:27 AM</td>\n",
       "      <td>07:42:38</td>\n",
       "      <td>6:11:51 AM</td>\n",
       "      <td>3:15:03 PM</td>\n",
       "      <td>5:26:30 AM</td>\n",
       "      <td>4:00:24 PM</td>\n",
       "      <td>4:43:47 AM</td>\n",
       "      <td>4:43:07 PM</td>\n",
       "      <td>2022-01-05</td>\n",
       "    </tr>\n",
       "  </tbody>\n",
       "</table>\n",
       "</div>"
      ],
      "text/plain": [
       "      sunrise      sunset   solar_noon day_length civil_twilight_begin  \\\n",
       "0  6:53:18 AM  2:29:56 PM  10:41:37 AM   07:36:38           6:12:38 AM   \n",
       "1  6:53:06 AM  2:31:04 PM  10:42:05 AM   07:37:58           6:12:31 AM   \n",
       "2  6:52:50 AM  2:32:15 PM  10:42:33 AM   07:39:25           6:12:21 AM   \n",
       "3  6:52:31 AM  2:33:29 PM  10:43:00 AM   07:40:58           6:12:08 AM   \n",
       "4  6:52:08 AM  2:34:46 PM  10:43:27 AM   07:42:38           6:11:51 AM   \n",
       "\n",
       "  civil_twilight_end nautical_twilight_begin nautical_twilight_end  \\\n",
       "0         3:10:36 PM              5:27:00 AM            3:56:13 PM   \n",
       "1         3:11:39 PM              5:26:57 AM            3:57:13 PM   \n",
       "2         3:12:44 PM              5:26:51 AM            3:58:14 PM   \n",
       "3         3:13:52 PM              5:26:42 AM            3:59:18 PM   \n",
       "4         3:15:03 PM              5:26:30 AM            4:00:24 PM   \n",
       "\n",
       "  astronomical_twilight_begin astronomical_twilight_end        date  \n",
       "0                  4:44:07 AM                4:39:07 PM  2022-01-01  \n",
       "1                  4:44:06 AM                4:40:04 PM  2022-01-02  \n",
       "2                  4:44:03 AM                4:41:03 PM  2022-01-03  \n",
       "3                  4:43:56 AM                4:42:04 PM  2022-01-04  \n",
       "4                  4:43:47 AM                4:43:07 PM  2022-01-05  "
      ]
     },
     "metadata": {},
     "output_type": "display_data"
    }
   ],
   "source": [
    "# defining variables:\n",
    "lat = 53.775\n",
    "lon = 20.479\n",
    "\n",
    "\n",
    "def get_data(lat, lon, date):\n",
    "    url = f\"https://api.sunrise-sunset.org/json?lat={lat}&lng={lon}&date={date}\"\n",
    "    response = requests.get(url)\n",
    "    response = response.json()\n",
    "    return response\n",
    "\n",
    "for date in dates:\n",
    "    print(date, end='...')\n",
    "    response = get_data(lat, lon, date)\n",
    "    df.loc[len(df.index)] = [x for x in response['results'].values()] + [date]# saving the API response as a new row\n",
    "    df.to_csv('sunrise_API_data.csv')\n",
    "    \n",
    "    \n",
    "display(df.head(5))"
   ]
  },
  {
   "cell_type": "code",
   "execution_count": null,
   "id": "99823bcc",
   "metadata": {},
   "outputs": [],
   "source": []
  }
 ],
 "metadata": {
  "kernelspec": {
   "display_name": "Python 3 (ipykernel)",
   "language": "python",
   "name": "python3"
  },
  "language_info": {
   "codemirror_mode": {
    "name": "ipython",
    "version": 3
   },
   "file_extension": ".py",
   "mimetype": "text/x-python",
   "name": "python",
   "nbconvert_exporter": "python",
   "pygments_lexer": "ipython3",
   "version": "3.7.11"
  }
 },
 "nbformat": 4,
 "nbformat_minor": 5
}
