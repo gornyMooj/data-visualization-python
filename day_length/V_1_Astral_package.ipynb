{
 "cells": [
  {
   "cell_type": "markdown",
   "id": "d2ac02b3",
   "metadata": {},
   "source": [
    "### Astral is a python package for calculating the times of various aspects of the sun and moon. [link](https://astral.readthedocs.io/en/latest/index.html)"
   ]
  },
  {
   "cell_type": "code",
   "execution_count": 1,
   "id": "125c5ece",
   "metadata": {},
   "outputs": [
    {
     "name": "stdout",
     "output_type": "stream",
     "text": [
      "Dawn:    2022-12-28 06:12:04.222928+00:00\n",
      "Sunrise: 2022-12-28 06:56:16.456814+00:00\n",
      "Noon:    2022-12-28 10:39:21+00:00\n",
      "Sunset:  2022-12-28 14:23:00.464170+00:00\n",
      "Dusk:    2022-12-28 15:07:12.911738+00:00\n",
      "\n",
      "(datetime.datetime(2022, 12, 28, 6, 56, 16, 456814, tzinfo=datetime.timezone.utc), datetime.datetime(2022, 12, 28, 14, 23, 0, 464170, tzinfo=datetime.timezone.utc))\n",
      "\n",
      " <class 'datetime.datetime'>\n",
      "\n",
      " day_lenght Olsztyn 7:26:44.007356 <class 'datetime.timedelta'>\n",
      "\n",
      " day_lenght_float_hours Olsztyn 7.445557598888888 <class 'float'>\n"
     ]
    }
   ],
   "source": [
    "# finds basic information about the sun by latitude and longitude on a given date\n",
    "# Astral by default returns times in UTC\n",
    "\n",
    "from astral import LocationInfo\n",
    "import datetime\n",
    "from astral.sun import sun\n",
    "import astral\n",
    "\n",
    "# Olsztyn Coordinates\n",
    "lat, long = [53.778 , 20.4801]\n",
    "\n",
    "olsztyn = LocationInfo('Miasto olsztyn', 'region', 'timezone/name', lat, long)\n",
    "\n",
    "s = sun(olsztyn.observer, date=datetime.date(2022, 12, 28))\n",
    "print((\n",
    "    f'Dawn:    {s[\"dawn\"]}\\n'\n",
    "    f'Sunrise: {s[\"sunrise\"]}\\n'\n",
    "    f'Noon:    {s[\"noon\"]}\\n'\n",
    "    f'Sunset:  {s[\"sunset\"]}\\n'\n",
    "    f'Dusk:    {s[\"dusk\"]}\\n'\n",
    "))\n",
    "\n",
    "# gets the day-length - Astral calculates daylight start and end times for a given location and time\n",
    "daylight = astral.sun.daylight(olsztyn.observer, date=datetime.date(2022, 12, 28))\n",
    "print(daylight)\n",
    "\n",
    "\n",
    "# calculate the day-lenght \n",
    "print('\\n', type(s[\"dawn\"]) )\n",
    "\n",
    "day_lenght = s[\"sunset\"] - s[\"sunrise\"]\n",
    "print('\\n','day_lenght Olsztyn', day_lenght ,type(day_lenght))\n",
    "\n",
    "\n",
    "# converting timedelta to floating-point\n",
    "day_lenght_float_hours = (day_lenght.total_seconds() / 60) /60\n",
    "print('\\n','day_lenght_float_hours Olsztyn', day_lenght_float_hours ,type(day_lenght_float_hours))\n"
   ]
  },
  {
   "cell_type": "code",
   "execution_count": null,
   "id": "6b478fe6",
   "metadata": {},
   "outputs": [],
   "source": []
  }
 ],
 "metadata": {
  "kernelspec": {
   "display_name": "Python 3 (ipykernel)",
   "language": "python",
   "name": "python3"
  },
  "language_info": {
   "codemirror_mode": {
    "name": "ipython",
    "version": 3
   },
   "file_extension": ".py",
   "mimetype": "text/x-python",
   "name": "python",
   "nbconvert_exporter": "python",
   "pygments_lexer": "ipython3",
   "version": "3.7.11"
  }
 },
 "nbformat": 4,
 "nbformat_minor": 5
}
