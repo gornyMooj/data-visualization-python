{
 "cells": [
  {
   "cell_type": "markdown",
   "id": "a55cb7ad",
   "metadata": {},
   "source": [
    "- download chrome driver:  https://sites.google.com/chromium.org/driver/"
   ]
  },
  {
   "cell_type": "code",
   "execution_count": 1,
   "id": "3fcf1479",
   "metadata": {},
   "outputs": [],
   "source": [
    "url = 'https://www.otodom.pl/pl/wyniki/sprzedaz/mieszkanie/warminsko--mazurskie/olsztyn/olsztyn/olsztyn'"
   ]
  },
  {
   "cell_type": "code",
   "execution_count": 2,
   "id": "99eb4a2c",
   "metadata": {},
   "outputs": [],
   "source": [
    "import os\n",
    "\n",
    "# prepering directories\n",
    "path = os.getcwd()\n",
    "# subfolders\n",
    "input_dir = os.path.join(path, 'inputs')\n",
    "output_dir = os.path.join(path, 'outputs')"
   ]
  },
  {
   "cell_type": "code",
   "execution_count": 3,
   "id": "faf1070c",
   "metadata": {},
   "outputs": [],
   "source": [
    "# selenium \n",
    "from selenium import webdriver\n",
    "from selenium.webdriver.common.by import By\n",
    "from selenium.webdriver.support.wait import WebDriverWait\n",
    "from selenium.webdriver.support import expected_conditions as EC\n",
    "\n",
    "# BeautifulSoup\n",
    "from bs4 import BeautifulSoup\n",
    "\n",
    "import datetime"
   ]
  },
  {
   "cell_type": "code",
   "execution_count": 4,
   "id": "eb2f21dd",
   "metadata": {},
   "outputs": [],
   "source": [
    "# chrome driver location\n",
    "PATH = os.path.join(path, 'inputs','chromedriver.exe' )"
   ]
  },
  {
   "cell_type": "code",
   "execution_count": 5,
   "id": "ed1b3c88",
   "metadata": {},
   "outputs": [],
   "source": [
    "# chrom driver configuration\n",
    "options = webdriver.ChromeOptions()\n",
    "options.add_argument('--ignore-certificate-errors')\n",
    "options.add_argument('--incognito')\n",
    "#options.add_argument('--headless') # without opening browser\n",
    "\n",
    "driver = webdriver.Chrome(PATH, options=options)\n",
    "\n",
    "wait = WebDriverWait(driver, 10)"
   ]
  },
  {
   "cell_type": "code",
   "execution_count": 6,
   "id": "16836a36",
   "metadata": {},
   "outputs": [
    {
     "data": {
      "text/plain": [
       "<selenium.webdriver.chrome.webdriver.WebDriver (session=\"7d8c447f7814fc9c975053c09d0e201f\")>"
      ]
     },
     "execution_count": 6,
     "metadata": {},
     "output_type": "execute_result"
    }
   ],
   "source": [
    "driver"
   ]
  },
  {
   "cell_type": "code",
   "execution_count": 7,
   "id": "447a063d",
   "metadata": {},
   "outputs": [
    {
     "name": "stdout",
     "output_type": "stream",
     "text": [
      "Opens website: https://www.otodom.pl/pl/wyniki/sprzedaz/mieszkanie/warminsko--mazurskie/olsztyn/olsztyn/olsztyn\n"
     ]
    }
   ],
   "source": [
    "# open website using webdriver\n",
    "driver.get(url)\n",
    "print(f\"Opens website: {url}\")\n",
    "\n",
    "# accepting terms and conditions\n",
    "# step One - pokaz cele\n",
    "element = wait.until(EC.element_to_be_clickable((By.ID, 'onetrust-pc-btn-handler')))\n",
    "element.click()\n",
    "# step two -  confirming preferences and closing the modal window\n",
    "element = wait.until(EC.element_to_be_clickable((By.XPATH, \"//*[contains(text(), 'Potwierdzenie moich wyborów')]\")))\n",
    "element.click()"
   ]
  },
  {
   "cell_type": "code",
   "execution_count": 8,
   "id": "aecc9d6a",
   "metadata": {},
   "outputs": [
    {
     "name": "stdout",
     "output_type": "stream",
     "text": [
      "Number of pages: 21\n"
     ]
    }
   ],
   "source": [
    "# step - get number of the paginations\n",
    "## using SOUP\n",
    "soup = BeautifulSoup(driver.page_source, 'html.parser')\n",
    "# save homepage to the file & soup\n",
    "date = datetime.datetime.now().strftime(\"%Y%m%d\") # current date\n",
    "with open(os.path.join(path, 'outputs', 'home_page_' + date + '.html'), \"w\", encoding='utf-8') as file:\n",
    "    file.write(str(soup))\n",
    "    \n",
    "# finds nav with paginations \n",
    "# scrapped HTML code can be displayed and pretty printed in Notepad++ using the plugin XML tools\n",
    "target = soup.find('nav', attrs={'aria-label':'Nawigacja po paginacji'})\n",
    "date = datetime.datetime.now().strftime(\"%Y%m%d\") # current date\n",
    "with open(os.path.join(path, 'outputs', 'nav_pagination' + date + '.html'), \"w\", encoding='utf-8') as file:\n",
    "    file.write(str(target))\n",
    "    \n",
    "# selects all hyperlinks from the nav section\n",
    "hrefs = target.find_all(\"a\")\n",
    "# get the hyperlink with the highest number which represents number of pages with adds for the given city\n",
    "pagination_last = 1\n",
    "for a in hrefs:\n",
    "    try:\n",
    "        num = int(a.get_text())\n",
    "        pagination_last =  num if pagination_last < num else pagination_last\n",
    "    except:\n",
    "        pass\n",
    "print(f'Number of pages: {pagination_last}')"
   ]
  },
  {
   "cell_type": "code",
   "execution_count": 9,
   "id": "e59c1f53",
   "metadata": {},
   "outputs": [],
   "source": [
    "'''\n",
    "<div data-cy=\"search.listing.organic\"> container that keeps data with adds - 'Wszystkie ogłoszenia' lets call it all adds \n",
    "'''\n",
    "all_adds_page = soup.find('div', attrs={'data-cy':'search.listing.organic'})\n",
    "date = datetime.datetime.now().strftime(\"%Y%m%d\") # current date\n",
    "with open(os.path.join(path, 'outputs', 'all_adds_page_1' + date + '.html'), \"w\", encoding='utf-8') as file:\n",
    "    file.write(str(all_adds_page))\n",
    "    "
   ]
  },
  {
   "cell_type": "code",
   "execution_count": 10,
   "id": "b37624f7",
   "metadata": {},
   "outputs": [
    {
     "data": {
      "text/plain": [
       "<subprocess.Popen at 0x1f2b362c0c8>"
      ]
     },
     "execution_count": 10,
     "metadata": {},
     "output_type": "execute_result"
    }
   ],
   "source": [
    "# OPENS FILE EXPLORER OF THE GIVEN DIRECTORY\n",
    "import subprocess\n",
    "subprocess.Popen(f'explorer \"{output_dir}\"')"
   ]
  },
  {
   "cell_type": "code",
   "execution_count": 11,
   "id": "f0f54e2b",
   "metadata": {},
   "outputs": [],
   "source": [
    "# info about adds is kept in articles\n",
    "articles = all_adds_page.find_all(\"article\")"
   ]
  },
  {
   "cell_type": "code",
   "execution_count": 12,
   "id": "75f222bd",
   "metadata": {},
   "outputs": [],
   "source": [
    "with open(os.path.join(path, 'outputs', 'add_first' + date + '.html'), \"w\", encoding='utf-8') as file:\n",
    "    file.write(str(articles[0]))"
   ]
  },
  {
   "cell_type": "code",
   "execution_count": 13,
   "id": "b7ab0250",
   "metadata": {},
   "outputs": [
    {
     "name": "stdout",
     "output_type": "stream",
     "text": [
      "1\n",
      "\n",
      "2\n",
      "\n",
      "3\n",
      "\n",
      "4\n",
      "\n",
      "5\n",
      "\n",
      "6\n",
      "\n",
      "7\n",
      "\n",
      "8\n",
      "\n",
      "9\n",
      "\n",
      "10\n",
      "\n",
      "11\n",
      "\n",
      "12\n",
      "\n",
      "13\n",
      "\n",
      "14\n",
      "\n",
      "15\n",
      "\n",
      "16\n",
      "\n",
      "17\n",
      "\n",
      "18\n",
      "\n",
      "19\n",
      "\n",
      "20\n",
      "\n",
      "21\n",
      "\n",
      "22\n",
      "\n",
      "23\n",
      "\n",
      "24\n",
      "\n",
      "25\n",
      "\n",
      "26\n",
      "\n",
      "27\n",
      "\n",
      "28\n",
      "\n",
      "29\n",
      "\n",
      "30\n",
      "\n",
      "31\n",
      "\n",
      "32\n",
      "\n",
      "33\n",
      "\n",
      "34\n",
      "\n",
      "35\n",
      "\n",
      "36\n",
      "\n"
     ]
    }
   ],
   "source": [
    "# DATA STRUCTURE\n",
    "adds = []\n",
    "for i, add in enumerate(articles):\n",
    "    print(i + 1)\n",
    "    # gets any tags with the attribute 'title'\n",
    "    titles = add.find_all(lambda tag: tag is not None and tag.has_attr(\"title\"))\n",
    "\n",
    "    \n",
    "    adds.append({\n",
    "        'free_text': titles[0],\n",
    "        'address': titles[1]\n",
    "    })\n",
    "    print()\n"
   ]
  },
  {
   "cell_type": "code",
   "execution_count": null,
   "id": "f4a69b18",
   "metadata": {},
   "outputs": [],
   "source": []
  },
  {
   "cell_type": "code",
   "execution_count": null,
   "id": "7619a26b",
   "metadata": {},
   "outputs": [],
   "source": []
  }
 ],
 "metadata": {
  "kernelspec": {
   "display_name": "Python 3 (ipykernel)",
   "language": "python",
   "name": "python3"
  },
  "language_info": {
   "codemirror_mode": {
    "name": "ipython",
    "version": 3
   },
   "file_extension": ".py",
   "mimetype": "text/x-python",
   "name": "python",
   "nbconvert_exporter": "python",
   "pygments_lexer": "ipython3",
   "version": "3.7.11"
  }
 },
 "nbformat": 4,
 "nbformat_minor": 5
}
