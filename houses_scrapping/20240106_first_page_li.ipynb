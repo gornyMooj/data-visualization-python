{
 "cells": [
  {
   "cell_type": "markdown",
   "id": "a55cb7ad",
   "metadata": {},
   "source": [
    "- download chrome driver:  https://sites.google.com/chromium.org/driver/"
   ]
  },
  {
   "cell_type": "code",
   "execution_count": 1,
   "id": "3fcf1479",
   "metadata": {},
   "outputs": [],
   "source": [
    "url = 'https://www.otodom.pl/pl/wyniki/sprzedaz/mieszkanie/warminsko--mazurskie/olsztyn/olsztyn/olsztyn'"
   ]
  },
  {
   "cell_type": "code",
   "execution_count": 2,
   "id": "99eb4a2c",
   "metadata": {},
   "outputs": [],
   "source": [
    "import os\n",
    "\n",
    "# prepering directories\n",
    "path = os.getcwd()\n",
    "# subfolders\n",
    "input_dir = os.path.join(path, 'inputs')\n",
    "output_dir = os.path.join(path, 'outputs')"
   ]
  },
  {
   "cell_type": "code",
   "execution_count": 3,
   "id": "faf1070c",
   "metadata": {},
   "outputs": [],
   "source": [
    "# selenium \n",
    "from selenium import webdriver\n",
    "from selenium.webdriver.common.by import By\n",
    "from selenium.webdriver.support.wait import WebDriverWait\n",
    "from selenium.webdriver.support import expected_conditions as EC\n",
    "\n",
    "# BeautifulSoup\n",
    "from bs4 import BeautifulSoup\n",
    "\n",
    "import datetime"
   ]
  },
  {
   "cell_type": "code",
   "execution_count": 4,
   "id": "eb2f21dd",
   "metadata": {},
   "outputs": [],
   "source": [
    "# chrome driver location\n",
    "PATH = os.path.join(path, 'inputs','chromedriver.exe' )"
   ]
  },
  {
   "cell_type": "code",
   "execution_count": 5,
   "id": "ed1b3c88",
   "metadata": {},
   "outputs": [],
   "source": [
    "# chrom driver configuration\n",
    "options = webdriver.ChromeOptions()\n",
    "options.add_argument('--ignore-certificate-errors')\n",
    "options.add_argument('--incognito')\n",
    "#options.add_argument('--headless') # without opening browser\n",
    "\n",
    "driver = webdriver.Chrome(PATH, options=options)\n",
    "\n",
    "wait = WebDriverWait(driver, 10)"
   ]
  },
  {
   "cell_type": "code",
   "execution_count": 6,
   "id": "16836a36",
   "metadata": {},
   "outputs": [
    {
     "data": {
      "text/plain": [
       "<selenium.webdriver.chrome.webdriver.WebDriver (session=\"7aba6b4121e03284369a6c7a618fb4e3\")>"
      ]
     },
     "execution_count": 6,
     "metadata": {},
     "output_type": "execute_result"
    }
   ],
   "source": [
    "driver"
   ]
  },
  {
   "cell_type": "code",
   "execution_count": 7,
   "id": "447a063d",
   "metadata": {},
   "outputs": [
    {
     "name": "stdout",
     "output_type": "stream",
     "text": [
      "Opens website: https://www.otodom.pl/pl/wyniki/sprzedaz/mieszkanie/warminsko--mazurskie/olsztyn/olsztyn/olsztyn\n"
     ]
    }
   ],
   "source": [
    "# open website using webdriver\n",
    "driver.get(url)\n",
    "print(f\"Opens website: {url}\")\n",
    "\n",
    "# accepting terms and conditions\n",
    "# step One - pokaz cele\n",
    "element = wait.until(EC.element_to_be_clickable((By.ID, 'onetrust-pc-btn-handler')))\n",
    "element.click()\n",
    "# step two -  confirming preferences and closing the modal window\n",
    "element = wait.until(EC.element_to_be_clickable((By.XPATH, \"//*[contains(text(), 'Potwierdzenie moich wyborów')]\")))\n",
    "element.click()"
   ]
  },
  {
   "cell_type": "code",
   "execution_count": 8,
   "id": "aecc9d6a",
   "metadata": {},
   "outputs": [
    {
     "name": "stdout",
     "output_type": "stream",
     "text": [
      "Number of pages: 21\n"
     ]
    }
   ],
   "source": [
    "# step - get number of the paginations\n",
    "## using SOUP\n",
    "soup = BeautifulSoup(driver.page_source, 'html.parser')\n",
    "# save homepage to the file & soup\n",
    "date = datetime.datetime.now().strftime(\"%Y%m%d\") # current date\n",
    "with open(os.path.join(path, 'outputs', 'home_page_' + date + '.html'), \"w\", encoding='utf-8') as file:\n",
    "    file.write(str(soup))\n",
    "    \n",
    "# finds nav with paginations \n",
    "# scrapped HTML code can be displayed and pretty printed in Notepad++ using the plugin XML tools\n",
    "target = soup.find('nav', attrs={'aria-label':'Nawigacja po paginacji'})\n",
    "date = datetime.datetime.now().strftime(\"%Y%m%d\") # current date\n",
    "with open(os.path.join(path, 'outputs', 'nav_pagination' + date + '.html'), \"w\", encoding='utf-8') as file:\n",
    "    file.write(str(target))\n",
    "    \n",
    "# selects all hyperlinks from the nav section\n",
    "hrefs = target.find_all(\"a\")\n",
    "# get the hyperlink with the highest number which represents number of pages with adds for the given city\n",
    "pagination_last = 1\n",
    "for a in hrefs:\n",
    "    try:\n",
    "        num = int(a.get_text())\n",
    "        pagination_last =  num if pagination_last < num else pagination_last\n",
    "    except:\n",
    "        pass\n",
    "print(f'Number of pages: {pagination_last}')"
   ]
  },
  {
   "cell_type": "code",
   "execution_count": 9,
   "id": "e59c1f53",
   "metadata": {},
   "outputs": [],
   "source": [
    "'''\n",
    "<div data-cy=\"search.listing.organic\"> container that keeps data with adds - 'Wszystkie ogłoszenia' lets call it all adds \n",
    "'''\n",
    "all_adds_page = soup.find('div', attrs={'data-cy':'search.listing.organic'})\n",
    "date = datetime.datetime.now().strftime(\"%Y%m%d\") # current date\n",
    "with open(os.path.join(path, 'outputs', 'all_adds_page_1' + date + '.html'), \"w\", encoding='utf-8') as file:\n",
    "    file.write(str(all_adds_page))\n",
    "    "
   ]
  },
  {
   "cell_type": "code",
   "execution_count": 10,
   "id": "b37624f7",
   "metadata": {},
   "outputs": [
    {
     "data": {
      "text/plain": [
       "<subprocess.Popen at 0x21fe0a5a548>"
      ]
     },
     "execution_count": 10,
     "metadata": {},
     "output_type": "execute_result"
    }
   ],
   "source": [
    "# OPENS FILE EXPLORER OF THE GIVEN DIRECTORY\n",
    "import subprocess\n",
    "subprocess.Popen(f'explorer \"{output_dir}\"')"
   ]
  },
  {
   "cell_type": "code",
   "execution_count": 12,
   "id": "f0f54e2b",
   "metadata": {},
   "outputs": [
    {
     "data": {
      "text/plain": [
       "36"
      ]
     },
     "execution_count": 12,
     "metadata": {},
     "output_type": "execute_result"
    }
   ],
   "source": [
    "\n",
    "\n",
    "def has_article(tag):\n",
    "    return tag.name == 'li' and tag.find('article') is not None\n",
    "\n",
    "# Use find_all with the custom function\n",
    "# this can be wrote with lambda\n",
    "lis = all_adds_page.find_all(has_article)\n",
    "\n",
    "len(lis)"
   ]
  },
  {
   "cell_type": "code",
   "execution_count": null,
   "id": "d3e3e637",
   "metadata": {},
   "outputs": [],
   "source": [
    "with open(os.path.join(path, 'outputs', 'add_first' + date + '.html'), \"w\", encoding='utf-8') as file:\n",
    "    file.write(str(lis[0]))"
   ]
  },
  {
   "cell_type": "code",
   "execution_count": 91,
   "id": "b7ab0250",
   "metadata": {},
   "outputs": [],
   "source": [
    "# DATA STRUCTURE\n",
    "adds = []\n",
    "for i, add in enumerate(lis):\n",
    "    artcile = add.find('article')\n",
    "    # gets any tags with the attribute 'title'\n",
    "    titles = artcile.find_all(lambda tag: tag is not None and tag.has_attr(\"title\"))\n",
    "    price = price_meter = rooms = area = more = None\n",
    "    \n",
    "    info = add.find_all('span')\n",
    "    for e in info:\n",
    "        e = e.text\n",
    "        if 'zł' in e and 'zł/m²' not in e:\n",
    "            price = e\n",
    "        if 'zł/m²' in e:\n",
    "            price_meter = e\n",
    "        if [element for element in ['pokoje','pokoi','pokój'] if(element in e)]:\n",
    "            rooms = e\n",
    "        if 'm²' in e and 'zł/m²' not in e:\n",
    "            area = e\n",
    "            \n",
    "    more = info[-1].text\n",
    "            \n",
    "    adds.append({\n",
    "        'free_text': titles[0]['title'],\n",
    "        'address': titles[1]['title'],\n",
    "        'price': price,\n",
    "        'price_meter': price_meter,\n",
    "        'rooms': rooms,\n",
    "        'area': area,\n",
    "        'more':more,\n",
    "        'add_link': add.select_one('a')['href']\n",
    "    })"
   ]
  },
  {
   "cell_type": "code",
   "execution_count": 92,
   "id": "7619a26b",
   "metadata": {},
   "outputs": [
    {
     "data": {
      "text/html": [
       "<div>\n",
       "<style scoped>\n",
       "    .dataframe tbody tr th:only-of-type {\n",
       "        vertical-align: middle;\n",
       "    }\n",
       "\n",
       "    .dataframe tbody tr th {\n",
       "        vertical-align: top;\n",
       "    }\n",
       "\n",
       "    .dataframe thead th {\n",
       "        text-align: right;\n",
       "    }\n",
       "</style>\n",
       "<table border=\"1\" class=\"dataframe\">\n",
       "  <thead>\n",
       "    <tr style=\"text-align: right;\">\n",
       "      <th></th>\n",
       "      <th>free_text</th>\n",
       "      <th>address</th>\n",
       "      <th>price</th>\n",
       "      <th>price_meter</th>\n",
       "      <th>rooms</th>\n",
       "      <th>area</th>\n",
       "      <th>more</th>\n",
       "      <th>add_link</th>\n",
       "    </tr>\n",
       "  </thead>\n",
       "  <tbody>\n",
       "    <tr>\n",
       "      <th>0</th>\n",
       "      <td>Przestronne 3pokojowe mieszkanie w Centrum Jarot!</td>\n",
       "      <td>Mieszkanie na sprzedaż: ul. Floriana Piotrowsk...</td>\n",
       "      <td>630 000 zł</td>\n",
       "      <td>9251 zł/m²</td>\n",
       "      <td>3 pokoje</td>\n",
       "      <td>68,1 m²</td>\n",
       "      <td>Biuro nieruchomości</td>\n",
       "      <td>/pl/oferta/przestronne-3pokojowe-mieszkanie-w-...</td>\n",
       "    </tr>\n",
       "    <tr>\n",
       "      <th>1</th>\n",
       "      <td>Mieszkanie 3 pokoje Pieczewo Olsztyn</td>\n",
       "      <td>Mieszkanie na sprzedaż: ul. Władysława Gębika ...</td>\n",
       "      <td>549 000 zł</td>\n",
       "      <td>8318 zł/m²</td>\n",
       "      <td>3 pokoje</td>\n",
       "      <td>66 m²</td>\n",
       "      <td>Biuro nieruchomości</td>\n",
       "      <td>/pl/oferta/mieszkanie-3-pokoje-pieczewo-olszty...</td>\n",
       "    </tr>\n",
       "  </tbody>\n",
       "</table>\n",
       "</div>"
      ],
      "text/plain": [
       "                                           free_text  \\\n",
       "0  Przestronne 3pokojowe mieszkanie w Centrum Jarot!   \n",
       "1               Mieszkanie 3 pokoje Pieczewo Olsztyn   \n",
       "\n",
       "                                             address       price price_meter  \\\n",
       "0  Mieszkanie na sprzedaż: ul. Floriana Piotrowsk...  630 000 zł  9251 zł/m²   \n",
       "1  Mieszkanie na sprzedaż: ul. Władysława Gębika ...  549 000 zł  8318 zł/m²   \n",
       "\n",
       "      rooms     area                 more  \\\n",
       "0  3 pokoje  68,1 m²  Biuro nieruchomości   \n",
       "1  3 pokoje    66 m²  Biuro nieruchomości   \n",
       "\n",
       "                                            add_link  \n",
       "0  /pl/oferta/przestronne-3pokojowe-mieszkanie-w-...  \n",
       "1  /pl/oferta/mieszkanie-3-pokoje-pieczewo-olszty...  "
      ]
     },
     "execution_count": 92,
     "metadata": {},
     "output_type": "execute_result"
    }
   ],
   "source": [
    "import pandas as pd\n",
    " \n",
    "# Initialize data to lists.\n",
    "data = [{'a': 1, 'b': 2, 'c': 3},\n",
    "        {'a': 10, 'b': 20, 'c': 30}]\n",
    " \n",
    "# Creates DataFrame.\n",
    "df = pd.DataFrame(adds)\n",
    "df.head(2)"
   ]
  },
  {
   "cell_type": "code",
   "execution_count": 90,
   "id": "27f33371",
   "metadata": {},
   "outputs": [
    {
     "data": {
      "text/plain": [
       "array(['DOM NIERUCHOMOŚCI', 'PROFiN Finanse i Nieruchomości', '3 pokoje',\n",
       "       'ARBET Investment Group sp. z o.o.', 'Benewent Sp. z o.o.',\n",
       "       'WISDOM Nieruchomości', 'Dunajscy Nieruchomości',\n",
       "       'Galeria Nieruchomości Hanna Tetmer-Rzepecka',\n",
       "       'Valor Nieruchomości i Kredyty Hipoteczne', 'NewHouse',\n",
       "       'Olsztyńskie Centrum Nieruchomości s.c.',\n",
       "       'Limeno - Salon Rynku Pierwotnego',\n",
       "       'PERFEKT Biuro Nieruchomości S.C. Ewa Andrzejczuk,Elżbieta Rink',\n",
       "       '2 pokoje', 'Chata w Kwadracie', 'HONESTA',\n",
       "       'Warmia Brokers Lidia Barasińska', 'TreeHouse Nieruchomości',\n",
       "       'Freedom Nieruchomości | Biura'], dtype=object)"
      ]
     },
     "execution_count": 90,
     "metadata": {},
     "output_type": "execute_result"
    }
   ],
   "source": [
    "df['more'].unique()"
   ]
  },
  {
   "cell_type": "code",
   "execution_count": null,
   "id": "3b0552af",
   "metadata": {},
   "outputs": [],
   "source": []
  },
  {
   "cell_type": "code",
   "execution_count": null,
   "id": "6ff0ed5e",
   "metadata": {},
   "outputs": [],
   "source": []
  }
 ],
 "metadata": {
  "kernelspec": {
   "display_name": "Python 3 (ipykernel)",
   "language": "python",
   "name": "python3"
  },
  "language_info": {
   "codemirror_mode": {
    "name": "ipython",
    "version": 3
   },
   "file_extension": ".py",
   "mimetype": "text/x-python",
   "name": "python",
   "nbconvert_exporter": "python",
   "pygments_lexer": "ipython3",
   "version": "3.7.11"
  }
 },
 "nbformat": 4,
 "nbformat_minor": 5
}
