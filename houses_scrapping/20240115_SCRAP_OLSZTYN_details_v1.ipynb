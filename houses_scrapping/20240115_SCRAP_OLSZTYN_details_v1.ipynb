{
 "cells": [
  {
   "cell_type": "markdown",
   "id": "cf283ed7",
   "metadata": {},
   "source": [
    "# OLSZTYN\n",
    "- scraping details \n",
    "- DATE 2024 jan 15th - this is done using URLs downloaded on the 4th of January"
   ]
  },
  {
   "cell_type": "code",
   "execution_count": 1,
   "id": "8a617cde",
   "metadata": {},
   "outputs": [
    {
     "data": {
      "text/plain": [
       "<subprocess.Popen at 0x14fe2ca42c8>"
      ]
     },
     "execution_count": 1,
     "metadata": {},
     "output_type": "execute_result"
    }
   ],
   "source": [
    "import os\n",
    "import subprocess\n",
    "\n",
    "# prepering directories\n",
    "path = os.getcwd()\n",
    "# subfolders\n",
    "input_dir = os.path.join(path, 'inputs')\n",
    "output_dir = os.path.join(path, 'outputs')\n",
    "\n",
    "# open folder\n",
    "subprocess.Popen(f'explorer \"{output_dir}\"')"
   ]
  },
  {
   "cell_type": "code",
   "execution_count": 2,
   "id": "23714de7",
   "metadata": {},
   "outputs": [
    {
     "name": "stderr",
     "output_type": "stream",
     "text": [
      "\n",
      "Bad key \"text.kerning_factor\" on line 4 in\n",
      "C:\\Users\\Ukasz\\Anaconda3\\envs\\geopandas\\lib\\site-packages\\matplotlib\\mpl-data\\stylelib\\_classic_test_patch.mplstyle.\n",
      "You probably need to get an updated matplotlibrc file from\n",
      "https://github.com/matplotlib/matplotlib/blob/v3.1.3/matplotlibrc.template\n",
      "or from the matplotlib source distribution\n"
     ]
    }
   ],
   "source": [
    "# selenium \n",
    "from selenium import webdriver\n",
    "from selenium.webdriver.common.by import By\n",
    "from selenium.webdriver.support.wait import WebDriverWait\n",
    "from selenium.webdriver.support import expected_conditions as EC\n",
    "\n",
    "# BeautifulSoup\n",
    "from bs4 import BeautifulSoup\n",
    "\n",
    "import datetime\n",
    "import time\n",
    "\n",
    "import pandas as pd\n",
    "import matplotlib.pyplot as plt\n",
    "import seaborn as sns\n",
    "\n",
    "sns.set_theme()"
   ]
  },
  {
   "cell_type": "code",
   "execution_count": 3,
   "id": "0d756e53",
   "metadata": {},
   "outputs": [],
   "source": [
    "data = 'olsztyn_page_all_pages_20240106151418.csv'\n",
    "df = pd.read_csv(os.path.join(os.getcwd(), 'outputs', data))"
   ]
  },
  {
   "cell_type": "code",
   "execution_count": 4,
   "id": "605dceb1",
   "metadata": {},
   "outputs": [],
   "source": [
    "# chrome driver location\n",
    "PATH = os.path.join(path, 'inputs','chromedriver.exe' )\n",
    "\n",
    "# chrom driver configuration\n",
    "options = webdriver.ChromeOptions()\n",
    "options.add_argument('--ignore-certificate-errors')\n",
    "options.add_argument('--incognito')\n",
    "#options.add_argument('--headless') # without opening browser\n",
    "\n",
    "driver = webdriver.Chrome(PATH, options=options)\n",
    "\n",
    "wait = WebDriverWait(driver, 10)"
   ]
  },
  {
   "cell_type": "code",
   "execution_count": 5,
   "id": "d9bb8613",
   "metadata": {},
   "outputs": [
    {
     "data": {
      "text/plain": [
       "'https://www.otodom.pl/pl/oferta/apartament-premium-nad-jeziorem-olsztyn-mazury-ID4nqNc'"
      ]
     },
     "execution_count": 5,
     "metadata": {},
     "output_type": "execute_result"
    }
   ],
   "source": [
    "# url \n",
    "url = 'https://www.otodom.pl'\n",
    "link = df['add_link'][0]\n",
    "url + link"
   ]
  },
  {
   "cell_type": "code",
   "execution_count": 6,
   "id": "1d3ba2bd",
   "metadata": {},
   "outputs": [
    {
     "name": "stdout",
     "output_type": "stream",
     "text": [
      "Opens website: https://www.otodom.pl/pl/oferta/apartament-premium-nad-jeziorem-olsztyn-mazury-ID4nqNc\n"
     ]
    }
   ],
   "source": [
    "# open website using webdriver\n",
    "driver.get(url + link)\n",
    "print(f\"Opens website: {url + link}\")"
   ]
  },
  {
   "cell_type": "code",
   "execution_count": 7,
   "id": "3901315f",
   "metadata": {},
   "outputs": [],
   "source": [
    "# accepting terms and conditions\n",
    "# step One - pokaz cele\n",
    "# this has to be done only once\n",
    "element = wait.until(EC.element_to_be_clickable((By.ID, 'onetrust-pc-btn-handler')))\n",
    "element.click()\n",
    "# step two -  confirming preferences and closing the modal window\n",
    "element = wait.until(EC.element_to_be_clickable((By.XPATH, \"//*[contains(text(), 'Potwierdzenie moich wyborów')]\")))\n",
    "element.click()"
   ]
  },
  {
   "cell_type": "code",
   "execution_count": 8,
   "id": "204203b2",
   "metadata": {},
   "outputs": [],
   "source": [
    "# url \n",
    "url = 'https://www.otodom.pl'\n",
    "link = df['add_link'][8]\n",
    "url + link\n",
    "\n",
    "driver.get(url + link)\n",
    "time.sleep(2) # waits n seconds\n",
    "driver.execute_script(\"window.scrollTo(0, document.body.scrollHeight);var lenOfPage=document.body.scrollHeight;return lenOfPage;\")\n",
    "soup = BeautifulSoup(driver.page_source, 'html.parser')"
   ]
  },
  {
   "cell_type": "code",
   "execution_count": 9,
   "id": "989e325b",
   "metadata": {},
   "outputs": [],
   "source": [
    "top_information = soup.find('div', attrs={'data-testid':'ad.top-information.table'})\n",
    "date = datetime.datetime.now().strftime(\"%Y%m%d\") # current date\n",
    "with open(os.path.join(path, 'outputs', 'top_information' + date + '.html'), \"w\", encoding='utf-8') as file:\n",
    "    file.write(str(top_information))"
   ]
  },
  {
   "cell_type": "code",
   "execution_count": 10,
   "id": "ef7e670a",
   "metadata": {},
   "outputs": [],
   "source": [
    "bottom_information = soup.find('div', attrs={'data-testid':'ad.additional-information.table'})"
   ]
  },
  {
   "cell_type": "code",
   "execution_count": 11,
   "id": "72476b6a",
   "metadata": {},
   "outputs": [],
   "source": [
    "top_tags = ['Powierzchnia','Forma własności','Liczba pokoi','Stan wykończenia','Piętro',\n",
    "       'Balkon / ogród / taras','Czynsz','Miejsce parkingowe','Obsługa zdalna'\n",
    "        ,'Ogrzewanie']\n",
    "bottom_tags = ['Rynek', 'Typ ogłoszeniodawcy', 'Dostępne od','Rok budowy',\n",
    "                          'Rodzaj zabudowy','Okna','Winda','Media','Zabezpieczenia',\n",
    "                         'Wyposażenie','Informacje dodatkowe','Materiał budynku']"
   ]
  },
  {
   "cell_type": "code",
   "execution_count": 12,
   "id": "b327d58b",
   "metadata": {},
   "outputs": [
    {
     "data": {
      "text/plain": [
       "{'Powierzchnia': '80,82 m²',\n",
       " 'Forma własności': 'pełna własność',\n",
       " 'Liczba pokoi': '4 ',\n",
       " 'Stan wykończenia': 'do wykończenia',\n",
       " 'Piętro': 'parter/1',\n",
       " 'Balkon / ogród / taras': 'ogródek',\n",
       " 'Czynsz': 'Zapytaj',\n",
       " 'Miejsce parkingowe': 'Zapytaj',\n",
       " 'Obsługa zdalna': 'Zapytaj',\n",
       " 'Ogrzewanie': 'gazowe'}"
      ]
     },
     "execution_count": 12,
     "metadata": {},
     "output_type": "execute_result"
    }
   ],
   "source": [
    "data = {}\n",
    "for tag in top_tags:\n",
    "    try:\n",
    "        div_tag = top_information.find('div', attrs={'aria-label':tag})\n",
    "        results = div_tag.find_all(\"div\")\n",
    "        data[tag] = results[2].text\n",
    "    except:\n",
    "        data[tag] = results[2].text\n",
    "    \n",
    "data"
   ]
  },
  {
   "cell_type": "code",
   "execution_count": 13,
   "id": "7a8086d1",
   "metadata": {},
   "outputs": [
    {
     "data": {
      "text/plain": [
       "{'Powierzchnia': '80,82 m²',\n",
       " 'Forma własności': 'pełna własność',\n",
       " 'Liczba pokoi': '4 ',\n",
       " 'Stan wykończenia': 'do wykończenia',\n",
       " 'Piętro': 'parter/1',\n",
       " 'Balkon / ogród / taras': 'ogródek',\n",
       " 'Czynsz': 'Zapytaj',\n",
       " 'Miejsce parkingowe': 'Zapytaj',\n",
       " 'Obsługa zdalna': 'Zapytaj',\n",
       " 'Ogrzewanie': 'gazowe',\n",
       " 'Rynek': 'pierwotny',\n",
       " 'Typ ogłoszeniodawcy': 'biuro nieruchomości ',\n",
       " 'Dostępne od': 'brak informacji',\n",
       " 'Rok budowy': '2023',\n",
       " 'Rodzaj zabudowy': 'apartamentowiec',\n",
       " 'Okna': 'plastikowe',\n",
       " 'Winda': 'nie',\n",
       " 'Media': 'telewizja kablowa, internet, telefon',\n",
       " 'Zabezpieczenia': 'drzwi / okna antywłamaniowe, domofon / wideofon',\n",
       " 'Wyposażenie': 'brak informacji',\n",
       " 'Informacje dodatkowe': 'pom. użytkowe',\n",
       " 'Materiał budynku': 'pustak'}"
      ]
     },
     "execution_count": 13,
     "metadata": {},
     "output_type": "execute_result"
    }
   ],
   "source": [
    "for tag in bottom_tags:\n",
    "    try:\n",
    "        div_tag = bottom_information.find('div', attrs={'aria-label':tag})\n",
    "        results = div_tag.find_all(\"div\")\n",
    "        data[tag] = results[2].text\n",
    "    except:\n",
    "        data[tag] = results[2].text\n",
    "\n",
    "data"
   ]
  },
  {
   "cell_type": "code",
   "execution_count": 14,
   "id": "b03bfb01",
   "metadata": {},
   "outputs": [],
   "source": [
    "# adds data to the dataframe\n",
    "for k in data:\n",
    "    df.loc[8, k] = data[k]\n",
    "df.to_csv(os.path.join(path, 'outputs', 'testttiiing.csv'), encoding='utf-8')"
   ]
  },
  {
   "cell_type": "code",
   "execution_count": null,
   "id": "e6347ddc",
   "metadata": {},
   "outputs": [],
   "source": []
  },
  {
   "cell_type": "code",
   "execution_count": null,
   "id": "3ae54ef0",
   "metadata": {},
   "outputs": [],
   "source": []
  }
 ],
 "metadata": {
  "kernelspec": {
   "display_name": "Python 3 (ipykernel)",
   "language": "python",
   "name": "python3"
  },
  "language_info": {
   "codemirror_mode": {
    "name": "ipython",
    "version": 3
   },
   "file_extension": ".py",
   "mimetype": "text/x-python",
   "name": "python",
   "nbconvert_exporter": "python",
   "pygments_lexer": "ipython3",
   "version": "3.7.11"
  }
 },
 "nbformat": 4,
 "nbformat_minor": 5
}
