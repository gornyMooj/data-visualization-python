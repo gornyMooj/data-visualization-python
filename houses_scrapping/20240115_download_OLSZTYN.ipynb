{
 "cells": [
  {
   "cell_type": "markdown",
   "id": "fb49818b",
   "metadata": {},
   "source": [
    "# OSZTYN"
   ]
  },
  {
   "cell_type": "markdown",
   "id": "7e7dc404",
   "metadata": {},
   "source": [
    "### Scraping out information from home pages"
   ]
  },
  {
   "cell_type": "code",
   "execution_count": 1,
   "id": "0702a74f",
   "metadata": {},
   "outputs": [],
   "source": [
    "import pandas as pd\n",
    "# vars\n",
    "url = 'https://www.otodom.pl/pl/wyniki/sprzedaz/mieszkanie/warminsko--mazurskie/olsztyn/olsztyn/olsztyn'\n",
    "url_n = 'https://www.otodom.pl/pl/wyniki/sprzedaz/mieszkanie/warminsko--mazurskie/olsztyn/olsztyn/olsztyn?page='\n",
    "all_df = pd.DataFrame()\n",
    "city = 'olsztyn'"
   ]
  },
  {
   "cell_type": "code",
   "execution_count": 11,
   "id": "bcf877e1",
   "metadata": {},
   "outputs": [
    {
     "data": {
      "text/plain": [
       "<subprocess.Popen at 0x16a003e1f48>"
      ]
     },
     "execution_count": 11,
     "metadata": {},
     "output_type": "execute_result"
    }
   ],
   "source": [
    "import os\n",
    "import subprocess\n",
    "\n",
    "# prepering directories\n",
    "path = os.getcwd()\n",
    "# subfolders\n",
    "input_dir = os.path.join(path, 'inputs')\n",
    "output_dir = os.path.join(path, 'outputs')\n",
    "\n",
    "# open folder\n",
    "subprocess.Popen(f'explorer \"{output_dir}\"')"
   ]
  },
  {
   "cell_type": "code",
   "execution_count": 3,
   "id": "3ad9394b",
   "metadata": {},
   "outputs": [
    {
     "name": "stderr",
     "output_type": "stream",
     "text": [
      "\n",
      "Bad key \"text.kerning_factor\" on line 4 in\n",
      "C:\\Users\\Ukasz\\Anaconda3\\envs\\geopandas\\lib\\site-packages\\matplotlib\\mpl-data\\stylelib\\_classic_test_patch.mplstyle.\n",
      "You probably need to get an updated matplotlibrc file from\n",
      "https://github.com/matplotlib/matplotlib/blob/v3.1.3/matplotlibrc.template\n",
      "or from the matplotlib source distribution\n"
     ]
    }
   ],
   "source": [
    "# selenium \n",
    "from selenium import webdriver\n",
    "from selenium.webdriver.common.by import By\n",
    "from selenium.webdriver.support.wait import WebDriverWait\n",
    "from selenium.webdriver.support import expected_conditions as EC\n",
    "\n",
    "# BeautifulSoup\n",
    "from bs4 import BeautifulSoup\n",
    "\n",
    "import datetime\n",
    "import time\n",
    "\n",
    "import pandas as pd\n",
    "import matplotlib.pyplot as plt\n",
    "import seaborn as sns\n",
    "\n",
    "sns.set_theme()"
   ]
  },
  {
   "cell_type": "code",
   "execution_count": 4,
   "id": "d491d103",
   "metadata": {},
   "outputs": [],
   "source": [
    "# chrome driver location\n",
    "PATH = os.path.join(path, 'inputs','chromedriver.exe' )\n",
    "\n",
    "# chrom driver configuration\n",
    "options = webdriver.ChromeOptions()\n",
    "options.add_argument('--ignore-certificate-errors')\n",
    "options.add_argument('--incognito')\n",
    "#options.add_argument('--headless') # without opening browser\n",
    "\n",
    "driver = webdriver.Chrome(PATH, options=options)\n",
    "\n",
    "wait = WebDriverWait(driver, 10)"
   ]
  },
  {
   "cell_type": "code",
   "execution_count": 5,
   "id": "b9ab379d",
   "metadata": {},
   "outputs": [
    {
     "name": "stdout",
     "output_type": "stream",
     "text": [
      "Opens website: https://www.otodom.pl/pl/wyniki/sprzedaz/mieszkanie/warminsko--mazurskie/olsztyn/olsztyn/olsztyn\n",
      "Number of pages: 21\n"
     ]
    }
   ],
   "source": [
    "# get number of pages\n",
    "\n",
    "# open website using webdriver\n",
    "driver.get(url)\n",
    "print(f\"Opens website: {url}\")\n",
    "\n",
    "# accepting terms and conditions\n",
    "# step One - pokaz cele\n",
    "element = wait.until(EC.element_to_be_clickable((By.ID, 'onetrust-pc-btn-handler')))\n",
    "element.click()\n",
    "# step two -  confirming preferences and closing the modal window\n",
    "element = wait.until(EC.element_to_be_clickable((By.XPATH, \"//*[contains(text(), 'Potwierdzenie moich wyborów')]\")))\n",
    "element.click()\n",
    "\n",
    "# step - get number of the paginations\n",
    "## using SOUP\n",
    "soup = BeautifulSoup(driver.page_source, 'html.parser')\n",
    "# save homepage to the file & soup\n",
    "date = datetime.datetime.now().strftime(\"%Y%m%d\") # current date\n",
    "    \n",
    "# finds nav with paginations \n",
    "# scrapped HTML code can be displayed and pretty printed in Notepad++ using the plugin XML tools\n",
    "target = soup.find('nav', attrs={'aria-label':'Nawigacja po paginacji'})\n",
    "date = datetime.datetime.now().strftime(\"%Y%m%d\") # current date\n",
    "with open(os.path.join(path, 'outputs', 'nav_pagination' + date + '.html'), \"w\", encoding='utf-8') as file:\n",
    "    file.write(str(target))\n",
    "    \n",
    "# selects all hyperlinks from the nav section\n",
    "hrefs = target.find_all(\"a\")\n",
    "# get the hyperlink with the highest number which represents number of pages with adds for the given city\n",
    "pagination_last = 1\n",
    "for a in hrefs:\n",
    "    try:\n",
    "        num = int(a.get_text())\n",
    "        pagination_last =  num if pagination_last < num else pagination_last\n",
    "    except:\n",
    "        pass\n",
    "print(f'Number of pages: {pagination_last}')"
   ]
  },
  {
   "cell_type": "code",
   "execution_count": 12,
   "id": "086e6a52",
   "metadata": {},
   "outputs": [
    {
     "name": "stdout",
     "output_type": "stream",
     "text": [
      "0....1....2....3....4....5....6....7....8....9....10....11....12....13....14....15....16....17....18....19....20....done\n"
     ]
    }
   ],
   "source": [
    "def scrap_page(url):\n",
    "    '''\n",
    "    - returns a soup section of a given page containing adds\n",
    "    '''\n",
    "    driver.get(url)\n",
    "    time.sleep(2) # waits n seconds\n",
    "    driver.execute_script(\"window.scrollTo(0, document.body.scrollHeight);var lenOfPage=document.body.scrollHeight;return lenOfPage;\")\n",
    "    soup = BeautifulSoup(driver.page_source, 'html.parser')\n",
    "    return soup.find('div', attrs={'data-cy':'search.listing.organic'})\n",
    "    \n",
    "def has_article(tag):\n",
    "    '''\n",
    "    - info about adds is kept in <li> that contain <artcicle> tag\n",
    "    '''\n",
    "    return tag.name == 'li' and tag.find('article') is not None\n",
    "\n",
    "def get_adds(data):\n",
    "    '''\n",
    "    - info about adds is kept in <li> that contain <article> tag\n",
    "    '''\n",
    "    return data.find_all(has_article)\n",
    "\n",
    "def soup_to_dataframe(data):\n",
    "    '''\n",
    "    - gets soup and returns dataframe\n",
    "    '''\n",
    "    adds = []\n",
    "    for add in data:\n",
    "        artcile = add.find('article')\n",
    "        # gets any tags with the attribute 'title'\n",
    "        titles = artcile.find_all(lambda tag: tag is not None and tag.has_attr(\"title\"))\n",
    "        price = price_meter = rooms = area = more = None\n",
    "\n",
    "        info = add.find_all('span')\n",
    "        for e in info:\n",
    "            e = e.text\n",
    "            if '\\xa0zł' in e and 'zł/m²' not in e:\n",
    "                price = e\n",
    "            if 'zł/m²' in e:\n",
    "                price_meter = e\n",
    "            if [element for element in ['pokoje','pokoi','pokój'] if(element in e)]:\n",
    "                rooms = e\n",
    "            if 'm²' in e and 'zł/m²' not in e:\n",
    "                area = e\n",
    "        more = info[-1].text\n",
    "\n",
    "        adds.append({\n",
    "            'free_text': titles[0]['title'],\n",
    "            'address': titles[1]['title'],\n",
    "            'price': price,\n",
    "            'price_meter': price_meter,\n",
    "            'rooms': rooms,\n",
    "            'area': area,\n",
    "            'more':more,\n",
    "            'add_link': add.select_one('a')['href']\n",
    "        })\n",
    "    # Creates DataFrame.\n",
    "    df = pd.DataFrame(adds)\n",
    "    \n",
    "    return df\n",
    "\n",
    "for n in range(pagination_last):\n",
    "    print(n + 1, end='....')\n",
    "    n = n + 1\n",
    "    data = scrap_page(url_n + str(n))\n",
    "    data = get_adds(data)\n",
    "    df = soup_to_dataframe(data)\n",
    "    df.to_csv(os.path.join(output_dir, f'{city}_page_{str(n)}.csv'), encoding='utf-8', index=False)\n",
    "    # merges datframes\n",
    "    all_df = pd.concat([all_df, df])\n",
    "    all_df = all_df.reset_index(drop=True)\n",
    "    date = datetime.datetime.now().strftime(\"%Y%m%d%H%M%S\")\n",
    "\n",
    "all_df.to_csv(os.path.join(output_dir, f'{city}_page_all_pages_{date}.csv'), encoding='utf-8', index=False)\n",
    "    \n",
    "print('done' )   "
   ]
  },
  {
   "cell_type": "code",
   "execution_count": 10,
   "id": "80b46871",
   "metadata": {},
   "outputs": [],
   "source": [
    "all_df.to_csv(os.path.join(output_dir, f'{city}_page_all_pages_{date}.csv'), encoding='utf-8', index=False)"
   ]
  },
  {
   "cell_type": "code",
   "execution_count": null,
   "id": "367bfda4",
   "metadata": {},
   "outputs": [],
   "source": []
  }
 ],
 "metadata": {
  "kernelspec": {
   "display_name": "Python 3 (ipykernel)",
   "language": "python",
   "name": "python3"
  },
  "language_info": {
   "codemirror_mode": {
    "name": "ipython",
    "version": 3
   },
   "file_extension": ".py",
   "mimetype": "text/x-python",
   "name": "python",
   "nbconvert_exporter": "python",
   "pygments_lexer": "ipython3",
   "version": "3.7.11"
  }
 },
 "nbformat": 4,
 "nbformat_minor": 5
}
