{
 "cells": [
  {
   "cell_type": "code",
   "execution_count": 1,
   "id": "f229159d",
   "metadata": {},
   "outputs": [],
   "source": [
    "import numpy as np\n",
    "import pandas as pd\n",
    "\n",
    "import seaborn as sns\n",
    "\n",
    "import matplotlib.pyplot as plt\n",
    "\n",
    "from sklearn import preprocessing\n",
    "from sklearn.model_selection import train_test_split\n",
    "from sklearn.impute import KNNImputer\n",
    "\n",
    "import time\n",
    "import warnings\n",
    "\n",
    "warnings.filterwarnings('ignore')\n",
    "sns.set_theme()"
   ]
  },
  {
   "cell_type": "markdown",
   "id": "da0ae5b0",
   "metadata": {},
   "source": [
    "### Data description\n",
    "- **PassengerId** - A unique Id for each passenger. Each Id takes the form gggg_pp where gggg indicates a group the passenger is travelling with and pp is their number within the group. People in a group are often family members, but not always.\n",
    "- **HomePlanet** - The planet the passenger departed from, typically their planet of permanent residence.\n",
    "- **CryoSleep** - Indicates whether the passenger elected to be put into suspended animation for the duration of the voyage. Passengers in cryosleep are confined to their cabins.\n",
    "- **Cabin** - The cabin number where the passenger is staying. Takes the form deck/num/side, where side can be either P for Port or S for Starboard.\n",
    "- **Destination** - The planet the passenger will be debarking to.\n",
    "- **Age** - The age of the passenger.\n",
    "- **VIP** - Whether the passenger has paid for special VIP service during the voyage.\n",
    "- **RoomService, FoodCourt, ShoppingMall, Spa, VRDeck** - Amount the passenger has billed at each of the Spaceship Titanic's many luxury amenities.\n",
    "- **Name** - The first and last names of the passenger.\n",
    "- **Transported** - Whether the passenger was transported to another dimension. This is the target, the column you are trying to predict."
   ]
  },
  {
   "cell_type": "markdown",
   "id": "69f8966d",
   "metadata": {},
   "source": [
    "### OBJECTIVE\n",
    "Predict which passengers were transported by the anomaly using records recovered from the spaceship’s damaged computer system."
   ]
  },
  {
   "cell_type": "markdown",
   "id": "1e52b2fd",
   "metadata": {},
   "source": [
    "SOURCE: https://www.kaggle.com/competitions/spaceship-titanic/overview"
   ]
  },
  {
   "cell_type": "code",
   "execution_count": 2,
   "id": "18ff1f92",
   "metadata": {},
   "outputs": [],
   "source": [
    "import os\n",
    "# prepering directories\n",
    "path = os.getcwd()\n",
    "# subfolders\n",
    "input_dir = os.path.join(path, 'data')\n",
    "output_dir = os.path.join(path, 'outputs')"
   ]
  },
  {
   "cell_type": "markdown",
   "id": "6f2ed21f",
   "metadata": {},
   "source": [
    "# Data Loading and basic exploration"
   ]
  },
  {
   "cell_type": "code",
   "execution_count": 3,
   "id": "1d3a65b1",
   "metadata": {},
   "outputs": [],
   "source": [
    "train = pd.read_csv(os.path.join(input_dir, 'train.csv'))\n",
    "test = pd.read_csv(os.path.join(input_dir, 'test.csv'))"
   ]
  },
  {
   "cell_type": "code",
   "execution_count": 4,
   "id": "210a8c0d",
   "metadata": {},
   "outputs": [
    {
     "name": "stdout",
     "output_type": "stream",
     "text": [
      "Number of rows 8693\n",
      "Number of columns 14\n"
     ]
    }
   ],
   "source": [
    "print( 'Number of rows', train.shape[0]  )\n",
    "print( 'Number of columns', train.shape[1]  )"
   ]
  },
  {
   "cell_type": "code",
   "execution_count": 5,
   "id": "e3650228",
   "metadata": {},
   "outputs": [
    {
     "name": "stdout",
     "output_type": "stream",
     "text": [
      "Number of values per column\n"
     ]
    },
    {
     "data": {
      "text/plain": [
       "PassengerId     8693\n",
       "HomePlanet      8492\n",
       "CryoSleep       8476\n",
       "Cabin           8494\n",
       "Destination     8511\n",
       "Age             8514\n",
       "VIP             8490\n",
       "RoomService     8512\n",
       "FoodCourt       8510\n",
       "ShoppingMall    8485\n",
       "Spa             8510\n",
       "VRDeck          8505\n",
       "Name            8493\n",
       "Transported     8693\n",
       "dtype: int64"
      ]
     },
     "execution_count": 5,
     "metadata": {},
     "output_type": "execute_result"
    }
   ],
   "source": [
    "print( 'Number of values per column' )\n",
    "train.count()"
   ]
  },
  {
   "cell_type": "code",
   "execution_count": 6,
   "id": "69f58277",
   "metadata": {},
   "outputs": [
    {
     "name": "stdout",
     "output_type": "stream",
     "text": [
      "Total number of values in data 119378\n"
     ]
    }
   ],
   "source": [
    "print('Total number of values in data', train.count().sum() )"
   ]
  },
  {
   "cell_type": "markdown",
   "id": "f89b3777",
   "metadata": {},
   "source": [
    "#### Basic data exploration and missing values "
   ]
  },
  {
   "cell_type": "code",
   "execution_count": 7,
   "id": "5d74f4b7",
   "metadata": {},
   "outputs": [
    {
     "data": {
      "text/html": [
       "<style type=\"text/css\">\n",
       "#T_29559_row0_col2, #T_29559_row12_col4 {\n",
       "  width: 10em;\n",
       "  height: 80%;\n",
       "  background: linear-gradient(90deg,pink 100.0%, transparent 100.0%);\n",
       "}\n",
       "#T_29559_row0_col4, #T_29559_row2_col4, #T_29559_row4_col4, #T_29559_row7_col4 {\n",
       "  width: 10em;\n",
       "  height: 80%;\n",
       "  background: linear-gradient(90deg,pink 0.0%, transparent 0.0%);\n",
       "}\n",
       "#T_29559_row1_col2 {\n",
       "  width: 10em;\n",
       "  height: 80%;\n",
       "  background: linear-gradient(90deg,pink 95.9%, transparent 95.9%);\n",
       "}\n",
       "#T_29559_row1_col4 {\n",
       "  width: 10em;\n",
       "  height: 80%;\n",
       "  background: linear-gradient(90deg,pink 12.8%, transparent 12.8%);\n",
       "}\n",
       "#T_29559_row2_col2 {\n",
       "  width: 10em;\n",
       "  height: 80%;\n",
       "  background: linear-gradient(90deg,pink 92.6%, transparent 92.6%);\n",
       "}\n",
       "#T_29559_row3_col2 {\n",
       "  width: 10em;\n",
       "  height: 80%;\n",
       "  background: linear-gradient(90deg,pink 91.7%, transparent 91.7%);\n",
       "}\n",
       "#T_29559_row3_col4 {\n",
       "  width: 10em;\n",
       "  height: 80%;\n",
       "  background: linear-gradient(90deg,pink 75.5%, transparent 75.5%);\n",
       "}\n",
       "#T_29559_row4_col2 {\n",
       "  width: 10em;\n",
       "  height: 80%;\n",
       "  background: linear-gradient(90deg,pink 93.5%, transparent 93.5%);\n",
       "}\n",
       "#T_29559_row5_col2 {\n",
       "  width: 10em;\n",
       "  height: 80%;\n",
       "  background: linear-gradient(90deg,pink 92.2%, transparent 92.2%);\n",
       "}\n",
       "#T_29559_row5_col4 {\n",
       "  width: 10em;\n",
       "  height: 80%;\n",
       "  background: linear-gradient(90deg,pink 97.5%, transparent 97.5%);\n",
       "}\n",
       "#T_29559_row6_col2 {\n",
       "  width: 10em;\n",
       "  height: 80%;\n",
       "  background: linear-gradient(90deg,pink 86.6%, transparent 86.6%);\n",
       "}\n",
       "#T_29559_row6_col4 {\n",
       "  width: 10em;\n",
       "  height: 80%;\n",
       "  background: linear-gradient(90deg,pink 15.0%, transparent 15.0%);\n",
       "}\n",
       "#T_29559_row7_col2 {\n",
       "  width: 10em;\n",
       "  height: 80%;\n",
       "  background: linear-gradient(90deg,pink 83.9%, transparent 83.9%);\n",
       "}\n",
       "#T_29559_row8_col2 {\n",
       "  width: 10em;\n",
       "  height: 80%;\n",
       "  background: linear-gradient(90deg,pink 82.5%, transparent 82.5%);\n",
       "}\n",
       "#T_29559_row8_col4 {\n",
       "  width: 10em;\n",
       "  height: 80%;\n",
       "  background: linear-gradient(90deg,pink 0.9%, transparent 0.9%);\n",
       "}\n",
       "#T_29559_row9_col2 {\n",
       "  width: 10em;\n",
       "  height: 80%;\n",
       "  background: linear-gradient(90deg,pink 83.4%, transparent 83.4%);\n",
       "}\n",
       "#T_29559_row9_col4 {\n",
       "  width: 10em;\n",
       "  height: 80%;\n",
       "  background: linear-gradient(90deg,pink 14.6%, transparent 14.6%);\n",
       "}\n",
       "#T_29559_row10_col2, #T_29559_row11_col2 {\n",
       "  width: 10em;\n",
       "  height: 80%;\n",
       "  background: linear-gradient(90deg,pink 84.3%, transparent 84.3%);\n",
       "}\n",
       "#T_29559_row10_col4 {\n",
       "  width: 10em;\n",
       "  height: 80%;\n",
       "  background: linear-gradient(90deg,pink 17.3%, transparent 17.3%);\n",
       "}\n",
       "#T_29559_row11_col4 {\n",
       "  width: 10em;\n",
       "  height: 80%;\n",
       "  background: linear-gradient(90deg,pink 15.3%, transparent 15.3%);\n",
       "}\n",
       "#T_29559_row12_col2, #T_29559_row13_col2, #T_29559_row13_col4 {\n",
       "  width: 10em;\n",
       "  height: 80%;\n",
       "}\n",
       "</style>\n",
       "<table id=\"T_29559_\">\n",
       "  <thead>\n",
       "    <tr>\n",
       "      <th class=\"blank level0\" >&nbsp;</th>\n",
       "      <th class=\"col_heading level0 col0\" >Column</th>\n",
       "      <th class=\"col_heading level0 col1\" >Data Type</th>\n",
       "      <th class=\"col_heading level0 col2\" >Misssing Values</th>\n",
       "      <th class=\"col_heading level0 col3\" >Missing Values [%]</th>\n",
       "      <th class=\"col_heading level0 col4\" >Sum Unique Val</th>\n",
       "    </tr>\n",
       "  </thead>\n",
       "  <tbody>\n",
       "    <tr>\n",
       "      <th id=\"T_29559_level0_row0\" class=\"row_heading level0 row0\" >2</th>\n",
       "      <td id=\"T_29559_row0_col0\" class=\"data row0 col0\" >CryoSleep</td>\n",
       "      <td id=\"T_29559_row0_col1\" class=\"data row0 col1\" >object</td>\n",
       "      <td id=\"T_29559_row0_col2\" class=\"data row0 col2\" >217</td>\n",
       "      <td id=\"T_29559_row0_col3\" class=\"data row0 col3\" >2.500000</td>\n",
       "      <td id=\"T_29559_row0_col4\" class=\"data row0 col4\" >3</td>\n",
       "    </tr>\n",
       "    <tr>\n",
       "      <th id=\"T_29559_level0_row1\" class=\"row_heading level0 row1\" >9</th>\n",
       "      <td id=\"T_29559_row1_col0\" class=\"data row1 col0\" >ShoppingMall</td>\n",
       "      <td id=\"T_29559_row1_col1\" class=\"data row1 col1\" >float64</td>\n",
       "      <td id=\"T_29559_row1_col2\" class=\"data row1 col2\" >208</td>\n",
       "      <td id=\"T_29559_row1_col3\" class=\"data row1 col3\" >2.400000</td>\n",
       "      <td id=\"T_29559_row1_col4\" class=\"data row1 col4\" >1116</td>\n",
       "    </tr>\n",
       "    <tr>\n",
       "      <th id=\"T_29559_level0_row2\" class=\"row_heading level0 row2\" >1</th>\n",
       "      <td id=\"T_29559_row2_col0\" class=\"data row2 col0\" >HomePlanet</td>\n",
       "      <td id=\"T_29559_row2_col1\" class=\"data row2 col1\" >object</td>\n",
       "      <td id=\"T_29559_row2_col2\" class=\"data row2 col2\" >201</td>\n",
       "      <td id=\"T_29559_row2_col3\" class=\"data row2 col3\" >2.300000</td>\n",
       "      <td id=\"T_29559_row2_col4\" class=\"data row2 col4\" >4</td>\n",
       "    </tr>\n",
       "    <tr>\n",
       "      <th id=\"T_29559_level0_row3\" class=\"row_heading level0 row3\" >3</th>\n",
       "      <td id=\"T_29559_row3_col0\" class=\"data row3 col0\" >Cabin</td>\n",
       "      <td id=\"T_29559_row3_col1\" class=\"data row3 col1\" >object</td>\n",
       "      <td id=\"T_29559_row3_col2\" class=\"data row3 col2\" >199</td>\n",
       "      <td id=\"T_29559_row3_col3\" class=\"data row3 col3\" >2.300000</td>\n",
       "      <td id=\"T_29559_row3_col4\" class=\"data row3 col4\" >6561</td>\n",
       "    </tr>\n",
       "    <tr>\n",
       "      <th id=\"T_29559_level0_row4\" class=\"row_heading level0 row4\" >6</th>\n",
       "      <td id=\"T_29559_row4_col0\" class=\"data row4 col0\" >VIP</td>\n",
       "      <td id=\"T_29559_row4_col1\" class=\"data row4 col1\" >object</td>\n",
       "      <td id=\"T_29559_row4_col2\" class=\"data row4 col2\" >203</td>\n",
       "      <td id=\"T_29559_row4_col3\" class=\"data row4 col3\" >2.300000</td>\n",
       "      <td id=\"T_29559_row4_col4\" class=\"data row4 col4\" >3</td>\n",
       "    </tr>\n",
       "    <tr>\n",
       "      <th id=\"T_29559_level0_row5\" class=\"row_heading level0 row5\" >12</th>\n",
       "      <td id=\"T_29559_row5_col0\" class=\"data row5 col0\" >Name</td>\n",
       "      <td id=\"T_29559_row5_col1\" class=\"data row5 col1\" >object</td>\n",
       "      <td id=\"T_29559_row5_col2\" class=\"data row5 col2\" >200</td>\n",
       "      <td id=\"T_29559_row5_col3\" class=\"data row5 col3\" >2.300000</td>\n",
       "      <td id=\"T_29559_row5_col4\" class=\"data row5 col4\" >8474</td>\n",
       "    </tr>\n",
       "    <tr>\n",
       "      <th id=\"T_29559_level0_row6\" class=\"row_heading level0 row6\" >11</th>\n",
       "      <td id=\"T_29559_row6_col0\" class=\"data row6 col0\" >VRDeck</td>\n",
       "      <td id=\"T_29559_row6_col1\" class=\"data row6 col1\" >float64</td>\n",
       "      <td id=\"T_29559_row6_col2\" class=\"data row6 col2\" >188</td>\n",
       "      <td id=\"T_29559_row6_col3\" class=\"data row6 col3\" >2.200000</td>\n",
       "      <td id=\"T_29559_row6_col4\" class=\"data row6 col4\" >1307</td>\n",
       "    </tr>\n",
       "    <tr>\n",
       "      <th id=\"T_29559_level0_row7\" class=\"row_heading level0 row7\" >4</th>\n",
       "      <td id=\"T_29559_row7_col0\" class=\"data row7 col0\" >Destination</td>\n",
       "      <td id=\"T_29559_row7_col1\" class=\"data row7 col1\" >object</td>\n",
       "      <td id=\"T_29559_row7_col2\" class=\"data row7 col2\" >182</td>\n",
       "      <td id=\"T_29559_row7_col3\" class=\"data row7 col3\" >2.100000</td>\n",
       "      <td id=\"T_29559_row7_col4\" class=\"data row7 col4\" >4</td>\n",
       "    </tr>\n",
       "    <tr>\n",
       "      <th id=\"T_29559_level0_row8\" class=\"row_heading level0 row8\" >5</th>\n",
       "      <td id=\"T_29559_row8_col0\" class=\"data row8 col0\" >Age</td>\n",
       "      <td id=\"T_29559_row8_col1\" class=\"data row8 col1\" >float64</td>\n",
       "      <td id=\"T_29559_row8_col2\" class=\"data row8 col2\" >179</td>\n",
       "      <td id=\"T_29559_row8_col3\" class=\"data row8 col3\" >2.100000</td>\n",
       "      <td id=\"T_29559_row8_col4\" class=\"data row8 col4\" >81</td>\n",
       "    </tr>\n",
       "    <tr>\n",
       "      <th id=\"T_29559_level0_row9\" class=\"row_heading level0 row9\" >7</th>\n",
       "      <td id=\"T_29559_row9_col0\" class=\"data row9 col0\" >RoomService</td>\n",
       "      <td id=\"T_29559_row9_col1\" class=\"data row9 col1\" >float64</td>\n",
       "      <td id=\"T_29559_row9_col2\" class=\"data row9 col2\" >181</td>\n",
       "      <td id=\"T_29559_row9_col3\" class=\"data row9 col3\" >2.100000</td>\n",
       "      <td id=\"T_29559_row9_col4\" class=\"data row9 col4\" >1274</td>\n",
       "    </tr>\n",
       "    <tr>\n",
       "      <th id=\"T_29559_level0_row10\" class=\"row_heading level0 row10\" >8</th>\n",
       "      <td id=\"T_29559_row10_col0\" class=\"data row10 col0\" >FoodCourt</td>\n",
       "      <td id=\"T_29559_row10_col1\" class=\"data row10 col1\" >float64</td>\n",
       "      <td id=\"T_29559_row10_col2\" class=\"data row10 col2\" >183</td>\n",
       "      <td id=\"T_29559_row10_col3\" class=\"data row10 col3\" >2.100000</td>\n",
       "      <td id=\"T_29559_row10_col4\" class=\"data row10 col4\" >1508</td>\n",
       "    </tr>\n",
       "    <tr>\n",
       "      <th id=\"T_29559_level0_row11\" class=\"row_heading level0 row11\" >10</th>\n",
       "      <td id=\"T_29559_row11_col0\" class=\"data row11 col0\" >Spa</td>\n",
       "      <td id=\"T_29559_row11_col1\" class=\"data row11 col1\" >float64</td>\n",
       "      <td id=\"T_29559_row11_col2\" class=\"data row11 col2\" >183</td>\n",
       "      <td id=\"T_29559_row11_col3\" class=\"data row11 col3\" >2.100000</td>\n",
       "      <td id=\"T_29559_row11_col4\" class=\"data row11 col4\" >1328</td>\n",
       "    </tr>\n",
       "    <tr>\n",
       "      <th id=\"T_29559_level0_row12\" class=\"row_heading level0 row12\" >0</th>\n",
       "      <td id=\"T_29559_row12_col0\" class=\"data row12 col0\" >PassengerId</td>\n",
       "      <td id=\"T_29559_row12_col1\" class=\"data row12 col1\" >object</td>\n",
       "      <td id=\"T_29559_row12_col2\" class=\"data row12 col2\" >0</td>\n",
       "      <td id=\"T_29559_row12_col3\" class=\"data row12 col3\" >0</td>\n",
       "      <td id=\"T_29559_row12_col4\" class=\"data row12 col4\" >8693</td>\n",
       "    </tr>\n",
       "    <tr>\n",
       "      <th id=\"T_29559_level0_row13\" class=\"row_heading level0 row13\" >13</th>\n",
       "      <td id=\"T_29559_row13_col0\" class=\"data row13 col0\" >Transported</td>\n",
       "      <td id=\"T_29559_row13_col1\" class=\"data row13 col1\" >bool</td>\n",
       "      <td id=\"T_29559_row13_col2\" class=\"data row13 col2\" >0</td>\n",
       "      <td id=\"T_29559_row13_col3\" class=\"data row13 col3\" >0</td>\n",
       "      <td id=\"T_29559_row13_col4\" class=\"data row13 col4\" >2</td>\n",
       "    </tr>\n",
       "  </tbody>\n",
       "</table>\n"
      ],
      "text/plain": [
       "<pandas.io.formats.style.Styler at 0x2861305fe08>"
      ]
     },
     "execution_count": 7,
     "metadata": {},
     "output_type": "execute_result"
    }
   ],
   "source": [
    "# initializing new data frame that will be displayed in the table\n",
    "dataset = train.copy()\n",
    "data_review = pd.DataFrame(columns = ['Column','Data Type','Misssing Values', 'Missing Values [%]', 'Sum Unique Val'])\n",
    "\n",
    "# looping via columns and extracting needed information\n",
    "for index, column in enumerate(dataset.columns):\n",
    "    data_type = dataset.dtypes[column]\n",
    "    missing_value = dataset[column].isnull().sum()\n",
    "    percentage = round((missing_value/len(dataset))* 100,1) if (missing_value/len(dataset))* 100 else 0\n",
    "    unique_val = len(dataset[column].unique())\n",
    "    data_review.loc[index] = [column, data_type, missing_value,percentage,unique_val]\n",
    "    \n",
    "pd.set_option(\"max_rows\", None) # all rows are shown when printing  \n",
    "\n",
    "    \n",
    "data_review = data_review.sort_values(by=['Missing Values [%]'], ascending=False)\n",
    "data_review.style\\\n",
    "        .bar(subset=[\"Misssing Values\"], color='pink')\\\n",
    "        .bar(subset=[\"Sum Unique Val\"], color='pink')\n",
    "\n"
   ]
  },
  {
   "cell_type": "markdown",
   "id": "6b97dd59",
   "metadata": {},
   "source": [
    "Missing values per passenger"
   ]
  },
  {
   "cell_type": "code",
   "execution_count": 8,
   "id": "661c6259",
   "metadata": {},
   "outputs": [
    {
     "data": {
      "image/png": "[encoded data removed]",
      "text/plain": [
       "<Figure size 720x288 with 1 Axes>"
      ]
     },
     "metadata": {},
     "output_type": "display_data"
    },
    {
     "data": {
      "image/png": "[encoded data removed]",
      "text/plain": [
       "<Figure size 720x288 with 1 Axes>"
      ]
     },
     "metadata": {},
     "output_type": "display_data"
    }
   ],
   "source": [
    "train['Mising Values']=train.isna().sum(axis=1)\n",
    "plt.figure(figsize=(10,4))\n",
    "sns.countplot(data=train, x='Mising Values', hue='Transported')\n",
    "plt.title('Number of missing vales per passenger - Train Dataest')\n",
    "plt.show()\n",
    "\n",
    "test['Mising Values']=test.isna().sum(axis=1)\n",
    "plt.figure(figsize=(10,4))\n",
    "sns.countplot(data=test, x='Mising Values', color='Pink')\n",
    "plt.title('Number of missing vales per passenger - Test Dataset')\n",
    "plt.show()"
   ]
  },
  {
   "cell_type": "code",
   "execution_count": 9,
   "id": "adaa4a2c",
   "metadata": {},
   "outputs": [
    {
     "name": "stdout",
     "output_type": "stream",
     "text": [
      "Training data: \n",
      "Rows with at least one missing values:  2087\n",
      "Precentage of rows with missing values in the data: 24.01 %\n",
      "Total number of missing values:  2324\n",
      "\n",
      "Test data: \n",
      "Rows with at least one missing values:  996\n",
      "Precentage of rows with missing values in the data: 23.29 %\n",
      "Total number of missing values:  1117\n"
     ]
    }
   ],
   "source": [
    "number_of_rows_train = train.isnull().any(axis=1).sum()\n",
    "total_number_of_null_train = train['Mising Values'].sum()\n",
    "number_of_rows_test = test.isnull().any(axis=1).sum()\n",
    "total_number_of_null_test = test['Mising Values'].sum()\n",
    "print('Training data: ')\n",
    "print('Rows with at least one missing values: ', number_of_rows_train)\n",
    "print('Precentage of rows with missing values in the data:', round( (number_of_rows_train/train.shape[0])*100, 2), '%' )\n",
    "print('Total number of missing values: ', total_number_of_null_train)\n",
    "\n",
    "print('\\nTest data: ')\n",
    "print('Rows with at least one missing values: ', number_of_rows_test)\n",
    "print('Precentage of rows with missing values in the data:', round( (number_of_rows_test/test.shape[0])*100, 2), '%' )\n",
    "print('Total number of missing values: ', total_number_of_null_test)\n",
    "train.drop('Mising Values', axis=1, inplace=True)\n",
    "test.drop('Mising Values', axis=1, inplace=True)"
   ]
  },
  {
   "cell_type": "markdown",
   "id": "49576ba6",
   "metadata": {},
   "source": [
    "#### Basic statistics of training data"
   ]
  },
  {
   "cell_type": "code",
   "execution_count": 10,
   "id": "b811eaa9",
   "metadata": {},
   "outputs": [
    {
     "data": {
      "text/html": [
       "<div>\n",
       "<style scoped>\n",
       "    .dataframe tbody tr th:only-of-type {\n",
       "        vertical-align: middle;\n",
       "    }\n",
       "\n",
       "    .dataframe tbody tr th {\n",
       "        vertical-align: top;\n",
       "    }\n",
       "\n",
       "    .dataframe thead th {\n",
       "        text-align: right;\n",
       "    }\n",
       "</style>\n",
       "<table border=\"1\" class=\"dataframe\">\n",
       "  <thead>\n",
       "    <tr style=\"text-align: right;\">\n",
       "      <th></th>\n",
       "      <th>Age</th>\n",
       "      <th>RoomService</th>\n",
       "      <th>FoodCourt</th>\n",
       "      <th>ShoppingMall</th>\n",
       "      <th>Spa</th>\n",
       "      <th>VRDeck</th>\n",
       "    </tr>\n",
       "  </thead>\n",
       "  <tbody>\n",
       "    <tr>\n",
       "      <th>count</th>\n",
       "      <td>8514.000000</td>\n",
       "      <td>8512.000000</td>\n",
       "      <td>8510.000000</td>\n",
       "      <td>8485.000000</td>\n",
       "      <td>8510.000000</td>\n",
       "      <td>8505.000000</td>\n",
       "    </tr>\n",
       "    <tr>\n",
       "      <th>mean</th>\n",
       "      <td>28.827930</td>\n",
       "      <td>224.687617</td>\n",
       "      <td>458.077203</td>\n",
       "      <td>173.729169</td>\n",
       "      <td>311.138778</td>\n",
       "      <td>304.854791</td>\n",
       "    </tr>\n",
       "    <tr>\n",
       "      <th>std</th>\n",
       "      <td>14.489021</td>\n",
       "      <td>666.717663</td>\n",
       "      <td>1611.489240</td>\n",
       "      <td>604.696458</td>\n",
       "      <td>1136.705535</td>\n",
       "      <td>1145.717189</td>\n",
       "    </tr>\n",
       "    <tr>\n",
       "      <th>min</th>\n",
       "      <td>0.000000</td>\n",
       "      <td>0.000000</td>\n",
       "      <td>0.000000</td>\n",
       "      <td>0.000000</td>\n",
       "      <td>0.000000</td>\n",
       "      <td>0.000000</td>\n",
       "    </tr>\n",
       "    <tr>\n",
       "      <th>25%</th>\n",
       "      <td>19.000000</td>\n",
       "      <td>0.000000</td>\n",
       "      <td>0.000000</td>\n",
       "      <td>0.000000</td>\n",
       "      <td>0.000000</td>\n",
       "      <td>0.000000</td>\n",
       "    </tr>\n",
       "    <tr>\n",
       "      <th>50%</th>\n",
       "      <td>27.000000</td>\n",
       "      <td>0.000000</td>\n",
       "      <td>0.000000</td>\n",
       "      <td>0.000000</td>\n",
       "      <td>0.000000</td>\n",
       "      <td>0.000000</td>\n",
       "    </tr>\n",
       "    <tr>\n",
       "      <th>75%</th>\n",
       "      <td>38.000000</td>\n",
       "      <td>47.000000</td>\n",
       "      <td>76.000000</td>\n",
       "      <td>27.000000</td>\n",
       "      <td>59.000000</td>\n",
       "      <td>46.000000</td>\n",
       "    </tr>\n",
       "    <tr>\n",
       "      <th>max</th>\n",
       "      <td>79.000000</td>\n",
       "      <td>14327.000000</td>\n",
       "      <td>29813.000000</td>\n",
       "      <td>23492.000000</td>\n",
       "      <td>22408.000000</td>\n",
       "      <td>24133.000000</td>\n",
       "    </tr>\n",
       "  </tbody>\n",
       "</table>\n",
       "</div>"
      ],
      "text/plain": [
       "               Age   RoomService     FoodCourt  ShoppingMall           Spa  \\\n",
       "count  8514.000000   8512.000000   8510.000000   8485.000000   8510.000000   \n",
       "mean     28.827930    224.687617    458.077203    173.729169    311.138778   \n",
       "std      14.489021    666.717663   1611.489240    604.696458   1136.705535   \n",
       "min       0.000000      0.000000      0.000000      0.000000      0.000000   \n",
       "25%      19.000000      0.000000      0.000000      0.000000      0.000000   \n",
       "50%      27.000000      0.000000      0.000000      0.000000      0.000000   \n",
       "75%      38.000000     47.000000     76.000000     27.000000     59.000000   \n",
       "max      79.000000  14327.000000  29813.000000  23492.000000  22408.000000   \n",
       "\n",
       "             VRDeck  \n",
       "count   8505.000000  \n",
       "mean     304.854791  \n",
       "std     1145.717189  \n",
       "min        0.000000  \n",
       "25%        0.000000  \n",
       "50%        0.000000  \n",
       "75%       46.000000  \n",
       "max    24133.000000  "
      ]
     },
     "execution_count": 10,
     "metadata": {},
     "output_type": "execute_result"
    }
   ],
   "source": [
    "train.describe()"
   ]
  },
  {
   "cell_type": "markdown",
   "id": "89b793dc",
   "metadata": {},
   "source": [
    "#### Quick view of Train Data"
   ]
  },
  {
   "cell_type": "code",
   "execution_count": 11,
   "id": "8aa09ab2",
   "metadata": {},
   "outputs": [
    {
     "data": {
      "text/html": [
       "<div>\n",
       "<style scoped>\n",
       "    .dataframe tbody tr th:only-of-type {\n",
       "        vertical-align: middle;\n",
       "    }\n",
       "\n",
       "    .dataframe tbody tr th {\n",
       "        vertical-align: top;\n",
       "    }\n",
       "\n",
       "    .dataframe thead th {\n",
       "        text-align: right;\n",
       "    }\n",
       "</style>\n",
       "<table border=\"1\" class=\"dataframe\">\n",
       "  <thead>\n",
       "    <tr style=\"text-align: right;\">\n",
       "      <th></th>\n",
       "      <th>PassengerId</th>\n",
       "      <th>HomePlanet</th>\n",
       "      <th>CryoSleep</th>\n",
       "      <th>Cabin</th>\n",
       "      <th>Destination</th>\n",
       "      <th>Age</th>\n",
       "      <th>VIP</th>\n",
       "      <th>RoomService</th>\n",
       "      <th>FoodCourt</th>\n",
       "      <th>ShoppingMall</th>\n",
       "      <th>Spa</th>\n",
       "      <th>VRDeck</th>\n",
       "      <th>Name</th>\n",
       "      <th>Transported</th>\n",
       "    </tr>\n",
       "  </thead>\n",
       "  <tbody>\n",
       "    <tr>\n",
       "      <th>0</th>\n",
       "      <td>0001_01</td>\n",
       "      <td>Europa</td>\n",
       "      <td>False</td>\n",
       "      <td>B/0/P</td>\n",
       "      <td>TRAPPIST-1e</td>\n",
       "      <td>39.0</td>\n",
       "      <td>False</td>\n",
       "      <td>0.0</td>\n",
       "      <td>0.0</td>\n",
       "      <td>0.0</td>\n",
       "      <td>0.0</td>\n",
       "      <td>0.0</td>\n",
       "      <td>Maham Ofracculy</td>\n",
       "      <td>False</td>\n",
       "    </tr>\n",
       "    <tr>\n",
       "      <th>1</th>\n",
       "      <td>0002_01</td>\n",
       "      <td>Earth</td>\n",
       "      <td>False</td>\n",
       "      <td>F/0/S</td>\n",
       "      <td>TRAPPIST-1e</td>\n",
       "      <td>24.0</td>\n",
       "      <td>False</td>\n",
       "      <td>109.0</td>\n",
       "      <td>9.0</td>\n",
       "      <td>25.0</td>\n",
       "      <td>549.0</td>\n",
       "      <td>44.0</td>\n",
       "      <td>Juanna Vines</td>\n",
       "      <td>True</td>\n",
       "    </tr>\n",
       "    <tr>\n",
       "      <th>2</th>\n",
       "      <td>0003_01</td>\n",
       "      <td>Europa</td>\n",
       "      <td>False</td>\n",
       "      <td>A/0/S</td>\n",
       "      <td>TRAPPIST-1e</td>\n",
       "      <td>58.0</td>\n",
       "      <td>True</td>\n",
       "      <td>43.0</td>\n",
       "      <td>3576.0</td>\n",
       "      <td>0.0</td>\n",
       "      <td>6715.0</td>\n",
       "      <td>49.0</td>\n",
       "      <td>Altark Susent</td>\n",
       "      <td>False</td>\n",
       "    </tr>\n",
       "  </tbody>\n",
       "</table>\n",
       "</div>"
      ],
      "text/plain": [
       "  PassengerId HomePlanet CryoSleep  Cabin  Destination   Age    VIP  \\\n",
       "0     0001_01     Europa     False  B/0/P  TRAPPIST-1e  39.0  False   \n",
       "1     0002_01      Earth     False  F/0/S  TRAPPIST-1e  24.0  False   \n",
       "2     0003_01     Europa     False  A/0/S  TRAPPIST-1e  58.0   True   \n",
       "\n",
       "   RoomService  FoodCourt  ShoppingMall     Spa  VRDeck             Name  \\\n",
       "0          0.0        0.0           0.0     0.0     0.0  Maham Ofracculy   \n",
       "1        109.0        9.0          25.0   549.0    44.0     Juanna Vines   \n",
       "2         43.0     3576.0           0.0  6715.0    49.0    Altark Susent   \n",
       "\n",
       "   Transported  \n",
       "0        False  \n",
       "1         True  \n",
       "2        False  "
      ]
     },
     "execution_count": 11,
     "metadata": {},
     "output_type": "execute_result"
    }
   ],
   "source": [
    "train.head(3)"
   ]
  },
  {
   "cell_type": "code",
   "execution_count": 12,
   "id": "859cede9",
   "metadata": {},
   "outputs": [],
   "source": [
    "data = train.copy()\n",
    "TARGET = 'Transported'\n",
    "IDs = 'PassengerId'\n",
    "FEATURES = [col for col in data.columns if col not in [TARGET, IDs] ] # excludes columns: target and IDs"
   ]
  },
  {
   "cell_type": "code",
   "execution_count": 13,
   "id": "f78db4fb",
   "metadata": {},
   "outputs": [
    {
     "data": {
      "text/html": [
       "<style type=\"text/css\">\n",
       "#T_78771_row0_col1 {\n",
       "  width: 10em;\n",
       "  height: 80%;\n",
       "  background: linear-gradient(90deg,pink 100.0%, transparent 100.0%);\n",
       "}\n",
       "#T_78771_row0_col5, #T_78771_row1_col5, #T_78771_row2_col5, #T_78771_row3_col5, #T_78771_row4_col5, #T_78771_row5_col1, #T_78771_row5_col7 {\n",
       "  width: 10em;\n",
       "  height: 80%;\n",
       "}\n",
       "#T_78771_row0_col7 {\n",
       "  width: 10em;\n",
       "  height: 80%;\n",
       "  background: linear-gradient(90deg,salmon 100.0%, transparent 100.0%);\n",
       "}\n",
       "#T_78771_row1_col1 {\n",
       "  width: 10em;\n",
       "  height: 80%;\n",
       "  background: linear-gradient(90deg,pink 64.3%, transparent 64.3%);\n",
       "}\n",
       "#T_78771_row1_col7 {\n",
       "  width: 10em;\n",
       "  height: 80%;\n",
       "  background: linear-gradient(90deg,salmon 80.9%, transparent 80.9%);\n",
       "}\n",
       "#T_78771_row2_col1 {\n",
       "  width: 10em;\n",
       "  height: 80%;\n",
       "  background: linear-gradient(90deg,pink 65.8%, transparent 65.8%);\n",
       "}\n",
       "#T_78771_row2_col7 {\n",
       "  width: 10em;\n",
       "  height: 80%;\n",
       "  background: linear-gradient(90deg,salmon 75.1%, transparent 75.1%);\n",
       "}\n",
       "#T_78771_row3_col1 {\n",
       "  width: 10em;\n",
       "  height: 80%;\n",
       "  background: linear-gradient(90deg,pink 45.6%, transparent 45.6%);\n",
       "}\n",
       "#T_78771_row3_col7 {\n",
       "  width: 10em;\n",
       "  height: 80%;\n",
       "  background: linear-gradient(90deg,salmon 47.9%, transparent 47.9%);\n",
       "}\n",
       "#T_78771_row4_col1 {\n",
       "  width: 10em;\n",
       "  height: 80%;\n",
       "  background: linear-gradient(90deg,pink 33.8%, transparent 33.8%);\n",
       "}\n",
       "#T_78771_row4_col7 {\n",
       "  width: 10em;\n",
       "  height: 80%;\n",
       "  background: linear-gradient(90deg,salmon 78.7%, transparent 78.7%);\n",
       "}\n",
       "#T_78771_row5_col5 {\n",
       "  width: 10em;\n",
       "  height: 80%;\n",
       "  background: linear-gradient(90deg,lightgray 100.0%, transparent 100.0%);\n",
       "}\n",
       "</style>\n",
       "<table id=\"T_78771_\">\n",
       "  <thead>\n",
       "    <tr>\n",
       "      <th class=\"blank level0\" >&nbsp;</th>\n",
       "      <th class=\"col_heading level0 col0\" >count</th>\n",
       "      <th class=\"col_heading level0 col1\" >mean</th>\n",
       "      <th class=\"col_heading level0 col2\" >std</th>\n",
       "      <th class=\"col_heading level0 col3\" >min</th>\n",
       "      <th class=\"col_heading level0 col4\" >25%</th>\n",
       "      <th class=\"col_heading level0 col5\" >50%</th>\n",
       "      <th class=\"col_heading level0 col6\" >75%</th>\n",
       "      <th class=\"col_heading level0 col7\" >max</th>\n",
       "    </tr>\n",
       "  </thead>\n",
       "  <tbody>\n",
       "    <tr>\n",
       "      <th id=\"T_78771_level0_row0\" class=\"row_heading level0 row0\" >FoodCourt</th>\n",
       "      <td id=\"T_78771_row0_col0\" class=\"data row0 col0\" >8510.000000</td>\n",
       "      <td id=\"T_78771_row0_col1\" class=\"data row0 col1\" >458.077203</td>\n",
       "      <td id=\"T_78771_row0_col2\" class=\"data row0 col2\" >1611.489240</td>\n",
       "      <td id=\"T_78771_row0_col3\" class=\"data row0 col3\" >0.000000</td>\n",
       "      <td id=\"T_78771_row0_col4\" class=\"data row0 col4\" >0.000000</td>\n",
       "      <td id=\"T_78771_row0_col5\" class=\"data row0 col5\" >0.000000</td>\n",
       "      <td id=\"T_78771_row0_col6\" class=\"data row0 col6\" >76.000000</td>\n",
       "      <td id=\"T_78771_row0_col7\" class=\"data row0 col7\" >29813.000000</td>\n",
       "    </tr>\n",
       "    <tr>\n",
       "      <th id=\"T_78771_level0_row1\" class=\"row_heading level0 row1\" >VRDeck</th>\n",
       "      <td id=\"T_78771_row1_col0\" class=\"data row1 col0\" >8505.000000</td>\n",
       "      <td id=\"T_78771_row1_col1\" class=\"data row1 col1\" >304.854791</td>\n",
       "      <td id=\"T_78771_row1_col2\" class=\"data row1 col2\" >1145.717189</td>\n",
       "      <td id=\"T_78771_row1_col3\" class=\"data row1 col3\" >0.000000</td>\n",
       "      <td id=\"T_78771_row1_col4\" class=\"data row1 col4\" >0.000000</td>\n",
       "      <td id=\"T_78771_row1_col5\" class=\"data row1 col5\" >0.000000</td>\n",
       "      <td id=\"T_78771_row1_col6\" class=\"data row1 col6\" >46.000000</td>\n",
       "      <td id=\"T_78771_row1_col7\" class=\"data row1 col7\" >24133.000000</td>\n",
       "    </tr>\n",
       "    <tr>\n",
       "      <th id=\"T_78771_level0_row2\" class=\"row_heading level0 row2\" >Spa</th>\n",
       "      <td id=\"T_78771_row2_col0\" class=\"data row2 col0\" >8510.000000</td>\n",
       "      <td id=\"T_78771_row2_col1\" class=\"data row2 col1\" >311.138778</td>\n",
       "      <td id=\"T_78771_row2_col2\" class=\"data row2 col2\" >1136.705535</td>\n",
       "      <td id=\"T_78771_row2_col3\" class=\"data row2 col3\" >0.000000</td>\n",
       "      <td id=\"T_78771_row2_col4\" class=\"data row2 col4\" >0.000000</td>\n",
       "      <td id=\"T_78771_row2_col5\" class=\"data row2 col5\" >0.000000</td>\n",
       "      <td id=\"T_78771_row2_col6\" class=\"data row2 col6\" >59.000000</td>\n",
       "      <td id=\"T_78771_row2_col7\" class=\"data row2 col7\" >22408.000000</td>\n",
       "    </tr>\n",
       "    <tr>\n",
       "      <th id=\"T_78771_level0_row3\" class=\"row_heading level0 row3\" >RoomService</th>\n",
       "      <td id=\"T_78771_row3_col0\" class=\"data row3 col0\" >8512.000000</td>\n",
       "      <td id=\"T_78771_row3_col1\" class=\"data row3 col1\" >224.687617</td>\n",
       "      <td id=\"T_78771_row3_col2\" class=\"data row3 col2\" >666.717663</td>\n",
       "      <td id=\"T_78771_row3_col3\" class=\"data row3 col3\" >0.000000</td>\n",
       "      <td id=\"T_78771_row3_col4\" class=\"data row3 col4\" >0.000000</td>\n",
       "      <td id=\"T_78771_row3_col5\" class=\"data row3 col5\" >0.000000</td>\n",
       "      <td id=\"T_78771_row3_col6\" class=\"data row3 col6\" >47.000000</td>\n",
       "      <td id=\"T_78771_row3_col7\" class=\"data row3 col7\" >14327.000000</td>\n",
       "    </tr>\n",
       "    <tr>\n",
       "      <th id=\"T_78771_level0_row4\" class=\"row_heading level0 row4\" >ShoppingMall</th>\n",
       "      <td id=\"T_78771_row4_col0\" class=\"data row4 col0\" >8485.000000</td>\n",
       "      <td id=\"T_78771_row4_col1\" class=\"data row4 col1\" >173.729169</td>\n",
       "      <td id=\"T_78771_row4_col2\" class=\"data row4 col2\" >604.696458</td>\n",
       "      <td id=\"T_78771_row4_col3\" class=\"data row4 col3\" >0.000000</td>\n",
       "      <td id=\"T_78771_row4_col4\" class=\"data row4 col4\" >0.000000</td>\n",
       "      <td id=\"T_78771_row4_col5\" class=\"data row4 col5\" >0.000000</td>\n",
       "      <td id=\"T_78771_row4_col6\" class=\"data row4 col6\" >27.000000</td>\n",
       "      <td id=\"T_78771_row4_col7\" class=\"data row4 col7\" >23492.000000</td>\n",
       "    </tr>\n",
       "    <tr>\n",
       "      <th id=\"T_78771_level0_row5\" class=\"row_heading level0 row5\" >Age</th>\n",
       "      <td id=\"T_78771_row5_col0\" class=\"data row5 col0\" >8514.000000</td>\n",
       "      <td id=\"T_78771_row5_col1\" class=\"data row5 col1\" >28.827930</td>\n",
       "      <td id=\"T_78771_row5_col2\" class=\"data row5 col2\" >14.489021</td>\n",
       "      <td id=\"T_78771_row5_col3\" class=\"data row5 col3\" >0.000000</td>\n",
       "      <td id=\"T_78771_row5_col4\" class=\"data row5 col4\" >19.000000</td>\n",
       "      <td id=\"T_78771_row5_col5\" class=\"data row5 col5\" >27.000000</td>\n",
       "      <td id=\"T_78771_row5_col6\" class=\"data row5 col6\" >38.000000</td>\n",
       "      <td id=\"T_78771_row5_col7\" class=\"data row5 col7\" >79.000000</td>\n",
       "    </tr>\n",
       "  </tbody>\n",
       "</table>\n"
      ],
      "text/plain": [
       "<pandas.io.formats.style.Styler at 0x2860e7fc188>"
      ]
     },
     "execution_count": 13,
     "metadata": {},
     "output_type": "execute_result"
    }
   ],
   "source": [
    "data.describe().T.sort_values(by='std' , ascending = False).style\\\n",
    "    .bar(subset=[\"max\"], color='salmon')\\\n",
    "    .bar(subset=[\"mean\",], color='pink')\\\n",
    "    .bar(subset=[\"50%\",], color='lightgray')"
   ]
  },
  {
   "cell_type": "markdown",
   "id": "52d8ab9b",
   "metadata": {},
   "source": [
    "#### Categorical features"
   ]
  },
  {
   "cell_type": "code",
   "execution_count": 14,
   "id": "204f91ab",
   "metadata": {},
   "outputs": [
    {
     "data": {
      "image/png": "[encoded data removed]",
      "text/plain": [
       "<Figure size 720x1152 with 4 Axes>"
      ]
     },
     "metadata": {},
     "output_type": "display_data"
    }
   ],
   "source": [
    "features = ['HomePlanet', 'Destination', 'CryoSleep', 'VIP']\n",
    "\n",
    "fig=plt.figure(figsize=(10,16))\n",
    "for i, feature in enumerate(features):\n",
    "    ax=fig.add_subplot(4,1,i+1)\n",
    "    sns.countplot(data=train, x=feature, axes=ax, hue='Transported')\n",
    "    ax.set_title(feature)\n",
    "fig.tight_layout()\n",
    "\n",
    "plt.show()"
   ]
  },
  {
   "cell_type": "markdown",
   "id": "1fbe26f4",
   "metadata": {},
   "source": [
    "A few comments on the categorical features shown in the figures above:\n",
    "- it appears that those traveling from Earth are less likely to reach their destination. Where those departing from Euro have the best chance of doing so.\n",
    "- in terms of destinations, those going on '55 Cancri e' are more likely to have an uninterrupted journey as opposed to passengers traveling on 'TRAPPIST-1e'. For passengers traveling home, the chances of reaching their destination are almost the same as for those who do not get there.\n",
    "- with regard to CryoSleep, passengers in cryosleep have the best chance of surviving the journey\n",
    "- VIP passengers do not appear to be a useful feature. The target split is more or less even."
   ]
  },
  {
   "cell_type": "markdown",
   "id": "f838d68b",
   "metadata": {},
   "source": [
    "## DATA REVIEW and ITS PREPARATION"
   ]
  },
  {
   "cell_type": "markdown",
   "id": "a3c576d0",
   "metadata": {},
   "source": [
    "### Groups & Group Size"
   ]
  },
  {
   "cell_type": "markdown",
   "id": "ebe6cf58",
   "metadata": {},
   "source": [
    "Each PassengerId takes the form gggg_pp where gggg indicates a group the passenger is traveling with and pp is their number within the group.\n",
    "Let's extract this information to a new column and check how it looks."
   ]
  },
  {
   "cell_type": "code",
   "execution_count": 15,
   "id": "6895f7f2",
   "metadata": {},
   "outputs": [
    {
     "data": {
      "text/html": [
       "<div>\n",
       "<style scoped>\n",
       "    .dataframe tbody tr th:only-of-type {\n",
       "        vertical-align: middle;\n",
       "    }\n",
       "\n",
       "    .dataframe tbody tr th {\n",
       "        vertical-align: top;\n",
       "    }\n",
       "\n",
       "    .dataframe thead th {\n",
       "        text-align: right;\n",
       "    }\n",
       "</style>\n",
       "<table border=\"1\" class=\"dataframe\">\n",
       "  <thead>\n",
       "    <tr style=\"text-align: right;\">\n",
       "      <th></th>\n",
       "      <th>PassengerId</th>\n",
       "      <th>group</th>\n",
       "      <th>no_in_group</th>\n",
       "    </tr>\n",
       "  </thead>\n",
       "  <tbody>\n",
       "    <tr>\n",
       "      <th>0</th>\n",
       "      <td>0001_01</td>\n",
       "      <td>0001</td>\n",
       "      <td>01</td>\n",
       "    </tr>\n",
       "    <tr>\n",
       "      <th>1</th>\n",
       "      <td>0002_01</td>\n",
       "      <td>0002</td>\n",
       "      <td>01</td>\n",
       "    </tr>\n",
       "  </tbody>\n",
       "</table>\n",
       "</div>"
      ],
      "text/plain": [
       "  PassengerId group no_in_group\n",
       "0     0001_01  0001          01\n",
       "1     0002_01  0002          01"
      ]
     },
     "metadata": {},
     "output_type": "display_data"
    },
    {
     "name": "stdout",
     "output_type": "stream",
     "text": [
      "There are 6217 groups the passenger are traveliing with\n",
      "Total number of passanggers 8693\n"
     ]
    }
   ],
   "source": [
    "train[['group', 'no_in_group']] = train['PassengerId'].str.split(\"_\", expand = True)\n",
    "test[['group', 'no_in_group']] = test['PassengerId'].str.split(\"_\", expand = True)\n",
    "display(train[['PassengerId','group', 'no_in_group']].head(2))\n",
    "n_groups = train['group'].nunique()\n",
    "no_passangers = train.shape[0]\n",
    "print (f'There are {n_groups} groups the passenger are traveliing with')\n",
    "print(f'Total number of passanggers {no_passangers}')"
   ]
  },
  {
   "cell_type": "code",
   "execution_count": 16,
   "id": "9f23f6d4",
   "metadata": {},
   "outputs": [
    {
     "data": {
      "text/html": [
       "<style type=\"text/css\">\n",
       "#T_6d927_row0_col1 {\n",
       "  width: 10em;\n",
       "  height: 80%;\n",
       "  background: linear-gradient(90deg,pink 100.0%, transparent 100.0%);\n",
       "}\n",
       "#T_6d927_row1_col1 {\n",
       "  width: 10em;\n",
       "  height: 80%;\n",
       "  background: linear-gradient(90deg,pink 17.3%, transparent 17.3%);\n",
       "}\n",
       "#T_6d927_row2_col1 {\n",
       "  width: 10em;\n",
       "  height: 80%;\n",
       "  background: linear-gradient(90deg,pink 6.8%, transparent 6.8%);\n",
       "}\n",
       "#T_6d927_row3_col1 {\n",
       "  width: 10em;\n",
       "  height: 80%;\n",
       "  background: linear-gradient(90deg,pink 1.9%, transparent 1.9%);\n",
       "}\n",
       "#T_6d927_row4_col1 {\n",
       "  width: 10em;\n",
       "  height: 80%;\n",
       "  background: linear-gradient(90deg,pink 0.8%, transparent 0.8%);\n",
       "}\n",
       "#T_6d927_row5_col1 {\n",
       "  width: 10em;\n",
       "  height: 80%;\n",
       "  background: linear-gradient(90deg,pink 0.3%, transparent 0.3%);\n",
       "}\n",
       "#T_6d927_row6_col1 {\n",
       "  width: 10em;\n",
       "  height: 80%;\n",
       "  background: linear-gradient(90deg,pink 0.4%, transparent 0.4%);\n",
       "}\n",
       "#T_6d927_row7_col1 {\n",
       "  width: 10em;\n",
       "  height: 80%;\n",
       "}\n",
       "</style>\n",
       "<table id=\"T_6d927_\">\n",
       "  <thead>\n",
       "    <tr>\n",
       "      <th class=\"blank level0\" >&nbsp;</th>\n",
       "      <th class=\"col_heading level0 col0\" >group_size</th>\n",
       "      <th class=\"col_heading level0 col1\" >count</th>\n",
       "      <th class=\"col_heading level0 col2\" >%</th>\n",
       "    </tr>\n",
       "  </thead>\n",
       "  <tbody>\n",
       "    <tr>\n",
       "      <th id=\"T_6d927_level0_row0\" class=\"row_heading level0 row0\" >0</th>\n",
       "      <td id=\"T_6d927_row0_col0\" class=\"data row0 col0\" >1</td>\n",
       "      <td id=\"T_6d927_row0_col1\" class=\"data row0 col1\" >4805</td>\n",
       "      <td id=\"T_6d927_row0_col2\" class=\"data row0 col2\" >77.290000</td>\n",
       "    </tr>\n",
       "    <tr>\n",
       "      <th id=\"T_6d927_level0_row1\" class=\"row_heading level0 row1\" >1</th>\n",
       "      <td id=\"T_6d927_row1_col0\" class=\"data row1 col0\" >2</td>\n",
       "      <td id=\"T_6d927_row1_col1\" class=\"data row1 col1\" >841</td>\n",
       "      <td id=\"T_6d927_row1_col2\" class=\"data row1 col2\" >13.530000</td>\n",
       "    </tr>\n",
       "    <tr>\n",
       "      <th id=\"T_6d927_level0_row2\" class=\"row_heading level0 row2\" >2</th>\n",
       "      <td id=\"T_6d927_row2_col0\" class=\"data row2 col0\" >3</td>\n",
       "      <td id=\"T_6d927_row2_col1\" class=\"data row2 col1\" >340</td>\n",
       "      <td id=\"T_6d927_row2_col2\" class=\"data row2 col2\" >5.470000</td>\n",
       "    </tr>\n",
       "    <tr>\n",
       "      <th id=\"T_6d927_level0_row3\" class=\"row_heading level0 row3\" >3</th>\n",
       "      <td id=\"T_6d927_row3_col0\" class=\"data row3 col0\" >4</td>\n",
       "      <td id=\"T_6d927_row3_col1\" class=\"data row3 col1\" >103</td>\n",
       "      <td id=\"T_6d927_row3_col2\" class=\"data row3 col2\" >1.660000</td>\n",
       "    </tr>\n",
       "    <tr>\n",
       "      <th id=\"T_6d927_level0_row4\" class=\"row_heading level0 row4\" >4</th>\n",
       "      <td id=\"T_6d927_row4_col0\" class=\"data row4 col0\" >5</td>\n",
       "      <td id=\"T_6d927_row4_col1\" class=\"data row4 col1\" >53</td>\n",
       "      <td id=\"T_6d927_row4_col2\" class=\"data row4 col2\" >0.850000</td>\n",
       "    </tr>\n",
       "    <tr>\n",
       "      <th id=\"T_6d927_level0_row5\" class=\"row_heading level0 row5\" >5</th>\n",
       "      <td id=\"T_6d927_row5_col0\" class=\"data row5 col0\" >6</td>\n",
       "      <td id=\"T_6d927_row5_col1\" class=\"data row5 col1\" >29</td>\n",
       "      <td id=\"T_6d927_row5_col2\" class=\"data row5 col2\" >0.470000</td>\n",
       "    </tr>\n",
       "    <tr>\n",
       "      <th id=\"T_6d927_level0_row6\" class=\"row_heading level0 row6\" >6</th>\n",
       "      <td id=\"T_6d927_row6_col0\" class=\"data row6 col0\" >7</td>\n",
       "      <td id=\"T_6d927_row6_col1\" class=\"data row6 col1\" >33</td>\n",
       "      <td id=\"T_6d927_row6_col2\" class=\"data row6 col2\" >0.530000</td>\n",
       "    </tr>\n",
       "    <tr>\n",
       "      <th id=\"T_6d927_level0_row7\" class=\"row_heading level0 row7\" >7</th>\n",
       "      <td id=\"T_6d927_row7_col0\" class=\"data row7 col0\" >8</td>\n",
       "      <td id=\"T_6d927_row7_col1\" class=\"data row7 col1\" >13</td>\n",
       "      <td id=\"T_6d927_row7_col2\" class=\"data row7 col2\" >0.210000</td>\n",
       "    </tr>\n",
       "  </tbody>\n",
       "</table>\n"
      ],
      "text/plain": [
       "<pandas.io.formats.style.Styler at 0x28614c848c8>"
      ]
     },
     "metadata": {},
     "output_type": "display_data"
    }
   ],
   "source": [
    "group_sizes = train.groupby(['group']).size().reset_index(name = \"group_size\")\n",
    "df = group_sizes.groupby(['group_size']).size().reset_index(name='count')\n",
    "df['%'] = ((df['count'] / df['count'].sum()) *100).round(2)\n",
    "display(df.style.bar(subset=[\"count\"], color='pink'))"
   ]
  },
  {
   "cell_type": "code",
   "execution_count": 17,
   "id": "2ed65f55",
   "metadata": {},
   "outputs": [
    {
     "data": {
      "text/html": [
       "<div>\n",
       "<style scoped>\n",
       "    .dataframe tbody tr th:only-of-type {\n",
       "        vertical-align: middle;\n",
       "    }\n",
       "\n",
       "    .dataframe tbody tr th {\n",
       "        vertical-align: top;\n",
       "    }\n",
       "\n",
       "    .dataframe thead th {\n",
       "        text-align: right;\n",
       "    }\n",
       "</style>\n",
       "<table border=\"1\" class=\"dataframe\">\n",
       "  <thead>\n",
       "    <tr style=\"text-align: right;\">\n",
       "      <th></th>\n",
       "      <th>PassengerId</th>\n",
       "      <th>HomePlanet</th>\n",
       "      <th>CryoSleep</th>\n",
       "      <th>Cabin</th>\n",
       "      <th>Destination</th>\n",
       "      <th>Age</th>\n",
       "      <th>VIP</th>\n",
       "      <th>RoomService</th>\n",
       "      <th>FoodCourt</th>\n",
       "      <th>ShoppingMall</th>\n",
       "      <th>Spa</th>\n",
       "      <th>VRDeck</th>\n",
       "      <th>Name</th>\n",
       "      <th>Transported</th>\n",
       "      <th>group</th>\n",
       "      <th>no_in_group</th>\n",
       "    </tr>\n",
       "  </thead>\n",
       "  <tbody>\n",
       "    <tr>\n",
       "      <th>0</th>\n",
       "      <td>0001_01</td>\n",
       "      <td>Europa</td>\n",
       "      <td>False</td>\n",
       "      <td>B/0/P</td>\n",
       "      <td>TRAPPIST-1e</td>\n",
       "      <td>39.0</td>\n",
       "      <td>False</td>\n",
       "      <td>0.0</td>\n",
       "      <td>0.0</td>\n",
       "      <td>0.0</td>\n",
       "      <td>0.0</td>\n",
       "      <td>0.0</td>\n",
       "      <td>Maham Ofracculy</td>\n",
       "      <td>False</td>\n",
       "      <td>0001</td>\n",
       "      <td>01</td>\n",
       "    </tr>\n",
       "    <tr>\n",
       "      <th>1</th>\n",
       "      <td>0002_01</td>\n",
       "      <td>Earth</td>\n",
       "      <td>False</td>\n",
       "      <td>F/0/S</td>\n",
       "      <td>TRAPPIST-1e</td>\n",
       "      <td>24.0</td>\n",
       "      <td>False</td>\n",
       "      <td>109.0</td>\n",
       "      <td>9.0</td>\n",
       "      <td>25.0</td>\n",
       "      <td>549.0</td>\n",
       "      <td>44.0</td>\n",
       "      <td>Juanna Vines</td>\n",
       "      <td>True</td>\n",
       "      <td>0002</td>\n",
       "      <td>01</td>\n",
       "    </tr>\n",
       "    <tr>\n",
       "      <th>2</th>\n",
       "      <td>0003_01</td>\n",
       "      <td>Europa</td>\n",
       "      <td>False</td>\n",
       "      <td>A/0/S</td>\n",
       "      <td>TRAPPIST-1e</td>\n",
       "      <td>58.0</td>\n",
       "      <td>True</td>\n",
       "      <td>43.0</td>\n",
       "      <td>3576.0</td>\n",
       "      <td>0.0</td>\n",
       "      <td>6715.0</td>\n",
       "      <td>49.0</td>\n",
       "      <td>Altark Susent</td>\n",
       "      <td>False</td>\n",
       "      <td>0003</td>\n",
       "      <td>01</td>\n",
       "    </tr>\n",
       "  </tbody>\n",
       "</table>\n",
       "</div>"
      ],
      "text/plain": [
       "  PassengerId HomePlanet CryoSleep  Cabin  Destination   Age    VIP  \\\n",
       "0     0001_01     Europa     False  B/0/P  TRAPPIST-1e  39.0  False   \n",
       "1     0002_01      Earth     False  F/0/S  TRAPPIST-1e  24.0  False   \n",
       "2     0003_01     Europa     False  A/0/S  TRAPPIST-1e  58.0   True   \n",
       "\n",
       "   RoomService  FoodCourt  ShoppingMall     Spa  VRDeck             Name  \\\n",
       "0          0.0        0.0           0.0     0.0     0.0  Maham Ofracculy   \n",
       "1        109.0        9.0          25.0   549.0    44.0     Juanna Vines   \n",
       "2         43.0     3576.0           0.0  6715.0    49.0    Altark Susent   \n",
       "\n",
       "   Transported group no_in_group  \n",
       "0        False  0001          01  \n",
       "1         True  0002          01  \n",
       "2        False  0003          01  "
      ]
     },
     "execution_count": 17,
     "metadata": {},
     "output_type": "execute_result"
    }
   ],
   "source": [
    "train.head(3)"
   ]
  },
  {
   "cell_type": "markdown",
   "id": "821fb4e9",
   "metadata": {},
   "source": [
    "adding **group_sizes** column to the train dataset"
   ]
  },
  {
   "cell_type": "code",
   "execution_count": 18,
   "id": "72997b43",
   "metadata": {},
   "outputs": [],
   "source": [
    "train = pd.merge(train, group_sizes, on='group')"
   ]
  },
  {
   "cell_type": "markdown",
   "id": "b9985a85",
   "metadata": {},
   "source": [
    "adding **group_sizes** column to the train dataset"
   ]
  },
  {
   "cell_type": "code",
   "execution_count": 19,
   "id": "fd514665",
   "metadata": {},
   "outputs": [],
   "source": [
    "group_sizes = test.groupby(['group']).size().reset_index(name = \"group_size\")\n",
    "test = pd.merge(test, group_sizes, on='group')"
   ]
  },
  {
   "cell_type": "code",
   "execution_count": 20,
   "id": "ac27b4ab",
   "metadata": {},
   "outputs": [
    {
     "data": {
      "image/png": "[encoded data removed]",
      "text/plain": [
       "<Figure size 432x288 with 1 Axes>"
      ]
     },
     "metadata": {},
     "output_type": "display_data"
    }
   ],
   "source": [
    "sns.countplot(data=train, x='group_size', hue='Transported')\n",
    "plt.title('Group size')\n",
    "plt.tight_layout()"
   ]
  },
  {
   "cell_type": "markdown",
   "id": "de804eb8",
   "metadata": {},
   "source": [
    "It looks that group people traveling in a group have more chances to get to the destination."
   ]
  },
  {
   "cell_type": "markdown",
   "id": "6ffaea7a",
   "metadata": {},
   "source": [
    "## Question: drop all missing values or not? Yesss you have to :["
   ]
  },
  {
   "cell_type": "markdown",
   "id": "2ef8d384",
   "metadata": {},
   "source": [
    "### CryoSleep\n",
    "The highest number of missing values is in the **CryoSleep** column. The column indicates whether the passenger elected to be put into suspended animation for the duration of the voyage. Passengers in cryosleep are confined to their cabins"
   ]
  },
  {
   "cell_type": "code",
   "execution_count": 21,
   "id": "bfcd954c",
   "metadata": {},
   "outputs": [
    {
     "data": {
      "text/html": [
       "<div>\n",
       "<style scoped>\n",
       "    .dataframe tbody tr th:only-of-type {\n",
       "        vertical-align: middle;\n",
       "    }\n",
       "\n",
       "    .dataframe tbody tr th {\n",
       "        vertical-align: top;\n",
       "    }\n",
       "\n",
       "    .dataframe thead th {\n",
       "        text-align: right;\n",
       "    }\n",
       "</style>\n",
       "<table border=\"1\" class=\"dataframe\">\n",
       "  <thead>\n",
       "    <tr style=\"text-align: right;\">\n",
       "      <th></th>\n",
       "      <th>CryoSleep</th>\n",
       "      <th>count</th>\n",
       "      <th>%</th>\n",
       "    </tr>\n",
       "  </thead>\n",
       "  <tbody>\n",
       "    <tr>\n",
       "      <th>1</th>\n",
       "      <td>True</td>\n",
       "      <td>3037</td>\n",
       "      <td>35.83</td>\n",
       "    </tr>\n",
       "    <tr>\n",
       "      <th>0</th>\n",
       "      <td>False</td>\n",
       "      <td>5439</td>\n",
       "      <td>64.17</td>\n",
       "    </tr>\n",
       "  </tbody>\n",
       "</table>\n",
       "</div>"
      ],
      "text/plain": [
       "   CryoSleep  count      %\n",
       "1       True   3037  35.83\n",
       "0      False   5439  64.17"
      ]
     },
     "execution_count": 21,
     "metadata": {},
     "output_type": "execute_result"
    }
   ],
   "source": [
    "df = pd.DataFrame(train.groupby('CryoSleep').size(), columns=['count']).reset_index()\n",
    "df['%'] = ((df['count'] / df['count'].sum()) * 100).round(2)\n",
    "df.sort_values(by=['count'])"
   ]
  },
  {
   "cell_type": "code",
   "execution_count": 22,
   "id": "6a0cf720",
   "metadata": {},
   "outputs": [
    {
     "name": "stdout",
     "output_type": "stream",
     "text": [
      "Number of passengers using cryosleep in the Train dataset 3037\n",
      "Number of passengers using cryosleep in the Test dataset 1544\n"
     ]
    }
   ],
   "source": [
    "print('Number of passengers using cryosleep in the Train dataset', list(train['CryoSleep'].value_counts())[1])\n",
    "print('Number of passengers using cryosleep in the Test dataset', list(test['CryoSleep'].value_counts())[1])"
   ]
  },
  {
   "cell_type": "code",
   "execution_count": 23,
   "id": "c16d01b7",
   "metadata": {},
   "outputs": [
    {
     "data": {
      "text/html": [
       "<div>\n",
       "<style scoped>\n",
       "    .dataframe tbody tr th:only-of-type {\n",
       "        vertical-align: middle;\n",
       "    }\n",
       "\n",
       "    .dataframe tbody tr th {\n",
       "        vertical-align: top;\n",
       "    }\n",
       "\n",
       "    .dataframe thead th {\n",
       "        text-align: right;\n",
       "    }\n",
       "</style>\n",
       "<table border=\"1\" class=\"dataframe\">\n",
       "  <thead>\n",
       "    <tr style=\"text-align: right;\">\n",
       "      <th></th>\n",
       "      <th>CryoSleep</th>\n",
       "      <th>Count</th>\n",
       "    </tr>\n",
       "  </thead>\n",
       "  <tbody>\n",
       "    <tr>\n",
       "      <th>0</th>\n",
       "      <td>False</td>\n",
       "      <td>5439</td>\n",
       "    </tr>\n",
       "    <tr>\n",
       "      <th>1</th>\n",
       "      <td>True</td>\n",
       "      <td>3037</td>\n",
       "    </tr>\n",
       "    <tr>\n",
       "      <th>2</th>\n",
       "      <td>NULL</td>\n",
       "      <td>217</td>\n",
       "    </tr>\n",
       "  </tbody>\n",
       "</table>\n",
       "</div>"
      ],
      "text/plain": [
       "  CryoSleep  Count\n",
       "0     False   5439\n",
       "1      True   3037\n",
       "2      NULL    217"
      ]
     },
     "execution_count": 23,
     "metadata": {},
     "output_type": "execute_result"
    }
   ],
   "source": [
    "df = train['CryoSleep'].value_counts().to_frame().reset_index()\n",
    "df.columns = ['CryoSleep', 'Count']\n",
    "df.loc[len(df.index)] = ['NULL', train['CryoSleep'].isna().sum()]\n",
    "df"
   ]
  },
  {
   "cell_type": "markdown",
   "id": "d1b3bd31",
   "metadata": {},
   "source": [
    "#### Selecting passengeres with CryoSleep"
   ]
  },
  {
   "cell_type": "code",
   "execution_count": 24,
   "id": "ab16504b",
   "metadata": {},
   "outputs": [
    {
     "data": {
      "text/html": [
       "<style type=\"text/css\">\n",
       "#T_d22b2_row0_col2, #T_d22b2_row13_col4 {\n",
       "  width: 10em;\n",
       "  height: 80%;\n",
       "  background: linear-gradient(90deg,pink 100.0%, transparent 100.0%);\n",
       "}\n",
       "#T_d22b2_row0_col4, #T_d22b2_row5_col4, #T_d22b2_row6_col4, #T_d22b2_row7_col4, #T_d22b2_row8_col4, #T_d22b2_row14_col4 {\n",
       "  width: 10em;\n",
       "  height: 80%;\n",
       "  background: linear-gradient(90deg,pink 0.0%, transparent 0.0%);\n",
       "}\n",
       "#T_d22b2_row1_col2 {\n",
       "  width: 10em;\n",
       "  height: 80%;\n",
       "  background: linear-gradient(90deg,pink 87.5%, transparent 87.5%);\n",
       "}\n",
       "#T_d22b2_row1_col4 {\n",
       "  width: 10em;\n",
       "  height: 80%;\n",
       "  background: linear-gradient(90deg,pink 80.3%, transparent 80.3%);\n",
       "}\n",
       "#T_d22b2_row2_col2 {\n",
       "  width: 10em;\n",
       "  height: 80%;\n",
       "  background: linear-gradient(90deg,pink 85.4%, transparent 85.4%);\n",
       "}\n",
       "#T_d22b2_row2_col4 {\n",
       "  width: 10em;\n",
       "  height: 80%;\n",
       "  background: linear-gradient(90deg,pink 2.6%, transparent 2.6%);\n",
       "}\n",
       "#T_d22b2_row3_col2, #T_d22b2_row4_col2 {\n",
       "  width: 10em;\n",
       "  height: 80%;\n",
       "  background: linear-gradient(90deg,pink 78.1%, transparent 78.1%);\n",
       "}\n",
       "#T_d22b2_row3_col4, #T_d22b2_row4_col4, #T_d22b2_row10_col4 {\n",
       "  width: 10em;\n",
       "  height: 80%;\n",
       "  background: linear-gradient(90deg,pink 0.1%, transparent 0.1%);\n",
       "}\n",
       "#T_d22b2_row5_col2 {\n",
       "  width: 10em;\n",
       "  height: 80%;\n",
       "  background: linear-gradient(90deg,pink 72.9%, transparent 72.9%);\n",
       "}\n",
       "#T_d22b2_row6_col2 {\n",
       "  width: 10em;\n",
       "  height: 80%;\n",
       "  background: linear-gradient(90deg,pink 70.8%, transparent 70.8%);\n",
       "}\n",
       "#T_d22b2_row7_col2 {\n",
       "  width: 10em;\n",
       "  height: 80%;\n",
       "  background: linear-gradient(90deg,pink 67.7%, transparent 67.7%);\n",
       "}\n",
       "#T_d22b2_row8_col2, #T_d22b2_row9_col2 {\n",
       "  width: 10em;\n",
       "  height: 80%;\n",
       "  background: linear-gradient(90deg,pink 64.6%, transparent 64.6%);\n",
       "}\n",
       "#T_d22b2_row9_col4 {\n",
       "  width: 10em;\n",
       "  height: 80%;\n",
       "  background: linear-gradient(90deg,pink 97.9%, transparent 97.9%);\n",
       "}\n",
       "#T_d22b2_row10_col2 {\n",
       "  width: 10em;\n",
       "  height: 80%;\n",
       "  background: linear-gradient(90deg,pink 50.0%, transparent 50.0%);\n",
       "}\n",
       "#T_d22b2_row11_col2, #T_d22b2_row12_col2, #T_d22b2_row13_col2, #T_d22b2_row14_col2, #T_d22b2_row15_col2, #T_d22b2_row15_col4, #T_d22b2_row16_col2 {\n",
       "  width: 10em;\n",
       "  height: 80%;\n",
       "}\n",
       "#T_d22b2_row11_col4 {\n",
       "  width: 10em;\n",
       "  height: 80%;\n",
       "  background: linear-gradient(90deg,pink 81.8%, transparent 81.8%);\n",
       "}\n",
       "#T_d22b2_row12_col4, #T_d22b2_row16_col4 {\n",
       "  width: 10em;\n",
       "  height: 80%;\n",
       "  background: linear-gradient(90deg,pink 0.2%, transparent 0.2%);\n",
       "}\n",
       "</style>\n",
       "<table id=\"T_d22b2_\">\n",
       "  <thead>\n",
       "    <tr>\n",
       "      <th class=\"blank level0\" >&nbsp;</th>\n",
       "      <th class=\"col_heading level0 col0\" >Column</th>\n",
       "      <th class=\"col_heading level0 col1\" >Data Type</th>\n",
       "      <th class=\"col_heading level0 col2\" >Misssing Values</th>\n",
       "      <th class=\"col_heading level0 col3\" >Missing Values [%]</th>\n",
       "      <th class=\"col_heading level0 col4\" >Sum Unique Val</th>\n",
       "    </tr>\n",
       "  </thead>\n",
       "  <tbody>\n",
       "    <tr>\n",
       "      <th id=\"T_d22b2_level0_row0\" class=\"row_heading level0 row0\" >9</th>\n",
       "      <td id=\"T_d22b2_row0_col0\" class=\"data row0 col0\" >ShoppingMall</td>\n",
       "      <td id=\"T_d22b2_row0_col1\" class=\"data row0 col1\" >float64</td>\n",
       "      <td id=\"T_d22b2_row0_col2\" class=\"data row0 col2\" >96</td>\n",
       "      <td id=\"T_d22b2_row0_col3\" class=\"data row0 col3\" >3.200000</td>\n",
       "      <td id=\"T_d22b2_row0_col4\" class=\"data row0 col4\" >2</td>\n",
       "    </tr>\n",
       "    <tr>\n",
       "      <th id=\"T_d22b2_level0_row1\" class=\"row_heading level0 row1\" >3</th>\n",
       "      <td id=\"T_d22b2_row1_col0\" class=\"data row1 col0\" >Cabin</td>\n",
       "      <td id=\"T_d22b2_row1_col1\" class=\"data row1 col1\" >object</td>\n",
       "      <td id=\"T_d22b2_row1_col2\" class=\"data row1 col2\" >84</td>\n",
       "      <td id=\"T_d22b2_row1_col3\" class=\"data row1 col3\" >2.800000</td>\n",
       "      <td id=\"T_d22b2_row1_col4\" class=\"data row1 col4\" >2438</td>\n",
       "    </tr>\n",
       "    <tr>\n",
       "      <th id=\"T_d22b2_level0_row2\" class=\"row_heading level0 row2\" >5</th>\n",
       "      <td id=\"T_d22b2_row2_col0\" class=\"data row2 col0\" >Age</td>\n",
       "      <td id=\"T_d22b2_row2_col1\" class=\"data row2 col1\" >float64</td>\n",
       "      <td id=\"T_d22b2_row2_col2\" class=\"data row2 col2\" >82</td>\n",
       "      <td id=\"T_d22b2_row2_col3\" class=\"data row2 col3\" >2.700000</td>\n",
       "      <td id=\"T_d22b2_row2_col4\" class=\"data row2 col4\" >79</td>\n",
       "    </tr>\n",
       "    <tr>\n",
       "      <th id=\"T_d22b2_level0_row3\" class=\"row_heading level0 row3\" >6</th>\n",
       "      <td id=\"T_d22b2_row3_col0\" class=\"data row3 col0\" >VIP</td>\n",
       "      <td id=\"T_d22b2_row3_col1\" class=\"data row3 col1\" >object</td>\n",
       "      <td id=\"T_d22b2_row3_col2\" class=\"data row3 col2\" >75</td>\n",
       "      <td id=\"T_d22b2_row3_col3\" class=\"data row3 col3\" >2.500000</td>\n",
       "      <td id=\"T_d22b2_row3_col4\" class=\"data row3 col4\" >3</td>\n",
       "    </tr>\n",
       "    <tr>\n",
       "      <th id=\"T_d22b2_level0_row4\" class=\"row_heading level0 row4\" >1</th>\n",
       "      <td id=\"T_d22b2_row4_col0\" class=\"data row4 col0\" >HomePlanet</td>\n",
       "      <td id=\"T_d22b2_row4_col1\" class=\"data row4 col1\" >object</td>\n",
       "      <td id=\"T_d22b2_row4_col2\" class=\"data row4 col2\" >75</td>\n",
       "      <td id=\"T_d22b2_row4_col3\" class=\"data row4 col3\" >2.500000</td>\n",
       "      <td id=\"T_d22b2_row4_col4\" class=\"data row4 col4\" >4</td>\n",
       "    </tr>\n",
       "    <tr>\n",
       "      <th id=\"T_d22b2_level0_row5\" class=\"row_heading level0 row5\" >8</th>\n",
       "      <td id=\"T_d22b2_row5_col0\" class=\"data row5 col0\" >FoodCourt</td>\n",
       "      <td id=\"T_d22b2_row5_col1\" class=\"data row5 col1\" >float64</td>\n",
       "      <td id=\"T_d22b2_row5_col2\" class=\"data row5 col2\" >70</td>\n",
       "      <td id=\"T_d22b2_row5_col3\" class=\"data row5 col3\" >2.300000</td>\n",
       "      <td id=\"T_d22b2_row5_col4\" class=\"data row5 col4\" >2</td>\n",
       "    </tr>\n",
       "    <tr>\n",
       "      <th id=\"T_d22b2_level0_row6\" class=\"row_heading level0 row6\" >7</th>\n",
       "      <td id=\"T_d22b2_row6_col0\" class=\"data row6 col0\" >RoomService</td>\n",
       "      <td id=\"T_d22b2_row6_col1\" class=\"data row6 col1\" >float64</td>\n",
       "      <td id=\"T_d22b2_row6_col2\" class=\"data row6 col2\" >68</td>\n",
       "      <td id=\"T_d22b2_row6_col3\" class=\"data row6 col3\" >2.200000</td>\n",
       "      <td id=\"T_d22b2_row6_col4\" class=\"data row6 col4\" >2</td>\n",
       "    </tr>\n",
       "    <tr>\n",
       "      <th id=\"T_d22b2_level0_row7\" class=\"row_heading level0 row7\" >10</th>\n",
       "      <td id=\"T_d22b2_row7_col0\" class=\"data row7 col0\" >Spa</td>\n",
       "      <td id=\"T_d22b2_row7_col1\" class=\"data row7 col1\" >float64</td>\n",
       "      <td id=\"T_d22b2_row7_col2\" class=\"data row7 col2\" >65</td>\n",
       "      <td id=\"T_d22b2_row7_col3\" class=\"data row7 col3\" >2.100000</td>\n",
       "      <td id=\"T_d22b2_row7_col4\" class=\"data row7 col4\" >2</td>\n",
       "    </tr>\n",
       "    <tr>\n",
       "      <th id=\"T_d22b2_level0_row8\" class=\"row_heading level0 row8\" >11</th>\n",
       "      <td id=\"T_d22b2_row8_col0\" class=\"data row8 col0\" >VRDeck</td>\n",
       "      <td id=\"T_d22b2_row8_col1\" class=\"data row8 col1\" >float64</td>\n",
       "      <td id=\"T_d22b2_row8_col2\" class=\"data row8 col2\" >62</td>\n",
       "      <td id=\"T_d22b2_row8_col3\" class=\"data row8 col3\" >2.000000</td>\n",
       "      <td id=\"T_d22b2_row8_col4\" class=\"data row8 col4\" >2</td>\n",
       "    </tr>\n",
       "    <tr>\n",
       "      <th id=\"T_d22b2_level0_row9\" class=\"row_heading level0 row9\" >12</th>\n",
       "      <td id=\"T_d22b2_row9_col0\" class=\"data row9 col0\" >Name</td>\n",
       "      <td id=\"T_d22b2_row9_col1\" class=\"data row9 col1\" >object</td>\n",
       "      <td id=\"T_d22b2_row9_col2\" class=\"data row9 col2\" >62</td>\n",
       "      <td id=\"T_d22b2_row9_col3\" class=\"data row9 col3\" >2.000000</td>\n",
       "      <td id=\"T_d22b2_row9_col4\" class=\"data row9 col4\" >2974</td>\n",
       "    </tr>\n",
       "    <tr>\n",
       "      <th id=\"T_d22b2_level0_row10\" class=\"row_heading level0 row10\" >4</th>\n",
       "      <td id=\"T_d22b2_row10_col0\" class=\"data row10 col0\" >Destination</td>\n",
       "      <td id=\"T_d22b2_row10_col1\" class=\"data row10 col1\" >object</td>\n",
       "      <td id=\"T_d22b2_row10_col2\" class=\"data row10 col2\" >48</td>\n",
       "      <td id=\"T_d22b2_row10_col3\" class=\"data row10 col3\" >1.600000</td>\n",
       "      <td id=\"T_d22b2_row10_col4\" class=\"data row10 col4\" >4</td>\n",
       "    </tr>\n",
       "    <tr>\n",
       "      <th id=\"T_d22b2_level0_row11\" class=\"row_heading level0 row11\" >14</th>\n",
       "      <td id=\"T_d22b2_row11_col0\" class=\"data row11 col0\" >group</td>\n",
       "      <td id=\"T_d22b2_row11_col1\" class=\"data row11 col1\" >object</td>\n",
       "      <td id=\"T_d22b2_row11_col2\" class=\"data row11 col2\" >0</td>\n",
       "      <td id=\"T_d22b2_row11_col3\" class=\"data row11 col3\" >0</td>\n",
       "      <td id=\"T_d22b2_row11_col4\" class=\"data row11 col4\" >2483</td>\n",
       "    </tr>\n",
       "    <tr>\n",
       "      <th id=\"T_d22b2_level0_row12\" class=\"row_heading level0 row12\" >15</th>\n",
       "      <td id=\"T_d22b2_row12_col0\" class=\"data row12 col0\" >no_in_group</td>\n",
       "      <td id=\"T_d22b2_row12_col1\" class=\"data row12 col1\" >object</td>\n",
       "      <td id=\"T_d22b2_row12_col2\" class=\"data row12 col2\" >0</td>\n",
       "      <td id=\"T_d22b2_row12_col3\" class=\"data row12 col3\" >0</td>\n",
       "      <td id=\"T_d22b2_row12_col4\" class=\"data row12 col4\" >8</td>\n",
       "    </tr>\n",
       "    <tr>\n",
       "      <th id=\"T_d22b2_level0_row13\" class=\"row_heading level0 row13\" >0</th>\n",
       "      <td id=\"T_d22b2_row13_col0\" class=\"data row13 col0\" >PassengerId</td>\n",
       "      <td id=\"T_d22b2_row13_col1\" class=\"data row13 col1\" >object</td>\n",
       "      <td id=\"T_d22b2_row13_col2\" class=\"data row13 col2\" >0</td>\n",
       "      <td id=\"T_d22b2_row13_col3\" class=\"data row13 col3\" >0</td>\n",
       "      <td id=\"T_d22b2_row13_col4\" class=\"data row13 col4\" >3037</td>\n",
       "    </tr>\n",
       "    <tr>\n",
       "      <th id=\"T_d22b2_level0_row14\" class=\"row_heading level0 row14\" >13</th>\n",
       "      <td id=\"T_d22b2_row14_col0\" class=\"data row14 col0\" >Transported</td>\n",
       "      <td id=\"T_d22b2_row14_col1\" class=\"data row14 col1\" >bool</td>\n",
       "      <td id=\"T_d22b2_row14_col2\" class=\"data row14 col2\" >0</td>\n",
       "      <td id=\"T_d22b2_row14_col3\" class=\"data row14 col3\" >0</td>\n",
       "      <td id=\"T_d22b2_row14_col4\" class=\"data row14 col4\" >2</td>\n",
       "    </tr>\n",
       "    <tr>\n",
       "      <th id=\"T_d22b2_level0_row15\" class=\"row_heading level0 row15\" >2</th>\n",
       "      <td id=\"T_d22b2_row15_col0\" class=\"data row15 col0\" >CryoSleep</td>\n",
       "      <td id=\"T_d22b2_row15_col1\" class=\"data row15 col1\" >object</td>\n",
       "      <td id=\"T_d22b2_row15_col2\" class=\"data row15 col2\" >0</td>\n",
       "      <td id=\"T_d22b2_row15_col3\" class=\"data row15 col3\" >0</td>\n",
       "      <td id=\"T_d22b2_row15_col4\" class=\"data row15 col4\" >1</td>\n",
       "    </tr>\n",
       "    <tr>\n",
       "      <th id=\"T_d22b2_level0_row16\" class=\"row_heading level0 row16\" >16</th>\n",
       "      <td id=\"T_d22b2_row16_col0\" class=\"data row16 col0\" >group_size</td>\n",
       "      <td id=\"T_d22b2_row16_col1\" class=\"data row16 col1\" >int64</td>\n",
       "      <td id=\"T_d22b2_row16_col2\" class=\"data row16 col2\" >0</td>\n",
       "      <td id=\"T_d22b2_row16_col3\" class=\"data row16 col3\" >0</td>\n",
       "      <td id=\"T_d22b2_row16_col4\" class=\"data row16 col4\" >8</td>\n",
       "    </tr>\n",
       "  </tbody>\n",
       "</table>\n"
      ],
      "text/plain": [
       "<pandas.io.formats.style.Styler at 0x28614120cc8>"
      ]
     },
     "execution_count": 24,
     "metadata": {},
     "output_type": "execute_result"
    }
   ],
   "source": [
    "cyro_true = train[train['CryoSleep'] == True]\n",
    "\n",
    "dataset = cyro_true.copy()\n",
    "data_review = pd.DataFrame(columns = ['Column','Data Type','Misssing Values', 'Missing Values [%]', 'Sum Unique Val'])\n",
    "\n",
    "for index, column in enumerate(dataset.columns):\n",
    "    data_type = dataset.dtypes[column]\n",
    "    missing_value = dataset[column].isnull().sum()\n",
    "    percentage = round((missing_value/len(dataset))* 100,1) if (missing_value/len(dataset))* 100 else 0\n",
    "    unique_val = len(dataset[column].unique())\n",
    "    data_review.loc[index] = [column, data_type, missing_value,percentage,unique_val]\n",
    "    \n",
    "data_review = data_review.sort_values(by=['Missing Values [%]'], ascending=False)\n",
    "data_review.style\\\n",
    "        .bar(subset=[\"Misssing Values\"], color='pink')\\\n",
    "        .bar(subset=[\"Sum Unique Val\"], color='pink')\\"
   ]
  },
  {
   "cell_type": "code",
   "execution_count": 25,
   "id": "e101d522",
   "metadata": {},
   "outputs": [
    {
     "data": {
      "text/html": [
       "<div>\n",
       "<style scoped>\n",
       "    .dataframe tbody tr th:only-of-type {\n",
       "        vertical-align: middle;\n",
       "    }\n",
       "\n",
       "    .dataframe tbody tr th {\n",
       "        vertical-align: top;\n",
       "    }\n",
       "\n",
       "    .dataframe thead th {\n",
       "        text-align: right;\n",
       "    }\n",
       "</style>\n",
       "<table border=\"1\" class=\"dataframe\">\n",
       "  <thead>\n",
       "    <tr style=\"text-align: right;\">\n",
       "      <th></th>\n",
       "      <th>HomePlanet</th>\n",
       "      <th>Count</th>\n",
       "    </tr>\n",
       "  </thead>\n",
       "  <tbody>\n",
       "    <tr>\n",
       "      <th>0</th>\n",
       "      <td>Earth</td>\n",
       "      <td>1382</td>\n",
       "    </tr>\n",
       "    <tr>\n",
       "      <th>1</th>\n",
       "      <td>Europa</td>\n",
       "      <td>911</td>\n",
       "    </tr>\n",
       "    <tr>\n",
       "      <th>2</th>\n",
       "      <td>Mars</td>\n",
       "      <td>669</td>\n",
       "    </tr>\n",
       "  </tbody>\n",
       "</table>\n",
       "</div>"
      ],
      "text/plain": [
       "  HomePlanet  Count\n",
       "0      Earth   1382\n",
       "1     Europa    911\n",
       "2       Mars    669"
      ]
     },
     "metadata": {},
     "output_type": "display_data"
    },
    {
     "data": {
      "text/html": [
       "<div>\n",
       "<style scoped>\n",
       "    .dataframe tbody tr th:only-of-type {\n",
       "        vertical-align: middle;\n",
       "    }\n",
       "\n",
       "    .dataframe tbody tr th {\n",
       "        vertical-align: top;\n",
       "    }\n",
       "\n",
       "    .dataframe thead th {\n",
       "        text-align: right;\n",
       "    }\n",
       "</style>\n",
       "<table border=\"1\" class=\"dataframe\">\n",
       "  <thead>\n",
       "    <tr style=\"text-align: right;\">\n",
       "      <th></th>\n",
       "      <th>CryoSleep</th>\n",
       "      <th>Count</th>\n",
       "    </tr>\n",
       "  </thead>\n",
       "  <tbody>\n",
       "    <tr>\n",
       "      <th>0</th>\n",
       "      <td>True</td>\n",
       "      <td>3037</td>\n",
       "    </tr>\n",
       "  </tbody>\n",
       "</table>\n",
       "</div>"
      ],
      "text/plain": [
       "   CryoSleep  Count\n",
       "0       True   3037"
      ]
     },
     "metadata": {},
     "output_type": "display_data"
    },
    {
     "data": {
      "text/html": [
       "<div>\n",
       "<style scoped>\n",
       "    .dataframe tbody tr th:only-of-type {\n",
       "        vertical-align: middle;\n",
       "    }\n",
       "\n",
       "    .dataframe tbody tr th {\n",
       "        vertical-align: top;\n",
       "    }\n",
       "\n",
       "    .dataframe thead th {\n",
       "        text-align: right;\n",
       "    }\n",
       "</style>\n",
       "<table border=\"1\" class=\"dataframe\">\n",
       "  <thead>\n",
       "    <tr style=\"text-align: right;\">\n",
       "      <th></th>\n",
       "      <th>Destination</th>\n",
       "      <th>Count</th>\n",
       "    </tr>\n",
       "  </thead>\n",
       "  <tbody>\n",
       "    <tr>\n",
       "      <th>0</th>\n",
       "      <td>TRAPPIST-1e</td>\n",
       "      <td>1867</td>\n",
       "    </tr>\n",
       "    <tr>\n",
       "      <th>1</th>\n",
       "      <td>55 Cancri e</td>\n",
       "      <td>739</td>\n",
       "    </tr>\n",
       "    <tr>\n",
       "      <th>2</th>\n",
       "      <td>PSO J318.5-22</td>\n",
       "      <td>383</td>\n",
       "    </tr>\n",
       "  </tbody>\n",
       "</table>\n",
       "</div>"
      ],
      "text/plain": [
       "     Destination  Count\n",
       "0    TRAPPIST-1e   1867\n",
       "1    55 Cancri e    739\n",
       "2  PSO J318.5-22    383"
      ]
     },
     "metadata": {},
     "output_type": "display_data"
    },
    {
     "data": {
      "text/html": [
       "<div>\n",
       "<style scoped>\n",
       "    .dataframe tbody tr th:only-of-type {\n",
       "        vertical-align: middle;\n",
       "    }\n",
       "\n",
       "    .dataframe tbody tr th {\n",
       "        vertical-align: top;\n",
       "    }\n",
       "\n",
       "    .dataframe thead th {\n",
       "        text-align: right;\n",
       "    }\n",
       "</style>\n",
       "<table border=\"1\" class=\"dataframe\">\n",
       "  <thead>\n",
       "    <tr style=\"text-align: right;\">\n",
       "      <th></th>\n",
       "      <th>VIP</th>\n",
       "      <th>Count</th>\n",
       "    </tr>\n",
       "  </thead>\n",
       "  <tbody>\n",
       "    <tr>\n",
       "      <th>0</th>\n",
       "      <td>False</td>\n",
       "      <td>2941</td>\n",
       "    </tr>\n",
       "    <tr>\n",
       "      <th>1</th>\n",
       "      <td>True</td>\n",
       "      <td>21</td>\n",
       "    </tr>\n",
       "  </tbody>\n",
       "</table>\n",
       "</div>"
      ],
      "text/plain": [
       "     VIP  Count\n",
       "0  False   2941\n",
       "1   True     21"
      ]
     },
     "metadata": {},
     "output_type": "display_data"
    },
    {
     "data": {
      "text/html": [
       "<div>\n",
       "<style scoped>\n",
       "    .dataframe tbody tr th:only-of-type {\n",
       "        vertical-align: middle;\n",
       "    }\n",
       "\n",
       "    .dataframe tbody tr th {\n",
       "        vertical-align: top;\n",
       "    }\n",
       "\n",
       "    .dataframe thead th {\n",
       "        text-align: right;\n",
       "    }\n",
       "</style>\n",
       "<table border=\"1\" class=\"dataframe\">\n",
       "  <thead>\n",
       "    <tr style=\"text-align: right;\">\n",
       "      <th></th>\n",
       "      <th>RoomService</th>\n",
       "      <th>Count</th>\n",
       "    </tr>\n",
       "  </thead>\n",
       "  <tbody>\n",
       "    <tr>\n",
       "      <th>0</th>\n",
       "      <td>0.0</td>\n",
       "      <td>2969</td>\n",
       "    </tr>\n",
       "  </tbody>\n",
       "</table>\n",
       "</div>"
      ],
      "text/plain": [
       "   RoomService  Count\n",
       "0          0.0   2969"
      ]
     },
     "metadata": {},
     "output_type": "display_data"
    },
    {
     "data": {
      "text/html": [
       "<div>\n",
       "<style scoped>\n",
       "    .dataframe tbody tr th:only-of-type {\n",
       "        vertical-align: middle;\n",
       "    }\n",
       "\n",
       "    .dataframe tbody tr th {\n",
       "        vertical-align: top;\n",
       "    }\n",
       "\n",
       "    .dataframe thead th {\n",
       "        text-align: right;\n",
       "    }\n",
       "</style>\n",
       "<table border=\"1\" class=\"dataframe\">\n",
       "  <thead>\n",
       "    <tr style=\"text-align: right;\">\n",
       "      <th></th>\n",
       "      <th>FoodCourt</th>\n",
       "      <th>Count</th>\n",
       "    </tr>\n",
       "  </thead>\n",
       "  <tbody>\n",
       "    <tr>\n",
       "      <th>0</th>\n",
       "      <td>0.0</td>\n",
       "      <td>2967</td>\n",
       "    </tr>\n",
       "  </tbody>\n",
       "</table>\n",
       "</div>"
      ],
      "text/plain": [
       "   FoodCourt  Count\n",
       "0        0.0   2967"
      ]
     },
     "metadata": {},
     "output_type": "display_data"
    },
    {
     "data": {
      "text/html": [
       "<div>\n",
       "<style scoped>\n",
       "    .dataframe tbody tr th:only-of-type {\n",
       "        vertical-align: middle;\n",
       "    }\n",
       "\n",
       "    .dataframe tbody tr th {\n",
       "        vertical-align: top;\n",
       "    }\n",
       "\n",
       "    .dataframe thead th {\n",
       "        text-align: right;\n",
       "    }\n",
       "</style>\n",
       "<table border=\"1\" class=\"dataframe\">\n",
       "  <thead>\n",
       "    <tr style=\"text-align: right;\">\n",
       "      <th></th>\n",
       "      <th>ShoppingMall</th>\n",
       "      <th>Count</th>\n",
       "    </tr>\n",
       "  </thead>\n",
       "  <tbody>\n",
       "    <tr>\n",
       "      <th>0</th>\n",
       "      <td>0.0</td>\n",
       "      <td>2941</td>\n",
       "    </tr>\n",
       "  </tbody>\n",
       "</table>\n",
       "</div>"
      ],
      "text/plain": [
       "   ShoppingMall  Count\n",
       "0           0.0   2941"
      ]
     },
     "metadata": {},
     "output_type": "display_data"
    },
    {
     "data": {
      "text/html": [
       "<div>\n",
       "<style scoped>\n",
       "    .dataframe tbody tr th:only-of-type {\n",
       "        vertical-align: middle;\n",
       "    }\n",
       "\n",
       "    .dataframe tbody tr th {\n",
       "        vertical-align: top;\n",
       "    }\n",
       "\n",
       "    .dataframe thead th {\n",
       "        text-align: right;\n",
       "    }\n",
       "</style>\n",
       "<table border=\"1\" class=\"dataframe\">\n",
       "  <thead>\n",
       "    <tr style=\"text-align: right;\">\n",
       "      <th></th>\n",
       "      <th>Spa</th>\n",
       "      <th>Count</th>\n",
       "    </tr>\n",
       "  </thead>\n",
       "  <tbody>\n",
       "    <tr>\n",
       "      <th>0</th>\n",
       "      <td>0.0</td>\n",
       "      <td>2972</td>\n",
       "    </tr>\n",
       "  </tbody>\n",
       "</table>\n",
       "</div>"
      ],
      "text/plain": [
       "   Spa  Count\n",
       "0  0.0   2972"
      ]
     },
     "metadata": {},
     "output_type": "display_data"
    },
    {
     "data": {
      "text/html": [
       "<div>\n",
       "<style scoped>\n",
       "    .dataframe tbody tr th:only-of-type {\n",
       "        vertical-align: middle;\n",
       "    }\n",
       "\n",
       "    .dataframe tbody tr th {\n",
       "        vertical-align: top;\n",
       "    }\n",
       "\n",
       "    .dataframe thead th {\n",
       "        text-align: right;\n",
       "    }\n",
       "</style>\n",
       "<table border=\"1\" class=\"dataframe\">\n",
       "  <thead>\n",
       "    <tr style=\"text-align: right;\">\n",
       "      <th></th>\n",
       "      <th>VRDeck</th>\n",
       "      <th>Count</th>\n",
       "    </tr>\n",
       "  </thead>\n",
       "  <tbody>\n",
       "    <tr>\n",
       "      <th>0</th>\n",
       "      <td>0.0</td>\n",
       "      <td>2975</td>\n",
       "    </tr>\n",
       "  </tbody>\n",
       "</table>\n",
       "</div>"
      ],
      "text/plain": [
       "   VRDeck  Count\n",
       "0     0.0   2975"
      ]
     },
     "metadata": {},
     "output_type": "display_data"
    }
   ],
   "source": [
    "dataset = cyro_true[['HomePlanet', 'CryoSleep', 'Destination','VIP', 'RoomService', 'FoodCourt', 'ShoppingMall', 'Spa', 'VRDeck']]\n",
    "\n",
    "for column in dataset.columns:\n",
    "    df = dataset[column].value_counts().to_frame().reset_index()\n",
    "    df.columns = [column, 'Count']\n",
    "    display(df)"
   ]
  },
  {
   "cell_type": "markdown",
   "id": "ed9623fb",
   "metadata": {},
   "source": [
    "As shown above, passengers traveling in cryosleep do not pay for  RoomService, FoodCourt, ShoppingMall, Spa & VRDeck. So the null values in those columns we can replace with 0 for them."
   ]
  },
  {
   "cell_type": "code",
   "execution_count": 26,
   "id": "815ce2ed",
   "metadata": {},
   "outputs": [],
   "source": [
    "zeroes = ['RoomService', 'FoodCourt', 'ShoppingMall', 'Spa', 'VRDeck']\n",
    "for column in zeroes:\n",
    "    train.loc[(train['CryoSleep'] == True) & (train[column].isnull()), column] = 0\n",
    "    test.loc[(test['CryoSleep'] == True) & (test[column].isnull()), column] = 0"
   ]
  },
  {
   "cell_type": "code",
   "execution_count": 27,
   "id": "cf975ec7",
   "metadata": {
    "scrolled": false
   },
   "outputs": [
    {
     "name": "stdout",
     "output_type": "stream",
     "text": [
      "We have still passengers with null values in the CryoSleep column:  217\n"
     ]
    }
   ],
   "source": [
    "print('We have still passengers with null values in the CryoSleep column: ', train['CryoSleep'].isnull().sum())"
   ]
  },
  {
   "cell_type": "markdown",
   "id": "5c73ca55",
   "metadata": {},
   "source": [
    "### CryoSleep & Group"
   ]
  },
  {
   "cell_type": "markdown",
   "id": "1f5c362a",
   "metadata": {},
   "source": [
    "Perhaps when people travel in a group, all members are in cryosleep?"
   ]
  },
  {
   "cell_type": "code",
   "execution_count": 28,
   "id": "f61d91a6",
   "metadata": {},
   "outputs": [
    {
     "data": {
      "image/png": "[encoded data removed]",
      "text/plain": [
       "<Figure size 432x288 with 1 Axes>"
      ]
     },
     "metadata": {},
     "output_type": "display_data"
    }
   ],
   "source": [
    "c_group=train.groupby(['group','CryoSleep']).size().unstack().fillna(0).reset_index()\n",
    "df = train[['group','group_size']]\n",
    "c_group = c_group.merge(df, on='group')\n",
    "c_group.loc[c_group[False] > 1,  False]  = 1\n",
    "c_group.loc[c_group[True] > 1,  True]  = 1\n",
    "groups_bigger_than_one = c_group.loc[c_group['group_size'] > 1]\n",
    "groups_bigger_than_one['Group members traveling in both cyrosleep and without'] = np.where((groups_bigger_than_one[True] + groups_bigger_than_one[False]) ==1, 'No', 'Yes')\n",
    "\n",
    "sns.histplot(data=groups_bigger_than_one, x=\"group_size\", hue=\"Group members traveling in both cyrosleep and without\", multiple=\"stack\")\n",
    "\n",
    "plt.tight_layout()"
   ]
  },
  {
   "cell_type": "markdown",
   "id": "2cb778eb",
   "metadata": {},
   "source": [
    "This is not helpful and we cannot use it to fill in the null values in CryoSleep"
   ]
  },
  {
   "cell_type": "code",
   "execution_count": 29,
   "id": "c523d815",
   "metadata": {},
   "outputs": [
    {
     "data": {
      "text/plain": [
       "217"
      ]
     },
     "execution_count": 29,
     "metadata": {},
     "output_type": "execute_result"
    }
   ],
   "source": [
    "train['CryoSleep'].isnull().sum()"
   ]
  },
  {
   "cell_type": "markdown",
   "id": "8359ff1f",
   "metadata": {},
   "source": [
    "### Expenses"
   ]
  },
  {
   "cell_type": "markdown",
   "id": "baaa74bb",
   "metadata": {},
   "source": [
    "**Expenses & CryoSleep** We can assume that people who have no expenses travel in cryptosleep. And those who have any expenses travel without cryosleep."
   ]
  },
  {
   "cell_type": "code",
   "execution_count": 30,
   "id": "468ad37a",
   "metadata": {},
   "outputs": [],
   "source": [
    "expenses=['RoomService', 'FoodCourt', 'ShoppingMall', 'Spa', 'VRDeck']\n",
    "\n",
    "# train dataset\n",
    "train.loc[(train['CryoSleep'].isnull()) & (train[features].sum(axis=1) == 0), 'CryoSleep'] = True\n",
    "test.loc[(test['CryoSleep'].isnull()) & (test[features].sum(axis=1) == 0), 'CryoSleep'] = True\n",
    "\n",
    "train.loc[(train['CryoSleep'].isnull()) & (train[features].sum(axis=1) != 0), 'CryoSleep'] = False\n",
    "test.loc[(test['CryoSleep'].isnull()) & (test[features].sum(axis=1) != 0), 'CryoSleep'] = False"
   ]
  },
  {
   "cell_type": "code",
   "execution_count": 31,
   "id": "f1ad0206",
   "metadata": {},
   "outputs": [
    {
     "data": {
      "text/plain": [
       "0"
      ]
     },
     "execution_count": 31,
     "metadata": {},
     "output_type": "execute_result"
    }
   ],
   "source": [
    "train['CryoSleep'].isnull().sum()"
   ]
  },
  {
   "cell_type": "markdown",
   "id": "5e5de842",
   "metadata": {},
   "source": [
    "Number of null values in expenses features"
   ]
  },
  {
   "cell_type": "code",
   "execution_count": 32,
   "id": "93aab61a",
   "metadata": {},
   "outputs": [
    {
     "data": {
      "text/html": [
       "<div>\n",
       "<style scoped>\n",
       "    .dataframe tbody tr th:only-of-type {\n",
       "        vertical-align: middle;\n",
       "    }\n",
       "\n",
       "    .dataframe tbody tr th {\n",
       "        vertical-align: top;\n",
       "    }\n",
       "\n",
       "    .dataframe thead th {\n",
       "        text-align: right;\n",
       "    }\n",
       "</style>\n",
       "<table border=\"1\" class=\"dataframe\">\n",
       "  <thead>\n",
       "    <tr style=\"text-align: right;\">\n",
       "      <th></th>\n",
       "      <th>expenses</th>\n",
       "      <th>null-val count</th>\n",
       "    </tr>\n",
       "  </thead>\n",
       "  <tbody>\n",
       "    <tr>\n",
       "      <th>0</th>\n",
       "      <td>RoomService</td>\n",
       "      <td>113</td>\n",
       "    </tr>\n",
       "    <tr>\n",
       "      <th>1</th>\n",
       "      <td>FoodCourt</td>\n",
       "      <td>113</td>\n",
       "    </tr>\n",
       "    <tr>\n",
       "      <th>2</th>\n",
       "      <td>ShoppingMall</td>\n",
       "      <td>112</td>\n",
       "    </tr>\n",
       "    <tr>\n",
       "      <th>3</th>\n",
       "      <td>Spa</td>\n",
       "      <td>118</td>\n",
       "    </tr>\n",
       "    <tr>\n",
       "      <th>4</th>\n",
       "      <td>VRDeck</td>\n",
       "      <td>126</td>\n",
       "    </tr>\n",
       "  </tbody>\n",
       "</table>\n",
       "</div>"
      ],
      "text/plain": [
       "       expenses  null-val count\n",
       "0   RoomService             113\n",
       "1     FoodCourt             113\n",
       "2  ShoppingMall             112\n",
       "3           Spa             118\n",
       "4        VRDeck             126"
      ]
     },
     "execution_count": 32,
     "metadata": {},
     "output_type": "execute_result"
    }
   ],
   "source": [
    "data ={ 'expenses': ['RoomService', 'FoodCourt', 'ShoppingMall', 'Spa', 'VRDeck'],\n",
    "        'null-val count': [train[feature].isnull().sum() for feature in expenses]\n",
    "      }\n",
    "df = pd.DataFrame(data)\n",
    "df"
   ]
  },
  {
   "cell_type": "markdown",
   "id": "1357e06e",
   "metadata": {},
   "source": [
    "Let's check if there are people in expenses in only one of the features 'RoomService', 'FoodCourt', 'ShoppingMall', 'Spa', 'VRDeck' that do not have any null value."
   ]
  },
  {
   "cell_type": "code",
   "execution_count": 33,
   "id": "44abf812",
   "metadata": {},
   "outputs": [
    {
     "data": {
      "image/png": "[encoded data removed]",
      "text/plain": [
       "<Figure size 432x288 with 1 Axes>"
      ]
     },
     "metadata": {},
     "output_type": "display_data"
    }
   ],
   "source": [
    "df = train[expenses + ['Transported']] # selecting only relevant features\n",
    "df = df.dropna() # droping null values\n",
    "\n",
    "\n",
    "for feature in expenses:\n",
    "    df[feature] = np.where(df[feature] > 0, 1, 0)\n",
    "\n",
    "df['Number of paid services'] = (df[expenses].sum(axis=1)).astype('string')\n",
    "\n",
    "sns.histplot(df, x='Number of paid services', hue='Transported')\n",
    "plt.tight_layout()"
   ]
  },
  {
   "cell_type": "markdown",
   "id": "6f1676a0",
   "metadata": {},
   "source": [
    "There seem to be people who travel not in the cyrosleep and only spend money on one service. It also appears that those with no expenses are more likely to arrive safely at their destination.  "
   ]
  },
  {
   "cell_type": "markdown",
   "id": "c197c61e",
   "metadata": {},
   "source": [
    "### Dealing with missing values in numerical attributes, including \"Age\""
   ]
  },
  {
   "cell_type": "markdown",
   "id": "19318ccd",
   "metadata": {},
   "source": [
    "The only option left in this case is to fill in the missing values. We decide that the best approach might be a sklearn class called KNNImputer. This class finds the n most similar rows to the one with the missing value and fills it with the averege value. In addition, it can fill in more than one null value per line, and it can only work with numeric values.  "
   ]
  },
  {
   "cell_type": "markdown",
   "id": "83e5ac3b",
   "metadata": {},
   "source": [
    "#### training dataset"
   ]
  },
  {
   "cell_type": "code",
   "execution_count": 34,
   "id": "f849145c",
   "metadata": {},
   "outputs": [
    {
     "name": "stdout",
     "output_type": "stream",
     "text": [
      "Missing values in the training dataset\n",
      " Age             179\n",
      "FoodCourt       113\n",
      "ShoppingMall    112\n",
      "Spa             118\n",
      "VRDeck          126\n",
      "RoomService     113\n",
      "dtype: int64\n",
      "Checking if all null values are updated\n",
      " Age             0\n",
      "FoodCourt       0\n",
      "ShoppingMall    0\n",
      "Spa             0\n",
      "VRDeck          0\n",
      "RoomService     0\n",
      "dtype: int64\n"
     ]
    }
   ],
   "source": [
    "features = [\"Age\", \"FoodCourt\", \"ShoppingMall\", \"Spa\", \"VRDeck\" ,\"RoomService\"]\n",
    "df = train[features].values\n",
    "print('Missing values in the training dataset\\n', train[features].isnull().sum())\n",
    "\n",
    "imputer = KNNImputer(n_neighbors=2, weights=\"uniform\") # we decided to go with n_neighbors=2 - most similar rows to the one with the missing value and fills it with the averege value. In addition\n",
    "df = imputer.fit_transform(df) # using KNNImputer to replace null values\n",
    "df = pd.DataFrame(df, columns= features)\n",
    "\n",
    "# adding updated features to the training dataset\n",
    "for feature in features:\n",
    "    train[feature] = df[feature]\n",
    "\n",
    "print('Checking if all null values are updated\\n', train[features].isnull().sum())"
   ]
  },
  {
   "cell_type": "markdown",
   "id": "b93b6f09",
   "metadata": {},
   "source": [
    "#### testing dataset"
   ]
  },
  {
   "cell_type": "code",
   "execution_count": 35,
   "id": "14290bbf",
   "metadata": {},
   "outputs": [
    {
     "name": "stdout",
     "output_type": "stream",
     "text": [
      "Missing values in the testing dataset\n",
      " Age             91\n",
      "FoodCourt       67\n",
      "ShoppingMall    63\n",
      "Spa             59\n",
      "VRDeck          51\n",
      "RoomService     57\n",
      "dtype: int64\n",
      "Checking if all null values are updated\n",
      " Age             0\n",
      "FoodCourt       0\n",
      "ShoppingMall    0\n",
      "Spa             0\n",
      "VRDeck          0\n",
      "RoomService     0\n",
      "dtype: int64\n"
     ]
    }
   ],
   "source": [
    "df = test[features].values\n",
    "print('Missing values in the testing dataset\\n', test[features].isnull().sum())\n",
    "\n",
    "imputer = KNNImputer(n_neighbors=2, weights=\"uniform\") \n",
    "df = imputer.fit_transform(df) \n",
    "df = pd.DataFrame(df, columns= features)\n",
    "\n",
    "for feature in features:\n",
    "    test[feature] = df[feature]\n",
    "\n",
    "print('Checking if all null values are updated\\n', test[features].isnull().sum())"
   ]
  },
  {
   "cell_type": "markdown",
   "id": "6dc9e90f",
   "metadata": {},
   "source": [
    "### HomePlanet & Group"
   ]
  },
  {
   "cell_type": "code",
   "execution_count": 36,
   "id": "23e28757",
   "metadata": {},
   "outputs": [
    {
     "data": {
      "text/html": [
       "<div>\n",
       "<style scoped>\n",
       "    .dataframe tbody tr th:only-of-type {\n",
       "        vertical-align: middle;\n",
       "    }\n",
       "\n",
       "    .dataframe tbody tr th {\n",
       "        vertical-align: top;\n",
       "    }\n",
       "\n",
       "    .dataframe thead th {\n",
       "        text-align: right;\n",
       "    }\n",
       "</style>\n",
       "<table border=\"1\" class=\"dataframe\">\n",
       "  <thead>\n",
       "    <tr style=\"text-align: right;\">\n",
       "      <th>HomePlanet</th>\n",
       "      <th>Earth</th>\n",
       "      <th>Europa</th>\n",
       "      <th>Mars</th>\n",
       "    </tr>\n",
       "    <tr>\n",
       "      <th>group</th>\n",
       "      <th></th>\n",
       "      <th></th>\n",
       "      <th></th>\n",
       "    </tr>\n",
       "  </thead>\n",
       "  <tbody>\n",
       "    <tr>\n",
       "      <th>0001</th>\n",
       "      <td>0.0</td>\n",
       "      <td>1.0</td>\n",
       "      <td>0.0</td>\n",
       "    </tr>\n",
       "    <tr>\n",
       "      <th>0002</th>\n",
       "      <td>1.0</td>\n",
       "      <td>0.0</td>\n",
       "      <td>0.0</td>\n",
       "    </tr>\n",
       "    <tr>\n",
       "      <th>0003</th>\n",
       "      <td>0.0</td>\n",
       "      <td>2.0</td>\n",
       "      <td>0.0</td>\n",
       "    </tr>\n",
       "  </tbody>\n",
       "</table>\n",
       "</div>"
      ],
      "text/plain": [
       "HomePlanet  Earth  Europa  Mars\n",
       "group                          \n",
       "0001          0.0     1.0   0.0\n",
       "0002          1.0     0.0   0.0\n",
       "0003          0.0     2.0   0.0"
      ]
     },
     "metadata": {},
     "output_type": "display_data"
    },
    {
     "data": {
      "text/html": [
       "<div>\n",
       "<style scoped>\n",
       "    .dataframe tbody tr th:only-of-type {\n",
       "        vertical-align: middle;\n",
       "    }\n",
       "\n",
       "    .dataframe tbody tr th {\n",
       "        vertical-align: top;\n",
       "    }\n",
       "\n",
       "    .dataframe thead th {\n",
       "        text-align: right;\n",
       "    }\n",
       "</style>\n",
       "<table border=\"1\" class=\"dataframe\">\n",
       "  <thead>\n",
       "    <tr style=\"text-align: right;\">\n",
       "      <th>HomePlanet</th>\n",
       "      <th>Earth</th>\n",
       "      <th>Europa</th>\n",
       "      <th>Mars</th>\n",
       "      <th>Unique HomePlanet per group</th>\n",
       "    </tr>\n",
       "    <tr>\n",
       "      <th>group</th>\n",
       "      <th></th>\n",
       "      <th></th>\n",
       "      <th></th>\n",
       "      <th></th>\n",
       "    </tr>\n",
       "  </thead>\n",
       "  <tbody>\n",
       "    <tr>\n",
       "      <th>0001</th>\n",
       "      <td>0.0</td>\n",
       "      <td>1.0</td>\n",
       "      <td>0.0</td>\n",
       "      <td>1</td>\n",
       "    </tr>\n",
       "    <tr>\n",
       "      <th>0002</th>\n",
       "      <td>1.0</td>\n",
       "      <td>0.0</td>\n",
       "      <td>0.0</td>\n",
       "      <td>1</td>\n",
       "    </tr>\n",
       "    <tr>\n",
       "      <th>0003</th>\n",
       "      <td>0.0</td>\n",
       "      <td>2.0</td>\n",
       "      <td>0.0</td>\n",
       "      <td>1</td>\n",
       "    </tr>\n",
       "  </tbody>\n",
       "</table>\n",
       "</div>"
      ],
      "text/plain": [
       "HomePlanet  Earth  Europa  Mars  Unique HomePlanet per group\n",
       "group                                                       \n",
       "0001          0.0     1.0   0.0                            1\n",
       "0002          1.0     0.0   0.0                            1\n",
       "0003          0.0     2.0   0.0                            1"
      ]
     },
     "metadata": {},
     "output_type": "display_data"
    },
    {
     "name": "stdout",
     "output_type": "stream",
     "text": [
      "Unique HomePlanet per group:  [1]\n"
     ]
    }
   ],
   "source": [
    "hm_group=train.groupby(['group','HomePlanet']).size().unstack().fillna(0)\n",
    "display(hm_group.head(3))\n",
    "hm_group['Unique HomePlanet per group'] = (hm_group>0).sum(axis=1) # this converts 0 to False and 1 to True then sums up in each row True values equivalent to number of unique home planets\n",
    "display(hm_group.head(3))\n",
    "print('Unique HomePlanet per group: ', hm_group['Unique HomePlanet per group'].unique())"
   ]
  },
  {
   "cell_type": "code",
   "execution_count": 37,
   "id": "c5101599",
   "metadata": {},
   "outputs": [
    {
     "name": "stdout",
     "output_type": "stream",
     "text": [
      "Number of groups in which members departed from more than one planet:  0\n"
     ]
    }
   ],
   "source": [
    "df = hm_group[hm_group['Unique HomePlanet per group'] > 1]\n",
    "print('Number of groups in which members departed from more than one planet: ', df.shape[0])"
   ]
  },
  {
   "cell_type": "markdown",
   "id": "5e08bc40",
   "metadata": {},
   "source": [
    "It looks like members of the same group always travel from the same home planet. This means that we can fill in the missing values according to the group, in groups with more than one member. "
   ]
  },
  {
   "cell_type": "code",
   "execution_count": 38,
   "id": "080755d3",
   "metadata": {},
   "outputs": [
    {
     "name": "stdout",
     "output_type": "stream",
     "text": [
      "The total number of passengers with missing information about the home planet 201\n"
     ]
    },
    {
     "data": {
      "text/html": [
       "<div>\n",
       "<style scoped>\n",
       "    .dataframe tbody tr th:only-of-type {\n",
       "        vertical-align: middle;\n",
       "    }\n",
       "\n",
       "    .dataframe tbody tr th {\n",
       "        vertical-align: top;\n",
       "    }\n",
       "\n",
       "    .dataframe thead th {\n",
       "        text-align: right;\n",
       "    }\n",
       "</style>\n",
       "<table border=\"1\" class=\"dataframe\">\n",
       "  <thead>\n",
       "    <tr style=\"text-align: right;\">\n",
       "      <th></th>\n",
       "      <th>group</th>\n",
       "      <th>HomePlanet</th>\n",
       "      <th>PassengerId</th>\n",
       "    </tr>\n",
       "  </thead>\n",
       "  <tbody>\n",
       "    <tr>\n",
       "      <th>59</th>\n",
       "      <td>0064</td>\n",
       "      <td>NaN</td>\n",
       "      <td>0064_02</td>\n",
       "    </tr>\n",
       "    <tr>\n",
       "      <th>113</th>\n",
       "      <td>0119</td>\n",
       "      <td>NaN</td>\n",
       "      <td>0119_01</td>\n",
       "    </tr>\n",
       "  </tbody>\n",
       "</table>\n",
       "</div>"
      ],
      "text/plain": [
       "    group HomePlanet PassengerId\n",
       "59   0064        NaN     0064_02\n",
       "113  0119        NaN     0119_01"
      ]
     },
     "metadata": {},
     "output_type": "display_data"
    },
    {
     "name": "stdout",
     "output_type": "stream",
     "text": [
      "Number of passengers traveling in a group with missing information about the home planet 92\n"
     ]
    },
    {
     "data": {
      "text/html": [
       "<div>\n",
       "<style scoped>\n",
       "    .dataframe tbody tr th:only-of-type {\n",
       "        vertical-align: middle;\n",
       "    }\n",
       "\n",
       "    .dataframe tbody tr th {\n",
       "        vertical-align: top;\n",
       "    }\n",
       "\n",
       "    .dataframe thead th {\n",
       "        text-align: right;\n",
       "    }\n",
       "</style>\n",
       "<table border=\"1\" class=\"dataframe\">\n",
       "  <thead>\n",
       "    <tr style=\"text-align: right;\">\n",
       "      <th></th>\n",
       "      <th>group</th>\n",
       "      <th>HomePlanet</th>\n",
       "    </tr>\n",
       "  </thead>\n",
       "  <tbody>\n",
       "    <tr>\n",
       "      <th>2</th>\n",
       "      <td>0003</td>\n",
       "      <td>Europa</td>\n",
       "    </tr>\n",
       "    <tr>\n",
       "      <th>6</th>\n",
       "      <td>0006</td>\n",
       "      <td>Earth</td>\n",
       "    </tr>\n",
       "  </tbody>\n",
       "</table>\n",
       "</div>"
      ],
      "text/plain": [
       "  group HomePlanet\n",
       "2  0003     Europa\n",
       "6  0006      Earth"
      ]
     },
     "metadata": {},
     "output_type": "display_data"
    }
   ],
   "source": [
    "print('The total number of passengers with missing information about the home planet', train['HomePlanet'].isnull().sum())\n",
    "\n",
    "df_null = train[(train['group_size'] > 1) & train['HomePlanet'].isnull()]\n",
    "df_null = df_null[['group','HomePlanet', 'PassengerId']]\n",
    "display(df_null.head(2))\n",
    "print('Number of passengers traveling in a group with missing information about the home planet',df_null.shape[0])\n",
    "\n",
    "not_null = train[(train['group_size'] > 1) & train['HomePlanet'].notnull()]\n",
    "not_null = not_null[['group', 'HomePlanet']].drop_duplicates()\n",
    "display(not_null.head(2))\n"
   ]
  },
  {
   "cell_type": "code",
   "execution_count": 39,
   "id": "72d47dc8",
   "metadata": {},
   "outputs": [
    {
     "data": {
      "text/plain": [
       "'Europa'"
      ]
     },
     "execution_count": 39,
     "metadata": {},
     "output_type": "execute_result"
    }
   ],
   "source": [
    "not_null.index = not_null['group']\n",
    "not_null.drop('group', axis=1, inplace=True)\n",
    "not_null.loc['0003', 'HomePlanet']"
   ]
  },
  {
   "cell_type": "code",
   "execution_count": 40,
   "id": "3fb6cc66",
   "metadata": {},
   "outputs": [
    {
     "name": "stdout",
     "output_type": "stream",
     "text": [
      "The total number of passengers with missing information about the home planet 111\n"
     ]
    }
   ],
   "source": [
    "def fill_nan(row):\n",
    "    if pd.isna(row['HomePlanet']) and row['group'] in list(not_null.index):\n",
    "        return not_null.loc[row['group'], 'HomePlanet']\n",
    "    else:\n",
    "        return row['HomePlanet']\n",
    "train['HomePlanet'] = train.apply(fill_nan, axis=1)\n",
    "print('The total number of passengers with missing information about the home planet', train['HomePlanet'].isnull().sum())"
   ]
  },
  {
   "cell_type": "markdown",
   "id": "c6ac8e1d",
   "metadata": {},
   "source": [
    "Filling the same way missing values in the test dataset"
   ]
  },
  {
   "cell_type": "code",
   "execution_count": 41,
   "id": "16bb7c44",
   "metadata": {},
   "outputs": [
    {
     "name": "stdout",
     "output_type": "stream",
     "text": [
      "Number of passengers traveling in a group with missing information about the home planet in the test dataset 87\n",
      "And after filling the missing values:  46\n"
     ]
    }
   ],
   "source": [
    "print('Number of passengers traveling in a group with missing information about the home planet in the test dataset',test['HomePlanet'].isnull().sum())\n",
    "not_null = test[(test['group_size'] > 1) & test['HomePlanet'].notnull()]\n",
    "not_null = not_null[['group', 'HomePlanet']].drop_duplicates()\n",
    "not_null.index = not_null['group']\n",
    "not_null.drop('group', axis=1, inplace=True)\n",
    "def fill_nan(row):\n",
    "    if pd.isna(row['HomePlanet']) and row['group'] in list(not_null.index):\n",
    "        return not_null.loc[row['group'], 'HomePlanet']\n",
    "    else:\n",
    "        return row['HomePlanet']\n",
    "test['HomePlanet'] = test.apply(fill_nan, axis=1)\n",
    "print('And after filling the missing values: ',test['HomePlanet'].isnull().sum())"
   ]
  },
  {
   "cell_type": "markdown",
   "id": "8f60c601",
   "metadata": {},
   "source": [
    "### HomePlanet"
   ]
  },
  {
   "cell_type": "code",
   "execution_count": 42,
   "id": "f30cb302",
   "metadata": {},
   "outputs": [
    {
     "name": "stdout",
     "output_type": "stream",
     "text": [
      "Number of missing values in the train dataset:  111\n"
     ]
    }
   ],
   "source": [
    "print('Number of missing values in the train dataset: ', train['HomePlanet'].isnull().sum())"
   ]
  },
  {
   "cell_type": "code",
   "execution_count": 43,
   "id": "c6a88baa",
   "metadata": {},
   "outputs": [
    {
     "data": {
      "image/png": "[encoded data removed]",
      "text/plain": [
       "<Figure size 432x288 with 1 Axes>"
      ]
     },
     "metadata": {},
     "output_type": "display_data"
    }
   ],
   "source": [
    "sns.histplot(data=train, x=train[\"HomePlanet\"])\n",
    "plt.tight_layout()"
   ]
  },
  {
   "cell_type": "code",
   "execution_count": 44,
   "id": "990aae4a",
   "metadata": {},
   "outputs": [
    {
     "data": {
      "text/html": [
       "<div>\n",
       "<style scoped>\n",
       "    .dataframe tbody tr th:only-of-type {\n",
       "        vertical-align: middle;\n",
       "    }\n",
       "\n",
       "    .dataframe tbody tr th {\n",
       "        vertical-align: top;\n",
       "    }\n",
       "\n",
       "    .dataframe thead th {\n",
       "        text-align: right;\n",
       "    }\n",
       "</style>\n",
       "<table border=\"1\" class=\"dataframe\">\n",
       "  <thead>\n",
       "    <tr style=\"text-align: right;\">\n",
       "      <th></th>\n",
       "      <th>HomePlanet</th>\n",
       "      <th>count</th>\n",
       "      <th>%</th>\n",
       "    </tr>\n",
       "  </thead>\n",
       "  <tbody>\n",
       "    <tr>\n",
       "      <th>2</th>\n",
       "      <td>Mars</td>\n",
       "      <td>1787</td>\n",
       "      <td>20.82</td>\n",
       "    </tr>\n",
       "    <tr>\n",
       "      <th>1</th>\n",
       "      <td>Europa</td>\n",
       "      <td>2161</td>\n",
       "      <td>25.18</td>\n",
       "    </tr>\n",
       "    <tr>\n",
       "      <th>0</th>\n",
       "      <td>Earth</td>\n",
       "      <td>4634</td>\n",
       "      <td>54.00</td>\n",
       "    </tr>\n",
       "  </tbody>\n",
       "</table>\n",
       "</div>"
      ],
      "text/plain": [
       "  HomePlanet  count      %\n",
       "2       Mars   1787  20.82\n",
       "1     Europa   2161  25.18\n",
       "0      Earth   4634  54.00"
      ]
     },
     "execution_count": 44,
     "metadata": {},
     "output_type": "execute_result"
    }
   ],
   "source": [
    "df = pd.DataFrame(train.groupby('HomePlanet').size(), columns=['count']).reset_index()\n",
    "df['%'] = ((df['count'] / df['count'].sum()) * 100).round(2)\n",
    "df.sort_values(by=['count'])"
   ]
  },
  {
   "cell_type": "markdown",
   "id": "518bc68d",
   "metadata": {},
   "source": [
    "Knowing that nearly 54% of people travel from Earth, we can set it for all null values in the HomePlanet column for both train and test datasets."
   ]
  },
  {
   "cell_type": "code",
   "execution_count": 45,
   "id": "42152db1",
   "metadata": {},
   "outputs": [],
   "source": [
    "train.loc[(train['HomePlanet'].isna()), 'HomePlanet']='Earth'\n",
    "test.loc[(test['HomePlanet'].isna()), 'HomePlanet']='Earth'"
   ]
  },
  {
   "cell_type": "markdown",
   "id": "fe294379",
   "metadata": {},
   "source": [
    "### Destination & Group"
   ]
  },
  {
   "cell_type": "code",
   "execution_count": 46,
   "id": "f4989d81",
   "metadata": {},
   "outputs": [
    {
     "data": {
      "text/html": [
       "<div>\n",
       "<style scoped>\n",
       "    .dataframe tbody tr th:only-of-type {\n",
       "        vertical-align: middle;\n",
       "    }\n",
       "\n",
       "    .dataframe tbody tr th {\n",
       "        vertical-align: top;\n",
       "    }\n",
       "\n",
       "    .dataframe thead th {\n",
       "        text-align: right;\n",
       "    }\n",
       "</style>\n",
       "<table border=\"1\" class=\"dataframe\">\n",
       "  <thead>\n",
       "    <tr style=\"text-align: right;\">\n",
       "      <th>Destination</th>\n",
       "      <th>55 Cancri e</th>\n",
       "      <th>PSO J318.5-22</th>\n",
       "      <th>TRAPPIST-1e</th>\n",
       "      <th>Unique Destination per group</th>\n",
       "    </tr>\n",
       "    <tr>\n",
       "      <th>group</th>\n",
       "      <th></th>\n",
       "      <th></th>\n",
       "      <th></th>\n",
       "      <th></th>\n",
       "    </tr>\n",
       "  </thead>\n",
       "  <tbody>\n",
       "    <tr>\n",
       "      <th>0001</th>\n",
       "      <td>0.0</td>\n",
       "      <td>0.0</td>\n",
       "      <td>1.0</td>\n",
       "      <td>1</td>\n",
       "    </tr>\n",
       "    <tr>\n",
       "      <th>0002</th>\n",
       "      <td>0.0</td>\n",
       "      <td>0.0</td>\n",
       "      <td>1.0</td>\n",
       "      <td>1</td>\n",
       "    </tr>\n",
       "    <tr>\n",
       "      <th>0003</th>\n",
       "      <td>0.0</td>\n",
       "      <td>0.0</td>\n",
       "      <td>2.0</td>\n",
       "      <td>1</td>\n",
       "    </tr>\n",
       "  </tbody>\n",
       "</table>\n",
       "</div>"
      ],
      "text/plain": [
       "Destination  55 Cancri e  PSO J318.5-22  TRAPPIST-1e  \\\n",
       "group                                                  \n",
       "0001                 0.0            0.0          1.0   \n",
       "0002                 0.0            0.0          1.0   \n",
       "0003                 0.0            0.0          2.0   \n",
       "\n",
       "Destination  Unique Destination per group  \n",
       "group                                      \n",
       "0001                                    1  \n",
       "0002                                    1  \n",
       "0003                                    1  "
      ]
     },
     "metadata": {},
     "output_type": "display_data"
    },
    {
     "name": "stdout",
     "output_type": "stream",
     "text": [
      "Unique Destination per group:  [1 2 3]\n"
     ]
    }
   ],
   "source": [
    "d_group=train.groupby(['group','Destination']).size().unstack().fillna(0)\n",
    "d_group['Unique Destination per group'] = (d_group>0).sum(axis=1) # this converts 0 to False and 1 to True then sums up in each row True values equivalent to number of unique home planets\n",
    "display(d_group.head(3))\n",
    "print('Unique Destination per group: ', d_group['Unique Destination per group'].unique())"
   ]
  },
  {
   "cell_type": "markdown",
   "id": "efe0e84e",
   "metadata": {},
   "source": [
    "People in groups do not always travel to the same destination."
   ]
  },
  {
   "cell_type": "code",
   "execution_count": 47,
   "id": "10a261e0",
   "metadata": {
    "scrolled": true
   },
   "outputs": [
    {
     "data": {
      "image/png": "[encoded data removed]",
      "text/plain": [
       "<Figure size 432x288 with 1 Axes>"
      ]
     },
     "metadata": {},
     "output_type": "display_data"
    }
   ],
   "source": [
    "sns.histplot(data=d_group, x=d_group[\"Unique Destination per group\"].astype(\"S\"))\n",
    "plt.tight_layout()"
   ]
  },
  {
   "cell_type": "markdown",
   "id": "39adeb21",
   "metadata": {},
   "source": [
    "### Destination"
   ]
  },
  {
   "cell_type": "code",
   "execution_count": 48,
   "id": "8520c24e",
   "metadata": {},
   "outputs": [
    {
     "name": "stdout",
     "output_type": "stream",
     "text": [
      "Number of missing values in the train dataset:  182\n"
     ]
    }
   ],
   "source": [
    "print('Number of missing values in the train dataset: ', train['Destination'].isnull().sum())\n"
   ]
  },
  {
   "cell_type": "code",
   "execution_count": 49,
   "id": "efec2310",
   "metadata": {},
   "outputs": [
    {
     "data": {
      "image/png": "[encoded data removed]",
      "text/plain": [
       "<Figure size 432x288 with 1 Axes>"
      ]
     },
     "metadata": {},
     "output_type": "display_data"
    }
   ],
   "source": [
    "sns.histplot(data=d_group, x=train[\"Destination\"])\n",
    "plt.tight_layout()"
   ]
  },
  {
   "cell_type": "code",
   "execution_count": 50,
   "id": "9fb2f1f6",
   "metadata": {},
   "outputs": [
    {
     "data": {
      "text/html": [
       "<div>\n",
       "<style scoped>\n",
       "    .dataframe tbody tr th:only-of-type {\n",
       "        vertical-align: middle;\n",
       "    }\n",
       "\n",
       "    .dataframe tbody tr th {\n",
       "        vertical-align: top;\n",
       "    }\n",
       "\n",
       "    .dataframe thead th {\n",
       "        text-align: right;\n",
       "    }\n",
       "</style>\n",
       "<table border=\"1\" class=\"dataframe\">\n",
       "  <thead>\n",
       "    <tr style=\"text-align: right;\">\n",
       "      <th></th>\n",
       "      <th>Destination</th>\n",
       "      <th>count</th>\n",
       "      <th>%</th>\n",
       "    </tr>\n",
       "  </thead>\n",
       "  <tbody>\n",
       "    <tr>\n",
       "      <th>1</th>\n",
       "      <td>PSO J318.5-22</td>\n",
       "      <td>796</td>\n",
       "      <td>9.35</td>\n",
       "    </tr>\n",
       "    <tr>\n",
       "      <th>0</th>\n",
       "      <td>55 Cancri e</td>\n",
       "      <td>1800</td>\n",
       "      <td>21.15</td>\n",
       "    </tr>\n",
       "    <tr>\n",
       "      <th>2</th>\n",
       "      <td>TRAPPIST-1e</td>\n",
       "      <td>5915</td>\n",
       "      <td>69.50</td>\n",
       "    </tr>\n",
       "  </tbody>\n",
       "</table>\n",
       "</div>"
      ],
      "text/plain": [
       "     Destination  count      %\n",
       "1  PSO J318.5-22    796   9.35\n",
       "0    55 Cancri e   1800  21.15\n",
       "2    TRAPPIST-1e   5915  69.50"
      ]
     },
     "execution_count": 50,
     "metadata": {},
     "output_type": "execute_result"
    }
   ],
   "source": [
    "df = pd.DataFrame(train.groupby('Destination').size(), columns=['count']).reset_index()\n",
    "df['%'] = ((df['count'] / df['count'].sum()) * 100).round(2)\n",
    "df.sort_values(by=['count'])"
   ]
  },
  {
   "cell_type": "markdown",
   "id": "a76f492b",
   "metadata": {},
   "source": [
    "Knowing that nearly 70% of people travel to TRAPPIST-1e, we can set it for all null values in the destination column for both train and test datasets."
   ]
  },
  {
   "cell_type": "code",
   "execution_count": 51,
   "id": "193cd08a",
   "metadata": {},
   "outputs": [],
   "source": [
    "train.loc[(train['Destination'].isna()), 'Destination']='TRAPPIST-1e'\n",
    "test.loc[(test['Destination'].isna()), 'Destination']='TRAPPIST-1e'"
   ]
  },
  {
   "cell_type": "markdown",
   "id": "31672d0f",
   "metadata": {},
   "source": [
    "### Name"
   ]
  },
  {
   "cell_type": "code",
   "execution_count": 52,
   "id": "deff6fd4",
   "metadata": {},
   "outputs": [
    {
     "name": "stdout",
     "output_type": "stream",
     "text": [
      "Missing names in the training dataset:  200\n"
     ]
    },
    {
     "data": {
      "text/html": [
       "<div>\n",
       "<style scoped>\n",
       "    .dataframe tbody tr th:only-of-type {\n",
       "        vertical-align: middle;\n",
       "    }\n",
       "\n",
       "    .dataframe tbody tr th {\n",
       "        vertical-align: top;\n",
       "    }\n",
       "\n",
       "    .dataframe thead th {\n",
       "        text-align: right;\n",
       "    }\n",
       "</style>\n",
       "<table border=\"1\" class=\"dataframe\">\n",
       "  <thead>\n",
       "    <tr style=\"text-align: right;\">\n",
       "      <th></th>\n",
       "      <th>PassengerId</th>\n",
       "      <th>HomePlanet</th>\n",
       "      <th>CryoSleep</th>\n",
       "      <th>Cabin</th>\n",
       "      <th>Destination</th>\n",
       "      <th>Age</th>\n",
       "      <th>VIP</th>\n",
       "      <th>RoomService</th>\n",
       "      <th>FoodCourt</th>\n",
       "      <th>ShoppingMall</th>\n",
       "      <th>Spa</th>\n",
       "      <th>VRDeck</th>\n",
       "      <th>Name</th>\n",
       "      <th>Transported</th>\n",
       "      <th>group</th>\n",
       "      <th>no_in_group</th>\n",
       "      <th>group_size</th>\n",
       "    </tr>\n",
       "  </thead>\n",
       "  <tbody>\n",
       "    <tr>\n",
       "      <th>27</th>\n",
       "      <td>0022_01</td>\n",
       "      <td>Mars</td>\n",
       "      <td>False</td>\n",
       "      <td>D/0/P</td>\n",
       "      <td>TRAPPIST-1e</td>\n",
       "      <td>21.0</td>\n",
       "      <td>False</td>\n",
       "      <td>980.0</td>\n",
       "      <td>2.0</td>\n",
       "      <td>69.0</td>\n",
       "      <td>0.0</td>\n",
       "      <td>0.0</td>\n",
       "      <td>NaN</td>\n",
       "      <td>False</td>\n",
       "      <td>0022</td>\n",
       "      <td>01</td>\n",
       "      <td>1</td>\n",
       "    </tr>\n",
       "    <tr>\n",
       "      <th>58</th>\n",
       "      <td>0064_01</td>\n",
       "      <td>Mars</td>\n",
       "      <td>True</td>\n",
       "      <td>F/14/S</td>\n",
       "      <td>TRAPPIST-1e</td>\n",
       "      <td>15.0</td>\n",
       "      <td>False</td>\n",
       "      <td>0.0</td>\n",
       "      <td>0.0</td>\n",
       "      <td>0.0</td>\n",
       "      <td>0.0</td>\n",
       "      <td>0.0</td>\n",
       "      <td>NaN</td>\n",
       "      <td>True</td>\n",
       "      <td>0064</td>\n",
       "      <td>01</td>\n",
       "      <td>2</td>\n",
       "    </tr>\n",
       "    <tr>\n",
       "      <th>65</th>\n",
       "      <td>0069_01</td>\n",
       "      <td>Earth</td>\n",
       "      <td>False</td>\n",
       "      <td>F/16/S</td>\n",
       "      <td>TRAPPIST-1e</td>\n",
       "      <td>42.0</td>\n",
       "      <td>False</td>\n",
       "      <td>887.0</td>\n",
       "      <td>0.0</td>\n",
       "      <td>9.0</td>\n",
       "      <td>6.0</td>\n",
       "      <td>0.0</td>\n",
       "      <td>NaN</td>\n",
       "      <td>True</td>\n",
       "      <td>0069</td>\n",
       "      <td>01</td>\n",
       "      <td>1</td>\n",
       "    </tr>\n",
       "  </tbody>\n",
       "</table>\n",
       "</div>"
      ],
      "text/plain": [
       "   PassengerId HomePlanet CryoSleep   Cabin  Destination   Age    VIP  \\\n",
       "27     0022_01       Mars     False   D/0/P  TRAPPIST-1e  21.0  False   \n",
       "58     0064_01       Mars      True  F/14/S  TRAPPIST-1e  15.0  False   \n",
       "65     0069_01      Earth     False  F/16/S  TRAPPIST-1e  42.0  False   \n",
       "\n",
       "    RoomService  FoodCourt  ShoppingMall  Spa  VRDeck Name  Transported group  \\\n",
       "27        980.0        2.0          69.0  0.0     0.0  NaN        False  0022   \n",
       "58          0.0        0.0           0.0  0.0     0.0  NaN         True  0064   \n",
       "65        887.0        0.0           9.0  6.0     0.0  NaN         True  0069   \n",
       "\n",
       "   no_in_group  group_size  \n",
       "27          01           1  \n",
       "58          01           2  \n",
       "65          01           1  "
      ]
     },
     "metadata": {},
     "output_type": "display_data"
    },
    {
     "data": {
      "text/html": [
       "<div>\n",
       "<style scoped>\n",
       "    .dataframe tbody tr th:only-of-type {\n",
       "        vertical-align: middle;\n",
       "    }\n",
       "\n",
       "    .dataframe tbody tr th {\n",
       "        vertical-align: top;\n",
       "    }\n",
       "\n",
       "    .dataframe thead th {\n",
       "        text-align: right;\n",
       "    }\n",
       "</style>\n",
       "<table border=\"1\" class=\"dataframe\">\n",
       "  <thead>\n",
       "    <tr style=\"text-align: right;\">\n",
       "      <th></th>\n",
       "      <th>PassengerId</th>\n",
       "      <th>HomePlanet</th>\n",
       "      <th>CryoSleep</th>\n",
       "      <th>Cabin</th>\n",
       "      <th>Destination</th>\n",
       "      <th>Age</th>\n",
       "      <th>VIP</th>\n",
       "      <th>RoomService</th>\n",
       "      <th>FoodCourt</th>\n",
       "      <th>ShoppingMall</th>\n",
       "      <th>Spa</th>\n",
       "      <th>VRDeck</th>\n",
       "      <th>Name</th>\n",
       "      <th>Transported</th>\n",
       "      <th>group</th>\n",
       "      <th>no_in_group</th>\n",
       "      <th>group_size</th>\n",
       "    </tr>\n",
       "  </thead>\n",
       "  <tbody>\n",
       "    <tr>\n",
       "      <th>0</th>\n",
       "      <td>0001_01</td>\n",
       "      <td>Europa</td>\n",
       "      <td>False</td>\n",
       "      <td>B/0/P</td>\n",
       "      <td>TRAPPIST-1e</td>\n",
       "      <td>39.0</td>\n",
       "      <td>False</td>\n",
       "      <td>0.0</td>\n",
       "      <td>0.0</td>\n",
       "      <td>0.0</td>\n",
       "      <td>0.0</td>\n",
       "      <td>0.0</td>\n",
       "      <td>Maham Ofracculy</td>\n",
       "      <td>False</td>\n",
       "      <td>0001</td>\n",
       "      <td>01</td>\n",
       "      <td>1</td>\n",
       "    </tr>\n",
       "    <tr>\n",
       "      <th>1</th>\n",
       "      <td>0002_01</td>\n",
       "      <td>Earth</td>\n",
       "      <td>False</td>\n",
       "      <td>F/0/S</td>\n",
       "      <td>TRAPPIST-1e</td>\n",
       "      <td>24.0</td>\n",
       "      <td>False</td>\n",
       "      <td>109.0</td>\n",
       "      <td>9.0</td>\n",
       "      <td>25.0</td>\n",
       "      <td>549.0</td>\n",
       "      <td>44.0</td>\n",
       "      <td>Juanna Vines</td>\n",
       "      <td>True</td>\n",
       "      <td>0002</td>\n",
       "      <td>01</td>\n",
       "      <td>1</td>\n",
       "    </tr>\n",
       "    <tr>\n",
       "      <th>2</th>\n",
       "      <td>0003_01</td>\n",
       "      <td>Europa</td>\n",
       "      <td>False</td>\n",
       "      <td>A/0/S</td>\n",
       "      <td>TRAPPIST-1e</td>\n",
       "      <td>58.0</td>\n",
       "      <td>True</td>\n",
       "      <td>43.0</td>\n",
       "      <td>3576.0</td>\n",
       "      <td>0.0</td>\n",
       "      <td>6715.0</td>\n",
       "      <td>49.0</td>\n",
       "      <td>Altark Susent</td>\n",
       "      <td>False</td>\n",
       "      <td>0003</td>\n",
       "      <td>01</td>\n",
       "      <td>2</td>\n",
       "    </tr>\n",
       "    <tr>\n",
       "      <th>3</th>\n",
       "      <td>0003_02</td>\n",
       "      <td>Europa</td>\n",
       "      <td>False</td>\n",
       "      <td>A/0/S</td>\n",
       "      <td>TRAPPIST-1e</td>\n",
       "      <td>33.0</td>\n",
       "      <td>False</td>\n",
       "      <td>0.0</td>\n",
       "      <td>1283.0</td>\n",
       "      <td>371.0</td>\n",
       "      <td>3329.0</td>\n",
       "      <td>193.0</td>\n",
       "      <td>Solam Susent</td>\n",
       "      <td>False</td>\n",
       "      <td>0003</td>\n",
       "      <td>02</td>\n",
       "      <td>2</td>\n",
       "    </tr>\n",
       "    <tr>\n",
       "      <th>4</th>\n",
       "      <td>0004_01</td>\n",
       "      <td>Earth</td>\n",
       "      <td>False</td>\n",
       "      <td>F/1/S</td>\n",
       "      <td>TRAPPIST-1e</td>\n",
       "      <td>16.0</td>\n",
       "      <td>False</td>\n",
       "      <td>303.0</td>\n",
       "      <td>70.0</td>\n",
       "      <td>151.0</td>\n",
       "      <td>565.0</td>\n",
       "      <td>2.0</td>\n",
       "      <td>Willy Santantines</td>\n",
       "      <td>True</td>\n",
       "      <td>0004</td>\n",
       "      <td>01</td>\n",
       "      <td>1</td>\n",
       "    </tr>\n",
       "  </tbody>\n",
       "</table>\n",
       "</div>"
      ],
      "text/plain": [
       "  PassengerId HomePlanet CryoSleep  Cabin  Destination   Age    VIP  \\\n",
       "0     0001_01     Europa     False  B/0/P  TRAPPIST-1e  39.0  False   \n",
       "1     0002_01      Earth     False  F/0/S  TRAPPIST-1e  24.0  False   \n",
       "2     0003_01     Europa     False  A/0/S  TRAPPIST-1e  58.0   True   \n",
       "3     0003_02     Europa     False  A/0/S  TRAPPIST-1e  33.0  False   \n",
       "4     0004_01      Earth     False  F/1/S  TRAPPIST-1e  16.0  False   \n",
       "\n",
       "   RoomService  FoodCourt  ShoppingMall     Spa  VRDeck               Name  \\\n",
       "0          0.0        0.0           0.0     0.0     0.0    Maham Ofracculy   \n",
       "1        109.0        9.0          25.0   549.0    44.0       Juanna Vines   \n",
       "2         43.0     3576.0           0.0  6715.0    49.0      Altark Susent   \n",
       "3          0.0     1283.0         371.0  3329.0   193.0       Solam Susent   \n",
       "4        303.0       70.0         151.0   565.0     2.0  Willy Santantines   \n",
       "\n",
       "   Transported group no_in_group  group_size  \n",
       "0        False  0001          01           1  \n",
       "1         True  0002          01           1  \n",
       "2        False  0003          01           2  \n",
       "3        False  0003          02           2  \n",
       "4         True  0004          01           1  "
      ]
     },
     "metadata": {},
     "output_type": "display_data"
    }
   ],
   "source": [
    "print('Missing names in the training dataset: ', train['Name'].isnull().sum())\n",
    "display(train.loc[train['Name'].isnull()].head(3))\n",
    "display(train.head(5))"
   ]
  },
  {
   "cell_type": "markdown",
   "id": "d7d89447",
   "metadata": {},
   "source": [
    "We believe that names are not important for running predictive models and we will not use this information. "
   ]
  },
  {
   "cell_type": "markdown",
   "id": "6cdf48ca",
   "metadata": {},
   "source": [
    "### Cabin\n",
    " - The cabin number where the passenger is staying. Takes the form deck/num/side, where side can be either P for Port or S for Starboard."
   ]
  },
  {
   "cell_type": "code",
   "execution_count": 53,
   "id": "3505a250",
   "metadata": {},
   "outputs": [
    {
     "name": "stdout",
     "output_type": "stream",
     "text": [
      "Missing data in the training dataset:  199\n"
     ]
    }
   ],
   "source": [
    "print('Missing data in the training dataset: ', train['Cabin'].isnull().sum())"
   ]
  },
  {
   "cell_type": "markdown",
   "id": "387f5dad",
   "metadata": {},
   "source": [
    "As we can see, the cabin number consists of 3 pieces of information. First, we create 3 new columns for this information (deck, num, and side), and we will try to find and detect any pattern that could help us to fill in the missing data."
   ]
  },
  {
   "cell_type": "code",
   "execution_count": 54,
   "id": "0ed23205",
   "metadata": {},
   "outputs": [
    {
     "name": "stdout",
     "output_type": "stream",
     "text": [
      "Number of unique cabins in the training dataset:  6561\n"
     ]
    }
   ],
   "source": [
    "print('Number of unique cabins in the training dataset: ', len(train['Cabin'].unique()))"
   ]
  },
  {
   "cell_type": "code",
   "execution_count": 55,
   "id": "6c84565e",
   "metadata": {},
   "outputs": [],
   "source": [
    "train[['deck', 'num','side']] = train['Cabin'].str.split(\"/\", expand = True)\n",
    "test[['deck', 'num','side']] = test['Cabin'].str.split(\"/\", expand = True)"
   ]
  },
  {
   "cell_type": "markdown",
   "id": "58ea61d5",
   "metadata": {},
   "source": [
    "Number of **decks** - cruise ships tend to be numbered going from the bottom up. It begins with Deck 1 and can go up [source](https://www.cruisehive.com/what-is-on-the-lowest-deck-on-a-ship/78515)"
   ]
  },
  {
   "cell_type": "code",
   "execution_count": 56,
   "id": "d3479f5f",
   "metadata": {},
   "outputs": [
    {
     "data": {
      "text/html": [
       "<style type=\"text/css\">\n",
       "#T_23d34_row0_col2 {\n",
       "  width: 10em;\n",
       "  height: 80%;\n",
       "}\n",
       "#T_23d34_row1_col2 {\n",
       "  width: 10em;\n",
       "  height: 80%;\n",
       "  background: linear-gradient(90deg,pink 91.6%, transparent 91.6%);\n",
       "}\n",
       "#T_23d34_row2_col2 {\n",
       "  width: 10em;\n",
       "  height: 80%;\n",
       "  background: linear-gradient(90deg,pink 100.0%, transparent 100.0%);\n",
       "}\n",
       "#T_23d34_row3_col2 {\n",
       "  width: 10em;\n",
       "  height: 80%;\n",
       "  background: linear-gradient(90deg,pink 31.2%, transparent 31.2%);\n",
       "}\n",
       "#T_23d34_row4_col2 {\n",
       "  width: 10em;\n",
       "  height: 80%;\n",
       "  background: linear-gradient(90deg,pink 17.0%, transparent 17.0%);\n",
       "}\n",
       "#T_23d34_row5_col2 {\n",
       "  width: 10em;\n",
       "  height: 80%;\n",
       "  background: linear-gradient(90deg,pink 26.6%, transparent 26.6%);\n",
       "}\n",
       "#T_23d34_row6_col2 {\n",
       "  width: 10em;\n",
       "  height: 80%;\n",
       "  background: linear-gradient(90deg,pink 27.7%, transparent 27.7%);\n",
       "}\n",
       "#T_23d34_row7_col2 {\n",
       "  width: 10em;\n",
       "  height: 80%;\n",
       "  background: linear-gradient(90deg,pink 9.0%, transparent 9.0%);\n",
       "}\n",
       "</style>\n",
       "<table id=\"T_23d34_\">\n",
       "  <thead>\n",
       "    <tr>\n",
       "      <th class=\"blank level0\" >&nbsp;</th>\n",
       "      <th class=\"col_heading level0 col0\" >deck</th>\n",
       "      <th class=\"col_heading level0 col1\" >count</th>\n",
       "      <th class=\"col_heading level0 col2\" >count %</th>\n",
       "    </tr>\n",
       "  </thead>\n",
       "  <tbody>\n",
       "    <tr>\n",
       "      <th id=\"T_23d34_level0_row0\" class=\"row_heading level0 row0\" >7</th>\n",
       "      <td id=\"T_23d34_row0_col0\" class=\"data row0 col0\" >T</td>\n",
       "      <td id=\"T_23d34_row0_col1\" class=\"data row0 col1\" >5</td>\n",
       "      <td id=\"T_23d34_row0_col2\" class=\"data row0 col2\" >0.060000</td>\n",
       "    </tr>\n",
       "    <tr>\n",
       "      <th id=\"T_23d34_level0_row1\" class=\"row_heading level0 row1\" >1</th>\n",
       "      <td id=\"T_23d34_row1_col0\" class=\"data row1 col0\" >G</td>\n",
       "      <td id=\"T_23d34_row1_col1\" class=\"data row1 col1\" >2559</td>\n",
       "      <td id=\"T_23d34_row1_col2\" class=\"data row1 col2\" >30.130000</td>\n",
       "    </tr>\n",
       "    <tr>\n",
       "      <th id=\"T_23d34_level0_row2\" class=\"row_heading level0 row2\" >0</th>\n",
       "      <td id=\"T_23d34_row2_col0\" class=\"data row2 col0\" >F</td>\n",
       "      <td id=\"T_23d34_row2_col1\" class=\"data row2 col1\" >2794</td>\n",
       "      <td id=\"T_23d34_row2_col2\" class=\"data row2 col2\" >32.890000</td>\n",
       "    </tr>\n",
       "    <tr>\n",
       "      <th id=\"T_23d34_level0_row3\" class=\"row_heading level0 row3\" >2</th>\n",
       "      <td id=\"T_23d34_row3_col0\" class=\"data row3 col0\" >E</td>\n",
       "      <td id=\"T_23d34_row3_col1\" class=\"data row3 col1\" >876</td>\n",
       "      <td id=\"T_23d34_row3_col2\" class=\"data row3 col2\" >10.310000</td>\n",
       "    </tr>\n",
       "    <tr>\n",
       "      <th id=\"T_23d34_level0_row4\" class=\"row_heading level0 row4\" >5</th>\n",
       "      <td id=\"T_23d34_row4_col0\" class=\"data row4 col0\" >D</td>\n",
       "      <td id=\"T_23d34_row4_col1\" class=\"data row4 col1\" >478</td>\n",
       "      <td id=\"T_23d34_row4_col2\" class=\"data row4 col2\" >5.630000</td>\n",
       "    </tr>\n",
       "    <tr>\n",
       "      <th id=\"T_23d34_level0_row5\" class=\"row_heading level0 row5\" >4</th>\n",
       "      <td id=\"T_23d34_row5_col0\" class=\"data row5 col0\" >C</td>\n",
       "      <td id=\"T_23d34_row5_col1\" class=\"data row5 col1\" >747</td>\n",
       "      <td id=\"T_23d34_row5_col2\" class=\"data row5 col2\" >8.790000</td>\n",
       "    </tr>\n",
       "    <tr>\n",
       "      <th id=\"T_23d34_level0_row6\" class=\"row_heading level0 row6\" >3</th>\n",
       "      <td id=\"T_23d34_row6_col0\" class=\"data row6 col0\" >B</td>\n",
       "      <td id=\"T_23d34_row6_col1\" class=\"data row6 col1\" >779</td>\n",
       "      <td id=\"T_23d34_row6_col2\" class=\"data row6 col2\" >9.170000</td>\n",
       "    </tr>\n",
       "    <tr>\n",
       "      <th id=\"T_23d34_level0_row7\" class=\"row_heading level0 row7\" >6</th>\n",
       "      <td id=\"T_23d34_row7_col0\" class=\"data row7 col0\" >A</td>\n",
       "      <td id=\"T_23d34_row7_col1\" class=\"data row7 col1\" >256</td>\n",
       "      <td id=\"T_23d34_row7_col2\" class=\"data row7 col2\" >3.010000</td>\n",
       "    </tr>\n",
       "  </tbody>\n",
       "</table>\n"
      ],
      "text/plain": [
       "<pandas.io.formats.style.Styler at 0x28616518a08>"
      ]
     },
     "execution_count": 56,
     "metadata": {},
     "output_type": "execute_result"
    }
   ],
   "source": [
    "df = train['deck'].value_counts().reset_index(name='count').sort_values(by=['index'], ascending=False)\n",
    "df['%'] = ((df['count'] / df['count'].sum()) *100).round(2)\n",
    "df.columns = ['deck', 'count', 'count %']\n",
    "df.style.bar(subset=[\"count %\"], color='pink')"
   ]
  },
  {
   "cell_type": "markdown",
   "id": "2419ae0b",
   "metadata": {},
   "source": [
    "#### Deck vs Trasported"
   ]
  },
  {
   "cell_type": "code",
   "execution_count": 57,
   "id": "b86f5329",
   "metadata": {},
   "outputs": [
    {
     "data": {
      "text/html": [
       "<div>\n",
       "<style scoped>\n",
       "    .dataframe tbody tr th:only-of-type {\n",
       "        vertical-align: middle;\n",
       "    }\n",
       "\n",
       "    .dataframe tbody tr th {\n",
       "        vertical-align: top;\n",
       "    }\n",
       "\n",
       "    .dataframe thead th {\n",
       "        text-align: right;\n",
       "    }\n",
       "</style>\n",
       "<table border=\"1\" class=\"dataframe\">\n",
       "  <thead>\n",
       "    <tr style=\"text-align: right;\">\n",
       "      <th></th>\n",
       "      <th></th>\n",
       "      <th>count</th>\n",
       "    </tr>\n",
       "    <tr>\n",
       "      <th>deck</th>\n",
       "      <th>Transported</th>\n",
       "      <th></th>\n",
       "    </tr>\n",
       "  </thead>\n",
       "  <tbody>\n",
       "    <tr>\n",
       "      <th rowspan=\"2\" valign=\"top\">T</th>\n",
       "      <th>True</th>\n",
       "      <td>1</td>\n",
       "    </tr>\n",
       "    <tr>\n",
       "      <th>False</th>\n",
       "      <td>4</td>\n",
       "    </tr>\n",
       "    <tr>\n",
       "      <th rowspan=\"2\" valign=\"top\">G</th>\n",
       "      <th>True</th>\n",
       "      <td>1321</td>\n",
       "    </tr>\n",
       "    <tr>\n",
       "      <th>False</th>\n",
       "      <td>1238</td>\n",
       "    </tr>\n",
       "    <tr>\n",
       "      <th rowspan=\"2\" valign=\"top\">F</th>\n",
       "      <th>True</th>\n",
       "      <td>1229</td>\n",
       "    </tr>\n",
       "    <tr>\n",
       "      <th>False</th>\n",
       "      <td>1565</td>\n",
       "    </tr>\n",
       "    <tr>\n",
       "      <th rowspan=\"2\" valign=\"top\">E</th>\n",
       "      <th>True</th>\n",
       "      <td>313</td>\n",
       "    </tr>\n",
       "    <tr>\n",
       "      <th>False</th>\n",
       "      <td>563</td>\n",
       "    </tr>\n",
       "    <tr>\n",
       "      <th rowspan=\"2\" valign=\"top\">D</th>\n",
       "      <th>True</th>\n",
       "      <td>207</td>\n",
       "    </tr>\n",
       "    <tr>\n",
       "      <th>False</th>\n",
       "      <td>271</td>\n",
       "    </tr>\n",
       "    <tr>\n",
       "      <th rowspan=\"2\" valign=\"top\">C</th>\n",
       "      <th>True</th>\n",
       "      <td>508</td>\n",
       "    </tr>\n",
       "    <tr>\n",
       "      <th>False</th>\n",
       "      <td>239</td>\n",
       "    </tr>\n",
       "    <tr>\n",
       "      <th rowspan=\"2\" valign=\"top\">B</th>\n",
       "      <th>True</th>\n",
       "      <td>572</td>\n",
       "    </tr>\n",
       "    <tr>\n",
       "      <th>False</th>\n",
       "      <td>207</td>\n",
       "    </tr>\n",
       "    <tr>\n",
       "      <th rowspan=\"2\" valign=\"top\">A</th>\n",
       "      <th>True</th>\n",
       "      <td>127</td>\n",
       "    </tr>\n",
       "    <tr>\n",
       "      <th>False</th>\n",
       "      <td>129</td>\n",
       "    </tr>\n",
       "  </tbody>\n",
       "</table>\n",
       "</div>"
      ],
      "text/plain": [
       "                  count\n",
       "deck Transported       \n",
       "T    True             1\n",
       "     False            4\n",
       "G    True          1321\n",
       "     False         1238\n",
       "F    True          1229\n",
       "     False         1565\n",
       "E    True           313\n",
       "     False          563\n",
       "D    True           207\n",
       "     False          271\n",
       "C    True           508\n",
       "     False          239\n",
       "B    True           572\n",
       "     False          207\n",
       "A    True           127\n",
       "     False          129"
      ]
     },
     "metadata": {},
     "output_type": "display_data"
    },
    {
     "data": {
      "image/png": "[encoded data removed]",
      "text/plain": [
       "<Figure size 432x288 with 1 Axes>"
      ]
     },
     "metadata": {},
     "output_type": "display_data"
    }
   ],
   "source": [
    "# multiIndex and sorting by index \n",
    "df = train.groupby(['deck', 'Transported'])['Transported'].count().to_frame(name='count').sort_index(ascending=False)\n",
    "display(df)\n",
    "sns.barplot(x=\"deck\", y=\"count\", hue=\"Transported\", data=df.reset_index()) # moving multindex to columns; this way we can use 'Transported' as hue\n",
    "plt.title('Deck vs Trasported')\n",
    "plt.tight_layout()"
   ]
  },
  {
   "cell_type": "markdown",
   "id": "acff2140",
   "metadata": {},
   "source": [
    "The largest number of people travel on decks G and F, around 66% of passengers. Passengers traveling on B, C & G decks have the highest chances of reaching their destination - in that order."
   ]
  },
  {
   "cell_type": "markdown",
   "id": "3afe61f6",
   "metadata": {},
   "source": [
    "#### Deck vs CryoSleep"
   ]
  },
  {
   "cell_type": "code",
   "execution_count": 58,
   "id": "ab3aa2cc",
   "metadata": {},
   "outputs": [
    {
     "data": {
      "text/html": [
       "<div>\n",
       "<style scoped>\n",
       "    .dataframe tbody tr th:only-of-type {\n",
       "        vertical-align: middle;\n",
       "    }\n",
       "\n",
       "    .dataframe tbody tr th {\n",
       "        vertical-align: top;\n",
       "    }\n",
       "\n",
       "    .dataframe thead th {\n",
       "        text-align: right;\n",
       "    }\n",
       "</style>\n",
       "<table border=\"1\" class=\"dataframe\">\n",
       "  <thead>\n",
       "    <tr style=\"text-align: right;\">\n",
       "      <th></th>\n",
       "      <th></th>\n",
       "      <th>count</th>\n",
       "    </tr>\n",
       "    <tr>\n",
       "      <th>deck</th>\n",
       "      <th>CryoSleep</th>\n",
       "      <th></th>\n",
       "    </tr>\n",
       "  </thead>\n",
       "  <tbody>\n",
       "    <tr>\n",
       "      <th rowspan=\"2\" valign=\"top\">T</th>\n",
       "      <th>True</th>\n",
       "      <td>1</td>\n",
       "    </tr>\n",
       "    <tr>\n",
       "      <th>False</th>\n",
       "      <td>4</td>\n",
       "    </tr>\n",
       "    <tr>\n",
       "      <th rowspan=\"2\" valign=\"top\">G</th>\n",
       "      <th>True</th>\n",
       "      <td>1413</td>\n",
       "    </tr>\n",
       "    <tr>\n",
       "      <th>False</th>\n",
       "      <td>1146</td>\n",
       "    </tr>\n",
       "    <tr>\n",
       "      <th rowspan=\"2\" valign=\"top\">F</th>\n",
       "      <th>True</th>\n",
       "      <td>618</td>\n",
       "    </tr>\n",
       "    <tr>\n",
       "      <th>False</th>\n",
       "      <td>2176</td>\n",
       "    </tr>\n",
       "    <tr>\n",
       "      <th rowspan=\"2\" valign=\"top\">E</th>\n",
       "      <th>True</th>\n",
       "      <td>188</td>\n",
       "    </tr>\n",
       "    <tr>\n",
       "      <th>False</th>\n",
       "      <td>688</td>\n",
       "    </tr>\n",
       "    <tr>\n",
       "      <th rowspan=\"2\" valign=\"top\">D</th>\n",
       "      <th>True</th>\n",
       "      <td>114</td>\n",
       "    </tr>\n",
       "    <tr>\n",
       "      <th>False</th>\n",
       "      <td>364</td>\n",
       "    </tr>\n",
       "    <tr>\n",
       "      <th rowspan=\"2\" valign=\"top\">C</th>\n",
       "      <th>True</th>\n",
       "      <td>317</td>\n",
       "    </tr>\n",
       "    <tr>\n",
       "      <th>False</th>\n",
       "      <td>430</td>\n",
       "    </tr>\n",
       "    <tr>\n",
       "      <th rowspan=\"2\" valign=\"top\">B</th>\n",
       "      <th>True</th>\n",
       "      <td>438</td>\n",
       "    </tr>\n",
       "    <tr>\n",
       "      <th>False</th>\n",
       "      <td>341</td>\n",
       "    </tr>\n",
       "    <tr>\n",
       "      <th rowspan=\"2\" valign=\"top\">A</th>\n",
       "      <th>True</th>\n",
       "      <td>74</td>\n",
       "    </tr>\n",
       "    <tr>\n",
       "      <th>False</th>\n",
       "      <td>182</td>\n",
       "    </tr>\n",
       "  </tbody>\n",
       "</table>\n",
       "</div>"
      ],
      "text/plain": [
       "                count\n",
       "deck CryoSleep       \n",
       "T    True           1\n",
       "     False          4\n",
       "G    True        1413\n",
       "     False       1146\n",
       "F    True         618\n",
       "     False       2176\n",
       "E    True         188\n",
       "     False        688\n",
       "D    True         114\n",
       "     False        364\n",
       "C    True         317\n",
       "     False        430\n",
       "B    True         438\n",
       "     False        341\n",
       "A    True          74\n",
       "     False        182"
      ]
     },
     "metadata": {},
     "output_type": "display_data"
    },
    {
     "data": {
      "image/png": "[encoded data removed]",
      "text/plain": [
       "<Figure size 432x288 with 1 Axes>"
      ]
     },
     "metadata": {},
     "output_type": "display_data"
    }
   ],
   "source": [
    "df = train.groupby(['deck', 'CryoSleep'])['CryoSleep'].count().to_frame(name='count').sort_index(ascending=False)\n",
    "display(df)\n",
    "sns.barplot(x=\"deck\", y=\"count\", hue=\"CryoSleep\", data=df.reset_index())\n",
    "plt.title('Deck vs CryoSleep')\n",
    "plt.tight_layout()"
   ]
  },
  {
   "cell_type": "markdown",
   "id": "fa6e8e1f",
   "metadata": {},
   "source": [
    "The majority of passengers traveling in cryosleep, as we can see, are on B and G decks. These are the decks where more people arrive at their destination. In addition, we already know that people in cryosleep are more likely to complete their journey safely."
   ]
  },
  {
   "cell_type": "markdown",
   "id": "a6d3dd82",
   "metadata": {},
   "source": [
    "**Do people in the same group travel on the same deck?**"
   ]
  },
  {
   "cell_type": "code",
   "execution_count": 59,
   "id": "634160b0",
   "metadata": {},
   "outputs": [
    {
     "data": {
      "text/html": [
       "<div>\n",
       "<style scoped>\n",
       "    .dataframe tbody tr th:only-of-type {\n",
       "        vertical-align: middle;\n",
       "    }\n",
       "\n",
       "    .dataframe tbody tr th {\n",
       "        vertical-align: top;\n",
       "    }\n",
       "\n",
       "    .dataframe thead th {\n",
       "        text-align: right;\n",
       "    }\n",
       "</style>\n",
       "<table border=\"1\" class=\"dataframe\">\n",
       "  <thead>\n",
       "    <tr style=\"text-align: right;\">\n",
       "      <th>deck</th>\n",
       "      <th>A</th>\n",
       "      <th>B</th>\n",
       "      <th>C</th>\n",
       "      <th>D</th>\n",
       "      <th>E</th>\n",
       "      <th>F</th>\n",
       "      <th>G</th>\n",
       "    </tr>\n",
       "    <tr>\n",
       "      <th>group</th>\n",
       "      <th></th>\n",
       "      <th></th>\n",
       "      <th></th>\n",
       "      <th></th>\n",
       "      <th></th>\n",
       "      <th></th>\n",
       "      <th></th>\n",
       "    </tr>\n",
       "  </thead>\n",
       "  <tbody>\n",
       "    <tr>\n",
       "      <th>0003</th>\n",
       "      <td>2.0</td>\n",
       "      <td>NaN</td>\n",
       "      <td>NaN</td>\n",
       "      <td>NaN</td>\n",
       "      <td>NaN</td>\n",
       "      <td>NaN</td>\n",
       "      <td>NaN</td>\n",
       "    </tr>\n",
       "    <tr>\n",
       "      <th>0006</th>\n",
       "      <td>NaN</td>\n",
       "      <td>NaN</td>\n",
       "      <td>NaN</td>\n",
       "      <td>NaN</td>\n",
       "      <td>NaN</td>\n",
       "      <td>1.0</td>\n",
       "      <td>1.0</td>\n",
       "    </tr>\n",
       "    <tr>\n",
       "      <th>0008</th>\n",
       "      <td>NaN</td>\n",
       "      <td>3.0</td>\n",
       "      <td>NaN</td>\n",
       "      <td>NaN</td>\n",
       "      <td>NaN</td>\n",
       "      <td>NaN</td>\n",
       "      <td>NaN</td>\n",
       "    </tr>\n",
       "    <tr>\n",
       "      <th>0017</th>\n",
       "      <td>NaN</td>\n",
       "      <td>NaN</td>\n",
       "      <td>NaN</td>\n",
       "      <td>NaN</td>\n",
       "      <td>NaN</td>\n",
       "      <td>1.0</td>\n",
       "      <td>1.0</td>\n",
       "    </tr>\n",
       "    <tr>\n",
       "      <th>0020</th>\n",
       "      <td>NaN</td>\n",
       "      <td>NaN</td>\n",
       "      <td>NaN</td>\n",
       "      <td>NaN</td>\n",
       "      <td>6.0</td>\n",
       "      <td>NaN</td>\n",
       "      <td>NaN</td>\n",
       "    </tr>\n",
       "  </tbody>\n",
       "</table>\n",
       "</div>"
      ],
      "text/plain": [
       "deck     A    B   C   D    E    F    G\n",
       "group                                 \n",
       "0003   2.0  NaN NaN NaN  NaN  NaN  NaN\n",
       "0006   NaN  NaN NaN NaN  NaN  1.0  1.0\n",
       "0008   NaN  3.0 NaN NaN  NaN  NaN  NaN\n",
       "0017   NaN  NaN NaN NaN  NaN  1.0  1.0\n",
       "0020   NaN  NaN NaN NaN  6.0  NaN  NaN"
      ]
     },
     "metadata": {},
     "output_type": "display_data"
    },
    {
     "name": "stdout",
     "output_type": "stream",
     "text": [
      "No, there are groups that travel on different decks.\n"
     ]
    }
   ],
   "source": [
    "df = train.loc[(train['group_size'] > 1) & (train['deck'].notnull()) ]\n",
    "display(df.groupby(['group', 'deck']).size().unstack().head(5))\n",
    "print('No, there are groups that travel on different decks.')"
   ]
  },
  {
   "cell_type": "markdown",
   "id": "0d6eb781",
   "metadata": {},
   "source": [
    "**Do people with the same surname in a group travel on the same deck?**"
   ]
  },
  {
   "cell_type": "code",
   "execution_count": 60,
   "id": "84f7a3a0",
   "metadata": {},
   "outputs": [
    {
     "data": {
      "text/html": [
       "<div>\n",
       "<style scoped>\n",
       "    .dataframe tbody tr th:only-of-type {\n",
       "        vertical-align: middle;\n",
       "    }\n",
       "\n",
       "    .dataframe tbody tr th {\n",
       "        vertical-align: top;\n",
       "    }\n",
       "\n",
       "    .dataframe thead th {\n",
       "        text-align: right;\n",
       "    }\n",
       "</style>\n",
       "<table border=\"1\" class=\"dataframe\">\n",
       "  <thead>\n",
       "    <tr style=\"text-align: right;\">\n",
       "      <th></th>\n",
       "      <th>A</th>\n",
       "      <th>B</th>\n",
       "      <th>C</th>\n",
       "      <th>D</th>\n",
       "      <th>E</th>\n",
       "      <th>F</th>\n",
       "      <th>G</th>\n",
       "      <th>T</th>\n",
       "      <th>Fmiliy on the same deck</th>\n",
       "    </tr>\n",
       "  </thead>\n",
       "  <tbody>\n",
       "    <tr>\n",
       "      <th>0001</th>\n",
       "      <td>0</td>\n",
       "      <td>1</td>\n",
       "      <td>0</td>\n",
       "      <td>0</td>\n",
       "      <td>0</td>\n",
       "      <td>0</td>\n",
       "      <td>0</td>\n",
       "      <td>0</td>\n",
       "      <td>Yes</td>\n",
       "    </tr>\n",
       "  </tbody>\n",
       "</table>\n",
       "</div>"
      ],
      "text/plain": [
       "      A  B  C  D  E  F  G  T Fmiliy on the same deck\n",
       "0001  0  1  0  0  0  0  0  0                     Yes"
      ]
     },
     "metadata": {},
     "output_type": "display_data"
    },
    {
     "data": {
      "image/png": "[encoded data removed]",
      "text/plain": [
       "<Figure size 432x288 with 1 Axes>"
      ]
     },
     "metadata": {},
     "output_type": "display_data"
    }
   ],
   "source": [
    "df = train.loc[(train['Name'].notnull())&(train['deck'].notnull())]\n",
    "df['Name'] = df['Name'].str.strip() # removing leading and trailing characters\n",
    "df[['First Name', 'Surname']] = df['Name'].str.split(\" \", expand = True) # splitting names into 2 new columns\n",
    "\n",
    "decks = sorted(list(train[train['deck'].notnull()]['deck'].unique()))\n",
    "data = { deck:[0 for x in range(len(list(df['group'].unique())))] for deck in decks}\n",
    "data = pd.DataFrame(data, index=list(df['group'].unique()))\n",
    "\n",
    "def deck_group(row):\n",
    "    data.loc[row['group'], row['deck']] = 1\n",
    "\n",
    "df.apply(deck_group, axis=1)\n",
    "data['Fmiliy on the same deck'] = np.where(data[decks].sum(axis=1) >1, 'No', 'Yes')\n",
    "display(data.head(1))\n",
    "\n",
    "sns.histplot(data=data, x=data['Fmiliy on the same deck'])\n",
    "plt.tight_layout()"
   ]
  },
  {
   "cell_type": "markdown",
   "id": "adec4ee2",
   "metadata": {},
   "source": [
    "In most cases, people traveling with their families are on the same deck. However, there are instances when they travel on different decks."
   ]
  },
  {
   "cell_type": "markdown",
   "id": "79db9343",
   "metadata": {},
   "source": [
    "#### Side"
   ]
  },
  {
   "cell_type": "markdown",
   "id": "b9b2143b",
   "metadata": {},
   "source": [
    "#### Deck vs Trasported"
   ]
  },
  {
   "cell_type": "code",
   "execution_count": 61,
   "id": "b93f9a34",
   "metadata": {},
   "outputs": [
    {
     "data": {
      "text/html": [
       "<div>\n",
       "<style scoped>\n",
       "    .dataframe tbody tr th:only-of-type {\n",
       "        vertical-align: middle;\n",
       "    }\n",
       "\n",
       "    .dataframe tbody tr th {\n",
       "        vertical-align: top;\n",
       "    }\n",
       "\n",
       "    .dataframe thead th {\n",
       "        text-align: right;\n",
       "    }\n",
       "</style>\n",
       "<table border=\"1\" class=\"dataframe\">\n",
       "  <thead>\n",
       "    <tr style=\"text-align: right;\">\n",
       "      <th></th>\n",
       "      <th></th>\n",
       "      <th>count</th>\n",
       "    </tr>\n",
       "    <tr>\n",
       "      <th>side</th>\n",
       "      <th>Transported</th>\n",
       "      <th></th>\n",
       "    </tr>\n",
       "  </thead>\n",
       "  <tbody>\n",
       "    <tr>\n",
       "      <th rowspan=\"2\" valign=\"top\">S</th>\n",
       "      <th>True</th>\n",
       "      <td>2380</td>\n",
       "    </tr>\n",
       "    <tr>\n",
       "      <th>False</th>\n",
       "      <td>1908</td>\n",
       "    </tr>\n",
       "    <tr>\n",
       "      <th rowspan=\"2\" valign=\"top\">P</th>\n",
       "      <th>True</th>\n",
       "      <td>1898</td>\n",
       "    </tr>\n",
       "    <tr>\n",
       "      <th>False</th>\n",
       "      <td>2308</td>\n",
       "    </tr>\n",
       "  </tbody>\n",
       "</table>\n",
       "</div>"
      ],
      "text/plain": [
       "                  count\n",
       "side Transported       \n",
       "S    True          2380\n",
       "     False         1908\n",
       "P    True          1898\n",
       "     False         2308"
      ]
     },
     "metadata": {},
     "output_type": "display_data"
    },
    {
     "data": {
      "image/png": "[encoded data removed]",
      "text/plain": [
       "<Figure size 432x288 with 1 Axes>"
      ]
     },
     "metadata": {},
     "output_type": "display_data"
    }
   ],
   "source": [
    "# multiIndex and sorting by index \n",
    "df = train.groupby(['side', 'Transported'])['Transported'].count().to_frame(name='count').sort_index(ascending=False)\n",
    "display(df)\n",
    "sns.barplot(x=\"side\", y=\"count\", hue=\"Transported\", data=df.reset_index()) # moving multindex to columns; this way we can use 'Transported' as hue\n",
    "plt.title('Side vs Trasported')\n",
    "plt.tight_layout()"
   ]
  },
  {
   "cell_type": "markdown",
   "id": "72c0a594",
   "metadata": {},
   "source": [
    "#### Side vs CryoSleep"
   ]
  },
  {
   "cell_type": "code",
   "execution_count": 62,
   "id": "9e106a04",
   "metadata": {},
   "outputs": [
    {
     "data": {
      "text/html": [
       "<div>\n",
       "<style scoped>\n",
       "    .dataframe tbody tr th:only-of-type {\n",
       "        vertical-align: middle;\n",
       "    }\n",
       "\n",
       "    .dataframe tbody tr th {\n",
       "        vertical-align: top;\n",
       "    }\n",
       "\n",
       "    .dataframe thead th {\n",
       "        text-align: right;\n",
       "    }\n",
       "</style>\n",
       "<table border=\"1\" class=\"dataframe\">\n",
       "  <thead>\n",
       "    <tr style=\"text-align: right;\">\n",
       "      <th></th>\n",
       "      <th></th>\n",
       "      <th>count</th>\n",
       "    </tr>\n",
       "    <tr>\n",
       "      <th>side</th>\n",
       "      <th>CryoSleep</th>\n",
       "      <th></th>\n",
       "    </tr>\n",
       "  </thead>\n",
       "  <tbody>\n",
       "    <tr>\n",
       "      <th rowspan=\"2\" valign=\"top\">S</th>\n",
       "      <th>True</th>\n",
       "      <td>1630</td>\n",
       "    </tr>\n",
       "    <tr>\n",
       "      <th>False</th>\n",
       "      <td>2658</td>\n",
       "    </tr>\n",
       "    <tr>\n",
       "      <th rowspan=\"2\" valign=\"top\">P</th>\n",
       "      <th>True</th>\n",
       "      <td>1533</td>\n",
       "    </tr>\n",
       "    <tr>\n",
       "      <th>False</th>\n",
       "      <td>2673</td>\n",
       "    </tr>\n",
       "  </tbody>\n",
       "</table>\n",
       "</div>"
      ],
      "text/plain": [
       "                count\n",
       "side CryoSleep       \n",
       "S    True        1630\n",
       "     False       2658\n",
       "P    True        1533\n",
       "     False       2673"
      ]
     },
     "metadata": {},
     "output_type": "display_data"
    },
    {
     "data": {
      "image/png": "[encoded data removed]",
      "text/plain": [
       "<Figure size 432x288 with 1 Axes>"
      ]
     },
     "metadata": {},
     "output_type": "display_data"
    }
   ],
   "source": [
    "df = train.groupby(['side', 'CryoSleep'])['CryoSleep'].count().to_frame(name='count').sort_index(ascending=False)\n",
    "display(df)\n",
    "sns.barplot(x=\"side\", y=\"count\", hue=\"CryoSleep\", data=df.reset_index())\n",
    "plt.title('Side vs CryoSleep')\n",
    "plt.tight_layout()"
   ]
  },
  {
   "cell_type": "markdown",
   "id": "466493d9",
   "metadata": {},
   "source": [
    "CryoSleep is evenly distributed between both sides."
   ]
  },
  {
   "cell_type": "markdown",
   "id": "b92b8fe1",
   "metadata": {},
   "source": [
    "#### Do people in the same group travel on the same side?"
   ]
  },
  {
   "cell_type": "code",
   "execution_count": 63,
   "id": "0efc049a",
   "metadata": {},
   "outputs": [
    {
     "name": "stdout",
     "output_type": "stream",
     "text": [
      "['Yes']\n"
     ]
    }
   ],
   "source": [
    "df = train.loc[(train['group_size'] > 1) & (train['side'].notnull()) ]\n",
    "df = df.groupby(['group', 'side']).size().unstack().fillna(0)\n",
    "df['P'] = np.where(df['P'] > 1, 1,0)\n",
    "df['S'] = np.where(df['S'] > 1, 1,0)\n",
    "df['Group travels on the same side'] = np.where(df.sum(axis=1) >1, 'No', 'Yes')\n",
    "print(df['Group travels on the same side'].unique())"
   ]
  },
  {
   "cell_type": "markdown",
   "id": "00447ca1",
   "metadata": {},
   "source": [
    "We have a dependency between group size bigger than one and side - people traveling in a group always are located on the same side of the ship. Knowing this, we can fill in missing based on this rule."
   ]
  },
  {
   "cell_type": "code",
   "execution_count": 64,
   "id": "f040e28d",
   "metadata": {},
   "outputs": [
    {
     "name": "stdout",
     "output_type": "stream",
     "text": [
      "Number of null values in the training dataset before:  199\n"
     ]
    }
   ],
   "source": [
    "print('Number of null values in the training dataset before: ',train['side'].isnull().sum())"
   ]
  },
  {
   "cell_type": "code",
   "execution_count": 65,
   "id": "5c76b158",
   "metadata": {
    "scrolled": true
   },
   "outputs": [
    {
     "name": "stdout",
     "output_type": "stream",
     "text": [
      "Number of null values in the training dataset after:  99\n"
     ]
    }
   ],
   "source": [
    "# TRAINING DATASET\n",
    "# selecting groups outwith null side\n",
    "train.index = train['PassengerId']\n",
    "group_notnull = train.loc[(train['side'].notnull()) & (train['group_size'] > 1)][['group', 'side']]\n",
    "\n",
    "# selecting group ids with null side\n",
    "passenger_id_null = train.loc[(train['side'].isnull()) & (train['group_size'] > 1)][['group','PassengerId']]\n",
    "\n",
    "# filling in missing data\n",
    "def fill_nan(row):\n",
    "    group = row['group']\n",
    "    PassengerId = row['PassengerId']\n",
    "    side = train.loc[ (train['group'] == group) & train['side'].notnull() ]['side'].unique()[0] # returns P or S\n",
    "    train.loc[row['PassengerId'], 'side'] = side\n",
    "    \n",
    "passenger_id_null.apply(fill_nan, axis=1)\n",
    "print('Number of null values in the training dataset after: ',train['side'].isnull().sum())"
   ]
  },
  {
   "cell_type": "code",
   "execution_count": 66,
   "id": "a8290682",
   "metadata": {},
   "outputs": [
    {
     "name": "stdout",
     "output_type": "stream",
     "text": [
      "Number of null values in the training dataset after:  99\n"
     ]
    }
   ],
   "source": [
    "# TESTING DATASET\n",
    "# selecting groups outwith null side\n",
    "train.index = train['PassengerId']\n",
    "group_notnull = train.loc[(train['side'].notnull()) & (train['group_size'] > 1)][['group', 'side']]\n",
    "\n",
    "# selecting group ids with null side\n",
    "passenger_id_null = train.loc[(train['side'].isnull()) & (train['group_size'] > 1)][['group','PassengerId']]\n",
    "\n",
    "# filling in missing data\n",
    "def fill_nan(row):\n",
    "    group = row['group']\n",
    "    PassengerId = row['PassengerId']\n",
    "    side = train.loc[ (train['group'] == group) & train['side'].notnull() ]['side'].unique()[0] # returns P or S\n",
    "    train.loc[row['PassengerId'], 'side'] = side\n",
    "    \n",
    "passenger_id_null.apply(fill_nan, axis=1)\n",
    "print('Number of null values in the training dataset after: ',train['side'].isnull().sum())"
   ]
  },
  {
   "cell_type": "code",
   "execution_count": 67,
   "id": "74c0b29f",
   "metadata": {},
   "outputs": [
    {
     "name": "stdout",
     "output_type": "stream",
     "text": [
      "Number of null values in the training dataset before:  100\n",
      "Number of null values in the testing dataset after:  63\n"
     ]
    }
   ],
   "source": [
    "# TESTING DATASET\n",
    "print('Number of null values in the training dataset before: ', test['side'].isnull().sum())\n",
    "# selecting groups outwith null side\n",
    "test.index = test['PassengerId']\n",
    "group_notnull = test.loc[(test['side'].notnull()) & (test['group_size'] > 1)][['group', 'side']]\n",
    "\n",
    "# selecting group ids with null side\n",
    "passenger_id_null = test.loc[(test['side'].isnull()) & (test['group_size'] > 1)][['group','PassengerId']]\n",
    "\n",
    "# filling in missing data\n",
    "def fill_nan(row):\n",
    "    group = row['group']\n",
    "    PassengerId = row['PassengerId']\n",
    "    try:\n",
    "        side = test.loc[ (test['group'] == group) & test['side'].notnull() ]['side'].unique()[0] # returns P or S\n",
    "        test.loc[row['PassengerId'], 'side'] = side\n",
    "    except:\n",
    "        pass\n",
    "    \n",
    "passenger_id_null.apply(fill_nan, axis=1)\n",
    "print('Number of null values in the testing dataset after: ',test['side'].isnull().sum())"
   ]
  },
  {
   "cell_type": "markdown",
   "id": "457cc279",
   "metadata": {},
   "source": [
    "We will fill in the remaining missing values for the cabin sides using KNNInputer after replacing the categorical values with numbers."
   ]
  },
  {
   "cell_type": "markdown",
   "id": "4baadde4",
   "metadata": {},
   "source": [
    "Also, we decided to proceed with the same strategy when dealing with these categorical data: **deck & VIP**"
   ]
  },
  {
   "cell_type": "markdown",
   "id": "a6a1fa0d",
   "metadata": {},
   "source": [
    "**Name, group** and **num** columns, in our opinion, are irrelevant and we will not use them in the ML models"
   ]
  },
  {
   "cell_type": "markdown",
   "id": "ad1a9264",
   "metadata": {},
   "source": [
    "## Categorical to numerical"
   ]
  },
  {
   "cell_type": "markdown",
   "id": "24da6599",
   "metadata": {},
   "source": [
    "#### CryoSleep"
   ]
  },
  {
   "cell_type": "code",
   "execution_count": 68,
   "id": "db3bfbef",
   "metadata": {},
   "outputs": [],
   "source": [
    "def CryoSleep(row):\n",
    "    if row['CryoSleep'] == True:\n",
    "        return 1\n",
    "    else:\n",
    "        return 0\n",
    "\n",
    "train['CryoSleep'] = train.apply(CryoSleep, axis = 1)\n",
    "test['CryoSleep'] = test.apply(CryoSleep, axis = 1)"
   ]
  },
  {
   "cell_type": "markdown",
   "id": "7380a9d2",
   "metadata": {},
   "source": [
    "#### Convertic decks to numeric values"
   ]
  },
  {
   "cell_type": "code",
   "execution_count": 69,
   "id": "f681cdbe",
   "metadata": {},
   "outputs": [
    {
     "data": {
      "text/plain": [
       "{'A': 0, 'B': 1, 'C': 2, 'D': 3, 'E': 4, 'F': 5, 'G': 6, 'T': 7}"
      ]
     },
     "execution_count": 69,
     "metadata": {},
     "output_type": "execute_result"
    }
   ],
   "source": [
    "df = train.loc[train['deck'].notnull()] \n",
    "code = list(df['deck'].unique())\n",
    "code.sort()\n",
    "code_dic = { code[i]:i for i in range(len(code))}\n",
    "code_dic"
   ]
  },
  {
   "cell_type": "code",
   "execution_count": 70,
   "id": "b798a716",
   "metadata": {},
   "outputs": [
    {
     "data": {
      "text/plain": [
       "array([ 6.,  5.,  2.,  1.,  3.,  4., nan,  0.,  7.])"
      ]
     },
     "execution_count": 70,
     "metadata": {},
     "output_type": "execute_result"
    }
   ],
   "source": [
    "def deck(row):\n",
    "    if isinstance(row['deck'], float):\n",
    "        return np.nan\n",
    "    else:\n",
    "        return code_dic[row['deck']]\n",
    "\n",
    "train['deck'] = train.apply(deck, axis = 1)\n",
    "test['deck'] = test.apply(deck, axis = 1)\n",
    "test['deck'].unique()"
   ]
  },
  {
   "cell_type": "markdown",
   "id": "1bb38f62",
   "metadata": {},
   "source": [
    "#### Cabin side"
   ]
  },
  {
   "cell_type": "markdown",
   "id": "d78781b6",
   "metadata": {},
   "source": [
    "Convertic sides to numeric values:\n",
    "- S => 0\n",
    "- P => 1"
   ]
  },
  {
   "cell_type": "code",
   "execution_count": 71,
   "id": "39f24f02",
   "metadata": {},
   "outputs": [
    {
     "name": "stdout",
     "output_type": "stream",
     "text": [
      "train [ 1.  0. nan]\n",
      "test [ 0.  1. nan]\n"
     ]
    }
   ],
   "source": [
    "def side(row):\n",
    "    if isinstance(row['side'], float):\n",
    "        return np.nan\n",
    "    else:\n",
    "        if row['side'] == 'S':\n",
    "            return 0\n",
    "        else:\n",
    "            return 1\n",
    "\n",
    "train['side'] = train.apply(side, axis = 1)\n",
    "test['side'] = test.apply(side, axis = 1)\n",
    "print('train', train['side'].unique())\n",
    "print('test', test['side'].unique())"
   ]
  },
  {
   "cell_type": "markdown",
   "id": "cdaaaf49",
   "metadata": {},
   "source": [
    "#### VIP\n",
    "Converting to numeric values:\n",
    "- False => 0\n",
    "- True => 1"
   ]
  },
  {
   "cell_type": "code",
   "execution_count": 72,
   "id": "4d5522d2",
   "metadata": {},
   "outputs": [
    {
     "name": "stdout",
     "output_type": "stream",
     "text": [
      "train [ 0.  1. nan]\n",
      "test [ 0. nan  1.]\n"
     ]
    }
   ],
   "source": [
    "def VIP(row):\n",
    "    if isinstance(row['VIP'], float):\n",
    "        return np.nan\n",
    "    else:\n",
    "        if row['VIP'] == True:\n",
    "            return 1\n",
    "        else:\n",
    "            return 0\n",
    "\n",
    "train['VIP'] = train.apply(VIP, axis = 1)\n",
    "test['VIP'] = test.apply(VIP, axis = 1)\n",
    "print('train', train['VIP'].unique())\n",
    "print('test', test['VIP'].unique())"
   ]
  },
  {
   "cell_type": "markdown",
   "id": "fe2f2c3f",
   "metadata": {},
   "source": [
    "#### HomePlanet"
   ]
  },
  {
   "cell_type": "markdown",
   "id": "60954021",
   "metadata": {},
   "source": [
    "Converting to numeric values:\n",
    "- Earth     0\n",
    "- Europa    1\n",
    "- Mars      2"
   ]
  },
  {
   "cell_type": "code",
   "execution_count": 73,
   "id": "03fae5f1",
   "metadata": {},
   "outputs": [
    {
     "data": {
      "text/plain": [
       "{'Earth': 0, 'Europa': 1, 'Mars': 2}"
      ]
     },
     "execution_count": 73,
     "metadata": {},
     "output_type": "execute_result"
    }
   ],
   "source": [
    "code = list(train['HomePlanet'].unique())\n",
    "code.sort()\n",
    "code_dic = { code[i]:i for i in range(len(code))}\n",
    "code_dic"
   ]
  },
  {
   "cell_type": "code",
   "execution_count": 74,
   "id": "120ea767",
   "metadata": {},
   "outputs": [],
   "source": [
    "def HomePlanet(row):\n",
    "    return code_dic[row['HomePlanet']]\n",
    "\n",
    "train['HomePlanet'] = train.apply(HomePlanet, axis = 1)\n",
    "test['HomePlanet'] = test.apply(HomePlanet, axis = 1)"
   ]
  },
  {
   "cell_type": "markdown",
   "id": "ae8216ac",
   "metadata": {},
   "source": [
    "#### Destination"
   ]
  },
  {
   "cell_type": "markdown",
   "id": "0e53d24e",
   "metadata": {},
   "source": [
    "Converting to numeric values:\n",
    "- 55 Cancri e ------- 0\n",
    "- PSO J318.5-22 ----- 1\n",
    "- TRAPPIST-1e ------- 2"
   ]
  },
  {
   "cell_type": "code",
   "execution_count": 75,
   "id": "20f3b789",
   "metadata": {},
   "outputs": [
    {
     "data": {
      "text/plain": [
       "{'55 Cancri e': 0, 'PSO J318.5-22': 1, 'TRAPPIST-1e': 2}"
      ]
     },
     "execution_count": 75,
     "metadata": {},
     "output_type": "execute_result"
    }
   ],
   "source": [
    "code = list(train['Destination'].unique())\n",
    "code.sort()\n",
    "code_dic = { code[i]:i for i in range(len(code))}\n",
    "code_dic"
   ]
  },
  {
   "cell_type": "code",
   "execution_count": 76,
   "id": "13064176",
   "metadata": {},
   "outputs": [],
   "source": [
    "def Destination(row):\n",
    "    return code_dic[row['Destination']]\n",
    "\n",
    "train['Destination'] = train.apply(Destination, axis = 1)\n",
    "test['Destination'] = test.apply(Destination, axis = 1)"
   ]
  },
  {
   "cell_type": "markdown",
   "id": "afefff65",
   "metadata": {},
   "source": [
    "#### Transported"
   ]
  },
  {
   "cell_type": "markdown",
   "id": "cdca2198",
   "metadata": {},
   "source": [
    "Converting to numeric values:\n",
    "- False => 0\n",
    "- True => 1\n"
   ]
  },
  {
   "cell_type": "code",
   "execution_count": 77,
   "id": "2a7d9ac5",
   "metadata": {},
   "outputs": [],
   "source": [
    "def Transported(row):\n",
    "    if row['Transported'] == True:\n",
    "        return 1\n",
    "    else:\n",
    "        return 0\n",
    "\n",
    "train['Transported'] = train.apply(Transported, axis = 1)"
   ]
  },
  {
   "cell_type": "markdown",
   "id": "95d9484e",
   "metadata": {},
   "source": [
    "#### Pearson correlation coefficient (PCC)\n",
    "- [source](https://stackabuse.com/bytes/calculate-correlation-of-dataframe-featurescolumns-with-pandas/)\n",
    "- [Spearman Rank Correlation](https://stackabuse.com/calculating-spearmans-rank-correlation-coefficient-in-python-with-pandas/)"
   ]
  },
  {
   "cell_type": "code",
   "execution_count": 78,
   "id": "6cc726d6",
   "metadata": {},
   "outputs": [
    {
     "data": {
      "image/png": "[encoded data removed]",
      "text/plain": [
       "<Figure size 720x432 with 2 Axes>"
      ]
     },
     "metadata": {},
     "output_type": "display_data"
    }
   ],
   "source": [
    "features = train[['Transported', 'HomePlanet', 'CryoSleep', 'Destination', 'Age', 'VIP', 'FoodCourt', 'Spa', 'VRDeck', 'group_size', 'deck', 'side', 'RoomService', 'ShoppingMall']]\n",
    "fig, ax = plt.subplots(figsize=(10, 6))\n",
    "\n",
    "sns.heatmap(features.corr(), ax=ax, annot=True)\n",
    "plt.show()"
   ]
  },
  {
   "cell_type": "markdown",
   "id": "35b3feb0",
   "metadata": {},
   "source": [
    "#### Pearson, Spearman and Kendall Rank Coefficients to Target Variable"
   ]
  },
  {
   "cell_type": "code",
   "execution_count": 79,
   "id": "7a8a9eb7",
   "metadata": {},
   "outputs": [
    {
     "data": {
      "image/png": "[encoded data removed]",
      "text/plain": [
       "<Figure size 1296x576 with 6 Axes>"
      ]
     },
     "metadata": {},
     "output_type": "display_data"
    }
   ],
   "source": [
    "fig, ax = plt.subplots(1,3, figsize=(18, 8))\n",
    "\n",
    "corr1 = features.corr('pearson')[['Transported']].sort_values(by='Transported', ascending=False)\n",
    "corr2 = features.corr('spearman')[['Transported']].sort_values(by='Transported', ascending=False)\n",
    "corr3 = features.corr('kendall')[['Transported']].sort_values(by='Transported', ascending=False)\n",
    "\n",
    "sns.heatmap(corr1, ax=ax[0], annot=True)\n",
    "sns.heatmap(corr2, ax=ax[1], annot=True)\n",
    "sns.heatmap(corr3, ax=ax[2], annot=True)\n",
    "\n",
    "plt.show()"
   ]
  },
  {
   "cell_type": "markdown",
   "id": "2f678f10",
   "metadata": {},
   "source": [
    "#### Filling missing values in Cabin, deck & VIP\n"
   ]
  },
  {
   "cell_type": "code",
   "execution_count": 80,
   "id": "2684b1a0",
   "metadata": {},
   "outputs": [
    {
     "name": "stdout",
     "output_type": "stream",
     "text": [
      "Missing values in the training dataset\n",
      " Transported       0\n",
      "HomePlanet        0\n",
      "CryoSleep         0\n",
      "Destination       0\n",
      "Age               0\n",
      "VIP             203\n",
      "FoodCourt         0\n",
      "Spa               0\n",
      "VRDeck            0\n",
      "group_size        0\n",
      "deck            199\n",
      "side             99\n",
      "RoomService       0\n",
      "ShoppingMall      0\n",
      "dtype: int64\n",
      "Checking if all null values are updated\n",
      " Transported     0\n",
      "HomePlanet      0\n",
      "CryoSleep       0\n",
      "Destination     0\n",
      "Age             0\n",
      "VIP             0\n",
      "FoodCourt       0\n",
      "Spa             0\n",
      "VRDeck          0\n",
      "group_size      0\n",
      "deck            0\n",
      "side            0\n",
      "RoomService     0\n",
      "ShoppingMall    0\n",
      "dtype: int64\n"
     ]
    }
   ],
   "source": [
    "# training dataset\n",
    "train.reset_index(drop=True, inplace=True)\n",
    "features = ['Transported', 'HomePlanet', 'CryoSleep', 'Destination', 'Age', 'VIP', 'FoodCourt', 'Spa', 'VRDeck', 'group_size', 'deck', 'side', 'RoomService', 'ShoppingMall']\n",
    "df = train[features].values\n",
    "print('Missing values in the training dataset\\n', train[features].isnull().sum())\n",
    "\n",
    "imputer = KNNImputer(n_neighbors=5, weights=\"uniform\") # we decided to use odd n_neighbors to avoid 0.5 values\n",
    "df = imputer.fit_transform(df) # using KNNImputer to replace null values\n",
    "df = pd.DataFrame(df, columns= features)\n",
    "\n",
    "# adding updated features to the training dataset\n",
    "for feature in features:\n",
    "    train[feature] = df[feature]\n",
    "    \n",
    "print('Checking if all null values are updated\\n', train[features].isnull().sum())"
   ]
  },
  {
   "cell_type": "code",
   "execution_count": 81,
   "id": "692eaebc",
   "metadata": {},
   "outputs": [
    {
     "data": {
      "text/plain": [
       "array([1. , 5. , 0. , 6. , 5.2, 4. , 3. , 2. , 4.8, 3.2, 5.6, 3.4, 4.4,\n",
       "       4.2, 1.8, 2.2, 1.6, 1.2, 4.6, 7. , 2.4, 2.8, 3.6, 5.8, 1.4, 5.4,\n",
       "       2.6, 0.8])"
      ]
     },
     "execution_count": 81,
     "metadata": {},
     "output_type": "execute_result"
    }
   ],
   "source": [
    "train['deck'].unique()"
   ]
  },
  {
   "cell_type": "code",
   "execution_count": 82,
   "id": "0a64f0dc",
   "metadata": {},
   "outputs": [
    {
     "data": {
      "text/plain": [
       "array([1., 5., 0., 6., 4., 3., 2., 7.])"
      ]
     },
     "execution_count": 82,
     "metadata": {},
     "output_type": "execute_result"
    }
   ],
   "source": [
    "# rounding values \n",
    "train['deck'] = train['deck'].round()\n",
    "train['deck'].unique()"
   ]
  },
  {
   "cell_type": "code",
   "execution_count": 83,
   "id": "23c9c410",
   "metadata": {},
   "outputs": [],
   "source": [
    "train['VIP'] = train['VIP'].round()\n",
    "train['side'] = train['side'].round()"
   ]
  },
  {
   "cell_type": "code",
   "execution_count": 84,
   "id": "749df5c9",
   "metadata": {},
   "outputs": [
    {
     "name": "stdout",
     "output_type": "stream",
     "text": [
      "Missing values in the testing dataset\n",
      " HomePlanet        0\n",
      "CryoSleep         0\n",
      "Destination       0\n",
      "Age               0\n",
      "VIP              93\n",
      "FoodCourt         0\n",
      "Spa               0\n",
      "VRDeck            0\n",
      "group_size        0\n",
      "deck            100\n",
      "side             63\n",
      "RoomService       0\n",
      "ShoppingMall      0\n",
      "dtype: int64\n",
      "Checking if all null values are updated\n",
      " HomePlanet      0\n",
      "CryoSleep       0\n",
      "Destination     0\n",
      "Age             0\n",
      "VIP             0\n",
      "FoodCourt       0\n",
      "Spa             0\n",
      "VRDeck          0\n",
      "group_size      0\n",
      "deck            0\n",
      "side            0\n",
      "RoomService     0\n",
      "ShoppingMall    0\n",
      "dtype: int64\n"
     ]
    }
   ],
   "source": [
    "# testing dataset\n",
    "test.reset_index(drop=True, inplace=True)\n",
    "features = ['HomePlanet', 'CryoSleep', 'Destination', 'Age', 'VIP', 'FoodCourt', 'Spa', 'VRDeck', 'group_size', 'deck', 'side', 'RoomService', 'ShoppingMall']\n",
    "df = test[features].values\n",
    "print('Missing values in the testing dataset\\n', test[features].isnull().sum())\n",
    "\n",
    "imputer = KNNImputer(n_neighbors=5, weights=\"uniform\") # we decided to use odd n_neighbors to avoid 0.5 values\n",
    "df = imputer.fit_transform(df) # using KNNImputer to replace null values\n",
    "df = pd.DataFrame(df, columns= features)\n",
    "\n",
    "# adding updated features to the testing dataset\n",
    "for feature in features:\n",
    "    test[feature] = df[feature]\n",
    "    \n",
    "print('Checking if all null values are updated\\n', test[features].isnull().sum())"
   ]
  },
  {
   "cell_type": "code",
   "execution_count": 85,
   "id": "64901e8a",
   "metadata": {},
   "outputs": [],
   "source": [
    "test['deck'] = test['deck'].round()\n",
    "test['VIP'] = test['VIP'].round()\n",
    "test['side'] = test['side'].round()"
   ]
  },
  {
   "cell_type": "markdown",
   "id": "7975d20c",
   "metadata": {},
   "source": [
    "# Random forest"
   ]
  },
  {
   "cell_type": "code",
   "execution_count": 86,
   "id": "ad6fdde3",
   "metadata": {},
   "outputs": [],
   "source": [
    "# X = train[['HomePlanet', 'CryoSleep', 'Destination', 'Age', 'VIP', 'FoodCourt', 'Spa', 'VRDeck', 'group_size', 'deck', 'side', 'RoomService', 'ShoppingMall']]\n",
    "X = train[['HomePlanet', 'CryoSleep', 'Destination', 'Age', 'VIP', 'RoomService', 'FoodCourt', 'ShoppingMall', 'Spa', 'VRDeck','group_size', 'deck','side']].values\n",
    "y = train['Transported'].values\n",
    "\n",
    "X_train, X_test, y_train, y_test = train_test_split( X, y, test_size=0.2, random_state=4)"
   ]
  },
  {
   "cell_type": "code",
   "execution_count": 87,
   "id": "5d05506b",
   "metadata": {},
   "outputs": [
    {
     "data": {
      "text/plain": [
       "RandomForestClassifier(max_depth=10)"
      ]
     },
     "execution_count": 87,
     "metadata": {},
     "output_type": "execute_result"
    }
   ],
   "source": [
    "from sklearn.ensemble import RandomForestClassifier\n",
    "from sklearn import metrics\n",
    "\n",
    "n = 100 # The number of trees in the forest - default in sklearn.ensemble.RandomForestClassifier  \n",
    "max_depth = 10 # The maximum depth of the tree. If None, then nodes are expanded until all leaves are pure or until all leaves contain less than min_samples_split samples.\n",
    "\n",
    "# Creating the random forest classifier\n",
    "clf = RandomForestClassifier(n_estimators = n, max_depth = max_depth)\n",
    "clf.fit(X_train, y_train)"
   ]
  },
  {
   "cell_type": "code",
   "execution_count": 88,
   "id": "4196e986",
   "metadata": {},
   "outputs": [],
   "source": [
    "# performing predictions on the test dataset\n",
    "y_hat = clf.predict(X_test)"
   ]
  },
  {
   "cell_type": "code",
   "execution_count": 89,
   "id": "ac995a2c",
   "metadata": {},
   "outputs": [
    {
     "name": "stdout",
     "output_type": "stream",
     "text": [
      "Accuracy :  0.8067855089131685\n"
     ]
    }
   ],
   "source": [
    "# accuracy calculation\n",
    "print(\"Accuracy : \", metrics.accuracy_score(y_test, y_hat))\n",
    "# Accuracy :  0.7981598619896493"
   ]
  },
  {
   "cell_type": "markdown",
   "id": "5da9cf95",
   "metadata": {},
   "source": [
    "# Submission"
   ]
  },
  {
   "cell_type": "code",
   "execution_count": 90,
   "id": "f9f88b3a",
   "metadata": {},
   "outputs": [
    {
     "data": {
      "text/html": [
       "<div>\n",
       "<style scoped>\n",
       "    .dataframe tbody tr th:only-of-type {\n",
       "        vertical-align: middle;\n",
       "    }\n",
       "\n",
       "    .dataframe tbody tr th {\n",
       "        vertical-align: top;\n",
       "    }\n",
       "\n",
       "    .dataframe thead th {\n",
       "        text-align: right;\n",
       "    }\n",
       "</style>\n",
       "<table border=\"1\" class=\"dataframe\">\n",
       "  <thead>\n",
       "    <tr style=\"text-align: right;\">\n",
       "      <th></th>\n",
       "      <th>HomePlanet</th>\n",
       "      <th>CryoSleep</th>\n",
       "      <th>Destination</th>\n",
       "      <th>Age</th>\n",
       "      <th>VIP</th>\n",
       "      <th>RoomService</th>\n",
       "      <th>FoodCourt</th>\n",
       "      <th>ShoppingMall</th>\n",
       "      <th>Spa</th>\n",
       "      <th>VRDeck</th>\n",
       "      <th>group_size</th>\n",
       "      <th>deck</th>\n",
       "      <th>side</th>\n",
       "    </tr>\n",
       "  </thead>\n",
       "  <tbody>\n",
       "    <tr>\n",
       "      <th>0</th>\n",
       "      <td>0.0</td>\n",
       "      <td>1.0</td>\n",
       "      <td>2.0</td>\n",
       "      <td>27.0</td>\n",
       "      <td>0.0</td>\n",
       "      <td>0.0</td>\n",
       "      <td>0.0</td>\n",
       "      <td>0.0</td>\n",
       "      <td>0.0</td>\n",
       "      <td>0.0</td>\n",
       "      <td>1.0</td>\n",
       "      <td>6.0</td>\n",
       "      <td>0.0</td>\n",
       "    </tr>\n",
       "    <tr>\n",
       "      <th>1</th>\n",
       "      <td>0.0</td>\n",
       "      <td>0.0</td>\n",
       "      <td>2.0</td>\n",
       "      <td>19.0</td>\n",
       "      <td>0.0</td>\n",
       "      <td>0.0</td>\n",
       "      <td>9.0</td>\n",
       "      <td>0.0</td>\n",
       "      <td>2823.0</td>\n",
       "      <td>0.0</td>\n",
       "      <td>1.0</td>\n",
       "      <td>5.0</td>\n",
       "      <td>0.0</td>\n",
       "    </tr>\n",
       "    <tr>\n",
       "      <th>2</th>\n",
       "      <td>1.0</td>\n",
       "      <td>1.0</td>\n",
       "      <td>0.0</td>\n",
       "      <td>31.0</td>\n",
       "      <td>0.0</td>\n",
       "      <td>0.0</td>\n",
       "      <td>0.0</td>\n",
       "      <td>0.0</td>\n",
       "      <td>0.0</td>\n",
       "      <td>0.0</td>\n",
       "      <td>1.0</td>\n",
       "      <td>2.0</td>\n",
       "      <td>0.0</td>\n",
       "    </tr>\n",
       "    <tr>\n",
       "      <th>3</th>\n",
       "      <td>1.0</td>\n",
       "      <td>0.0</td>\n",
       "      <td>2.0</td>\n",
       "      <td>38.0</td>\n",
       "      <td>0.0</td>\n",
       "      <td>0.0</td>\n",
       "      <td>6652.0</td>\n",
       "      <td>0.0</td>\n",
       "      <td>181.0</td>\n",
       "      <td>585.0</td>\n",
       "      <td>1.0</td>\n",
       "      <td>2.0</td>\n",
       "      <td>0.0</td>\n",
       "    </tr>\n",
       "    <tr>\n",
       "      <th>4</th>\n",
       "      <td>0.0</td>\n",
       "      <td>0.0</td>\n",
       "      <td>2.0</td>\n",
       "      <td>20.0</td>\n",
       "      <td>0.0</td>\n",
       "      <td>10.0</td>\n",
       "      <td>0.0</td>\n",
       "      <td>635.0</td>\n",
       "      <td>0.0</td>\n",
       "      <td>0.0</td>\n",
       "      <td>1.0</td>\n",
       "      <td>5.0</td>\n",
       "      <td>0.0</td>\n",
       "    </tr>\n",
       "  </tbody>\n",
       "</table>\n",
       "</div>"
      ],
      "text/plain": [
       "   HomePlanet  CryoSleep  Destination   Age  VIP  RoomService  FoodCourt  \\\n",
       "0         0.0        1.0          2.0  27.0  0.0          0.0        0.0   \n",
       "1         0.0        0.0          2.0  19.0  0.0          0.0        9.0   \n",
       "2         1.0        1.0          0.0  31.0  0.0          0.0        0.0   \n",
       "3         1.0        0.0          2.0  38.0  0.0          0.0     6652.0   \n",
       "4         0.0        0.0          2.0  20.0  0.0         10.0        0.0   \n",
       "\n",
       "   ShoppingMall     Spa  VRDeck  group_size  deck  side  \n",
       "0           0.0     0.0     0.0         1.0   6.0   0.0  \n",
       "1           0.0  2823.0     0.0         1.0   5.0   0.0  \n",
       "2           0.0     0.0     0.0         1.0   2.0   0.0  \n",
       "3           0.0   181.0   585.0         1.0   2.0   0.0  \n",
       "4         635.0     0.0     0.0         1.0   5.0   0.0  "
      ]
     },
     "metadata": {},
     "output_type": "display_data"
    },
    {
     "name": "stdout",
     "output_type": "stream",
     "text": [
      "PassengerId:  ['0013_01', '0018_01', '0019_01', '0021_01', '0023_01', '0027_01', '0029_01', '0032_01', '0032_02', '0033_01']\n"
     ]
    }
   ],
   "source": [
    "features = ['HomePlanet', 'CryoSleep', 'Destination', 'Age', 'VIP', 'RoomService', 'FoodCourt', 'ShoppingMall', 'Spa', 'VRDeck','group_size', 'deck','side']\n",
    "\n",
    "test_data = test[features].values\n",
    "train_data = train[features].values\n",
    "target_data = train['Transported'].values\n",
    "\n",
    "PassengerId = test['PassengerId']\n",
    "\n",
    "display(test[features].head(5))\n",
    "print('PassengerId: ',list(PassengerId[:10]))"
   ]
  },
  {
   "cell_type": "markdown",
   "id": "7b61d4ca",
   "metadata": {},
   "source": [
    "### Creating Random Forest classifier"
   ]
  },
  {
   "cell_type": "code",
   "execution_count": 91,
   "id": "0e865699",
   "metadata": {},
   "outputs": [],
   "source": [
    "n = 100 \n",
    "max_depth = 10\n",
    "# Creating the random forest classifier\n",
    "clf = RandomForestClassifier(n_estimators = n, max_depth = max_depth)"
   ]
  },
  {
   "cell_type": "markdown",
   "id": "8344e731",
   "metadata": {},
   "source": [
    "### Fitting data"
   ]
  },
  {
   "cell_type": "code",
   "execution_count": 92,
   "id": "4068e047",
   "metadata": {},
   "outputs": [
    {
     "data": {
      "text/plain": [
       "RandomForestClassifier(max_depth=10)"
      ]
     },
     "execution_count": 92,
     "metadata": {},
     "output_type": "execute_result"
    }
   ],
   "source": [
    "clf.fit(train_data, target_data)"
   ]
  },
  {
   "cell_type": "markdown",
   "id": "93062f5b",
   "metadata": {},
   "source": [
    "### Getting predictions"
   ]
  },
  {
   "cell_type": "code",
   "execution_count": 93,
   "id": "affbbee3",
   "metadata": {},
   "outputs": [],
   "source": [
    "prediction = clf.predict(test_data)"
   ]
  },
  {
   "cell_type": "markdown",
   "id": "a19cae67",
   "metadata": {},
   "source": [
    "### Generating a CSV with PassengerIds and Predictions"
   ]
  },
  {
   "cell_type": "code",
   "execution_count": 94,
   "id": "9498720f",
   "metadata": {},
   "outputs": [
    {
     "data": {
      "text/html": [
       "<div>\n",
       "<style scoped>\n",
       "    .dataframe tbody tr th:only-of-type {\n",
       "        vertical-align: middle;\n",
       "    }\n",
       "\n",
       "    .dataframe tbody tr th {\n",
       "        vertical-align: top;\n",
       "    }\n",
       "\n",
       "    .dataframe thead th {\n",
       "        text-align: right;\n",
       "    }\n",
       "</style>\n",
       "<table border=\"1\" class=\"dataframe\">\n",
       "  <thead>\n",
       "    <tr style=\"text-align: right;\">\n",
       "      <th></th>\n",
       "      <th>PassengerId</th>\n",
       "      <th>Transported</th>\n",
       "    </tr>\n",
       "  </thead>\n",
       "  <tbody>\n",
       "    <tr>\n",
       "      <th>0</th>\n",
       "      <td>0013_01</td>\n",
       "      <td>1.0</td>\n",
       "    </tr>\n",
       "    <tr>\n",
       "      <th>1</th>\n",
       "      <td>0018_01</td>\n",
       "      <td>0.0</td>\n",
       "    </tr>\n",
       "    <tr>\n",
       "      <th>2</th>\n",
       "      <td>0019_01</td>\n",
       "      <td>1.0</td>\n",
       "    </tr>\n",
       "    <tr>\n",
       "      <th>3</th>\n",
       "      <td>0021_01</td>\n",
       "      <td>1.0</td>\n",
       "    </tr>\n",
       "    <tr>\n",
       "      <th>4</th>\n",
       "      <td>0023_01</td>\n",
       "      <td>1.0</td>\n",
       "    </tr>\n",
       "  </tbody>\n",
       "</table>\n",
       "</div>"
      ],
      "text/plain": [
       "  PassengerId  Transported\n",
       "0     0013_01          1.0\n",
       "1     0018_01          0.0\n",
       "2     0019_01          1.0\n",
       "3     0021_01          1.0\n",
       "4     0023_01          1.0"
      ]
     },
     "metadata": {},
     "output_type": "display_data"
    }
   ],
   "source": [
    "submission = pd.DataFrame({\n",
    "    \"PassengerId\":PassengerId,\n",
    "    \"Transported\":prediction\n",
    "})\n",
    "\n",
    "display(submission.head(5))"
   ]
  },
  {
   "cell_type": "code",
   "execution_count": 95,
   "id": "c309b2ce",
   "metadata": {},
   "outputs": [
    {
     "data": {
      "text/html": [
       "<div>\n",
       "<style scoped>\n",
       "    .dataframe tbody tr th:only-of-type {\n",
       "        vertical-align: middle;\n",
       "    }\n",
       "\n",
       "    .dataframe tbody tr th {\n",
       "        vertical-align: top;\n",
       "    }\n",
       "\n",
       "    .dataframe thead th {\n",
       "        text-align: right;\n",
       "    }\n",
       "</style>\n",
       "<table border=\"1\" class=\"dataframe\">\n",
       "  <thead>\n",
       "    <tr style=\"text-align: right;\">\n",
       "      <th></th>\n",
       "      <th>PassengerId</th>\n",
       "      <th>Transported</th>\n",
       "    </tr>\n",
       "  </thead>\n",
       "  <tbody>\n",
       "    <tr>\n",
       "      <th>0</th>\n",
       "      <td>0013_01</td>\n",
       "      <td>True</td>\n",
       "    </tr>\n",
       "    <tr>\n",
       "      <th>1</th>\n",
       "      <td>0018_01</td>\n",
       "      <td>False</td>\n",
       "    </tr>\n",
       "    <tr>\n",
       "      <th>2</th>\n",
       "      <td>0019_01</td>\n",
       "      <td>True</td>\n",
       "    </tr>\n",
       "    <tr>\n",
       "      <th>3</th>\n",
       "      <td>0021_01</td>\n",
       "      <td>True</td>\n",
       "    </tr>\n",
       "    <tr>\n",
       "      <th>4</th>\n",
       "      <td>0023_01</td>\n",
       "      <td>True</td>\n",
       "    </tr>\n",
       "  </tbody>\n",
       "</table>\n",
       "</div>"
      ],
      "text/plain": [
       "  PassengerId  Transported\n",
       "0     0013_01         True\n",
       "1     0018_01        False\n",
       "2     0019_01         True\n",
       "3     0021_01         True\n",
       "4     0023_01         True"
      ]
     },
     "metadata": {},
     "output_type": "display_data"
    }
   ],
   "source": [
    "def Transported(row):\n",
    "    if row['Transported'] == 1:\n",
    "        return True\n",
    "    else:\n",
    "        return False\n",
    "\n",
    "submission['Transported'] = submission.apply(Transported, axis = 1)\n",
    "display(submission.head(5))"
   ]
  },
  {
   "cell_type": "code",
   "execution_count": 96,
   "id": "09fe5c5b",
   "metadata": {},
   "outputs": [],
   "source": [
    "submission.to_csv(\"submission.csv\",index=False)"
   ]
  },
  {
   "cell_type": "markdown",
   "id": "568e64d8",
   "metadata": {},
   "source": [
    "https://www.kaggle.com/code/samuelcortinhas/spaceship-titanic-a-complete-guide"
   ]
  },
  {
   "cell_type": "markdown",
   "id": "8622e87a",
   "metadata": {},
   "source": [
    "Useful link for missing values:\n",
    "- https://www.kaggle.com/code/parulpandey/a-guide-to-handling-missing-values-in-python/notebook\n",
    "- https://scikit-learn.org/stable/modules/generated/sklearn.impute.SimpleImputer.html\n",
    "- https://scikit-learn.org/stable/modules/impute.html#multivariate-feature-imputation\n",
    "- Impute missing values using KNNImputer or IterativeImputer: https://www.youtube.com/watch?v=m_qKhnaYZlc\n",
    "- KNNImputer: https://scikit-learn.org/stable/modules/generated/sklearn.impute.KNNImputer.html\n",
    "- https://scikit-learn.org/stable/modules/impute.html  SCIKIT MISSING VALUES"
   ]
  },
  {
   "cell_type": "code",
   "execution_count": null,
   "id": "9f24d316",
   "metadata": {},
   "outputs": [],
   "source": []
  }
 ],
 "metadata": {
  "kernelspec": {
   "display_name": "Python 3 (ipykernel)",
   "language": "python",
   "name": "python3"
  },
  "language_info": {
   "codemirror_mode": {
    "name": "ipython",
    "version": 3
   },
   "file_extension": ".py",
   "mimetype": "text/x-python",
   "name": "python",
   "nbconvert_exporter": "python",
   "pygments_lexer": "ipython3",
   "version": "3.7.11"
  }
 },
 "nbformat": 4,
 "nbformat_minor": 5
}
