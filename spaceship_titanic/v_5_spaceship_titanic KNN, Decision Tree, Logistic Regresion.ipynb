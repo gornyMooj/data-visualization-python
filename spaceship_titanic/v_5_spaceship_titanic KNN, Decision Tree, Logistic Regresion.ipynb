{
 "cells": [
  {
   "cell_type": "code",
   "execution_count": 1,
   "id": "ae037fb8",
   "metadata": {},
   "outputs": [
    {
     "data": {
      "text/plain": [
       "'\\nshort summary of the code below:\\n- any rows of the null data are dropped \\n- used KNN - k-nearest neighbor\\n- used Decision Tree\\n\\n'"
      ]
     },
     "execution_count": 1,
     "metadata": {},
     "output_type": "execute_result"
    }
   ],
   "source": [
    "'''\n",
    "short summary of the code below:\n",
    "- any rows of the null data are dropped \n",
    "- used KNN - k-nearest neighbor\n",
    "- used Decision Tree\n",
    "\n",
    "'''"
   ]
  },
  {
   "cell_type": "code",
   "execution_count": 2,
   "id": "f229159d",
   "metadata": {},
   "outputs": [],
   "source": [
    "import numpy as np\n",
    "import pandas as pd\n",
    "import seaborn as sns\n",
    "\n",
    "import matplotlib.pyplot as plt\n",
    "\n",
    "from sklearn import preprocessing\n",
    "from sklearn.model_selection import train_test_split\n",
    "\n",
    "\n",
    "import time\n",
    "import warnings\n",
    "warnings.filterwarnings('ignore')"
   ]
  },
  {
   "cell_type": "markdown",
   "id": "da0ae5b0",
   "metadata": {},
   "source": [
    "### Data description\n",
    "- **PassengerId** - A unique Id for each passenger. Each Id takes the form gggg_pp where gggg indicates a group the passenger is travelling with and pp is their number within the group. People in a group are often family members, but not always.\n",
    "- **HomePlanet** - The planet the passenger departed from, typically their planet of permanent residence.\n",
    "- **CryoSleep** - Indicates whether the passenger elected to be put into suspended animation for the duration of the voyage. Passengers in cryosleep are confined to their cabins.\n",
    "- **Cabin** - The cabin number where the passenger is staying. Takes the form deck/num/side, where side can be either P for Port or S for Starboard.\n",
    "- **Destination** - The planet the passenger will be debarking to.\n",
    "- **Age** - The age of the passenger.\n",
    "- **VIP** - Whether the passenger has paid for special VIP service during the voyage.\n",
    "- **RoomService, FoodCourt, ShoppingMall, Spa, VRDeck** - Amount the passenger has billed at each of the Spaceship Titanic's many luxury amenities.\n",
    "- **Name** - The first and last names of the passenger.\n",
    "- **Transported** - Whether the passenger was transported to another dimension. This is the target, the column you are trying to predict."
   ]
  },
  {
   "cell_type": "markdown",
   "id": "69f8966d",
   "metadata": {},
   "source": [
    "### OBJECTIVE\n",
    "Predict which passengers were transported by the anomaly using records recovered from the spaceship’s damaged computer system."
   ]
  },
  {
   "cell_type": "markdown",
   "id": "1e52b2fd",
   "metadata": {},
   "source": [
    "SOURCE: https://www.kaggle.com/competitions/spaceship-titanic/overview"
   ]
  },
  {
   "cell_type": "code",
   "execution_count": 3,
   "id": "18ff1f92",
   "metadata": {},
   "outputs": [],
   "source": [
    "import os\n",
    "# prepering directories\n",
    "path = os.getcwd()\n",
    "# subfolders\n",
    "input_dir = os.path.join(path, 'data')\n",
    "output_dir = os.path.join(path, 'outputs')"
   ]
  },
  {
   "cell_type": "markdown",
   "id": "6f2ed21f",
   "metadata": {},
   "source": [
    "# Data Loading and basic exploration"
   ]
  },
  {
   "cell_type": "code",
   "execution_count": 4,
   "id": "1d3a65b1",
   "metadata": {},
   "outputs": [],
   "source": [
    "train = pd.read_csv(os.path.join(input_dir, 'train.csv'))\n",
    "test = pd.read_csv(os.path.join(input_dir, 'test.csv'))"
   ]
  },
  {
   "cell_type": "code",
   "execution_count": 5,
   "id": "210a8c0d",
   "metadata": {},
   "outputs": [
    {
     "name": "stdout",
     "output_type": "stream",
     "text": [
      "Number of rows 8693\n",
      "Number of columns 14\n"
     ]
    }
   ],
   "source": [
    "print( 'Number of rows', train.shape[0]  )\n",
    "print( 'Number of columns', train.shape[1]  )"
   ]
  },
  {
   "cell_type": "code",
   "execution_count": 6,
   "id": "e3650228",
   "metadata": {},
   "outputs": [
    {
     "name": "stdout",
     "output_type": "stream",
     "text": [
      "Number of values per column\n"
     ]
    },
    {
     "data": {
      "text/plain": [
       "PassengerId     8693\n",
       "HomePlanet      8492\n",
       "CryoSleep       8476\n",
       "Cabin           8494\n",
       "Destination     8511\n",
       "Age             8514\n",
       "VIP             8490\n",
       "RoomService     8512\n",
       "FoodCourt       8510\n",
       "ShoppingMall    8485\n",
       "Spa             8510\n",
       "VRDeck          8505\n",
       "Name            8493\n",
       "Transported     8693\n",
       "dtype: int64"
      ]
     },
     "execution_count": 6,
     "metadata": {},
     "output_type": "execute_result"
    }
   ],
   "source": [
    "print( 'Number of values per column' )\n",
    "train.count()"
   ]
  },
  {
   "cell_type": "code",
   "execution_count": 7,
   "id": "69f58277",
   "metadata": {},
   "outputs": [
    {
     "name": "stdout",
     "output_type": "stream",
     "text": [
      "Total number of values in data 119378\n"
     ]
    }
   ],
   "source": [
    "print('Total number of values in data', train.count().sum() )"
   ]
  },
  {
   "cell_type": "markdown",
   "id": "f89b3777",
   "metadata": {},
   "source": [
    "#### Basic data exploration and missing values "
   ]
  },
  {
   "cell_type": "code",
   "execution_count": 8,
   "id": "5d74f4b7",
   "metadata": {},
   "outputs": [
    {
     "data": {
      "text/html": [
       "<style type=\"text/css\">\n",
       "#T_ebc5b_row0_col2, #T_ebc5b_row12_col4 {\n",
       "  width: 10em;\n",
       "  height: 80%;\n",
       "  background: linear-gradient(90deg,pink 100.0%, transparent 100.0%);\n",
       "}\n",
       "#T_ebc5b_row0_col4, #T_ebc5b_row2_col4, #T_ebc5b_row4_col4, #T_ebc5b_row7_col4 {\n",
       "  width: 10em;\n",
       "  height: 80%;\n",
       "  background: linear-gradient(90deg,pink 0.0%, transparent 0.0%);\n",
       "}\n",
       "#T_ebc5b_row1_col2 {\n",
       "  width: 10em;\n",
       "  height: 80%;\n",
       "  background: linear-gradient(90deg,pink 95.9%, transparent 95.9%);\n",
       "}\n",
       "#T_ebc5b_row1_col4 {\n",
       "  width: 10em;\n",
       "  height: 80%;\n",
       "  background: linear-gradient(90deg,pink 12.8%, transparent 12.8%);\n",
       "}\n",
       "#T_ebc5b_row2_col2 {\n",
       "  width: 10em;\n",
       "  height: 80%;\n",
       "  background: linear-gradient(90deg,pink 92.6%, transparent 92.6%);\n",
       "}\n",
       "#T_ebc5b_row3_col2 {\n",
       "  width: 10em;\n",
       "  height: 80%;\n",
       "  background: linear-gradient(90deg,pink 91.7%, transparent 91.7%);\n",
       "}\n",
       "#T_ebc5b_row3_col4 {\n",
       "  width: 10em;\n",
       "  height: 80%;\n",
       "  background: linear-gradient(90deg,pink 75.5%, transparent 75.5%);\n",
       "}\n",
       "#T_ebc5b_row4_col2 {\n",
       "  width: 10em;\n",
       "  height: 80%;\n",
       "  background: linear-gradient(90deg,pink 93.5%, transparent 93.5%);\n",
       "}\n",
       "#T_ebc5b_row5_col2 {\n",
       "  width: 10em;\n",
       "  height: 80%;\n",
       "  background: linear-gradient(90deg,pink 92.2%, transparent 92.2%);\n",
       "}\n",
       "#T_ebc5b_row5_col4 {\n",
       "  width: 10em;\n",
       "  height: 80%;\n",
       "  background: linear-gradient(90deg,pink 97.5%, transparent 97.5%);\n",
       "}\n",
       "#T_ebc5b_row6_col2 {\n",
       "  width: 10em;\n",
       "  height: 80%;\n",
       "  background: linear-gradient(90deg,pink 86.6%, transparent 86.6%);\n",
       "}\n",
       "#T_ebc5b_row6_col4 {\n",
       "  width: 10em;\n",
       "  height: 80%;\n",
       "  background: linear-gradient(90deg,pink 15.0%, transparent 15.0%);\n",
       "}\n",
       "#T_ebc5b_row7_col2 {\n",
       "  width: 10em;\n",
       "  height: 80%;\n",
       "  background: linear-gradient(90deg,pink 83.9%, transparent 83.9%);\n",
       "}\n",
       "#T_ebc5b_row8_col2 {\n",
       "  width: 10em;\n",
       "  height: 80%;\n",
       "  background: linear-gradient(90deg,pink 82.5%, transparent 82.5%);\n",
       "}\n",
       "#T_ebc5b_row8_col4 {\n",
       "  width: 10em;\n",
       "  height: 80%;\n",
       "  background: linear-gradient(90deg,pink 0.9%, transparent 0.9%);\n",
       "}\n",
       "#T_ebc5b_row9_col2 {\n",
       "  width: 10em;\n",
       "  height: 80%;\n",
       "  background: linear-gradient(90deg,pink 83.4%, transparent 83.4%);\n",
       "}\n",
       "#T_ebc5b_row9_col4 {\n",
       "  width: 10em;\n",
       "  height: 80%;\n",
       "  background: linear-gradient(90deg,pink 14.6%, transparent 14.6%);\n",
       "}\n",
       "#T_ebc5b_row10_col2, #T_ebc5b_row11_col2 {\n",
       "  width: 10em;\n",
       "  height: 80%;\n",
       "  background: linear-gradient(90deg,pink 84.3%, transparent 84.3%);\n",
       "}\n",
       "#T_ebc5b_row10_col4 {\n",
       "  width: 10em;\n",
       "  height: 80%;\n",
       "  background: linear-gradient(90deg,pink 17.3%, transparent 17.3%);\n",
       "}\n",
       "#T_ebc5b_row11_col4 {\n",
       "  width: 10em;\n",
       "  height: 80%;\n",
       "  background: linear-gradient(90deg,pink 15.3%, transparent 15.3%);\n",
       "}\n",
       "#T_ebc5b_row12_col2, #T_ebc5b_row13_col2, #T_ebc5b_row13_col4 {\n",
       "  width: 10em;\n",
       "  height: 80%;\n",
       "}\n",
       "</style>\n",
       "<table id=\"T_ebc5b_\">\n",
       "  <thead>\n",
       "    <tr>\n",
       "      <th class=\"blank level0\" >&nbsp;</th>\n",
       "      <th class=\"col_heading level0 col0\" >Column</th>\n",
       "      <th class=\"col_heading level0 col1\" >Data Type</th>\n",
       "      <th class=\"col_heading level0 col2\" >Misssing Values</th>\n",
       "      <th class=\"col_heading level0 col3\" >Missing Values [%]</th>\n",
       "      <th class=\"col_heading level0 col4\" >Sum Unique Val</th>\n",
       "    </tr>\n",
       "  </thead>\n",
       "  <tbody>\n",
       "    <tr>\n",
       "      <th id=\"T_ebc5b_level0_row0\" class=\"row_heading level0 row0\" >2</th>\n",
       "      <td id=\"T_ebc5b_row0_col0\" class=\"data row0 col0\" >CryoSleep</td>\n",
       "      <td id=\"T_ebc5b_row0_col1\" class=\"data row0 col1\" >object</td>\n",
       "      <td id=\"T_ebc5b_row0_col2\" class=\"data row0 col2\" >217</td>\n",
       "      <td id=\"T_ebc5b_row0_col3\" class=\"data row0 col3\" >2.500000</td>\n",
       "      <td id=\"T_ebc5b_row0_col4\" class=\"data row0 col4\" >3</td>\n",
       "    </tr>\n",
       "    <tr>\n",
       "      <th id=\"T_ebc5b_level0_row1\" class=\"row_heading level0 row1\" >9</th>\n",
       "      <td id=\"T_ebc5b_row1_col0\" class=\"data row1 col0\" >ShoppingMall</td>\n",
       "      <td id=\"T_ebc5b_row1_col1\" class=\"data row1 col1\" >float64</td>\n",
       "      <td id=\"T_ebc5b_row1_col2\" class=\"data row1 col2\" >208</td>\n",
       "      <td id=\"T_ebc5b_row1_col3\" class=\"data row1 col3\" >2.400000</td>\n",
       "      <td id=\"T_ebc5b_row1_col4\" class=\"data row1 col4\" >1116</td>\n",
       "    </tr>\n",
       "    <tr>\n",
       "      <th id=\"T_ebc5b_level0_row2\" class=\"row_heading level0 row2\" >1</th>\n",
       "      <td id=\"T_ebc5b_row2_col0\" class=\"data row2 col0\" >HomePlanet</td>\n",
       "      <td id=\"T_ebc5b_row2_col1\" class=\"data row2 col1\" >object</td>\n",
       "      <td id=\"T_ebc5b_row2_col2\" class=\"data row2 col2\" >201</td>\n",
       "      <td id=\"T_ebc5b_row2_col3\" class=\"data row2 col3\" >2.300000</td>\n",
       "      <td id=\"T_ebc5b_row2_col4\" class=\"data row2 col4\" >4</td>\n",
       "    </tr>\n",
       "    <tr>\n",
       "      <th id=\"T_ebc5b_level0_row3\" class=\"row_heading level0 row3\" >3</th>\n",
       "      <td id=\"T_ebc5b_row3_col0\" class=\"data row3 col0\" >Cabin</td>\n",
       "      <td id=\"T_ebc5b_row3_col1\" class=\"data row3 col1\" >object</td>\n",
       "      <td id=\"T_ebc5b_row3_col2\" class=\"data row3 col2\" >199</td>\n",
       "      <td id=\"T_ebc5b_row3_col3\" class=\"data row3 col3\" >2.300000</td>\n",
       "      <td id=\"T_ebc5b_row3_col4\" class=\"data row3 col4\" >6561</td>\n",
       "    </tr>\n",
       "    <tr>\n",
       "      <th id=\"T_ebc5b_level0_row4\" class=\"row_heading level0 row4\" >6</th>\n",
       "      <td id=\"T_ebc5b_row4_col0\" class=\"data row4 col0\" >VIP</td>\n",
       "      <td id=\"T_ebc5b_row4_col1\" class=\"data row4 col1\" >object</td>\n",
       "      <td id=\"T_ebc5b_row4_col2\" class=\"data row4 col2\" >203</td>\n",
       "      <td id=\"T_ebc5b_row4_col3\" class=\"data row4 col3\" >2.300000</td>\n",
       "      <td id=\"T_ebc5b_row4_col4\" class=\"data row4 col4\" >3</td>\n",
       "    </tr>\n",
       "    <tr>\n",
       "      <th id=\"T_ebc5b_level0_row5\" class=\"row_heading level0 row5\" >12</th>\n",
       "      <td id=\"T_ebc5b_row5_col0\" class=\"data row5 col0\" >Name</td>\n",
       "      <td id=\"T_ebc5b_row5_col1\" class=\"data row5 col1\" >object</td>\n",
       "      <td id=\"T_ebc5b_row5_col2\" class=\"data row5 col2\" >200</td>\n",
       "      <td id=\"T_ebc5b_row5_col3\" class=\"data row5 col3\" >2.300000</td>\n",
       "      <td id=\"T_ebc5b_row5_col4\" class=\"data row5 col4\" >8474</td>\n",
       "    </tr>\n",
       "    <tr>\n",
       "      <th id=\"T_ebc5b_level0_row6\" class=\"row_heading level0 row6\" >11</th>\n",
       "      <td id=\"T_ebc5b_row6_col0\" class=\"data row6 col0\" >VRDeck</td>\n",
       "      <td id=\"T_ebc5b_row6_col1\" class=\"data row6 col1\" >float64</td>\n",
       "      <td id=\"T_ebc5b_row6_col2\" class=\"data row6 col2\" >188</td>\n",
       "      <td id=\"T_ebc5b_row6_col3\" class=\"data row6 col3\" >2.200000</td>\n",
       "      <td id=\"T_ebc5b_row6_col4\" class=\"data row6 col4\" >1307</td>\n",
       "    </tr>\n",
       "    <tr>\n",
       "      <th id=\"T_ebc5b_level0_row7\" class=\"row_heading level0 row7\" >4</th>\n",
       "      <td id=\"T_ebc5b_row7_col0\" class=\"data row7 col0\" >Destination</td>\n",
       "      <td id=\"T_ebc5b_row7_col1\" class=\"data row7 col1\" >object</td>\n",
       "      <td id=\"T_ebc5b_row7_col2\" class=\"data row7 col2\" >182</td>\n",
       "      <td id=\"T_ebc5b_row7_col3\" class=\"data row7 col3\" >2.100000</td>\n",
       "      <td id=\"T_ebc5b_row7_col4\" class=\"data row7 col4\" >4</td>\n",
       "    </tr>\n",
       "    <tr>\n",
       "      <th id=\"T_ebc5b_level0_row8\" class=\"row_heading level0 row8\" >5</th>\n",
       "      <td id=\"T_ebc5b_row8_col0\" class=\"data row8 col0\" >Age</td>\n",
       "      <td id=\"T_ebc5b_row8_col1\" class=\"data row8 col1\" >float64</td>\n",
       "      <td id=\"T_ebc5b_row8_col2\" class=\"data row8 col2\" >179</td>\n",
       "      <td id=\"T_ebc5b_row8_col3\" class=\"data row8 col3\" >2.100000</td>\n",
       "      <td id=\"T_ebc5b_row8_col4\" class=\"data row8 col4\" >81</td>\n",
       "    </tr>\n",
       "    <tr>\n",
       "      <th id=\"T_ebc5b_level0_row9\" class=\"row_heading level0 row9\" >7</th>\n",
       "      <td id=\"T_ebc5b_row9_col0\" class=\"data row9 col0\" >RoomService</td>\n",
       "      <td id=\"T_ebc5b_row9_col1\" class=\"data row9 col1\" >float64</td>\n",
       "      <td id=\"T_ebc5b_row9_col2\" class=\"data row9 col2\" >181</td>\n",
       "      <td id=\"T_ebc5b_row9_col3\" class=\"data row9 col3\" >2.100000</td>\n",
       "      <td id=\"T_ebc5b_row9_col4\" class=\"data row9 col4\" >1274</td>\n",
       "    </tr>\n",
       "    <tr>\n",
       "      <th id=\"T_ebc5b_level0_row10\" class=\"row_heading level0 row10\" >8</th>\n",
       "      <td id=\"T_ebc5b_row10_col0\" class=\"data row10 col0\" >FoodCourt</td>\n",
       "      <td id=\"T_ebc5b_row10_col1\" class=\"data row10 col1\" >float64</td>\n",
       "      <td id=\"T_ebc5b_row10_col2\" class=\"data row10 col2\" >183</td>\n",
       "      <td id=\"T_ebc5b_row10_col3\" class=\"data row10 col3\" >2.100000</td>\n",
       "      <td id=\"T_ebc5b_row10_col4\" class=\"data row10 col4\" >1508</td>\n",
       "    </tr>\n",
       "    <tr>\n",
       "      <th id=\"T_ebc5b_level0_row11\" class=\"row_heading level0 row11\" >10</th>\n",
       "      <td id=\"T_ebc5b_row11_col0\" class=\"data row11 col0\" >Spa</td>\n",
       "      <td id=\"T_ebc5b_row11_col1\" class=\"data row11 col1\" >float64</td>\n",
       "      <td id=\"T_ebc5b_row11_col2\" class=\"data row11 col2\" >183</td>\n",
       "      <td id=\"T_ebc5b_row11_col3\" class=\"data row11 col3\" >2.100000</td>\n",
       "      <td id=\"T_ebc5b_row11_col4\" class=\"data row11 col4\" >1328</td>\n",
       "    </tr>\n",
       "    <tr>\n",
       "      <th id=\"T_ebc5b_level0_row12\" class=\"row_heading level0 row12\" >0</th>\n",
       "      <td id=\"T_ebc5b_row12_col0\" class=\"data row12 col0\" >PassengerId</td>\n",
       "      <td id=\"T_ebc5b_row12_col1\" class=\"data row12 col1\" >object</td>\n",
       "      <td id=\"T_ebc5b_row12_col2\" class=\"data row12 col2\" >0</td>\n",
       "      <td id=\"T_ebc5b_row12_col3\" class=\"data row12 col3\" >0</td>\n",
       "      <td id=\"T_ebc5b_row12_col4\" class=\"data row12 col4\" >8693</td>\n",
       "    </tr>\n",
       "    <tr>\n",
       "      <th id=\"T_ebc5b_level0_row13\" class=\"row_heading level0 row13\" >13</th>\n",
       "      <td id=\"T_ebc5b_row13_col0\" class=\"data row13 col0\" >Transported</td>\n",
       "      <td id=\"T_ebc5b_row13_col1\" class=\"data row13 col1\" >bool</td>\n",
       "      <td id=\"T_ebc5b_row13_col2\" class=\"data row13 col2\" >0</td>\n",
       "      <td id=\"T_ebc5b_row13_col3\" class=\"data row13 col3\" >0</td>\n",
       "      <td id=\"T_ebc5b_row13_col4\" class=\"data row13 col4\" >2</td>\n",
       "    </tr>\n",
       "  </tbody>\n",
       "</table>\n"
      ],
      "text/plain": [
       "<pandas.io.formats.style.Styler at 0x264f089d588>"
      ]
     },
     "execution_count": 8,
     "metadata": {},
     "output_type": "execute_result"
    }
   ],
   "source": [
    "# initializing new data frame that will be displayed in the table\n",
    "dataset = train.copy()\n",
    "data_review = pd.DataFrame(columns = ['Column','Data Type','Misssing Values', 'Missing Values [%]', 'Sum Unique Val'])\n",
    "\n",
    "\n",
    "\n",
    "# looping via columns and extracting needed information\n",
    "for index, column in enumerate(dataset.columns):\n",
    "    data_type = dataset.dtypes[column]\n",
    "    missing_value = dataset[column].isnull().sum()\n",
    "    percentage = round((missing_value/len(dataset))* 100,1) if (missing_value/len(dataset))* 100 else 0\n",
    "    unique_val = len(dataset[column].unique())\n",
    "    data_review.loc[index] = [column, data_type, missing_value,percentage,unique_val]\n",
    "    \n",
    "pd.set_option(\"max_rows\", None) # all rows are shown when printing  \n",
    "\n",
    "    \n",
    "data_review = data_review.sort_values(by=['Missing Values [%]'], ascending=False)\n",
    "data_review.style\\\n",
    "        .bar(subset=[\"Misssing Values\"], color='pink')\\\n",
    "        .bar(subset=[\"Sum Unique Val\"], color='pink')\\\n",
    "\n"
   ]
  },
  {
   "cell_type": "markdown",
   "id": "49576ba6",
   "metadata": {},
   "source": [
    "#### Basic statistics of training data"
   ]
  },
  {
   "cell_type": "code",
   "execution_count": 9,
   "id": "b811eaa9",
   "metadata": {},
   "outputs": [
    {
     "data": {
      "text/html": [
       "<div>\n",
       "<style scoped>\n",
       "    .dataframe tbody tr th:only-of-type {\n",
       "        vertical-align: middle;\n",
       "    }\n",
       "\n",
       "    .dataframe tbody tr th {\n",
       "        vertical-align: top;\n",
       "    }\n",
       "\n",
       "    .dataframe thead th {\n",
       "        text-align: right;\n",
       "    }\n",
       "</style>\n",
       "<table border=\"1\" class=\"dataframe\">\n",
       "  <thead>\n",
       "    <tr style=\"text-align: right;\">\n",
       "      <th></th>\n",
       "      <th>Age</th>\n",
       "      <th>RoomService</th>\n",
       "      <th>FoodCourt</th>\n",
       "      <th>ShoppingMall</th>\n",
       "      <th>Spa</th>\n",
       "      <th>VRDeck</th>\n",
       "    </tr>\n",
       "  </thead>\n",
       "  <tbody>\n",
       "    <tr>\n",
       "      <th>count</th>\n",
       "      <td>8514.000000</td>\n",
       "      <td>8512.000000</td>\n",
       "      <td>8510.000000</td>\n",
       "      <td>8485.000000</td>\n",
       "      <td>8510.000000</td>\n",
       "      <td>8505.000000</td>\n",
       "    </tr>\n",
       "    <tr>\n",
       "      <th>mean</th>\n",
       "      <td>28.827930</td>\n",
       "      <td>224.687617</td>\n",
       "      <td>458.077203</td>\n",
       "      <td>173.729169</td>\n",
       "      <td>311.138778</td>\n",
       "      <td>304.854791</td>\n",
       "    </tr>\n",
       "    <tr>\n",
       "      <th>std</th>\n",
       "      <td>14.489021</td>\n",
       "      <td>666.717663</td>\n",
       "      <td>1611.489240</td>\n",
       "      <td>604.696458</td>\n",
       "      <td>1136.705535</td>\n",
       "      <td>1145.717189</td>\n",
       "    </tr>\n",
       "    <tr>\n",
       "      <th>min</th>\n",
       "      <td>0.000000</td>\n",
       "      <td>0.000000</td>\n",
       "      <td>0.000000</td>\n",
       "      <td>0.000000</td>\n",
       "      <td>0.000000</td>\n",
       "      <td>0.000000</td>\n",
       "    </tr>\n",
       "    <tr>\n",
       "      <th>25%</th>\n",
       "      <td>19.000000</td>\n",
       "      <td>0.000000</td>\n",
       "      <td>0.000000</td>\n",
       "      <td>0.000000</td>\n",
       "      <td>0.000000</td>\n",
       "      <td>0.000000</td>\n",
       "    </tr>\n",
       "    <tr>\n",
       "      <th>50%</th>\n",
       "      <td>27.000000</td>\n",
       "      <td>0.000000</td>\n",
       "      <td>0.000000</td>\n",
       "      <td>0.000000</td>\n",
       "      <td>0.000000</td>\n",
       "      <td>0.000000</td>\n",
       "    </tr>\n",
       "    <tr>\n",
       "      <th>75%</th>\n",
       "      <td>38.000000</td>\n",
       "      <td>47.000000</td>\n",
       "      <td>76.000000</td>\n",
       "      <td>27.000000</td>\n",
       "      <td>59.000000</td>\n",
       "      <td>46.000000</td>\n",
       "    </tr>\n",
       "    <tr>\n",
       "      <th>max</th>\n",
       "      <td>79.000000</td>\n",
       "      <td>14327.000000</td>\n",
       "      <td>29813.000000</td>\n",
       "      <td>23492.000000</td>\n",
       "      <td>22408.000000</td>\n",
       "      <td>24133.000000</td>\n",
       "    </tr>\n",
       "  </tbody>\n",
       "</table>\n",
       "</div>"
      ],
      "text/plain": [
       "               Age   RoomService     FoodCourt  ShoppingMall           Spa  \\\n",
       "count  8514.000000   8512.000000   8510.000000   8485.000000   8510.000000   \n",
       "mean     28.827930    224.687617    458.077203    173.729169    311.138778   \n",
       "std      14.489021    666.717663   1611.489240    604.696458   1136.705535   \n",
       "min       0.000000      0.000000      0.000000      0.000000      0.000000   \n",
       "25%      19.000000      0.000000      0.000000      0.000000      0.000000   \n",
       "50%      27.000000      0.000000      0.000000      0.000000      0.000000   \n",
       "75%      38.000000     47.000000     76.000000     27.000000     59.000000   \n",
       "max      79.000000  14327.000000  29813.000000  23492.000000  22408.000000   \n",
       "\n",
       "             VRDeck  \n",
       "count   8505.000000  \n",
       "mean     304.854791  \n",
       "std     1145.717189  \n",
       "min        0.000000  \n",
       "25%        0.000000  \n",
       "50%        0.000000  \n",
       "75%       46.000000  \n",
       "max    24133.000000  "
      ]
     },
     "execution_count": 9,
     "metadata": {},
     "output_type": "execute_result"
    }
   ],
   "source": [
    "train.describe()"
   ]
  },
  {
   "cell_type": "markdown",
   "id": "89b793dc",
   "metadata": {},
   "source": [
    "#### Quick view of Train Data"
   ]
  },
  {
   "cell_type": "code",
   "execution_count": 10,
   "id": "8aa09ab2",
   "metadata": {},
   "outputs": [
    {
     "data": {
      "text/html": [
       "<div>\n",
       "<style scoped>\n",
       "    .dataframe tbody tr th:only-of-type {\n",
       "        vertical-align: middle;\n",
       "    }\n",
       "\n",
       "    .dataframe tbody tr th {\n",
       "        vertical-align: top;\n",
       "    }\n",
       "\n",
       "    .dataframe thead th {\n",
       "        text-align: right;\n",
       "    }\n",
       "</style>\n",
       "<table border=\"1\" class=\"dataframe\">\n",
       "  <thead>\n",
       "    <tr style=\"text-align: right;\">\n",
       "      <th></th>\n",
       "      <th>PassengerId</th>\n",
       "      <th>HomePlanet</th>\n",
       "      <th>CryoSleep</th>\n",
       "      <th>Cabin</th>\n",
       "      <th>Destination</th>\n",
       "      <th>Age</th>\n",
       "      <th>VIP</th>\n",
       "      <th>RoomService</th>\n",
       "      <th>FoodCourt</th>\n",
       "      <th>ShoppingMall</th>\n",
       "      <th>Spa</th>\n",
       "      <th>VRDeck</th>\n",
       "      <th>Name</th>\n",
       "      <th>Transported</th>\n",
       "    </tr>\n",
       "  </thead>\n",
       "  <tbody>\n",
       "    <tr>\n",
       "      <th>0</th>\n",
       "      <td>0001_01</td>\n",
       "      <td>Europa</td>\n",
       "      <td>False</td>\n",
       "      <td>B/0/P</td>\n",
       "      <td>TRAPPIST-1e</td>\n",
       "      <td>39.0</td>\n",
       "      <td>False</td>\n",
       "      <td>0.0</td>\n",
       "      <td>0.0</td>\n",
       "      <td>0.0</td>\n",
       "      <td>0.0</td>\n",
       "      <td>0.0</td>\n",
       "      <td>Maham Ofracculy</td>\n",
       "      <td>False</td>\n",
       "    </tr>\n",
       "    <tr>\n",
       "      <th>1</th>\n",
       "      <td>0002_01</td>\n",
       "      <td>Earth</td>\n",
       "      <td>False</td>\n",
       "      <td>F/0/S</td>\n",
       "      <td>TRAPPIST-1e</td>\n",
       "      <td>24.0</td>\n",
       "      <td>False</td>\n",
       "      <td>109.0</td>\n",
       "      <td>9.0</td>\n",
       "      <td>25.0</td>\n",
       "      <td>549.0</td>\n",
       "      <td>44.0</td>\n",
       "      <td>Juanna Vines</td>\n",
       "      <td>True</td>\n",
       "    </tr>\n",
       "    <tr>\n",
       "      <th>2</th>\n",
       "      <td>0003_01</td>\n",
       "      <td>Europa</td>\n",
       "      <td>False</td>\n",
       "      <td>A/0/S</td>\n",
       "      <td>TRAPPIST-1e</td>\n",
       "      <td>58.0</td>\n",
       "      <td>True</td>\n",
       "      <td>43.0</td>\n",
       "      <td>3576.0</td>\n",
       "      <td>0.0</td>\n",
       "      <td>6715.0</td>\n",
       "      <td>49.0</td>\n",
       "      <td>Altark Susent</td>\n",
       "      <td>False</td>\n",
       "    </tr>\n",
       "    <tr>\n",
       "      <th>3</th>\n",
       "      <td>0003_02</td>\n",
       "      <td>Europa</td>\n",
       "      <td>False</td>\n",
       "      <td>A/0/S</td>\n",
       "      <td>TRAPPIST-1e</td>\n",
       "      <td>33.0</td>\n",
       "      <td>False</td>\n",
       "      <td>0.0</td>\n",
       "      <td>1283.0</td>\n",
       "      <td>371.0</td>\n",
       "      <td>3329.0</td>\n",
       "      <td>193.0</td>\n",
       "      <td>Solam Susent</td>\n",
       "      <td>False</td>\n",
       "    </tr>\n",
       "    <tr>\n",
       "      <th>4</th>\n",
       "      <td>0004_01</td>\n",
       "      <td>Earth</td>\n",
       "      <td>False</td>\n",
       "      <td>F/1/S</td>\n",
       "      <td>TRAPPIST-1e</td>\n",
       "      <td>16.0</td>\n",
       "      <td>False</td>\n",
       "      <td>303.0</td>\n",
       "      <td>70.0</td>\n",
       "      <td>151.0</td>\n",
       "      <td>565.0</td>\n",
       "      <td>2.0</td>\n",
       "      <td>Willy Santantines</td>\n",
       "      <td>True</td>\n",
       "    </tr>\n",
       "  </tbody>\n",
       "</table>\n",
       "</div>"
      ],
      "text/plain": [
       "  PassengerId HomePlanet CryoSleep  Cabin  Destination   Age    VIP  \\\n",
       "0     0001_01     Europa     False  B/0/P  TRAPPIST-1e  39.0  False   \n",
       "1     0002_01      Earth     False  F/0/S  TRAPPIST-1e  24.0  False   \n",
       "2     0003_01     Europa     False  A/0/S  TRAPPIST-1e  58.0   True   \n",
       "3     0003_02     Europa     False  A/0/S  TRAPPIST-1e  33.0  False   \n",
       "4     0004_01      Earth     False  F/1/S  TRAPPIST-1e  16.0  False   \n",
       "\n",
       "   RoomService  FoodCourt  ShoppingMall     Spa  VRDeck               Name  \\\n",
       "0          0.0        0.0           0.0     0.0     0.0    Maham Ofracculy   \n",
       "1        109.0        9.0          25.0   549.0    44.0       Juanna Vines   \n",
       "2         43.0     3576.0           0.0  6715.0    49.0      Altark Susent   \n",
       "3          0.0     1283.0         371.0  3329.0   193.0       Solam Susent   \n",
       "4        303.0       70.0         151.0   565.0     2.0  Willy Santantines   \n",
       "\n",
       "   Transported  \n",
       "0        False  \n",
       "1         True  \n",
       "2        False  \n",
       "3        False  \n",
       "4         True  "
      ]
     },
     "execution_count": 10,
     "metadata": {},
     "output_type": "execute_result"
    }
   ],
   "source": [
    "train.head(5)"
   ]
  },
  {
   "cell_type": "code",
   "execution_count": 11,
   "id": "fc4bfbe2",
   "metadata": {},
   "outputs": [],
   "source": [
    "data = train.copy()\n",
    "TARGET = 'Transported'\n",
    "IDs = 'PassengerId'\n",
    "FEATURES = [col for col in data.columns if col not in [TARGET, IDs] ] # excludes columns: target and IDs"
   ]
  },
  {
   "cell_type": "code",
   "execution_count": 12,
   "id": "32350673",
   "metadata": {},
   "outputs": [
    {
     "data": {
      "text/html": [
       "<style type=\"text/css\">\n",
       "#T_52eaf_row0_col1 {\n",
       "  width: 10em;\n",
       "  height: 80%;\n",
       "  background: linear-gradient(90deg,pink 100.0%, transparent 100.0%);\n",
       "}\n",
       "#T_52eaf_row0_col5, #T_52eaf_row1_col5, #T_52eaf_row2_col5, #T_52eaf_row3_col5, #T_52eaf_row4_col5, #T_52eaf_row5_col1, #T_52eaf_row5_col7 {\n",
       "  width: 10em;\n",
       "  height: 80%;\n",
       "}\n",
       "#T_52eaf_row0_col7 {\n",
       "  width: 10em;\n",
       "  height: 80%;\n",
       "  background: linear-gradient(90deg,salmon 100.0%, transparent 100.0%);\n",
       "}\n",
       "#T_52eaf_row1_col1 {\n",
       "  width: 10em;\n",
       "  height: 80%;\n",
       "  background: linear-gradient(90deg,pink 64.3%, transparent 64.3%);\n",
       "}\n",
       "#T_52eaf_row1_col7 {\n",
       "  width: 10em;\n",
       "  height: 80%;\n",
       "  background: linear-gradient(90deg,salmon 80.9%, transparent 80.9%);\n",
       "}\n",
       "#T_52eaf_row2_col1 {\n",
       "  width: 10em;\n",
       "  height: 80%;\n",
       "  background: linear-gradient(90deg,pink 65.8%, transparent 65.8%);\n",
       "}\n",
       "#T_52eaf_row2_col7 {\n",
       "  width: 10em;\n",
       "  height: 80%;\n",
       "  background: linear-gradient(90deg,salmon 75.1%, transparent 75.1%);\n",
       "}\n",
       "#T_52eaf_row3_col1 {\n",
       "  width: 10em;\n",
       "  height: 80%;\n",
       "  background: linear-gradient(90deg,pink 45.6%, transparent 45.6%);\n",
       "}\n",
       "#T_52eaf_row3_col7 {\n",
       "  width: 10em;\n",
       "  height: 80%;\n",
       "  background: linear-gradient(90deg,salmon 47.9%, transparent 47.9%);\n",
       "}\n",
       "#T_52eaf_row4_col1 {\n",
       "  width: 10em;\n",
       "  height: 80%;\n",
       "  background: linear-gradient(90deg,pink 33.8%, transparent 33.8%);\n",
       "}\n",
       "#T_52eaf_row4_col7 {\n",
       "  width: 10em;\n",
       "  height: 80%;\n",
       "  background: linear-gradient(90deg,salmon 78.7%, transparent 78.7%);\n",
       "}\n",
       "#T_52eaf_row5_col5 {\n",
       "  width: 10em;\n",
       "  height: 80%;\n",
       "  background: linear-gradient(90deg,lightgray 100.0%, transparent 100.0%);\n",
       "}\n",
       "</style>\n",
       "<table id=\"T_52eaf_\">\n",
       "  <thead>\n",
       "    <tr>\n",
       "      <th class=\"blank level0\" >&nbsp;</th>\n",
       "      <th class=\"col_heading level0 col0\" >count</th>\n",
       "      <th class=\"col_heading level0 col1\" >mean</th>\n",
       "      <th class=\"col_heading level0 col2\" >std</th>\n",
       "      <th class=\"col_heading level0 col3\" >min</th>\n",
       "      <th class=\"col_heading level0 col4\" >25%</th>\n",
       "      <th class=\"col_heading level0 col5\" >50%</th>\n",
       "      <th class=\"col_heading level0 col6\" >75%</th>\n",
       "      <th class=\"col_heading level0 col7\" >max</th>\n",
       "    </tr>\n",
       "  </thead>\n",
       "  <tbody>\n",
       "    <tr>\n",
       "      <th id=\"T_52eaf_level0_row0\" class=\"row_heading level0 row0\" >FoodCourt</th>\n",
       "      <td id=\"T_52eaf_row0_col0\" class=\"data row0 col0\" >8510.000000</td>\n",
       "      <td id=\"T_52eaf_row0_col1\" class=\"data row0 col1\" >458.077203</td>\n",
       "      <td id=\"T_52eaf_row0_col2\" class=\"data row0 col2\" >1611.489240</td>\n",
       "      <td id=\"T_52eaf_row0_col3\" class=\"data row0 col3\" >0.000000</td>\n",
       "      <td id=\"T_52eaf_row0_col4\" class=\"data row0 col4\" >0.000000</td>\n",
       "      <td id=\"T_52eaf_row0_col5\" class=\"data row0 col5\" >0.000000</td>\n",
       "      <td id=\"T_52eaf_row0_col6\" class=\"data row0 col6\" >76.000000</td>\n",
       "      <td id=\"T_52eaf_row0_col7\" class=\"data row0 col7\" >29813.000000</td>\n",
       "    </tr>\n",
       "    <tr>\n",
       "      <th id=\"T_52eaf_level0_row1\" class=\"row_heading level0 row1\" >VRDeck</th>\n",
       "      <td id=\"T_52eaf_row1_col0\" class=\"data row1 col0\" >8505.000000</td>\n",
       "      <td id=\"T_52eaf_row1_col1\" class=\"data row1 col1\" >304.854791</td>\n",
       "      <td id=\"T_52eaf_row1_col2\" class=\"data row1 col2\" >1145.717189</td>\n",
       "      <td id=\"T_52eaf_row1_col3\" class=\"data row1 col3\" >0.000000</td>\n",
       "      <td id=\"T_52eaf_row1_col4\" class=\"data row1 col4\" >0.000000</td>\n",
       "      <td id=\"T_52eaf_row1_col5\" class=\"data row1 col5\" >0.000000</td>\n",
       "      <td id=\"T_52eaf_row1_col6\" class=\"data row1 col6\" >46.000000</td>\n",
       "      <td id=\"T_52eaf_row1_col7\" class=\"data row1 col7\" >24133.000000</td>\n",
       "    </tr>\n",
       "    <tr>\n",
       "      <th id=\"T_52eaf_level0_row2\" class=\"row_heading level0 row2\" >Spa</th>\n",
       "      <td id=\"T_52eaf_row2_col0\" class=\"data row2 col0\" >8510.000000</td>\n",
       "      <td id=\"T_52eaf_row2_col1\" class=\"data row2 col1\" >311.138778</td>\n",
       "      <td id=\"T_52eaf_row2_col2\" class=\"data row2 col2\" >1136.705535</td>\n",
       "      <td id=\"T_52eaf_row2_col3\" class=\"data row2 col3\" >0.000000</td>\n",
       "      <td id=\"T_52eaf_row2_col4\" class=\"data row2 col4\" >0.000000</td>\n",
       "      <td id=\"T_52eaf_row2_col5\" class=\"data row2 col5\" >0.000000</td>\n",
       "      <td id=\"T_52eaf_row2_col6\" class=\"data row2 col6\" >59.000000</td>\n",
       "      <td id=\"T_52eaf_row2_col7\" class=\"data row2 col7\" >22408.000000</td>\n",
       "    </tr>\n",
       "    <tr>\n",
       "      <th id=\"T_52eaf_level0_row3\" class=\"row_heading level0 row3\" >RoomService</th>\n",
       "      <td id=\"T_52eaf_row3_col0\" class=\"data row3 col0\" >8512.000000</td>\n",
       "      <td id=\"T_52eaf_row3_col1\" class=\"data row3 col1\" >224.687617</td>\n",
       "      <td id=\"T_52eaf_row3_col2\" class=\"data row3 col2\" >666.717663</td>\n",
       "      <td id=\"T_52eaf_row3_col3\" class=\"data row3 col3\" >0.000000</td>\n",
       "      <td id=\"T_52eaf_row3_col4\" class=\"data row3 col4\" >0.000000</td>\n",
       "      <td id=\"T_52eaf_row3_col5\" class=\"data row3 col5\" >0.000000</td>\n",
       "      <td id=\"T_52eaf_row3_col6\" class=\"data row3 col6\" >47.000000</td>\n",
       "      <td id=\"T_52eaf_row3_col7\" class=\"data row3 col7\" >14327.000000</td>\n",
       "    </tr>\n",
       "    <tr>\n",
       "      <th id=\"T_52eaf_level0_row4\" class=\"row_heading level0 row4\" >ShoppingMall</th>\n",
       "      <td id=\"T_52eaf_row4_col0\" class=\"data row4 col0\" >8485.000000</td>\n",
       "      <td id=\"T_52eaf_row4_col1\" class=\"data row4 col1\" >173.729169</td>\n",
       "      <td id=\"T_52eaf_row4_col2\" class=\"data row4 col2\" >604.696458</td>\n",
       "      <td id=\"T_52eaf_row4_col3\" class=\"data row4 col3\" >0.000000</td>\n",
       "      <td id=\"T_52eaf_row4_col4\" class=\"data row4 col4\" >0.000000</td>\n",
       "      <td id=\"T_52eaf_row4_col5\" class=\"data row4 col5\" >0.000000</td>\n",
       "      <td id=\"T_52eaf_row4_col6\" class=\"data row4 col6\" >27.000000</td>\n",
       "      <td id=\"T_52eaf_row4_col7\" class=\"data row4 col7\" >23492.000000</td>\n",
       "    </tr>\n",
       "    <tr>\n",
       "      <th id=\"T_52eaf_level0_row5\" class=\"row_heading level0 row5\" >Age</th>\n",
       "      <td id=\"T_52eaf_row5_col0\" class=\"data row5 col0\" >8514.000000</td>\n",
       "      <td id=\"T_52eaf_row5_col1\" class=\"data row5 col1\" >28.827930</td>\n",
       "      <td id=\"T_52eaf_row5_col2\" class=\"data row5 col2\" >14.489021</td>\n",
       "      <td id=\"T_52eaf_row5_col3\" class=\"data row5 col3\" >0.000000</td>\n",
       "      <td id=\"T_52eaf_row5_col4\" class=\"data row5 col4\" >19.000000</td>\n",
       "      <td id=\"T_52eaf_row5_col5\" class=\"data row5 col5\" >27.000000</td>\n",
       "      <td id=\"T_52eaf_row5_col6\" class=\"data row5 col6\" >38.000000</td>\n",
       "      <td id=\"T_52eaf_row5_col7\" class=\"data row5 col7\" >79.000000</td>\n",
       "    </tr>\n",
       "  </tbody>\n",
       "</table>\n"
      ],
      "text/plain": [
       "<pandas.io.formats.style.Styler at 0x264f09a81c8>"
      ]
     },
     "execution_count": 12,
     "metadata": {},
     "output_type": "execute_result"
    }
   ],
   "source": [
    "data.describe().T.sort_values(by='std' , ascending = False).style\\\n",
    "    .bar(subset=[\"max\"], color='salmon')\\\n",
    "    .bar(subset=[\"mean\",], color='pink')\\\n",
    "    .bar(subset=[\"50%\",], color='lightgray')"
   ]
  },
  {
   "cell_type": "markdown",
   "id": "bfdea896",
   "metadata": {},
   "source": [
    "We are dealing with supervised machine learning and need to predict a discrete class/category label. In this case we have a binary classification - passenger transported True or False\n",
    "Main classification types of algorithms in ML:\n",
    "- decision trees\n",
    "- naive bayes\n",
    "- linear discriminant analysis\n",
    "- k-nearest neighbor\n",
    "- logistic regression\n",
    "- neural network\n",
    "- support vector machine"
   ]
  },
  {
   "cell_type": "markdown",
   "id": "a0a3287d",
   "metadata": {},
   "source": [
    "## KNN - k-nearest neighbor"
   ]
  },
  {
   "cell_type": "markdown",
   "id": "7f35d3db",
   "metadata": {},
   "source": [
    "Before running the algorithm, we need to prepare the data. Since KNN is a distance-based algorithm, we need to:\n",
    "- convert categorical variables into numerical ones\n",
    "- normalize data"
   ]
  },
  {
   "cell_type": "markdown",
   "id": "f838d68b",
   "metadata": {},
   "source": [
    "## DATA REVIEW and ITS PREPARATION"
   ]
  },
  {
   "cell_type": "markdown",
   "id": "6ffaea7a",
   "metadata": {},
   "source": [
    "### Question: drop all missing values or not?"
   ]
  },
  {
   "cell_type": "code",
   "execution_count": 13,
   "id": "b4195637",
   "metadata": {},
   "outputs": [
    {
     "name": "stdout",
     "output_type": "stream",
     "text": [
      "Train Dataset =>\n",
      "Number of passangers before removing rows with null values:  8693\n",
      "Number of passangers after removing rows with null values:  6606  - which is 75.99% \n"
     ]
    }
   ],
   "source": [
    "print('Train Dataset =>')\n",
    "droped_null_train = train.copy()\n",
    "before_removing = droped_null_train.shape[0]\n",
    "print('Number of passangers before removing rows with null values: ',before_removing)\n",
    "droped_null_train = droped_null_train.dropna(how='any',axis=0) \n",
    "after_removing = droped_null_train.shape[0]\n",
    "print('Number of passangers after removing rows with null values: ',after_removing, f' - which is {round((after_removing/before_removing * 100), 2)}% ')"
   ]
  },
  {
   "cell_type": "code",
   "execution_count": 14,
   "id": "91e129f1",
   "metadata": {},
   "outputs": [
    {
     "name": "stdout",
     "output_type": "stream",
     "text": [
      "TEST Dataset =>\n",
      "Number of passangers before removing rows with null values:  4277\n",
      "Number of passangers after removing rows with null values:  3281  - which is 76.71% \n"
     ]
    }
   ],
   "source": [
    "print('TEST Dataset =>')\n",
    "droped_null_test = test.copy()\n",
    "before_removing = droped_null_test.shape[0]\n",
    "print('Number of passangers before removing rows with null values: ',before_removing)\n",
    "droped_null_test = droped_null_test.dropna(how='any',axis=0) \n",
    "after_removing = droped_null_test.shape[0]\n",
    "print('Number of passangers after removing rows with null values: ',after_removing, f' - which is {round((after_removing/before_removing * 100), 2)}% ')"
   ]
  },
  {
   "cell_type": "markdown",
   "id": "f8034735",
   "metadata": {},
   "source": [
    "It looks like we lose around 25% of the data. We can try to run some algorithms ignoring data with null values."
   ]
  },
  {
   "cell_type": "code",
   "execution_count": 15,
   "id": "fd1675ac",
   "metadata": {},
   "outputs": [],
   "source": [
    "train = droped_null_train.copy()\n",
    "test = droped_null_test.copy()"
   ]
  },
  {
   "cell_type": "markdown",
   "id": "42d12fc9",
   "metadata": {},
   "source": [
    "### Categorical to numerical values"
   ]
  },
  {
   "cell_type": "markdown",
   "id": "9365e869",
   "metadata": {},
   "source": [
    "**PassengerId** - A unique Id for each passenger. Each Id takes the form gggg_pp where gggg indicates a group the passenger is travelling with and pp is their number within the group. People in a group are often family members, but not always.\n"
   ]
  },
  {
   "cell_type": "code",
   "execution_count": 16,
   "id": "3f8ee41d",
   "metadata": {},
   "outputs": [
    {
     "data": {
      "text/plain": [
       "0    0001_01\n",
       "1    0002_01\n",
       "2    0003_01\n",
       "3    0003_02\n",
       "Name: PassengerId, dtype: object"
      ]
     },
     "execution_count": 16,
     "metadata": {},
     "output_type": "execute_result"
    }
   ],
   "source": [
    "train['PassengerId'].head(4)"
   ]
  },
  {
   "cell_type": "markdown",
   "id": "c33b9930",
   "metadata": {},
   "source": [
    "Creating **'group'** and **'no_in_group'** columns based on PassengerId"
   ]
  },
  {
   "cell_type": "code",
   "execution_count": 17,
   "id": "6c4b0953",
   "metadata": {},
   "outputs": [
    {
     "data": {
      "text/html": [
       "<div>\n",
       "<style scoped>\n",
       "    .dataframe tbody tr th:only-of-type {\n",
       "        vertical-align: middle;\n",
       "    }\n",
       "\n",
       "    .dataframe tbody tr th {\n",
       "        vertical-align: top;\n",
       "    }\n",
       "\n",
       "    .dataframe thead th {\n",
       "        text-align: right;\n",
       "    }\n",
       "</style>\n",
       "<table border=\"1\" class=\"dataframe\">\n",
       "  <thead>\n",
       "    <tr style=\"text-align: right;\">\n",
       "      <th></th>\n",
       "      <th>PassengerId</th>\n",
       "      <th>group</th>\n",
       "      <th>no_in_group</th>\n",
       "    </tr>\n",
       "  </thead>\n",
       "  <tbody>\n",
       "    <tr>\n",
       "      <th>0</th>\n",
       "      <td>0001_01</td>\n",
       "      <td>0001</td>\n",
       "      <td>01</td>\n",
       "    </tr>\n",
       "    <tr>\n",
       "      <th>1</th>\n",
       "      <td>0002_01</td>\n",
       "      <td>0002</td>\n",
       "      <td>01</td>\n",
       "    </tr>\n",
       "    <tr>\n",
       "      <th>2</th>\n",
       "      <td>0003_01</td>\n",
       "      <td>0003</td>\n",
       "      <td>01</td>\n",
       "    </tr>\n",
       "    <tr>\n",
       "      <th>3</th>\n",
       "      <td>0003_02</td>\n",
       "      <td>0003</td>\n",
       "      <td>02</td>\n",
       "    </tr>\n",
       "  </tbody>\n",
       "</table>\n",
       "</div>"
      ],
      "text/plain": [
       "  PassengerId group no_in_group\n",
       "0     0001_01  0001          01\n",
       "1     0002_01  0002          01\n",
       "2     0003_01  0003          01\n",
       "3     0003_02  0003          02"
      ]
     },
     "execution_count": 17,
     "metadata": {},
     "output_type": "execute_result"
    }
   ],
   "source": [
    "train[['group', 'no_in_group']] = train['PassengerId'].str.split(\"_\", expand = True)\n",
    "train[['PassengerId','group', 'no_in_group']].head(4)"
   ]
  },
  {
   "cell_type": "code",
   "execution_count": 18,
   "id": "c8ed1ce6",
   "metadata": {},
   "outputs": [
    {
     "name": "stdout",
     "output_type": "stream",
     "text": [
      "There are 5015 groups the passenger are traveliing with\n",
      "Total number of passanggers 6606\n"
     ]
    }
   ],
   "source": [
    "n_groups = train['group'].nunique()\n",
    "no_passangers = train.shape[0]\n",
    "print (f'There are {n_groups} groups the passenger are traveliing with')\n",
    "print(f'Total number of passanggers {no_passangers}')"
   ]
  },
  {
   "cell_type": "markdown",
   "id": "d87626fb",
   "metadata": {},
   "source": [
    "**group_size** shown on the histogram"
   ]
  },
  {
   "cell_type": "code",
   "execution_count": 19,
   "id": "1436a974",
   "metadata": {},
   "outputs": [
    {
     "data": {
      "text/html": [
       "<div>\n",
       "<style scoped>\n",
       "    .dataframe tbody tr th:only-of-type {\n",
       "        vertical-align: middle;\n",
       "    }\n",
       "\n",
       "    .dataframe tbody tr th {\n",
       "        vertical-align: top;\n",
       "    }\n",
       "\n",
       "    .dataframe thead th {\n",
       "        text-align: right;\n",
       "    }\n",
       "</style>\n",
       "<table border=\"1\" class=\"dataframe\">\n",
       "  <thead>\n",
       "    <tr style=\"text-align: right;\">\n",
       "      <th></th>\n",
       "      <th>group</th>\n",
       "      <th>group_size</th>\n",
       "    </tr>\n",
       "  </thead>\n",
       "  <tbody>\n",
       "    <tr>\n",
       "      <th>0</th>\n",
       "      <td>0001</td>\n",
       "      <td>1</td>\n",
       "    </tr>\n",
       "    <tr>\n",
       "      <th>1</th>\n",
       "      <td>0002</td>\n",
       "      <td>1</td>\n",
       "    </tr>\n",
       "    <tr>\n",
       "      <th>2</th>\n",
       "      <td>0003</td>\n",
       "      <td>2</td>\n",
       "    </tr>\n",
       "  </tbody>\n",
       "</table>\n",
       "</div>"
      ],
      "text/plain": [
       "  group  group_size\n",
       "0  0001           1\n",
       "1  0002           1\n",
       "2  0003           2"
      ]
     },
     "metadata": {},
     "output_type": "display_data"
    },
    {
     "data": {
      "image/png": "[encoded data removed]",
      "text/plain": [
       "<Figure size 360x360 with 1 Axes>"
      ]
     },
     "metadata": {
      "needs_background": "light"
     },
     "output_type": "display_data"
    }
   ],
   "source": [
    "group_sizes = train.groupby(['group']).size().reset_index(name = \"group_size\")\n",
    "display(group_sizes.head(3))\n",
    "sns.displot(group_sizes, x='group_size')\n",
    "plt.show()"
   ]
  },
  {
   "cell_type": "code",
   "execution_count": 20,
   "id": "191d0bc2",
   "metadata": {},
   "outputs": [
    {
     "data": {
      "text/html": [
       "<style type=\"text/css\">\n",
       "#T_d74bc_row0_col1 {\n",
       "  width: 10em;\n",
       "  height: 80%;\n",
       "  background: linear-gradient(90deg,steelblue 100.0%, transparent 100.0%);\n",
       "}\n",
       "#T_d74bc_row1_col1 {\n",
       "  width: 10em;\n",
       "  height: 80%;\n",
       "  background: linear-gradient(90deg,steelblue 15.7%, transparent 15.7%);\n",
       "}\n",
       "#T_d74bc_row2_col1 {\n",
       "  width: 10em;\n",
       "  height: 80%;\n",
       "  background: linear-gradient(90deg,steelblue 5.8%, transparent 5.8%);\n",
       "}\n",
       "#T_d74bc_row3_col1 {\n",
       "  width: 10em;\n",
       "  height: 80%;\n",
       "  background: linear-gradient(90deg,steelblue 1.5%, transparent 1.5%);\n",
       "}\n",
       "#T_d74bc_row4_col1 {\n",
       "  width: 10em;\n",
       "  height: 80%;\n",
       "  background: linear-gradient(90deg,steelblue 0.8%, transparent 0.8%);\n",
       "}\n",
       "#T_d74bc_row5_col1 {\n",
       "  width: 10em;\n",
       "  height: 80%;\n",
       "  background: linear-gradient(90deg,steelblue 0.5%, transparent 0.5%);\n",
       "}\n",
       "#T_d74bc_row6_col1 {\n",
       "  width: 10em;\n",
       "  height: 80%;\n",
       "  background: linear-gradient(90deg,steelblue 0.2%, transparent 0.2%);\n",
       "}\n",
       "#T_d74bc_row7_col1 {\n",
       "  width: 10em;\n",
       "  height: 80%;\n",
       "}\n",
       "</style>\n",
       "<table id=\"T_d74bc_\">\n",
       "  <thead>\n",
       "    <tr>\n",
       "      <th class=\"blank level0\" >&nbsp;</th>\n",
       "      <th class=\"col_heading level0 col0\" >group_size</th>\n",
       "      <th class=\"col_heading level0 col1\" >count</th>\n",
       "      <th class=\"col_heading level0 col2\" >%</th>\n",
       "    </tr>\n",
       "  </thead>\n",
       "  <tbody>\n",
       "    <tr>\n",
       "      <th id=\"T_d74bc_level0_row0\" class=\"row_heading level0 row0\" >0</th>\n",
       "      <td id=\"T_d74bc_row0_col0\" class=\"data row0 col0\" >1</td>\n",
       "      <td id=\"T_d74bc_row0_col1\" class=\"data row0 col1\" >4021</td>\n",
       "      <td id=\"T_d74bc_row0_col2\" class=\"data row0 col2\" >80.180000</td>\n",
       "    </tr>\n",
       "    <tr>\n",
       "      <th id=\"T_d74bc_level0_row1\" class=\"row_heading level0 row1\" >1</th>\n",
       "      <td id=\"T_d74bc_row1_col0\" class=\"data row1 col0\" >2</td>\n",
       "      <td id=\"T_d74bc_row1_col1\" class=\"data row1 col1\" >632</td>\n",
       "      <td id=\"T_d74bc_row1_col2\" class=\"data row1 col2\" >12.600000</td>\n",
       "    </tr>\n",
       "    <tr>\n",
       "      <th id=\"T_d74bc_level0_row2\" class=\"row_heading level0 row2\" >2</th>\n",
       "      <td id=\"T_d74bc_row2_col0\" class=\"data row2 col0\" >3</td>\n",
       "      <td id=\"T_d74bc_row2_col1\" class=\"data row2 col1\" >235</td>\n",
       "      <td id=\"T_d74bc_row2_col2\" class=\"data row2 col2\" >4.690000</td>\n",
       "    </tr>\n",
       "    <tr>\n",
       "      <th id=\"T_d74bc_level0_row3\" class=\"row_heading level0 row3\" >3</th>\n",
       "      <td id=\"T_d74bc_row3_col0\" class=\"data row3 col0\" >4</td>\n",
       "      <td id=\"T_d74bc_row3_col1\" class=\"data row3 col1\" >62</td>\n",
       "      <td id=\"T_d74bc_row3_col2\" class=\"data row3 col2\" >1.240000</td>\n",
       "    </tr>\n",
       "    <tr>\n",
       "      <th id=\"T_d74bc_level0_row4\" class=\"row_heading level0 row4\" >4</th>\n",
       "      <td id=\"T_d74bc_row4_col0\" class=\"data row4 col0\" >5</td>\n",
       "      <td id=\"T_d74bc_row4_col1\" class=\"data row4 col1\" >34</td>\n",
       "      <td id=\"T_d74bc_row4_col2\" class=\"data row4 col2\" >0.680000</td>\n",
       "    </tr>\n",
       "    <tr>\n",
       "      <th id=\"T_d74bc_level0_row5\" class=\"row_heading level0 row5\" >5</th>\n",
       "      <td id=\"T_d74bc_row5_col0\" class=\"data row5 col0\" >6</td>\n",
       "      <td id=\"T_d74bc_row5_col1\" class=\"data row5 col1\" >20</td>\n",
       "      <td id=\"T_d74bc_row5_col2\" class=\"data row5 col2\" >0.400000</td>\n",
       "    </tr>\n",
       "    <tr>\n",
       "      <th id=\"T_d74bc_level0_row6\" class=\"row_heading level0 row6\" >6</th>\n",
       "      <td id=\"T_d74bc_row6_col0\" class=\"data row6 col0\" >7</td>\n",
       "      <td id=\"T_d74bc_row6_col1\" class=\"data row6 col1\" >10</td>\n",
       "      <td id=\"T_d74bc_row6_col2\" class=\"data row6 col2\" >0.200000</td>\n",
       "    </tr>\n",
       "    <tr>\n",
       "      <th id=\"T_d74bc_level0_row7\" class=\"row_heading level0 row7\" >7</th>\n",
       "      <td id=\"T_d74bc_row7_col0\" class=\"data row7 col0\" >8</td>\n",
       "      <td id=\"T_d74bc_row7_col1\" class=\"data row7 col1\" >1</td>\n",
       "      <td id=\"T_d74bc_row7_col2\" class=\"data row7 col2\" >0.020000</td>\n",
       "    </tr>\n",
       "  </tbody>\n",
       "</table>\n"
      ],
      "text/plain": [
       "<pandas.io.formats.style.Styler at 0x264f0bb7b88>"
      ]
     },
     "metadata": {},
     "output_type": "display_data"
    }
   ],
   "source": [
    "df = group_sizes.groupby(['group_size']).size().reset_index(name='count')\n",
    "df['%'] = ((df['count'] / df['count'].sum()) *100).round(2)\n",
    "display(df.style.bar(subset=[\"count\"], color='steelblue'))"
   ]
  },
  {
   "cell_type": "markdown",
   "id": "bd9542ce",
   "metadata": {},
   "source": [
    "adding **group_sizes** column to the train dataset"
   ]
  },
  {
   "cell_type": "code",
   "execution_count": 21,
   "id": "af2a77ee",
   "metadata": {},
   "outputs": [],
   "source": [
    "train = pd.merge(train, group_sizes, on='group')"
   ]
  },
  {
   "cell_type": "markdown",
   "id": "aac7ecc2",
   "metadata": {},
   "source": [
    "adding **group, no_in_group**, and **group_size** to test dataset"
   ]
  },
  {
   "cell_type": "code",
   "execution_count": 22,
   "id": "14d89b3d",
   "metadata": {},
   "outputs": [],
   "source": [
    "test[['group', 'no_in_group']] = test['PassengerId'].str.split(\"_\", expand = True)\n",
    "group_sizes = test.groupby(['group']).size().reset_index(name = \"group_size\")\n",
    "test = pd.merge(test, group_sizes, on='group')"
   ]
  },
  {
   "cell_type": "markdown",
   "id": "8bcfb737",
   "metadata": {},
   "source": [
    "**CryoSleep** - Indicates whether the passenger elected to be put into suspended animation for the duration of the voyage. Passengers in cryosleep are confined to their cabins."
   ]
  },
  {
   "cell_type": "code",
   "execution_count": 23,
   "id": "f243c1a4",
   "metadata": {},
   "outputs": [
    {
     "data": {
      "text/plain": [
       "False    4274\n",
       "True     2332\n",
       "Name: CryoSleep, dtype: int64"
      ]
     },
     "execution_count": 23,
     "metadata": {},
     "output_type": "execute_result"
    }
   ],
   "source": [
    "train['CryoSleep'].value_counts()"
   ]
  },
  {
   "cell_type": "markdown",
   "id": "d2ca085e",
   "metadata": {},
   "source": [
    "Converting to numeric values:\n",
    "- False => 0\n",
    "- True => 1"
   ]
  },
  {
   "cell_type": "code",
   "execution_count": 24,
   "id": "3d8409d3",
   "metadata": {},
   "outputs": [],
   "source": [
    "def CryoSleep(row):\n",
    "    if row['CryoSleep'] == True:\n",
    "        return 1\n",
    "    else:\n",
    "        return 0\n",
    "\n",
    "train['CryoSleep'] = train.apply(CryoSleep, axis = 1)\n",
    "test['CryoSleep'] = test.apply(CryoSleep, axis = 1)"
   ]
  },
  {
   "cell_type": "markdown",
   "id": "b4f58497",
   "metadata": {},
   "source": [
    "**Cabin** - The cabin number where the passenger is staying. Takes the form deck/num/side, where side can be either P for Port or S for Starboard."
   ]
  },
  {
   "cell_type": "code",
   "execution_count": 25,
   "id": "bb6a2079",
   "metadata": {},
   "outputs": [
    {
     "data": {
      "text/plain": [
       "5305"
      ]
     },
     "execution_count": 25,
     "metadata": {},
     "output_type": "execute_result"
    }
   ],
   "source": [
    "# number of unique values\n",
    "len(train['Cabin'].unique())"
   ]
  },
  {
   "cell_type": "code",
   "execution_count": 26,
   "id": "9a797273",
   "metadata": {},
   "outputs": [],
   "source": [
    "train[['deck', 'num','side']] = train['Cabin'].str.split(\"/\", expand = True)\n",
    "test[['deck', 'num','side']] = test['Cabin'].str.split(\"/\", expand = True)"
   ]
  },
  {
   "cell_type": "markdown",
   "id": "b10e9eff",
   "metadata": {},
   "source": [
    "Number of decks"
   ]
  },
  {
   "cell_type": "code",
   "execution_count": 27,
   "id": "136a4bf8",
   "metadata": {},
   "outputs": [
    {
     "data": {
      "text/html": [
       "<div>\n",
       "<style scoped>\n",
       "    .dataframe tbody tr th:only-of-type {\n",
       "        vertical-align: middle;\n",
       "    }\n",
       "\n",
       "    .dataframe tbody tr th {\n",
       "        vertical-align: top;\n",
       "    }\n",
       "\n",
       "    .dataframe thead th {\n",
       "        text-align: right;\n",
       "    }\n",
       "</style>\n",
       "<table border=\"1\" class=\"dataframe\">\n",
       "  <thead>\n",
       "    <tr style=\"text-align: right;\">\n",
       "      <th></th>\n",
       "      <th>deck</th>\n",
       "      <th>count</th>\n",
       "      <th>%</th>\n",
       "    </tr>\n",
       "  </thead>\n",
       "  <tbody>\n",
       "    <tr>\n",
       "      <th>0</th>\n",
       "      <td>F</td>\n",
       "      <td>2152</td>\n",
       "      <td>32.58</td>\n",
       "    </tr>\n",
       "    <tr>\n",
       "      <th>1</th>\n",
       "      <td>G</td>\n",
       "      <td>1973</td>\n",
       "      <td>29.87</td>\n",
       "    </tr>\n",
       "    <tr>\n",
       "      <th>2</th>\n",
       "      <td>E</td>\n",
       "      <td>683</td>\n",
       "      <td>10.34</td>\n",
       "    </tr>\n",
       "    <tr>\n",
       "      <th>3</th>\n",
       "      <td>B</td>\n",
       "      <td>628</td>\n",
       "      <td>9.51</td>\n",
       "    </tr>\n",
       "    <tr>\n",
       "      <th>4</th>\n",
       "      <td>C</td>\n",
       "      <td>587</td>\n",
       "      <td>8.89</td>\n",
       "    </tr>\n",
       "    <tr>\n",
       "      <th>5</th>\n",
       "      <td>D</td>\n",
       "      <td>374</td>\n",
       "      <td>5.66</td>\n",
       "    </tr>\n",
       "    <tr>\n",
       "      <th>6</th>\n",
       "      <td>A</td>\n",
       "      <td>207</td>\n",
       "      <td>3.13</td>\n",
       "    </tr>\n",
       "    <tr>\n",
       "      <th>7</th>\n",
       "      <td>T</td>\n",
       "      <td>2</td>\n",
       "      <td>0.03</td>\n",
       "    </tr>\n",
       "  </tbody>\n",
       "</table>\n",
       "</div>"
      ],
      "text/plain": [
       "  deck  count      %\n",
       "0    F   2152  32.58\n",
       "1    G   1973  29.87\n",
       "2    E    683  10.34\n",
       "3    B    628   9.51\n",
       "4    C    587   8.89\n",
       "5    D    374   5.66\n",
       "6    A    207   3.13\n",
       "7    T      2   0.03"
      ]
     },
     "execution_count": 27,
     "metadata": {},
     "output_type": "execute_result"
    }
   ],
   "source": [
    "df = train['deck'].value_counts().reset_index(name='count')\n",
    "df['%'] = ((df['count'] / df['count'].sum()) *100).round(2)\n",
    "df.columns = ['deck', 'count', '%']\n",
    "df"
   ]
  },
  {
   "cell_type": "code",
   "execution_count": 28,
   "id": "885f1450",
   "metadata": {},
   "outputs": [
    {
     "data": {
      "image/png": "[encoded data removed]",
      "text/plain": [
       "<Figure size 432x288 with 1 Axes>"
      ]
     },
     "metadata": {},
     "output_type": "display_data"
    }
   ],
   "source": [
    "sns.set_theme()\n",
    "sns.histplot(train, x=\"deck\", hue=\"Transported\")\n",
    "plt.title(\"Survived vs Deck\", fontweight='bold')\n",
    "plt.show()"
   ]
  },
  {
   "cell_type": "markdown",
   "id": "a6d705c1",
   "metadata": {},
   "source": [
    "Convertic decks to numeric values"
   ]
  },
  {
   "cell_type": "code",
   "execution_count": 29,
   "id": "b028be1e",
   "metadata": {},
   "outputs": [
    {
     "data": {
      "text/plain": [
       "{'A': 0, 'B': 1, 'C': 2, 'D': 3, 'E': 4, 'F': 5, 'G': 6, 'T': 7}"
      ]
     },
     "execution_count": 29,
     "metadata": {},
     "output_type": "execute_result"
    }
   ],
   "source": [
    "code = list(train['deck'].unique())\n",
    "code.sort()\n",
    "code_dic = { code[i]:i for i in range(len(code))}\n",
    "code_dic"
   ]
  },
  {
   "cell_type": "code",
   "execution_count": 30,
   "id": "063b07dd",
   "metadata": {},
   "outputs": [],
   "source": [
    "def deck(row):\n",
    "    return code_dic[row['deck']]\n",
    "\n",
    "train['deck'] = train.apply(deck, axis = 1)\n",
    "test['deck'] = test.apply(deck, axis = 1)"
   ]
  },
  {
   "cell_type": "code",
   "execution_count": 31,
   "id": "d81c03d6",
   "metadata": {
    "scrolled": false
   },
   "outputs": [
    {
     "data": {
      "text/plain": [
       "array([1, 5, 0, 6, 4, 2, 3, 7], dtype=int64)"
      ]
     },
     "execution_count": 31,
     "metadata": {},
     "output_type": "execute_result"
    }
   ],
   "source": [
    "train['deck'].unique()"
   ]
  },
  {
   "cell_type": "markdown",
   "id": "2adc1a18",
   "metadata": {},
   "source": [
    "Convertic sides to numeric values:\n",
    "- S => 0\n",
    "- P => 1"
   ]
  },
  {
   "cell_type": "code",
   "execution_count": 32,
   "id": "dd448f1e",
   "metadata": {
    "scrolled": true
   },
   "outputs": [
    {
     "data": {
      "text/plain": [
       "S    3345\n",
       "P    3261\n",
       "Name: side, dtype: int64"
      ]
     },
     "execution_count": 32,
     "metadata": {},
     "output_type": "execute_result"
    }
   ],
   "source": [
    "train['side'].value_counts()"
   ]
  },
  {
   "cell_type": "code",
   "execution_count": 33,
   "id": "f6c467cc",
   "metadata": {},
   "outputs": [],
   "source": [
    "def side(row):\n",
    "    if row['side'] == 'S':\n",
    "        return 0\n",
    "    else:\n",
    "        return 1\n",
    "\n",
    "train['side'] = train.apply(side, axis = 1)\n",
    "test['side'] = test.apply(side, axis = 1)"
   ]
  },
  {
   "cell_type": "code",
   "execution_count": 34,
   "id": "0b2c8a59",
   "metadata": {
    "scrolled": true
   },
   "outputs": [
    {
     "data": {
      "text/plain": [
       "array([1, 0], dtype=int64)"
      ]
     },
     "execution_count": 34,
     "metadata": {},
     "output_type": "execute_result"
    }
   ],
   "source": [
    "train['side'].unique()"
   ]
  },
  {
   "cell_type": "markdown",
   "id": "9e78ad8f",
   "metadata": {},
   "source": [
    "**Age** - The age of the passenger."
   ]
  },
  {
   "cell_type": "code",
   "execution_count": 35,
   "id": "25fab04f",
   "metadata": {},
   "outputs": [
    {
     "data": {
      "image/png": "[encoded data removed]",
      "text/plain": [
       "<Figure size 432x288 with 1 Axes>"
      ]
     },
     "metadata": {},
     "output_type": "display_data"
    }
   ],
   "source": [
    "sns.set_theme()\n",
    "sns.histplot(train, x=\"Age\", hue=\"Transported\")\n",
    "plt.title(\"Survived vs Age\", fontweight='bold')\n",
    "\n",
    "plt.show()"
   ]
  },
  {
   "cell_type": "markdown",
   "id": "562273d4",
   "metadata": {},
   "source": [
    "**VIP** - Whether the passenger has paid for special VIP service during the voyage."
   ]
  },
  {
   "cell_type": "code",
   "execution_count": 36,
   "id": "a0a85a40",
   "metadata": {},
   "outputs": [
    {
     "data": {
      "text/plain": [
       "False    6444\n",
       "True      162\n",
       "Name: VIP, dtype: int64"
      ]
     },
     "execution_count": 36,
     "metadata": {},
     "output_type": "execute_result"
    }
   ],
   "source": [
    "train['VIP'].value_counts()"
   ]
  },
  {
   "cell_type": "markdown",
   "id": "9c50c1da",
   "metadata": {},
   "source": [
    "Converting to numeric values:\n",
    "- False => 0\n",
    "- True => 1"
   ]
  },
  {
   "cell_type": "code",
   "execution_count": 37,
   "id": "d55a61e9",
   "metadata": {},
   "outputs": [],
   "source": [
    "def VIP(row):\n",
    "    if row['VIP'] == True:\n",
    "        return 1\n",
    "    else:\n",
    "        return 0\n",
    "\n",
    "train['VIP'] = train.apply(CryoSleep, axis = 1)\n",
    "test['VIP'] = test.apply(CryoSleep, axis = 1)"
   ]
  },
  {
   "cell_type": "markdown",
   "id": "15d5b8dc",
   "metadata": {},
   "source": [
    "**HomePlanet** - The planet the passenger departed from, typically their planet of permanent residence. "
   ]
  },
  {
   "cell_type": "code",
   "execution_count": 38,
   "id": "780fed55",
   "metadata": {},
   "outputs": [
    {
     "data": {
      "text/plain": [
       "Earth     3566\n",
       "Europa    1673\n",
       "Mars      1367\n",
       "Name: HomePlanet, dtype: int64"
      ]
     },
     "execution_count": 38,
     "metadata": {},
     "output_type": "execute_result"
    }
   ],
   "source": [
    "train['HomePlanet'].value_counts()"
   ]
  },
  {
   "cell_type": "markdown",
   "id": "0d8fe801",
   "metadata": {},
   "source": [
    "Converting to numeric values:\n",
    "- Earth     0\n",
    "- Europa    1\n",
    "- Mars      2"
   ]
  },
  {
   "cell_type": "code",
   "execution_count": 39,
   "id": "bb40226b",
   "metadata": {},
   "outputs": [
    {
     "data": {
      "text/plain": [
       "{'Earth': 0, 'Europa': 1, 'Mars': 2}"
      ]
     },
     "execution_count": 39,
     "metadata": {},
     "output_type": "execute_result"
    }
   ],
   "source": [
    "code = list(train['HomePlanet'].unique())\n",
    "code.sort()\n",
    "code_dic = { code[i]:i for i in range(len(code))}\n",
    "code_dic"
   ]
  },
  {
   "cell_type": "code",
   "execution_count": 40,
   "id": "f787aa38",
   "metadata": {},
   "outputs": [],
   "source": [
    "def HomePlanet(row):\n",
    "    return code_dic[row['HomePlanet']]\n",
    "\n",
    "train['HomePlanet'] = train.apply(HomePlanet, axis = 1)\n",
    "test['HomePlanet'] = test.apply(HomePlanet, axis = 1)"
   ]
  },
  {
   "cell_type": "code",
   "execution_count": 41,
   "id": "5573c522",
   "metadata": {},
   "outputs": [
    {
     "data": {
      "text/plain": [
       "0    3566\n",
       "1    1673\n",
       "2    1367\n",
       "Name: HomePlanet, dtype: int64"
      ]
     },
     "execution_count": 41,
     "metadata": {},
     "output_type": "execute_result"
    }
   ],
   "source": [
    "train['HomePlanet'].value_counts()"
   ]
  },
  {
   "cell_type": "markdown",
   "id": "5319c89d",
   "metadata": {},
   "source": [
    "**Destination** - The planet the passenger will be debarking to."
   ]
  },
  {
   "cell_type": "code",
   "execution_count": 42,
   "id": "d491f82f",
   "metadata": {},
   "outputs": [
    {
     "data": {
      "text/plain": [
       "TRAPPIST-1e      4576\n",
       "55 Cancri e      1407\n",
       "PSO J318.5-22     623\n",
       "Name: Destination, dtype: int64"
      ]
     },
     "execution_count": 42,
     "metadata": {},
     "output_type": "execute_result"
    }
   ],
   "source": [
    "train['Destination'].value_counts()"
   ]
  },
  {
   "cell_type": "markdown",
   "id": "7dac6439",
   "metadata": {},
   "source": [
    "Converting to numeric values:\n",
    "- 55 Cancri e ------- 0\n",
    "- PSO J318.5-22 ----- 1\n",
    "- TRAPPIST-1e ------- 2"
   ]
  },
  {
   "cell_type": "code",
   "execution_count": 43,
   "id": "f822dc79",
   "metadata": {},
   "outputs": [
    {
     "data": {
      "text/plain": [
       "{'55 Cancri e': 0, 'PSO J318.5-22': 1, 'TRAPPIST-1e': 2}"
      ]
     },
     "execution_count": 43,
     "metadata": {},
     "output_type": "execute_result"
    }
   ],
   "source": [
    "code = list(train['Destination'].unique())\n",
    "code.sort()\n",
    "code_dic = { code[i]:i for i in range(len(code))}\n",
    "code_dic"
   ]
  },
  {
   "cell_type": "code",
   "execution_count": 44,
   "id": "4fe50335",
   "metadata": {},
   "outputs": [],
   "source": [
    "def Destination(row):\n",
    "    return code_dic[row['Destination']]\n",
    "\n",
    "train['Destination'] = train.apply(Destination, axis = 1)\n",
    "test['Destination'] = test.apply(Destination, axis = 1)"
   ]
  },
  {
   "cell_type": "code",
   "execution_count": 45,
   "id": "b29026d2",
   "metadata": {},
   "outputs": [
    {
     "data": {
      "text/plain": [
       "2    4576\n",
       "0    1407\n",
       "1     623\n",
       "Name: Destination, dtype: int64"
      ]
     },
     "execution_count": 45,
     "metadata": {},
     "output_type": "execute_result"
    }
   ],
   "source": [
    "train['Destination'].value_counts()"
   ]
  },
  {
   "cell_type": "markdown",
   "id": "79ebd0e8",
   "metadata": {},
   "source": [
    "#### Transported"
   ]
  },
  {
   "cell_type": "code",
   "execution_count": 46,
   "id": "354012c4",
   "metadata": {
    "scrolled": true
   },
   "outputs": [
    {
     "data": {
      "text/html": [
       "<div>\n",
       "<style scoped>\n",
       "    .dataframe tbody tr th:only-of-type {\n",
       "        vertical-align: middle;\n",
       "    }\n",
       "\n",
       "    .dataframe tbody tr th {\n",
       "        vertical-align: top;\n",
       "    }\n",
       "\n",
       "    .dataframe thead th {\n",
       "        text-align: right;\n",
       "    }\n",
       "</style>\n",
       "<table border=\"1\" class=\"dataframe\">\n",
       "  <thead>\n",
       "    <tr style=\"text-align: right;\">\n",
       "      <th></th>\n",
       "      <th>Transported</th>\n",
       "      <th>count</th>\n",
       "      <th>%</th>\n",
       "    </tr>\n",
       "  </thead>\n",
       "  <tbody>\n",
       "    <tr>\n",
       "      <th>0</th>\n",
       "      <td>False</td>\n",
       "      <td>3279</td>\n",
       "      <td>49.64</td>\n",
       "    </tr>\n",
       "    <tr>\n",
       "      <th>1</th>\n",
       "      <td>True</td>\n",
       "      <td>3327</td>\n",
       "      <td>50.36</td>\n",
       "    </tr>\n",
       "  </tbody>\n",
       "</table>\n",
       "</div>"
      ],
      "text/plain": [
       "   Transported  count      %\n",
       "0        False   3279  49.64\n",
       "1         True   3327  50.36"
      ]
     },
     "metadata": {},
     "output_type": "display_data"
    }
   ],
   "source": [
    "df = train.groupby(['Transported'])['Transported'].count().reset_index(name = \"count\")\n",
    "df['%'] = ((df['count'] / df['count'].sum()) *100).round(2)\n",
    "display(df)"
   ]
  },
  {
   "cell_type": "markdown",
   "id": "1417c853",
   "metadata": {},
   "source": [
    "Converting to numeric values:\n",
    "- False => 0\n",
    "- True => 1\n"
   ]
  },
  {
   "cell_type": "code",
   "execution_count": 47,
   "id": "37c9e776",
   "metadata": {},
   "outputs": [],
   "source": [
    "def Transported(row):\n",
    "    if row['Transported'] == True:\n",
    "        return 1\n",
    "    else:\n",
    "        return 0\n",
    "\n",
    "train['Transported'] = train.apply(Transported, axis = 1)"
   ]
  },
  {
   "cell_type": "code",
   "execution_count": 48,
   "id": "2df64e33",
   "metadata": {},
   "outputs": [
    {
     "data": {
      "text/html": [
       "<div>\n",
       "<style scoped>\n",
       "    .dataframe tbody tr th:only-of-type {\n",
       "        vertical-align: middle;\n",
       "    }\n",
       "\n",
       "    .dataframe tbody tr th {\n",
       "        vertical-align: top;\n",
       "    }\n",
       "\n",
       "    .dataframe thead th {\n",
       "        text-align: right;\n",
       "    }\n",
       "</style>\n",
       "<table border=\"1\" class=\"dataframe\">\n",
       "  <thead>\n",
       "    <tr style=\"text-align: right;\">\n",
       "      <th></th>\n",
       "      <th>PassengerId</th>\n",
       "      <th>HomePlanet</th>\n",
       "      <th>CryoSleep</th>\n",
       "      <th>Cabin</th>\n",
       "      <th>Destination</th>\n",
       "      <th>Age</th>\n",
       "      <th>VIP</th>\n",
       "      <th>RoomService</th>\n",
       "      <th>FoodCourt</th>\n",
       "      <th>ShoppingMall</th>\n",
       "      <th>Spa</th>\n",
       "      <th>VRDeck</th>\n",
       "      <th>Name</th>\n",
       "      <th>Transported</th>\n",
       "      <th>group</th>\n",
       "      <th>no_in_group</th>\n",
       "      <th>group_size</th>\n",
       "      <th>deck</th>\n",
       "      <th>num</th>\n",
       "      <th>side</th>\n",
       "    </tr>\n",
       "  </thead>\n",
       "  <tbody>\n",
       "    <tr>\n",
       "      <th>0</th>\n",
       "      <td>0001_01</td>\n",
       "      <td>1</td>\n",
       "      <td>0</td>\n",
       "      <td>B/0/P</td>\n",
       "      <td>2</td>\n",
       "      <td>39.0</td>\n",
       "      <td>0</td>\n",
       "      <td>0.0</td>\n",
       "      <td>0.0</td>\n",
       "      <td>0.0</td>\n",
       "      <td>0.0</td>\n",
       "      <td>0.0</td>\n",
       "      <td>Maham Ofracculy</td>\n",
       "      <td>0</td>\n",
       "      <td>0001</td>\n",
       "      <td>01</td>\n",
       "      <td>1</td>\n",
       "      <td>1</td>\n",
       "      <td>0</td>\n",
       "      <td>1</td>\n",
       "    </tr>\n",
       "    <tr>\n",
       "      <th>1</th>\n",
       "      <td>0002_01</td>\n",
       "      <td>0</td>\n",
       "      <td>0</td>\n",
       "      <td>F/0/S</td>\n",
       "      <td>2</td>\n",
       "      <td>24.0</td>\n",
       "      <td>0</td>\n",
       "      <td>109.0</td>\n",
       "      <td>9.0</td>\n",
       "      <td>25.0</td>\n",
       "      <td>549.0</td>\n",
       "      <td>44.0</td>\n",
       "      <td>Juanna Vines</td>\n",
       "      <td>1</td>\n",
       "      <td>0002</td>\n",
       "      <td>01</td>\n",
       "      <td>1</td>\n",
       "      <td>5</td>\n",
       "      <td>0</td>\n",
       "      <td>0</td>\n",
       "    </tr>\n",
       "    <tr>\n",
       "      <th>2</th>\n",
       "      <td>0003_01</td>\n",
       "      <td>1</td>\n",
       "      <td>0</td>\n",
       "      <td>A/0/S</td>\n",
       "      <td>2</td>\n",
       "      <td>58.0</td>\n",
       "      <td>0</td>\n",
       "      <td>43.0</td>\n",
       "      <td>3576.0</td>\n",
       "      <td>0.0</td>\n",
       "      <td>6715.0</td>\n",
       "      <td>49.0</td>\n",
       "      <td>Altark Susent</td>\n",
       "      <td>0</td>\n",
       "      <td>0003</td>\n",
       "      <td>01</td>\n",
       "      <td>2</td>\n",
       "      <td>0</td>\n",
       "      <td>0</td>\n",
       "      <td>0</td>\n",
       "    </tr>\n",
       "    <tr>\n",
       "      <th>3</th>\n",
       "      <td>0003_02</td>\n",
       "      <td>1</td>\n",
       "      <td>0</td>\n",
       "      <td>A/0/S</td>\n",
       "      <td>2</td>\n",
       "      <td>33.0</td>\n",
       "      <td>0</td>\n",
       "      <td>0.0</td>\n",
       "      <td>1283.0</td>\n",
       "      <td>371.0</td>\n",
       "      <td>3329.0</td>\n",
       "      <td>193.0</td>\n",
       "      <td>Solam Susent</td>\n",
       "      <td>0</td>\n",
       "      <td>0003</td>\n",
       "      <td>02</td>\n",
       "      <td>2</td>\n",
       "      <td>0</td>\n",
       "      <td>0</td>\n",
       "      <td>0</td>\n",
       "    </tr>\n",
       "    <tr>\n",
       "      <th>4</th>\n",
       "      <td>0004_01</td>\n",
       "      <td>0</td>\n",
       "      <td>0</td>\n",
       "      <td>F/1/S</td>\n",
       "      <td>2</td>\n",
       "      <td>16.0</td>\n",
       "      <td>0</td>\n",
       "      <td>303.0</td>\n",
       "      <td>70.0</td>\n",
       "      <td>151.0</td>\n",
       "      <td>565.0</td>\n",
       "      <td>2.0</td>\n",
       "      <td>Willy Santantines</td>\n",
       "      <td>1</td>\n",
       "      <td>0004</td>\n",
       "      <td>01</td>\n",
       "      <td>1</td>\n",
       "      <td>5</td>\n",
       "      <td>1</td>\n",
       "      <td>0</td>\n",
       "    </tr>\n",
       "    <tr>\n",
       "      <th>5</th>\n",
       "      <td>0005_01</td>\n",
       "      <td>0</td>\n",
       "      <td>0</td>\n",
       "      <td>F/0/P</td>\n",
       "      <td>1</td>\n",
       "      <td>44.0</td>\n",
       "      <td>0</td>\n",
       "      <td>0.0</td>\n",
       "      <td>483.0</td>\n",
       "      <td>0.0</td>\n",
       "      <td>291.0</td>\n",
       "      <td>0.0</td>\n",
       "      <td>Sandie Hinetthews</td>\n",
       "      <td>1</td>\n",
       "      <td>0005</td>\n",
       "      <td>01</td>\n",
       "      <td>1</td>\n",
       "      <td>5</td>\n",
       "      <td>0</td>\n",
       "      <td>1</td>\n",
       "    </tr>\n",
       "    <tr>\n",
       "      <th>6</th>\n",
       "      <td>0006_01</td>\n",
       "      <td>0</td>\n",
       "      <td>0</td>\n",
       "      <td>F/2/S</td>\n",
       "      <td>2</td>\n",
       "      <td>26.0</td>\n",
       "      <td>0</td>\n",
       "      <td>42.0</td>\n",
       "      <td>1539.0</td>\n",
       "      <td>3.0</td>\n",
       "      <td>0.0</td>\n",
       "      <td>0.0</td>\n",
       "      <td>Billex Jacostaffey</td>\n",
       "      <td>1</td>\n",
       "      <td>0006</td>\n",
       "      <td>01</td>\n",
       "      <td>1</td>\n",
       "      <td>5</td>\n",
       "      <td>2</td>\n",
       "      <td>0</td>\n",
       "    </tr>\n",
       "  </tbody>\n",
       "</table>\n",
       "</div>"
      ],
      "text/plain": [
       "  PassengerId  HomePlanet  CryoSleep  Cabin  Destination   Age  VIP  \\\n",
       "0     0001_01           1          0  B/0/P            2  39.0    0   \n",
       "1     0002_01           0          0  F/0/S            2  24.0    0   \n",
       "2     0003_01           1          0  A/0/S            2  58.0    0   \n",
       "3     0003_02           1          0  A/0/S            2  33.0    0   \n",
       "4     0004_01           0          0  F/1/S            2  16.0    0   \n",
       "5     0005_01           0          0  F/0/P            1  44.0    0   \n",
       "6     0006_01           0          0  F/2/S            2  26.0    0   \n",
       "\n",
       "   RoomService  FoodCourt  ShoppingMall     Spa  VRDeck                Name  \\\n",
       "0          0.0        0.0           0.0     0.0     0.0     Maham Ofracculy   \n",
       "1        109.0        9.0          25.0   549.0    44.0        Juanna Vines   \n",
       "2         43.0     3576.0           0.0  6715.0    49.0       Altark Susent   \n",
       "3          0.0     1283.0         371.0  3329.0   193.0        Solam Susent   \n",
       "4        303.0       70.0         151.0   565.0     2.0   Willy Santantines   \n",
       "5          0.0      483.0           0.0   291.0     0.0   Sandie Hinetthews   \n",
       "6         42.0     1539.0           3.0     0.0     0.0  Billex Jacostaffey   \n",
       "\n",
       "   Transported group no_in_group  group_size  deck num  side  \n",
       "0            0  0001          01           1     1   0     1  \n",
       "1            1  0002          01           1     5   0     0  \n",
       "2            0  0003          01           2     0   0     0  \n",
       "3            0  0003          02           2     0   0     0  \n",
       "4            1  0004          01           1     5   1     0  \n",
       "5            1  0005          01           1     5   0     1  \n",
       "6            1  0006          01           1     5   2     0  "
      ]
     },
     "execution_count": 48,
     "metadata": {},
     "output_type": "execute_result"
    }
   ],
   "source": [
    "train.head(7)"
   ]
  },
  {
   "cell_type": "markdown",
   "id": "0ad71cb6",
   "metadata": {},
   "source": [
    "### Selecting feature set"
   ]
  },
  {
   "cell_type": "markdown",
   "id": "3e6dd9e0",
   "metadata": {},
   "source": [
    "#### Pearson correlation coefficient (PCC)"
   ]
  },
  {
   "cell_type": "markdown",
   "id": "63076290",
   "metadata": {},
   "source": [
    "[source](https://stackabuse.com/bytes/calculate-correlation-of-dataframe-featurescolumns-with-pandas/)"
   ]
  },
  {
   "cell_type": "code",
   "execution_count": 49,
   "id": "a3ad20be",
   "metadata": {
    "scrolled": false
   },
   "outputs": [
    {
     "data": {
      "image/png": "[encoded data removed]",
      "text/plain": [
       "<Figure size 720x432 with 2 Axes>"
      ]
     },
     "metadata": {},
     "output_type": "display_data"
    }
   ],
   "source": [
    "features = train[['Transported','HomePlanet', 'CryoSleep', 'Destination', 'Age', 'VIP', 'RoomService', 'FoodCourt', 'ShoppingMall', 'Spa', 'VRDeck','group_size', 'deck', 'side']]\n",
    "fig, ax = plt.subplots(figsize=(10, 6))\n",
    "\n",
    "sns.heatmap(features.corr(), ax=ax, annot=True)\n",
    "plt.show()"
   ]
  },
  {
   "cell_type": "markdown",
   "id": "f0c4a44a",
   "metadata": {},
   "source": [
    "#### Pearson Correlation to Target Variable"
   ]
  },
  {
   "cell_type": "code",
   "execution_count": 50,
   "id": "dabf9dcf",
   "metadata": {
    "scrolled": false
   },
   "outputs": [
    {
     "data": {
      "text/plain": [
       "<matplotlib.axes._subplots.AxesSubplot at 0x264f25eacc8>"
      ]
     },
     "execution_count": 50,
     "metadata": {},
     "output_type": "execute_result"
    },
    {
     "data": {
      "image/png": "[encoded data removed]",
      "text/plain": [
       "<Figure size 432x288 with 2 Axes>"
      ]
     },
     "metadata": {},
     "output_type": "display_data"
    }
   ],
   "source": [
    "corr = features.corr()[['Transported']].sort_values(by='Transported', ascending=False)\n",
    "sns.heatmap(corr, annot=True)"
   ]
  },
  {
   "cell_type": "markdown",
   "id": "f2a8a7b2",
   "metadata": {},
   "source": [
    "#### Pearson, Spearman and Kendall Rank Coefficients to Target Variable"
   ]
  },
  {
   "cell_type": "code",
   "execution_count": 51,
   "id": "50e8d762",
   "metadata": {},
   "outputs": [
    {
     "data": {
      "text/plain": [
       "<matplotlib.axes._subplots.AxesSubplot at 0x264f2785908>"
      ]
     },
     "execution_count": 51,
     "metadata": {},
     "output_type": "execute_result"
    },
    {
     "data": {
      "image/png": "[encoded data removed]",
      "text/plain": [
       "<Figure size 1296x576 with 6 Axes>"
      ]
     },
     "metadata": {},
     "output_type": "display_data"
    }
   ],
   "source": [
    "fig, ax = plt.subplots(1,3, figsize=(18, 8))\n",
    "\n",
    "corr1 = features.corr('pearson')[['Transported']].sort_values(by='Transported', ascending=False)\n",
    "corr2 = features.corr('spearman')[['Transported']].sort_values(by='Transported', ascending=False)\n",
    "corr3 = features.corr('kendall')[['Transported']].sort_values(by='Transported', ascending=False)\n",
    "\n",
    "\n",
    "sns.heatmap(corr1, ax=ax[0], annot=True)\n",
    "sns.heatmap(corr2, ax=ax[1], annot=True)\n",
    "sns.heatmap(corr3, ax=ax[2], annot=True)"
   ]
  },
  {
   "cell_type": "code",
   "execution_count": 52,
   "id": "b590e609",
   "metadata": {},
   "outputs": [
    {
     "data": {
      "text/plain": [
       "Index(['PassengerId', 'HomePlanet', 'CryoSleep', 'Cabin', 'Destination', 'Age',\n",
       "       'VIP', 'RoomService', 'FoodCourt', 'ShoppingMall', 'Spa', 'VRDeck',\n",
       "       'Name', 'Transported', 'group', 'no_in_group', 'group_size', 'deck',\n",
       "       'num', 'side'],\n",
       "      dtype='object')"
      ]
     },
     "execution_count": 52,
     "metadata": {},
     "output_type": "execute_result"
    }
   ],
   "source": [
    "train.columns"
   ]
  },
  {
   "cell_type": "code",
   "execution_count": 53,
   "id": "ec29025d",
   "metadata": {
    "scrolled": true
   },
   "outputs": [
    {
     "data": {
      "text/html": [
       "<div>\n",
       "<style scoped>\n",
       "    .dataframe tbody tr th:only-of-type {\n",
       "        vertical-align: middle;\n",
       "    }\n",
       "\n",
       "    .dataframe tbody tr th {\n",
       "        vertical-align: top;\n",
       "    }\n",
       "\n",
       "    .dataframe thead th {\n",
       "        text-align: right;\n",
       "    }\n",
       "</style>\n",
       "<table border=\"1\" class=\"dataframe\">\n",
       "  <thead>\n",
       "    <tr style=\"text-align: right;\">\n",
       "      <th></th>\n",
       "      <th>Transported</th>\n",
       "      <th>HomePlanet</th>\n",
       "      <th>CryoSleep</th>\n",
       "      <th>Destination</th>\n",
       "      <th>Age</th>\n",
       "      <th>VIP</th>\n",
       "      <th>RoomService</th>\n",
       "      <th>FoodCourt</th>\n",
       "      <th>ShoppingMall</th>\n",
       "      <th>Spa</th>\n",
       "      <th>VRDeck</th>\n",
       "      <th>group_size</th>\n",
       "      <th>deck</th>\n",
       "      <th>side</th>\n",
       "    </tr>\n",
       "  </thead>\n",
       "  <tbody>\n",
       "    <tr>\n",
       "      <th>0</th>\n",
       "      <td>0</td>\n",
       "      <td>1</td>\n",
       "      <td>0</td>\n",
       "      <td>2</td>\n",
       "      <td>39.0</td>\n",
       "      <td>0</td>\n",
       "      <td>0.0</td>\n",
       "      <td>0.0</td>\n",
       "      <td>0.0</td>\n",
       "      <td>0.0</td>\n",
       "      <td>0.0</td>\n",
       "      <td>1</td>\n",
       "      <td>1</td>\n",
       "      <td>1</td>\n",
       "    </tr>\n",
       "    <tr>\n",
       "      <th>1</th>\n",
       "      <td>1</td>\n",
       "      <td>0</td>\n",
       "      <td>0</td>\n",
       "      <td>2</td>\n",
       "      <td>24.0</td>\n",
       "      <td>0</td>\n",
       "      <td>109.0</td>\n",
       "      <td>9.0</td>\n",
       "      <td>25.0</td>\n",
       "      <td>549.0</td>\n",
       "      <td>44.0</td>\n",
       "      <td>1</td>\n",
       "      <td>5</td>\n",
       "      <td>0</td>\n",
       "    </tr>\n",
       "    <tr>\n",
       "      <th>2</th>\n",
       "      <td>0</td>\n",
       "      <td>1</td>\n",
       "      <td>0</td>\n",
       "      <td>2</td>\n",
       "      <td>58.0</td>\n",
       "      <td>0</td>\n",
       "      <td>43.0</td>\n",
       "      <td>3576.0</td>\n",
       "      <td>0.0</td>\n",
       "      <td>6715.0</td>\n",
       "      <td>49.0</td>\n",
       "      <td>2</td>\n",
       "      <td>0</td>\n",
       "      <td>0</td>\n",
       "    </tr>\n",
       "    <tr>\n",
       "      <th>3</th>\n",
       "      <td>0</td>\n",
       "      <td>1</td>\n",
       "      <td>0</td>\n",
       "      <td>2</td>\n",
       "      <td>33.0</td>\n",
       "      <td>0</td>\n",
       "      <td>0.0</td>\n",
       "      <td>1283.0</td>\n",
       "      <td>371.0</td>\n",
       "      <td>3329.0</td>\n",
       "      <td>193.0</td>\n",
       "      <td>2</td>\n",
       "      <td>0</td>\n",
       "      <td>0</td>\n",
       "    </tr>\n",
       "    <tr>\n",
       "      <th>4</th>\n",
       "      <td>1</td>\n",
       "      <td>0</td>\n",
       "      <td>0</td>\n",
       "      <td>2</td>\n",
       "      <td>16.0</td>\n",
       "      <td>0</td>\n",
       "      <td>303.0</td>\n",
       "      <td>70.0</td>\n",
       "      <td>151.0</td>\n",
       "      <td>565.0</td>\n",
       "      <td>2.0</td>\n",
       "      <td>1</td>\n",
       "      <td>5</td>\n",
       "      <td>0</td>\n",
       "    </tr>\n",
       "  </tbody>\n",
       "</table>\n",
       "</div>"
      ],
      "text/plain": [
       "   Transported  HomePlanet  CryoSleep  Destination   Age  VIP  RoomService  \\\n",
       "0            0           1          0            2  39.0    0          0.0   \n",
       "1            1           0          0            2  24.0    0        109.0   \n",
       "2            0           1          0            2  58.0    0         43.0   \n",
       "3            0           1          0            2  33.0    0          0.0   \n",
       "4            1           0          0            2  16.0    0        303.0   \n",
       "\n",
       "   FoodCourt  ShoppingMall     Spa  VRDeck  group_size  deck  side  \n",
       "0        0.0           0.0     0.0     0.0           1     1     1  \n",
       "1        9.0          25.0   549.0    44.0           1     5     0  \n",
       "2     3576.0           0.0  6715.0    49.0           2     0     0  \n",
       "3     1283.0         371.0  3329.0   193.0           2     0     0  \n",
       "4       70.0         151.0   565.0     2.0           1     5     0  "
      ]
     },
     "execution_count": 53,
     "metadata": {},
     "output_type": "execute_result"
    }
   ],
   "source": [
    "train[['Transported','HomePlanet', 'CryoSleep', 'Destination', 'Age', 'VIP', 'RoomService', 'FoodCourt', 'ShoppingMall', 'Spa', 'VRDeck','group_size', 'deck', 'side']].head(5)"
   ]
  },
  {
   "cell_type": "markdown",
   "id": "fa6821c2",
   "metadata": {},
   "source": [
    "Defining feature sets, X; and converting the Pandas data frame to a Numpy array:"
   ]
  },
  {
   "cell_type": "code",
   "execution_count": 54,
   "id": "feb96b58",
   "metadata": {},
   "outputs": [
    {
     "data": {
      "text/plain": [
       "array([[1.000e+00, 0.000e+00, 2.000e+00, 3.900e+01, 0.000e+00, 0.000e+00,\n",
       "        0.000e+00, 0.000e+00, 0.000e+00, 0.000e+00, 1.000e+00, 1.000e+00,\n",
       "        1.000e+00],\n",
       "       [0.000e+00, 0.000e+00, 2.000e+00, 2.400e+01, 0.000e+00, 1.090e+02,\n",
       "        9.000e+00, 2.500e+01, 5.490e+02, 4.400e+01, 1.000e+00, 5.000e+00,\n",
       "        0.000e+00],\n",
       "       [1.000e+00, 0.000e+00, 2.000e+00, 5.800e+01, 0.000e+00, 4.300e+01,\n",
       "        3.576e+03, 0.000e+00, 6.715e+03, 4.900e+01, 2.000e+00, 0.000e+00,\n",
       "        0.000e+00],\n",
       "       [1.000e+00, 0.000e+00, 2.000e+00, 3.300e+01, 0.000e+00, 0.000e+00,\n",
       "        1.283e+03, 3.710e+02, 3.329e+03, 1.930e+02, 2.000e+00, 0.000e+00,\n",
       "        0.000e+00],\n",
       "       [0.000e+00, 0.000e+00, 2.000e+00, 1.600e+01, 0.000e+00, 3.030e+02,\n",
       "        7.000e+01, 1.510e+02, 5.650e+02, 2.000e+00, 1.000e+00, 5.000e+00,\n",
       "        0.000e+00]])"
      ]
     },
     "execution_count": 54,
     "metadata": {},
     "output_type": "execute_result"
    }
   ],
   "source": [
    "X = train[['HomePlanet', 'CryoSleep', 'Destination', 'Age', 'VIP', 'RoomService', 'FoodCourt', 'ShoppingMall', 'Spa', 'VRDeck','group_size', 'deck','side']].values\n",
    "X[:5]"
   ]
  },
  {
   "cell_type": "code",
   "execution_count": 55,
   "id": "efd0c88e",
   "metadata": {},
   "outputs": [
    {
     "data": {
      "text/plain": [
       "array([0, 1, 0, 0, 1], dtype=int64)"
      ]
     },
     "execution_count": 55,
     "metadata": {},
     "output_type": "execute_result"
    }
   ],
   "source": [
    "y = train['Transported'].values\n",
    "y[0:5]"
   ]
  },
  {
   "cell_type": "markdown",
   "id": "8f93ee5c",
   "metadata": {},
   "source": [
    "### Normalizing Data"
   ]
  },
  {
   "cell_type": "code",
   "execution_count": 56,
   "id": "6d622891",
   "metadata": {},
   "outputs": [
    {
     "data": {
      "text/plain": [
       "array([[ 0.41742617, -0.73866414,  0.6330054 ,  0.69541256, -0.73866414,\n",
       "        -0.34575616, -0.28535504, -0.30949367, -0.27375941, -0.26953392,\n",
       "        -0.6098625 , -1.82903018,  1.0127976 ],\n",
       "       [-0.83656077, -0.73866414,  0.6330054 , -0.33676885, -0.73866414,\n",
       "        -0.17674796, -0.279993  , -0.26611234,  0.20616519, -0.23049418,\n",
       "        -0.6098625 ,  0.4020793 , -0.98736411],\n",
       "       [ 0.41742617, -0.73866414,  0.6330054 ,  2.00284235, -0.73866414,\n",
       "        -0.2790832 ,  1.84516272, -0.30949367,  5.59635657, -0.22605785,\n",
       "         0.1687907 , -2.38680755, -0.98736411],\n",
       "       [ 0.41742617, -0.73866414,  0.6330054 ,  0.28254   , -0.73866414,\n",
       "        -0.34575616,  0.47903374,  0.33428525,  2.63638446, -0.09829145,\n",
       "         0.1687907 , -2.38680755, -0.98736411],\n",
       "       [-0.83656077, -0.73866414,  0.6330054 , -0.8872656 , -0.73866414,\n",
       "         0.12405563, -0.24365028, -0.04747044,  0.22015206, -0.26775938,\n",
       "        -0.6098625 ,  0.4020793 , -0.98736411]])"
      ]
     },
     "execution_count": 56,
     "metadata": {},
     "output_type": "execute_result"
    }
   ],
   "source": [
    "X = preprocessing.StandardScaler().fit(X).transform(X.astype(float))\n",
    "X[0:5]"
   ]
  },
  {
   "cell_type": "markdown",
   "id": "951148bc",
   "metadata": {},
   "source": [
    "### Train Test Split"
   ]
  },
  {
   "cell_type": "code",
   "execution_count": 57,
   "id": "7470bcf2",
   "metadata": {},
   "outputs": [
    {
     "name": "stdout",
     "output_type": "stream",
     "text": [
      "Train set: (5284, 13) (5284,)\n",
      "Test set: (1322, 13) (1322,)\n"
     ]
    }
   ],
   "source": [
    "X_train, X_test, y_train, y_test = train_test_split( X, y, test_size=0.2, random_state=4)\n",
    "print ('Train set:', X_train.shape,  y_train.shape)\n",
    "print ('Test set:', X_test.shape,  y_test.shape)"
   ]
  },
  {
   "cell_type": "code",
   "execution_count": 58,
   "id": "af2fd8f8",
   "metadata": {},
   "outputs": [],
   "source": [
    "from sklearn.neighbors import KNeighborsClassifier"
   ]
  },
  {
   "cell_type": "markdown",
   "id": "9f18bb9a",
   "metadata": {},
   "source": [
    "### Predicting KNN"
   ]
  },
  {
   "cell_type": "code",
   "execution_count": 59,
   "id": "417e5691",
   "metadata": {},
   "outputs": [
    {
     "data": {
      "text/plain": [
       "KNeighborsClassifier(n_neighbors=4)"
      ]
     },
     "execution_count": 59,
     "metadata": {},
     "output_type": "execute_result"
    }
   ],
   "source": [
    "k = 4\n",
    "# training model with k-4\n",
    "neigh = KNeighborsClassifier(n_neighbors = k).fit(X_train,y_train)\n",
    "neigh"
   ]
  },
  {
   "cell_type": "code",
   "execution_count": 60,
   "id": "2aad95a9",
   "metadata": {},
   "outputs": [
    {
     "data": {
      "text/plain": [
       "array([0, 1, 1, 0, 0], dtype=int64)"
      ]
     },
     "execution_count": 60,
     "metadata": {},
     "output_type": "execute_result"
    }
   ],
   "source": [
    "# creating predictions\n",
    "yhat = neigh.predict(X_test)\n",
    "yhat[0:5]"
   ]
  },
  {
   "cell_type": "markdown",
   "id": "9d9c824b",
   "metadata": {},
   "source": [
    "### Accuracy evaluation KNN"
   ]
  },
  {
   "cell_type": "code",
   "execution_count": 61,
   "id": "60d7c401",
   "metadata": {},
   "outputs": [
    {
     "name": "stdout",
     "output_type": "stream",
     "text": [
      "Train set - Accuracy:  0.8389477668433005\n",
      "Test set data created from split - Accuracy:  0.7632375189107413\n"
     ]
    }
   ],
   "source": [
    "from sklearn import metrics\n",
    "print(\"Train set - Accuracy: \", metrics.accuracy_score(y_train, neigh.predict(X_train)))\n",
    "print(\"Test set data created from split - Accuracy: \", metrics.accuracy_score(y_test, yhat))"
   ]
  },
  {
   "cell_type": "markdown",
   "id": "d018a30f",
   "metadata": {},
   "source": [
    "### Checking more K"
   ]
  },
  {
   "cell_type": "code",
   "execution_count": 62,
   "id": "d481e423",
   "metadata": {},
   "outputs": [
    {
     "name": "stdout",
     "output_type": "stream",
     "text": [
      "[0.7397881996974282, 0.7503782148260212, 0.7708018154311649, 0.7632375189107413, 0.7760968229954615, 0.7760968229954615, 0.7806354009077155, 0.7844175491679274, 0.7859304084720121]\n"
     ]
    }
   ],
   "source": [
    "Ks = 10\n",
    "mean_acc = np.zeros((Ks-1))\n",
    "std_acc = np.zeros((Ks-1))\n",
    "\n",
    "for n in range(1,Ks): \n",
    "    neigh = KNeighborsClassifier(n_neighbors = n).fit(X_train,y_train)\n",
    "    yhat=neigh.predict(X_test)\n",
    "    mean_acc[n-1] = metrics.accuracy_score(y_test, yhat)\n",
    "\n",
    "    \n",
    "    std_acc[n-1]=np.std(yhat==y_test)/np.sqrt(yhat.shape[0])\n",
    "\n",
    "print(list(mean_acc))"
   ]
  },
  {
   "cell_type": "code",
   "execution_count": 63,
   "id": "45e4d021",
   "metadata": {},
   "outputs": [
    {
     "data": {
      "image/png": "[encoded data removed]",
      "text/plain": [
       "<Figure size 720x432 with 1 Axes>"
      ]
     },
     "metadata": {},
     "output_type": "display_data"
    }
   ],
   "source": [
    "fig, ax = plt.subplots(figsize=(10,6), constrained_layout=True)\n",
    "ax.plot(range(1,Ks),mean_acc,'green')\n",
    "ax.fill_between(range(1,Ks),mean_acc - 1 * std_acc,mean_acc + 1 * std_acc, alpha=0.10)\n",
    "ax.fill_between(range(1,Ks),mean_acc - 3 * std_acc,mean_acc + 3 * std_acc, alpha=0.10,color=\"green\")\n",
    "ax.legend(('Accuracy ', '+/- 1xstd','+/- 3xstd'), fontsize=14)\n",
    "plt.ylabel('Accuracy ', fontsize=18)\n",
    "plt.xlabel('Number of Neighbors (K)', fontsize=18)\n",
    "plt.tight_layout()\n",
    "plt.show()"
   ]
  },
  {
   "cell_type": "code",
   "execution_count": 64,
   "id": "814969bb",
   "metadata": {},
   "outputs": [
    {
     "name": "stdout",
     "output_type": "stream",
     "text": [
      "The best accuracy is with 0.7859304084720121 with k= 9\n"
     ]
    }
   ],
   "source": [
    "print( \"The best accuracy is with\", mean_acc.max(), \"with k=\", mean_acc.argmax()+1) "
   ]
  },
  {
   "cell_type": "markdown",
   "id": "8880ad3b",
   "metadata": {},
   "source": [
    "### Confusion Matrix KNN"
   ]
  },
  {
   "cell_type": "code",
   "execution_count": 65,
   "id": "149365c2",
   "metadata": {},
   "outputs": [
    {
     "data": {
      "text/plain": [
       "array([[517, 153],\n",
       "       [130, 522]], dtype=int64)"
      ]
     },
     "execution_count": 65,
     "metadata": {},
     "output_type": "execute_result"
    }
   ],
   "source": [
    "from sklearn.metrics import confusion_matrix, ConfusionMatrixDisplay\n",
    "cnf_matrix = confusion_matrix(y_test, yhat, labels=[1,0])\n",
    "cnf_matrix"
   ]
  },
  {
   "cell_type": "code",
   "execution_count": 66,
   "id": "f5f6bf3c",
   "metadata": {},
   "outputs": [
    {
     "data": {
      "image/png": "[encoded data removed]",
      "text/plain": [
       "<Figure size 432x288 with 2 Axes>"
      ]
     },
     "metadata": {},
     "output_type": "display_data"
    }
   ],
   "source": [
    "disp = ConfusionMatrixDisplay(confusion_matrix=cnf_matrix)\n",
    "disp.plot(cmap='Greens')\n",
    "plt.grid(False)\n",
    "plt.show()"
   ]
  },
  {
   "cell_type": "markdown",
   "id": "ebf90106",
   "metadata": {},
   "source": [
    "# Decision Tree - another classification algorithm"
   ]
  },
  {
   "cell_type": "code",
   "execution_count": 67,
   "id": "4ec24af0",
   "metadata": {},
   "outputs": [],
   "source": [
    "from sklearn.tree import DecisionTreeClassifier"
   ]
  },
  {
   "cell_type": "markdown",
   "id": "3bf0bff1",
   "metadata": {},
   "source": [
    "- Sklearn Decision Trees doesn't handle categorical variables. This is fine because we converted the categorical variables to numerical ones before."
   ]
  },
  {
   "cell_type": "markdown",
   "id": "82f3cdbe",
   "metadata": {},
   "source": [
    "Strengths and weaknesses of the decision tree:\n",
    "\n",
    "- Decision trees are able to generate understandable rules.\n",
    "- Decision trees perform classification without requiring much computation.\n",
    "- Decision trees are able to handle both continuous and categorical variables.\n",
    "- Decision trees provide a clear indication of which fields are most important for prediction or classification.\n",
    "\n",
    "The weaknesses of decision tree methods : \n",
    "- Decision trees are less appropriate for estimation tasks where the goal is to predict the value of a continuous attribute.\n",
    "- Decision trees are prone to errors in classification problems with many classes and a relatively small number of training examples.\n",
    "- Decision tree can be computationally expensive to train. The process of growing a decision tree is computationally expensive. - At each node, each candidate splitting field must be sorted before its best split can be found. In some algorithms, combinations of fields are used and a search must be made for optimal combining weights. Pruning algorithms can also be expensive since many candidate sub-trees must be formed and compared.\n",
    "\n",
    "[SOURCE_geeksforgeeks](https://www.geeksforgeeks.org/decision-tree/)"
   ]
  },
  {
   "cell_type": "markdown",
   "id": "2fc3bdee",
   "metadata": {},
   "source": [
    "#### Selecting feature set"
   ]
  },
  {
   "cell_type": "code",
   "execution_count": 68,
   "id": "2896836b",
   "metadata": {},
   "outputs": [
    {
     "data": {
      "text/html": [
       "<div>\n",
       "<style scoped>\n",
       "    .dataframe tbody tr th:only-of-type {\n",
       "        vertical-align: middle;\n",
       "    }\n",
       "\n",
       "    .dataframe tbody tr th {\n",
       "        vertical-align: top;\n",
       "    }\n",
       "\n",
       "    .dataframe thead th {\n",
       "        text-align: right;\n",
       "    }\n",
       "</style>\n",
       "<table border=\"1\" class=\"dataframe\">\n",
       "  <thead>\n",
       "    <tr style=\"text-align: right;\">\n",
       "      <th></th>\n",
       "      <th>HomePlanet</th>\n",
       "      <th>CryoSleep</th>\n",
       "      <th>Destination</th>\n",
       "      <th>Age</th>\n",
       "      <th>VIP</th>\n",
       "      <th>RoomService</th>\n",
       "      <th>FoodCourt</th>\n",
       "      <th>ShoppingMall</th>\n",
       "      <th>Spa</th>\n",
       "      <th>VRDeck</th>\n",
       "      <th>group_size</th>\n",
       "      <th>deck</th>\n",
       "      <th>side</th>\n",
       "    </tr>\n",
       "  </thead>\n",
       "  <tbody>\n",
       "    <tr>\n",
       "      <th>0</th>\n",
       "      <td>1</td>\n",
       "      <td>0</td>\n",
       "      <td>2</td>\n",
       "      <td>39.0</td>\n",
       "      <td>0</td>\n",
       "      <td>0.0</td>\n",
       "      <td>0.0</td>\n",
       "      <td>0.0</td>\n",
       "      <td>0.0</td>\n",
       "      <td>0.0</td>\n",
       "      <td>1</td>\n",
       "      <td>1</td>\n",
       "      <td>1</td>\n",
       "    </tr>\n",
       "  </tbody>\n",
       "</table>\n",
       "</div>"
      ],
      "text/plain": [
       "   HomePlanet  CryoSleep  Destination   Age  VIP  RoomService  FoodCourt  \\\n",
       "0           1          0            2  39.0    0          0.0        0.0   \n",
       "\n",
       "   ShoppingMall  Spa  VRDeck  group_size  deck  side  \n",
       "0           0.0  0.0     0.0           1     1     1  "
      ]
     },
     "metadata": {},
     "output_type": "display_data"
    },
    {
     "data": {
      "text/plain": [
       "array([[1.000e+00, 0.000e+00, 2.000e+00, 3.900e+01, 0.000e+00, 0.000e+00,\n",
       "        0.000e+00, 0.000e+00, 0.000e+00, 0.000e+00, 1.000e+00, 1.000e+00,\n",
       "        1.000e+00],\n",
       "       [0.000e+00, 0.000e+00, 2.000e+00, 2.400e+01, 0.000e+00, 1.090e+02,\n",
       "        9.000e+00, 2.500e+01, 5.490e+02, 4.400e+01, 1.000e+00, 5.000e+00,\n",
       "        0.000e+00],\n",
       "       [1.000e+00, 0.000e+00, 2.000e+00, 5.800e+01, 0.000e+00, 4.300e+01,\n",
       "        3.576e+03, 0.000e+00, 6.715e+03, 4.900e+01, 2.000e+00, 0.000e+00,\n",
       "        0.000e+00],\n",
       "       [1.000e+00, 0.000e+00, 2.000e+00, 3.300e+01, 0.000e+00, 0.000e+00,\n",
       "        1.283e+03, 3.710e+02, 3.329e+03, 1.930e+02, 2.000e+00, 0.000e+00,\n",
       "        0.000e+00],\n",
       "       [0.000e+00, 0.000e+00, 2.000e+00, 1.600e+01, 0.000e+00, 3.030e+02,\n",
       "        7.000e+01, 1.510e+02, 5.650e+02, 2.000e+00, 1.000e+00, 5.000e+00,\n",
       "        0.000e+00]])"
      ]
     },
     "execution_count": 68,
     "metadata": {},
     "output_type": "execute_result"
    }
   ],
   "source": [
    "display(train[['HomePlanet', 'CryoSleep', 'Destination', 'Age', 'VIP', 'RoomService', 'FoodCourt', 'ShoppingMall', 'Spa', 'VRDeck','group_size', 'deck','side']].head(1))\n",
    "\n",
    "X = train[['HomePlanet', 'CryoSleep', 'Destination', 'Age', 'VIP', 'RoomService', 'FoodCourt', 'ShoppingMall', 'Spa', 'VRDeck','group_size', 'deck','side']].values\n",
    "X[:5]"
   ]
  },
  {
   "cell_type": "markdown",
   "id": "2091b2e7",
   "metadata": {},
   "source": [
    "#### Selecting target values"
   ]
  },
  {
   "cell_type": "code",
   "execution_count": 69,
   "id": "8e21b59f",
   "metadata": {},
   "outputs": [
    {
     "data": {
      "text/plain": [
       "array([0, 1, 0, 0, 1], dtype=int64)"
      ]
     },
     "execution_count": 69,
     "metadata": {},
     "output_type": "execute_result"
    }
   ],
   "source": [
    "y = train['Transported'].values\n",
    "y[0:5]"
   ]
  },
  {
   "cell_type": "markdown",
   "id": "e43c049a",
   "metadata": {},
   "source": [
    "#### Splitting data"
   ]
  },
  {
   "cell_type": "code",
   "execution_count": 70,
   "id": "06bc3fea",
   "metadata": {},
   "outputs": [
    {
     "name": "stdout",
     "output_type": "stream",
     "text": [
      "Train set: (5284, 13) (5284,)\n",
      "Test set: (1322, 13) (1322,)\n"
     ]
    }
   ],
   "source": [
    "X_train, X_test, y_train, y_test = train_test_split( X, y, test_size=0.2, random_state=4)\n",
    "print ('Train set:', X_train.shape,  y_train.shape)\n",
    "print ('Test set:', X_test.shape,  y_test.shape)"
   ]
  },
  {
   "cell_type": "markdown",
   "id": "015e34ca",
   "metadata": {},
   "source": [
    "### creating instance of the Decision Tree Classifier  max_depth = 4"
   ]
  },
  {
   "cell_type": "code",
   "execution_count": 71,
   "id": "b085b2ee",
   "metadata": {},
   "outputs": [],
   "source": [
    "dec_tree = DecisionTreeClassifier(criterion=\"entropy\", max_depth = 4)"
   ]
  },
  {
   "cell_type": "code",
   "execution_count": 72,
   "id": "e9ddeb26",
   "metadata": {},
   "outputs": [
    {
     "data": {
      "text/plain": [
       "DecisionTreeClassifier(criterion='entropy', max_depth=4)"
      ]
     },
     "execution_count": 72,
     "metadata": {},
     "output_type": "execute_result"
    }
   ],
   "source": [
    "dec_tree.fit(X_train,y_train)"
   ]
  },
  {
   "cell_type": "markdown",
   "id": "221e3b38",
   "metadata": {},
   "source": [
    "#### Prediction  - Decision Tree"
   ]
  },
  {
   "cell_type": "code",
   "execution_count": 73,
   "id": "1d24e663",
   "metadata": {},
   "outputs": [],
   "source": [
    "pred_tree = dec_tree.predict(X_test)"
   ]
  },
  {
   "cell_type": "code",
   "execution_count": 74,
   "id": "d5124164",
   "metadata": {},
   "outputs": [
    {
     "name": "stdout",
     "output_type": "stream",
     "text": [
      "[1 1 1 0 0]\n",
      "[1 1 1 0 0]\n"
     ]
    }
   ],
   "source": [
    "print (pred_tree [0:5])\n",
    "print (y_test [0:5])"
   ]
  },
  {
   "cell_type": "markdown",
   "id": "1343391e",
   "metadata": {},
   "source": [
    "#### Evaluation of the model - Decision Tree"
   ]
  },
  {
   "cell_type": "code",
   "execution_count": 75,
   "id": "cc8765ac",
   "metadata": {},
   "outputs": [
    {
     "name": "stdout",
     "output_type": "stream",
     "text": [
      "DecisionTrees's Accuracy - test split:  0.7632375189107413\n"
     ]
    }
   ],
   "source": [
    "print(\"DecisionTrees's Accuracy - test split: \", metrics.accuracy_score(y_test, pred_tree))"
   ]
  },
  {
   "cell_type": "code",
   "execution_count": 76,
   "id": "846808c3",
   "metadata": {},
   "outputs": [
    {
     "data": {
      "image/png": "[encoded data removed]",
      "text/plain": [
       "<Figure size 864x864 with 1 Axes>"
      ]
     },
     "metadata": {},
     "output_type": "display_data"
    }
   ],
   "source": [
    "import sklearn.tree as tree\n",
    "\n",
    "features = ['HomePlanet', 'CryoSleep', 'Destination', 'Age', 'VIP', 'RoomService', 'FoodCourt', 'ShoppingMall', 'Spa', 'VRDeck','group_size', 'deck','side']\n",
    "plt.figure(figsize=(12,12))  # set plot size (denoted in inches)\n",
    "tree.plot_tree(dec_tree, fontsize=10, feature_names=features)\n",
    "plt.show()"
   ]
  },
  {
   "cell_type": "markdown",
   "id": "3efec63a",
   "metadata": {},
   "source": [
    "### Finding the best deptgh of the tree"
   ]
  },
  {
   "cell_type": "code",
   "execution_count": 77,
   "id": "cae3f461",
   "metadata": {
    "scrolled": true
   },
   "outputs": [
    {
     "name": "stdout",
     "output_type": "stream",
     "text": [
      "[0.7314674735249622, 0.7314674735249622, 0.7314674735249622, 0.7632375189107413, 0.7700453857791225, 0.7866868381240545, 0.7813918305597579, 0.7806354009077155, 0.7806354009077155, 0.7851739788199698, 0.7791225416036308, 0.7670196671709532, 0.7655068078668684, 0.7677760968229954, 0.762481089258699, 0.764750378214826, 0.7632375189107413, 0.75642965204236, 0.7602118003025718]\n"
     ]
    }
   ],
   "source": [
    "depths = 20\n",
    "mean_acc = np.zeros((depths-1))\n",
    "std_acc = np.zeros((depths-1))\n",
    "\n",
    "for n in range(1,depths):\n",
    "    dec_tree = DecisionTreeClassifier(criterion=\"entropy\", max_depth = n)\n",
    "    dec_tree.fit(X_train,y_train)\n",
    "    yhat = dec_tree.predict(X_test)\n",
    "    mean_acc[n-1] = metrics.accuracy_score(y_test, yhat)\n",
    "    std_acc[n-1]=np.std(yhat==y_test)/np.sqrt(yhat.shape[0])\n",
    "    \n",
    "print(list(mean_acc))"
   ]
  },
  {
   "cell_type": "code",
   "execution_count": 78,
   "id": "072765a9",
   "metadata": {},
   "outputs": [
    {
     "data": {
      "image/png": "[encoded data removed]",
      "text/plain": [
       "<Figure size 864x432 with 1 Axes>"
      ]
     },
     "metadata": {},
     "output_type": "display_data"
    }
   ],
   "source": [
    "fig, ax = plt.subplots(figsize=(12,6), constrained_layout=True)\n",
    "ax.plot(range(1,depths),mean_acc,'green')\n",
    "ax.fill_between(range(1,depths),mean_acc - 1 * std_acc,mean_acc + 1 * std_acc, alpha=0.10)\n",
    "ax.fill_between(range(1,depths),mean_acc - 3 * std_acc,mean_acc + 3 * std_acc, alpha=0.10,color=\"green\")\n",
    "ax.legend(('Accuracy ', '+/- 1xstd','+/- 3xstd'), fontsize=14)\n",
    "\n",
    "ax.set_xticks(list(range(1, depths)))\n",
    "\n",
    "plt.ylabel('Accuracy ', fontsize=18)\n",
    "plt.xlabel('Depth of Tree', fontsize=18)\n",
    "plt.tight_layout()\n",
    "plt.show()"
   ]
  },
  {
   "cell_type": "code",
   "execution_count": 79,
   "id": "eb24969b",
   "metadata": {},
   "outputs": [
    {
     "name": "stdout",
     "output_type": "stream",
     "text": [
      "Highest accuracy:  0.7866868381240545\n",
      "Highest accuracy:  6\n"
     ]
    }
   ],
   "source": [
    "m = max(mean_acc)\n",
    "index = list(mean_acc).index(m)\n",
    "print('Highest accuracy: ', m)\n",
    "print('Highest accuracy: ', index + 1)"
   ]
  },
  {
   "cell_type": "markdown",
   "id": "73044a84",
   "metadata": {},
   "source": [
    "### Creating instance of the Decision Tree Classifier  max_depth = 6 and its Confusion Matrix"
   ]
  },
  {
   "cell_type": "code",
   "execution_count": 80,
   "id": "bfc97ae2",
   "metadata": {},
   "outputs": [
    {
     "data": {
      "text/plain": [
       "0.7866868381240545"
      ]
     },
     "execution_count": 80,
     "metadata": {},
     "output_type": "execute_result"
    }
   ],
   "source": [
    "dec_tree = DecisionTreeClassifier(criterion=\"entropy\", max_depth = 6)\n",
    "dec_tree.fit(X_train,y_train)\n",
    "yhat = dec_tree.predict(X_test)\n",
    "metrics.accuracy_score(y_test, yhat)"
   ]
  },
  {
   "cell_type": "code",
   "execution_count": 81,
   "id": "1f1b6916",
   "metadata": {
    "scrolled": false
   },
   "outputs": [
    {
     "data": {
      "image/png": "[encoded data removed]",
      "text/plain": [
       "<Figure size 432x288 with 2 Axes>"
      ]
     },
     "metadata": {},
     "output_type": "display_data"
    }
   ],
   "source": [
    "cnf_matrix = confusion_matrix(y_test, yhat, labels=[1,0])\n",
    "disp = ConfusionMatrixDisplay(confusion_matrix=cnf_matrix)\n",
    "disp.plot(cmap='Greens')\n",
    "plt.grid(False)\n",
    "plt.show()"
   ]
  },
  {
   "cell_type": "code",
   "execution_count": 82,
   "id": "b53be8c8",
   "metadata": {},
   "outputs": [
    {
     "data": {
      "image/png": "[encoded data removed]",
      "text/plain": [
       "<Figure size 864x864 with 1 Axes>"
      ]
     },
     "metadata": {},
     "output_type": "display_data"
    }
   ],
   "source": [
    "features = ['HomePlanet', 'CryoSleep', 'Destination', 'Age', 'VIP', 'RoomService', 'FoodCourt', 'ShoppingMall', 'Spa', 'VRDeck','group_size', 'deck','side']\n",
    "plt.figure(figsize=(12,12))  # set plot size (denoted in inches)\n",
    "tree.plot_tree(dec_tree, fontsize=10, feature_names=features)\n",
    "plt.show()"
   ]
  },
  {
   "cell_type": "markdown",
   "id": "d691fc1b",
   "metadata": {},
   "source": [
    "## Logistic regression - also can be used for categorical variables"
   ]
  },
  {
   "cell_type": "markdown",
   "id": "394d68a6",
   "metadata": {},
   "source": [
    "- a supervised classification algorithm\n",
    "- in logistic regression, we predict a categorical variable; \n",
    "- can be used for binary classification or multi-class classification\n",
    "- Logistic regression not only predicts a class, it also measures the probability of a case belonging to a pecific class\n",
    "\n",
    "#### When it is suitable:\n",
    "- if your data is binary\n",
    "- if you need probabilistic results\n",
    "- when you need a linear decision boundary\n",
    "- if there is a need to understand the impact of a feature\n"
   ]
  },
  {
   "cell_type": "markdown",
   "id": "d9f15f59",
   "metadata": {},
   "source": [
    "Defining X and y"
   ]
  },
  {
   "cell_type": "code",
   "execution_count": 83,
   "id": "c36ee0e1",
   "metadata": {},
   "outputs": [],
   "source": [
    "X = train[['HomePlanet', 'CryoSleep', 'Destination', 'Age', 'VIP', 'RoomService', 'FoodCourt', 'ShoppingMall', 'Spa', 'VRDeck','group_size', 'deck','side']].values\n",
    "y = train['Transported'].values"
   ]
  },
  {
   "cell_type": "markdown",
   "id": "c29334a3",
   "metadata": {},
   "source": [
    "Normalizing data"
   ]
  },
  {
   "cell_type": "code",
   "execution_count": 84,
   "id": "e8783f0c",
   "metadata": {},
   "outputs": [],
   "source": [
    "X = preprocessing.StandardScaler().fit(X).transform(X)"
   ]
  },
  {
   "cell_type": "markdown",
   "id": "4344939c",
   "metadata": {},
   "source": [
    "Splitting data to test and train datasets"
   ]
  },
  {
   "cell_type": "code",
   "execution_count": 85,
   "id": "ba0d3cc6",
   "metadata": {},
   "outputs": [],
   "source": [
    "X_train, X_test, y_train, y_test = train_test_split( X, y, test_size=0.2, random_state=4)"
   ]
  },
  {
   "cell_type": "code",
   "execution_count": 86,
   "id": "5c3df95a",
   "metadata": {},
   "outputs": [],
   "source": [
    "from sklearn.linear_model import LogisticRegression\n",
    "LR = LogisticRegression(C=0.01, solver='liblinear').fit(X_train,y_train)"
   ]
  },
  {
   "cell_type": "code",
   "execution_count": 87,
   "id": "6e0f600d",
   "metadata": {},
   "outputs": [],
   "source": [
    "y_hat = LR.predict(X_test)"
   ]
  },
  {
   "cell_type": "markdown",
   "id": "b6200fd5",
   "metadata": {},
   "source": [
    "**predict_proba()** returns estimates for all classes"
   ]
  },
  {
   "cell_type": "code",
   "execution_count": 88,
   "id": "e234c038",
   "metadata": {},
   "outputs": [],
   "source": [
    "y_hat_prob = LR.predict_proba(X_test)"
   ]
  },
  {
   "cell_type": "code",
   "execution_count": 89,
   "id": "33d18190",
   "metadata": {},
   "outputs": [
    {
     "data": {
      "text/plain": [
       "0.6540342298288508"
      ]
     },
     "execution_count": 89,
     "metadata": {},
     "output_type": "execute_result"
    }
   ],
   "source": [
    "# jaccard index\n",
    "from sklearn.metrics import jaccard_score\n",
    "jaccard_score(y_test, y_hat,pos_label=0)"
   ]
  },
  {
   "cell_type": "code",
   "execution_count": 90,
   "id": "16f0c81f",
   "metadata": {},
   "outputs": [
    {
     "data": {
      "text/plain": [
       "0.7859304084720121"
      ]
     },
     "execution_count": 90,
     "metadata": {},
     "output_type": "execute_result"
    }
   ],
   "source": [
    "# accuracy\n",
    "metrics.accuracy_score(y_test, y_hat)"
   ]
  },
  {
   "cell_type": "code",
   "execution_count": 91,
   "id": "6a9cf9f0",
   "metadata": {},
   "outputs": [
    {
     "name": "stdout",
     "output_type": "stream",
     "text": [
      "              precision    recall  f1-score   support\n",
      "\n",
      "           0       0.76      0.82      0.79       652\n",
      "           1       0.81      0.75      0.78       670\n",
      "\n",
      "    accuracy                           0.79      1322\n",
      "   macro avg       0.79      0.79      0.79      1322\n",
      "weighted avg       0.79      0.79      0.79      1322\n",
      "\n"
     ]
    }
   ],
   "source": [
    "from sklearn.metrics import classification_report\n",
    "print (classification_report(y_test, y_hat))"
   ]
  },
  {
   "cell_type": "code",
   "execution_count": 92,
   "id": "fb09f0f4",
   "metadata": {},
   "outputs": [
    {
     "data": {
      "image/png": "[encoded data removed]",
      "text/plain": [
       "<Figure size 432x288 with 2 Axes>"
      ]
     },
     "metadata": {},
     "output_type": "display_data"
    }
   ],
   "source": [
    "cnf_matrix = confusion_matrix(y_test, y_hat, labels=[1,0])\n",
    "disp = ConfusionMatrixDisplay(confusion_matrix=cnf_matrix)\n",
    "disp.plot(cmap='Greens')\n",
    "plt.grid(False)\n",
    "plt.show()"
   ]
  },
  {
   "cell_type": "code",
   "execution_count": 93,
   "id": "80189782",
   "metadata": {},
   "outputs": [
    {
     "data": {
      "text/plain": [
       "'\\n0.7859304084720121  -- Logistic Regresion \\n0.7859304084720121  -- KNN\\n0.7866868381240545  -- Decision Tree d=6\\n\\n'"
      ]
     },
     "execution_count": 93,
     "metadata": {},
     "output_type": "execute_result"
    }
   ],
   "source": [
    "'''\n",
    "0.7859304084720121  -- Logistic Regresion \n",
    "0.7859304084720121  -- KNN\n",
    "0.7866868381240545  -- Decision Tree d=6\n",
    "\n",
    "'''"
   ]
  },
  {
   "cell_type": "code",
   "execution_count": null,
   "id": "6413365b",
   "metadata": {},
   "outputs": [],
   "source": []
  }
 ],
 "metadata": {
  "kernelspec": {
   "display_name": "Python 3 (ipykernel)",
   "language": "python",
   "name": "python3"
  },
  "language_info": {
   "codemirror_mode": {
    "name": "ipython",
    "version": 3
   },
   "file_extension": ".py",
   "mimetype": "text/x-python",
   "name": "python",
   "nbconvert_exporter": "python",
   "pygments_lexer": "ipython3",
   "version": "3.7.11"
  }
 },
 "nbformat": 4,
 "nbformat_minor": 5
}
